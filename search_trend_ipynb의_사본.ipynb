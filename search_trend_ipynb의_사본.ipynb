{
  "nbformat": 4,
  "nbformat_minor": 0,
  "metadata": {
    "colab": {
      "name": "search_trend.ipynb의 사본",
      "provenance": [],
      "collapsed_sections": [
        "We7DCJgOD1Eo",
        "zHcOZ5aIQJem",
        "qO-j5h0aQlA1",
        "s1wQtqKDQyiK",
        "mnRIWKCjPknY",
        "O4-T2R2yPkj2",
        "F79JLbgDPkcF"
      ],
      "authorship_tag": "ABX9TyP8DjcCV5hNZmv2+quC/OaT",
      "include_colab_link": true
    },
    "kernelspec": {
      "name": "python3",
      "display_name": "Python 3"
    },
    "language_info": {
      "name": "python"
    },
    "widgets": {
      "application/vnd.jupyter.widget-state+json": {
        "07df72e4c57c4ebea509e51b1ffe946f": {
          "model_module": "@jupyter-widgets/controls",
          "model_name": "HBoxModel",
          "model_module_version": "1.5.0",
          "state": {
            "_view_name": "HBoxView",
            "_dom_classes": [],
            "_model_name": "HBoxModel",
            "_view_module": "@jupyter-widgets/controls",
            "_model_module_version": "1.5.0",
            "_view_count": null,
            "_view_module_version": "1.5.0",
            "box_style": "",
            "layout": "IPY_MODEL_d1fa0c500503465ea53a8f0fac9ddbcb",
            "_model_module": "@jupyter-widgets/controls",
            "children": [
              "IPY_MODEL_5d074d75faed4104b4285dcc215cde56",
              "IPY_MODEL_fac0d6b2b9d548c3b9368cbcecffb8bb",
              "IPY_MODEL_d07b5f0b5b114d2b9f49207360dc81d0"
            ]
          }
        },
        "d1fa0c500503465ea53a8f0fac9ddbcb": {
          "model_module": "@jupyter-widgets/base",
          "model_name": "LayoutModel",
          "model_module_version": "1.2.0",
          "state": {
            "_view_name": "LayoutView",
            "grid_template_rows": null,
            "right": null,
            "justify_content": null,
            "_view_module": "@jupyter-widgets/base",
            "overflow": null,
            "_model_module_version": "1.2.0",
            "_view_count": null,
            "flex_flow": null,
            "width": null,
            "min_width": null,
            "border": null,
            "align_items": null,
            "bottom": null,
            "_model_module": "@jupyter-widgets/base",
            "top": null,
            "grid_column": null,
            "overflow_y": null,
            "overflow_x": null,
            "grid_auto_flow": null,
            "grid_area": null,
            "grid_template_columns": null,
            "flex": null,
            "_model_name": "LayoutModel",
            "justify_items": null,
            "grid_row": null,
            "max_height": null,
            "align_content": null,
            "visibility": null,
            "align_self": null,
            "height": null,
            "min_height": null,
            "padding": null,
            "grid_auto_rows": null,
            "grid_gap": null,
            "max_width": null,
            "order": null,
            "_view_module_version": "1.2.0",
            "grid_template_areas": null,
            "object_position": null,
            "object_fit": null,
            "grid_auto_columns": null,
            "margin": null,
            "display": null,
            "left": null
          }
        },
        "5d074d75faed4104b4285dcc215cde56": {
          "model_module": "@jupyter-widgets/controls",
          "model_name": "HTMLModel",
          "model_module_version": "1.5.0",
          "state": {
            "_view_name": "HTMLView",
            "style": "IPY_MODEL_3391cb7f45e94295a2c98205022b3e37",
            "_dom_classes": [],
            "description": "",
            "_model_name": "HTMLModel",
            "placeholder": "​",
            "_view_module": "@jupyter-widgets/controls",
            "_model_module_version": "1.5.0",
            "value": "100%",
            "_view_count": null,
            "_view_module_version": "1.5.0",
            "description_tooltip": null,
            "_model_module": "@jupyter-widgets/controls",
            "layout": "IPY_MODEL_c995e549c8f744f69a1249ff6c6f35cf"
          }
        },
        "fac0d6b2b9d548c3b9368cbcecffb8bb": {
          "model_module": "@jupyter-widgets/controls",
          "model_name": "FloatProgressModel",
          "model_module_version": "1.5.0",
          "state": {
            "_view_name": "ProgressView",
            "style": "IPY_MODEL_d5b8e54588724607914d63a3887272b4",
            "_dom_classes": [],
            "description": "",
            "_model_name": "FloatProgressModel",
            "bar_style": "success",
            "max": 1,
            "_view_module": "@jupyter-widgets/controls",
            "_model_module_version": "1.5.0",
            "value": 1,
            "_view_count": null,
            "_view_module_version": "1.5.0",
            "orientation": "horizontal",
            "min": 0,
            "description_tooltip": null,
            "_model_module": "@jupyter-widgets/controls",
            "layout": "IPY_MODEL_07e5afddda67451a8cf77c83f2859590"
          }
        },
        "d07b5f0b5b114d2b9f49207360dc81d0": {
          "model_module": "@jupyter-widgets/controls",
          "model_name": "HTMLModel",
          "model_module_version": "1.5.0",
          "state": {
            "_view_name": "HTMLView",
            "style": "IPY_MODEL_6d74db2b35894187bae950f319d35aad",
            "_dom_classes": [],
            "description": "",
            "_model_name": "HTMLModel",
            "placeholder": "​",
            "_view_module": "@jupyter-widgets/controls",
            "_model_module_version": "1.5.0",
            "value": " 1/1 [00:16&lt;00:00, 16.09s/it]",
            "_view_count": null,
            "_view_module_version": "1.5.0",
            "description_tooltip": null,
            "_model_module": "@jupyter-widgets/controls",
            "layout": "IPY_MODEL_66a7273948db44e1b678b7ba0f92b64b"
          }
        },
        "3391cb7f45e94295a2c98205022b3e37": {
          "model_module": "@jupyter-widgets/controls",
          "model_name": "DescriptionStyleModel",
          "model_module_version": "1.5.0",
          "state": {
            "_view_name": "StyleView",
            "_model_name": "DescriptionStyleModel",
            "description_width": "",
            "_view_module": "@jupyter-widgets/base",
            "_model_module_version": "1.5.0",
            "_view_count": null,
            "_view_module_version": "1.2.0",
            "_model_module": "@jupyter-widgets/controls"
          }
        },
        "c995e549c8f744f69a1249ff6c6f35cf": {
          "model_module": "@jupyter-widgets/base",
          "model_name": "LayoutModel",
          "model_module_version": "1.2.0",
          "state": {
            "_view_name": "LayoutView",
            "grid_template_rows": null,
            "right": null,
            "justify_content": null,
            "_view_module": "@jupyter-widgets/base",
            "overflow": null,
            "_model_module_version": "1.2.0",
            "_view_count": null,
            "flex_flow": null,
            "width": null,
            "min_width": null,
            "border": null,
            "align_items": null,
            "bottom": null,
            "_model_module": "@jupyter-widgets/base",
            "top": null,
            "grid_column": null,
            "overflow_y": null,
            "overflow_x": null,
            "grid_auto_flow": null,
            "grid_area": null,
            "grid_template_columns": null,
            "flex": null,
            "_model_name": "LayoutModel",
            "justify_items": null,
            "grid_row": null,
            "max_height": null,
            "align_content": null,
            "visibility": null,
            "align_self": null,
            "height": null,
            "min_height": null,
            "padding": null,
            "grid_auto_rows": null,
            "grid_gap": null,
            "max_width": null,
            "order": null,
            "_view_module_version": "1.2.0",
            "grid_template_areas": null,
            "object_position": null,
            "object_fit": null,
            "grid_auto_columns": null,
            "margin": null,
            "display": null,
            "left": null
          }
        },
        "d5b8e54588724607914d63a3887272b4": {
          "model_module": "@jupyter-widgets/controls",
          "model_name": "ProgressStyleModel",
          "model_module_version": "1.5.0",
          "state": {
            "_view_name": "StyleView",
            "_model_name": "ProgressStyleModel",
            "description_width": "",
            "_view_module": "@jupyter-widgets/base",
            "_model_module_version": "1.5.0",
            "_view_count": null,
            "_view_module_version": "1.2.0",
            "bar_color": null,
            "_model_module": "@jupyter-widgets/controls"
          }
        },
        "07e5afddda67451a8cf77c83f2859590": {
          "model_module": "@jupyter-widgets/base",
          "model_name": "LayoutModel",
          "model_module_version": "1.2.0",
          "state": {
            "_view_name": "LayoutView",
            "grid_template_rows": null,
            "right": null,
            "justify_content": null,
            "_view_module": "@jupyter-widgets/base",
            "overflow": null,
            "_model_module_version": "1.2.0",
            "_view_count": null,
            "flex_flow": null,
            "width": null,
            "min_width": null,
            "border": null,
            "align_items": null,
            "bottom": null,
            "_model_module": "@jupyter-widgets/base",
            "top": null,
            "grid_column": null,
            "overflow_y": null,
            "overflow_x": null,
            "grid_auto_flow": null,
            "grid_area": null,
            "grid_template_columns": null,
            "flex": null,
            "_model_name": "LayoutModel",
            "justify_items": null,
            "grid_row": null,
            "max_height": null,
            "align_content": null,
            "visibility": null,
            "align_self": null,
            "height": null,
            "min_height": null,
            "padding": null,
            "grid_auto_rows": null,
            "grid_gap": null,
            "max_width": null,
            "order": null,
            "_view_module_version": "1.2.0",
            "grid_template_areas": null,
            "object_position": null,
            "object_fit": null,
            "grid_auto_columns": null,
            "margin": null,
            "display": null,
            "left": null
          }
        },
        "6d74db2b35894187bae950f319d35aad": {
          "model_module": "@jupyter-widgets/controls",
          "model_name": "DescriptionStyleModel",
          "model_module_version": "1.5.0",
          "state": {
            "_view_name": "StyleView",
            "_model_name": "DescriptionStyleModel",
            "description_width": "",
            "_view_module": "@jupyter-widgets/base",
            "_model_module_version": "1.5.0",
            "_view_count": null,
            "_view_module_version": "1.2.0",
            "_model_module": "@jupyter-widgets/controls"
          }
        },
        "66a7273948db44e1b678b7ba0f92b64b": {
          "model_module": "@jupyter-widgets/base",
          "model_name": "LayoutModel",
          "model_module_version": "1.2.0",
          "state": {
            "_view_name": "LayoutView",
            "grid_template_rows": null,
            "right": null,
            "justify_content": null,
            "_view_module": "@jupyter-widgets/base",
            "overflow": null,
            "_model_module_version": "1.2.0",
            "_view_count": null,
            "flex_flow": null,
            "width": null,
            "min_width": null,
            "border": null,
            "align_items": null,
            "bottom": null,
            "_model_module": "@jupyter-widgets/base",
            "top": null,
            "grid_column": null,
            "overflow_y": null,
            "overflow_x": null,
            "grid_auto_flow": null,
            "grid_area": null,
            "grid_template_columns": null,
            "flex": null,
            "_model_name": "LayoutModel",
            "justify_items": null,
            "grid_row": null,
            "max_height": null,
            "align_content": null,
            "visibility": null,
            "align_self": null,
            "height": null,
            "min_height": null,
            "padding": null,
            "grid_auto_rows": null,
            "grid_gap": null,
            "max_width": null,
            "order": null,
            "_view_module_version": "1.2.0",
            "grid_template_areas": null,
            "object_position": null,
            "object_fit": null,
            "grid_auto_columns": null,
            "margin": null,
            "display": null,
            "left": null
          }
        }
      }
    }
  },
  "cells": [
    {
      "cell_type": "markdown",
      "metadata": {
        "id": "view-in-github",
        "colab_type": "text"
      },
      "source": [
        "<a href=\"https://colab.research.google.com/github/taeyouth/my_project/blob/main/search_trend_ipynb%EC%9D%98_%EC%82%AC%EB%B3%B8.ipynb\" target=\"_parent\"><img src=\"https://colab.research.google.com/assets/colab-badge.svg\" alt=\"Open In Colab\"/></a>"
      ]
    },
    {
      "cell_type": "markdown",
      "metadata": {
        "id": "We7DCJgOD1Eo"
      },
      "source": [
        "# 네이버 데이터랩 api"
      ]
    },
    {
      "cell_type": "code",
      "metadata": {
        "colab": {
          "base_uri": "https://localhost:8080/"
        },
        "id": "wxYPDTiCWbiT",
        "outputId": "b0bd23f3-ef3d-4fe7-dd93-768c8762dc44"
      },
      "source": [
        "!sudo apt-get install -y fonts-nanum\n",
        "!sudo fc-cache -fv\n",
        "!rm ~/.cache/matplotlib -rf"
      ],
      "execution_count": null,
      "outputs": [
        {
          "output_type": "stream",
          "name": "stdout",
          "text": [
            "Reading package lists... Done\n",
            "Building dependency tree       \n",
            "Reading state information... Done\n",
            "The following NEW packages will be installed:\n",
            "  fonts-nanum\n",
            "0 upgraded, 1 newly installed, 0 to remove and 37 not upgraded.\n",
            "Need to get 9,604 kB of archives.\n",
            "After this operation, 29.5 MB of additional disk space will be used.\n",
            "Get:1 http://archive.ubuntu.com/ubuntu bionic/universe amd64 fonts-nanum all 20170925-1 [9,604 kB]\n",
            "Fetched 9,604 kB in 1s (9,862 kB/s)\n",
            "debconf: unable to initialize frontend: Dialog\n",
            "debconf: (No usable dialog-like program is installed, so the dialog based frontend cannot be used. at /usr/share/perl5/Debconf/FrontEnd/Dialog.pm line 76, <> line 1.)\n",
            "debconf: falling back to frontend: Readline\n",
            "debconf: unable to initialize frontend: Readline\n",
            "debconf: (This frontend requires a controlling tty.)\n",
            "debconf: falling back to frontend: Teletype\n",
            "dpkg-preconfigure: unable to re-open stdin: \n",
            "Selecting previously unselected package fonts-nanum.\n",
            "(Reading database ... 155222 files and directories currently installed.)\n",
            "Preparing to unpack .../fonts-nanum_20170925-1_all.deb ...\n",
            "Unpacking fonts-nanum (20170925-1) ...\n",
            "Setting up fonts-nanum (20170925-1) ...\n",
            "Processing triggers for fontconfig (2.12.6-0ubuntu2) ...\n",
            "/usr/share/fonts: caching, new cache contents: 0 fonts, 1 dirs\n",
            "/usr/share/fonts/truetype: caching, new cache contents: 0 fonts, 3 dirs\n",
            "/usr/share/fonts/truetype/humor-sans: caching, new cache contents: 1 fonts, 0 dirs\n",
            "/usr/share/fonts/truetype/liberation: caching, new cache contents: 16 fonts, 0 dirs\n",
            "/usr/share/fonts/truetype/nanum: caching, new cache contents: 10 fonts, 0 dirs\n",
            "/usr/local/share/fonts: caching, new cache contents: 0 fonts, 0 dirs\n",
            "/root/.local/share/fonts: skipping, no such directory\n",
            "/root/.fonts: skipping, no such directory\n",
            "/var/cache/fontconfig: cleaning cache directory\n",
            "/root/.cache/fontconfig: not cleaning non-existent cache directory\n",
            "/root/.fontconfig: not cleaning non-existent cache directory\n",
            "fc-cache: succeeded\n"
          ]
        }
      ]
    },
    {
      "cell_type": "markdown",
      "metadata": {
        "id": "be2G_lgKO3Kt"
      },
      "source": [
        "library import"
      ]
    },
    {
      "cell_type": "code",
      "metadata": {
        "id": "rkgvpRpAN9uG"
      },
      "source": [
        "import pandas as pd\n",
        "import numpy as np\n",
        "\n",
        "import matplotlib.pyplot as plt\n",
        "import plotly.express as px\n",
        "import seaborn as sns\n",
        "\n",
        "import urllib.request\n",
        "import datetime\n",
        "import json\n",
        "import glob\n",
        "import sys\n",
        "import os\n",
        "\n",
        "from fbprophet import Prophet\n",
        "\n",
        "import warnings\n",
        "warnings.filterwarnings(action='ignore')\n",
        "\n",
        "%matplotlib inline\n",
        "plt.rcParams['axes.unicode_minus'] = False\n",
        "plt.rcParams['font.family'] = 'Malgun Gothic'\n",
        "plt.rcParams['axes.grid'] = False\n",
        "plt.rc('font', family='NanumBarunGothic')\n",
        "\n",
        "pd.set_option('display.max_columns', 250)\n",
        "pd.set_option('display.max_rows', 250)\n",
        "pd.set_option('display.width', 100)\n",
        "\n",
        "pd.options.display.float_format = '{:.2f}'.format"
      ],
      "execution_count": null,
      "outputs": []
    },
    {
      "cell_type": "markdown",
      "metadata": {
        "id": "NeC8w3X7P6s2"
      },
      "source": [
        "# 오픈 api 컨트롤러 클래스 만들기"
      ]
    },
    {
      "cell_type": "code",
      "metadata": {
        "id": "SGF4YocSPkuP"
      },
      "source": [
        "class NaverDataLabOpenAPI():\n",
        "    \"\"\"\n",
        "    네이버 데이터랩 오픈 API 컨트롤러 클래스\n",
        "    \"\"\"\n",
        "\n",
        "\n",
        "    def __init__(self, client_id, client_secret):\n",
        "        \"\"\"\n",
        "        인증키 설정 및 검색어 그룹 초기화\n",
        "        \"\"\"\n",
        "        self.client_id = client_id\n",
        "        self.client_secret = client_secret\n",
        "        self.keywordGroups = []\n",
        "        self.url = \"https://openapi.naver.com/v1/datalab/search\"\n",
        "\n",
        "\n",
        "\n",
        "    def add_keyword_groups(self, group_dict):\n",
        "        \"\"\"\n",
        "        검색어 그룹 추가\n",
        "        \"\"\"\n",
        "\n",
        "        keyword_gorup = {\n",
        "            'groupName': group_dict['groupName'],\n",
        "            'keywords': group_dict['keywords']\n",
        "        }\n",
        "        \n",
        "        self.keywordGroups.append(keyword_gorup)\n",
        "        print(f\">>> Num of keywordGroups: {len(self.keywordGroups)}\")\n",
        "\n",
        "\n",
        "    def get_data(self, startDate, endDate, timeUnit, device, ages, gender):\n",
        "        \"\"\"\n",
        "        요청 결과 반환\n",
        "        \"\"\"\n",
        "    \n",
        "        # Request body\n",
        "        body = json.dumps({\n",
        "            \"startDate\": startDate,\n",
        "            \"endDate\": endDate,\n",
        "            \"timeUnit\": timeUnit,\n",
        "            \"keywordGroups\": self.keywordGroups,\n",
        "            \"device\": device,\n",
        "            \"ages\": ages,\n",
        "            \"gender\": gender\n",
        "        }, ensure_ascii=False)\n",
        "        \n",
        "        # Results\n",
        "        request = urllib.request.Request(self.url)\n",
        "        request.add_header(\"X-Naver-Client-Id\",self.client_id)\n",
        "        request.add_header(\"X-Naver-Client-Secret\",self.client_secret)\n",
        "        request.add_header(\"Content-Type\",\"application/json\")\n",
        "        response = urllib.request.urlopen(request, data=body.encode(\"utf-8\"))\n",
        "        rescode = response.getcode()\n",
        "        if(rescode==200):\n",
        "            # Json Result\n",
        "            result = json.loads(response.read())\n",
        "            \n",
        "            df = pd.DataFrame(result['results'][0]['data'])[['period']]\n",
        "            for i in range(len(self.keywordGroups)):\n",
        "                tmp = pd.DataFrame(result['results'][i]['data'])\n",
        "                tmp = tmp.rename(columns={'ratio': result['results'][i]['title']})\n",
        "                df = pd.merge(df, tmp, how='left', on=['period'])\n",
        "            self.df = df.rename(columns={'period': '날짜'})\n",
        "            self.df['날짜'] = pd.to_datetime(self.df['날짜'])\n",
        "            \n",
        "        else:\n",
        "            print(\"Error Code:\" + rescode)\n",
        "            \n",
        "        return self.df\n",
        "\n",
        "    def plot_trend(self):\n",
        "          \"\"\"\n",
        "          월 별 검색어 트렌드 그래프 출력\n",
        "          \"\"\"\n",
        "          colList = self.df.columns[1:]\n",
        "          n_col = len(colList)\n",
        "\n",
        "          fig = plt.figure(figsize=(12,6))\n",
        "          plt.title('월 별 검색어 트렌드', size=20, weight='bold')\n",
        "          for i in range(n_col):\n",
        "              sns.lineplot(x=self.df['날짜'], y=self.df[colList[i]], label=colList[i])\n",
        "          plt.legend(loc='upper right')\n",
        "          \n",
        "          return fig\n",
        "\n",
        "    \n",
        "    '''\n",
        "\n",
        "    def plot_monthly_trend(self):\n",
        "        \"\"\"\n",
        "        월 별 검색어 트렌드 그래프 출력\n",
        "        \"\"\"\n",
        "        df = self.df.copy()\n",
        "        df_0 = df.groupby(by=[df['날짜'].dt.year, df['날짜'].dt.month]).mean().droplevel(0).reset_index().rename(columns={'날짜': '월'})\n",
        "        df_1 = df.groupby(by=[df['날짜'].dt.year, df['날짜'].dt.month]).mean().droplevel(1).reset_index().rename(columns={'날짜': '년도'})\n",
        "\n",
        "        df = pd.merge(df_1[['년도']], df_0, how='left', left_index=True, right_index=True)\n",
        "        df['날짜'] = pd.to_datetime(df[['년도','월']].assign(일=1).rename(columns={\"년도\": \"year\", \"월\":'month','일':'day'}))\n",
        "        \n",
        "        colList = df.columns.drop(['날짜','년도','월'])\n",
        "        n_col = len(colList)\n",
        "                \n",
        "        fig = plt.figure(figsize=(12,6))\n",
        "        plt.title('월 별 검색어 트렌드', size=20, weight='bold')\n",
        "        for i in range(n_col):\n",
        "            sns.lineplot(x=df['날짜'], y=df[colList[i]], label=colList[i])\n",
        "        plt.legend(loc='upper right')\n",
        "        \n",
        "        return fig\n",
        "    '''\n",
        "\n",
        "\n",
        "    def plot_pred_trend(self, days):\n",
        "        \"\"\"\n",
        "        검색어 그룹 별 시계열 트렌드 예측 그래프 출력\n",
        "        days: 예측일수\n",
        "        \"\"\"\n",
        "        colList = self.df.columns[1:]\n",
        "        n_col = len(colList)\n",
        "        \n",
        "        fig_list = []\n",
        "        for i in range(n_col):\n",
        "            \n",
        "            globals()[f\"df_{str(i)}\"] = self.df[['날짜', f'{colList[i]}']]\n",
        "            globals()[f\"df_{str(i)}\"] = globals()[f\"df_{str(i)}\"].rename(columns={'날짜': 'ds', f'{colList[i]}': 'y'})\n",
        "\n",
        "            m = Prophet()\n",
        "            m.fit(globals()[f\"df_{str(i)}\"])\n",
        "\n",
        "            future = m.make_future_dataframe(periods=days)\n",
        "            forecast = m.predict(future)\n",
        "            forecast[['ds', 'yhat', 'yhat_lower', 'yhat_upper']].tail()\n",
        "            \n",
        "            globals()[f\"fig_{str(i)}\"] = m.plot(forecast, figsize=(12,6))\n",
        "            plt.title(colList[i], size=20, weight='bold')\n",
        "            \n",
        "            fig_list.append(globals()[f\"fig_{str(i)}\"])\n",
        "            \n",
        "        return fig_list"
      ],
      "execution_count": null,
      "outputs": []
    },
    {
      "cell_type": "markdown",
      "metadata": {
        "id": "zHcOZ5aIQJem"
      },
      "source": [
        "## 검색어 그룹 추가 기능"
      ]
    },
    {
      "cell_type": "markdown",
      "metadata": {
        "id": "YOZCLSjISG4j"
      },
      "source": [
        "최대 5개까지 추가 가능"
      ]
    },
    {
      "cell_type": "code",
      "metadata": {
        "id": "HsLxH-yQPksi"
      },
      "source": [
        "def add_keyword_groups(self, group_dict):\n",
        "        \"\"\"\n",
        "        검색어 그룹 추가\n",
        "        \"\"\"\n",
        "\n",
        "        keyword_gorup = {\n",
        "            'groupName': group_dict['groupName'],\n",
        "            'keywords': group_dict['keywords']\n",
        "        }\n",
        "        \n",
        "        self.keywordGroups.append(keyword_gorup)\n",
        "        print(f\">>> Num of keywordGroups: {len(self.keywordGroups)}\")"
      ],
      "execution_count": null,
      "outputs": []
    },
    {
      "cell_type": "markdown",
      "metadata": {
        "id": "qO-j5h0aQlA1"
      },
      "source": [
        "## 데이터 요청 기능"
      ]
    },
    {
      "cell_type": "code",
      "metadata": {
        "id": "_kR2J2LoPkrE"
      },
      "source": [
        "def get_data(self, startDate, endDate, timeUnit, device, ages, gender):\n",
        "        \"\"\"\n",
        "        요청 결과 반환\n",
        "        \"\"\"\n",
        "\n",
        "        # Request body\n",
        "        body = json.dumps({\n",
        "            \"startDate\": startDate,\n",
        "            \"endDate\": endDate,\n",
        "            \"timeUnit\": timeUnit,\n",
        "            \"keywordGroups\": self.keywordGroups,\n",
        "            \"device\": device,\n",
        "            \"ages\": ages,\n",
        "            \"gender\": gender\n",
        "        }, ensure_ascii=False)\n",
        "        \n",
        "        # Results\n",
        "        request = urllib.request.Request(self.url)\n",
        "        request.add_header(\"X-Naver-Client-Id\",self.client_id)\n",
        "        request.add_header(\"X-Naver-Client-Secret\",self.client_secret)\n",
        "        request.add_header(\"Content-Type\",\"application/json\")\n",
        "        response = urllib.request.urlopen(request, data=body.encode(\"utf-8\"))\n",
        "        rescode = response.getcode()\n",
        "        if(rescode==200):\n",
        "            # Json Result\n",
        "            result = json.loads(response.read())\n",
        "            \n",
        "            df = pd.DataFrame(result['results'][0]['data'])[['period']]\n",
        "            for i in range(len(self.keywordGroups)):\n",
        "                tmp = pd.DataFrame(result['results'][i]['data'])\n",
        "                tmp = tmp.rename(columns={'ratio': result['results'][i]['title']})\n",
        "                df = pd.merge(df, tmp, how='left', on=['period'])\n",
        "            self.df = df.rename(columns={'period': '날짜'})\n",
        "            self.df['날짜'] = pd.to_datetime(self.df['날짜'])\n",
        "            \n",
        "        else:\n",
        "            print(\"Error Code:\" + rescode)\n",
        "            \n",
        "        return self.df"
      ],
      "execution_count": null,
      "outputs": []
    },
    {
      "cell_type": "markdown",
      "metadata": {
        "id": "s1wQtqKDQyiK"
      },
      "source": [
        "## 일별 검색어 트렌드 그래프 출력 기능"
      ]
    },
    {
      "cell_type": "code",
      "metadata": {
        "id": "ov8IzSLPPkpI"
      },
      "source": [
        "def plot_daily_trend(self):\n",
        "        \"\"\"\n",
        "        일 별 검색어 트렌드 그래프 출력\n",
        "        \"\"\"\n",
        "        colList = self.df.columns[1:]\n",
        "        n_col = len(colList)\n",
        "\n",
        "        fig = plt.figure(figsize=(12,6))\n",
        "        plt.title('일 별 검색어 트렌드', size=20, weight='bold')\n",
        "        for i in range(n_col):\n",
        "            sns.lineplot(x=self.df['날짜'], y=self.df[colList[i]], label=colList[i])\n",
        "        plt.legend(loc='upper right')\n",
        "        \n",
        "        return fig"
      ],
      "execution_count": null,
      "outputs": []
    },
    {
      "cell_type": "markdown",
      "metadata": {
        "id": "mnRIWKCjPknY"
      },
      "source": [
        "## 월별 검색어 트렌드 그래프 출력 기능"
      ]
    },
    {
      "cell_type": "code",
      "metadata": {
        "id": "8nOUiDeSPkl7"
      },
      "source": [
        "def plot_monthly_trend(self):\n",
        "        \"\"\"\n",
        "        월 별 검색어 트렌드 그래프 출력\n",
        "        \"\"\"\n",
        "        df = self.df.copy()\n",
        "        df_0 = df.groupby(by=[df['날짜'].dt.year, df['날짜'].dt.month]).mean().droplevel(0).reset_index().rename(columns={'날짜': '월'})\n",
        "        df_1 = df.groupby(by=[df['날짜'].dt.year, df['날짜'].dt.month]).mean().droplevel(1).reset_index().rename(columns={'날짜': '년도'})\n",
        "\n",
        "        df = pd.merge(df_1[['년도']], df_0, how='left', left_index=True, right_index=True)\n",
        "        df['날짜'] = pd.to_datetime(df[['년도','월']].assign(일=1).rename(columns={\"년도\": \"year\", \"월\":'month','일':'day'}))\n",
        "        \n",
        "        colList = df.columns.drop(['날짜','년도','월'])\n",
        "        n_col = len(colList)\n",
        "                \n",
        "        fig = plt.figure(figsize=(12,6))\n",
        "        plt.title('월 별 검색어 트렌드', size=20, weight='bold')\n",
        "        for i in range(n_col):\n",
        "            sns.lineplot(x=df['날짜'], y=df[colList[i]], label=colList[i])\n",
        "        plt.legend(loc='upper right')\n",
        "        \n",
        "        return fig"
      ],
      "execution_count": null,
      "outputs": []
    },
    {
      "cell_type": "markdown",
      "metadata": {
        "id": "O4-T2R2yPkj2"
      },
      "source": [
        "## prophet 기반 검색어 그룹별 시계열 트렌드 예측 그래프"
      ]
    },
    {
      "cell_type": "code",
      "metadata": {
        "id": "KE6Q5p9TPkeK"
      },
      "source": [
        "def plot_pred_trend(self, days):\n",
        "        \"\"\"\n",
        "        검색어 그룹 별 시계열 트렌드 예측 그래프 출력\n",
        "        days: 예측일수\n",
        "        \"\"\"\n",
        "        colList = self.df.columns[1:]\n",
        "        n_col = len(colList)\n",
        "        \n",
        "        fig_list = []\n",
        "        for i in range(n_col):\n",
        "            \n",
        "            globals()[f\"df_{str(i)}\"] = self.df[['날짜', f'{colList[i]}']]\n",
        "            globals()[f\"df_{str(i)}\"] = globals()[f\"df_{str(i)}\"].rename(columns={'날짜': 'ds', f'{colList[i]}': 'y'})\n",
        "\n",
        "            m = Prophet()\n",
        "            m.fit(globals()[f\"df_{str(i)}\"])\n",
        "\n",
        "            future = m.make_future_dataframe(periods=days)\n",
        "            forecast = m.predict(future)\n",
        "            forecast[['ds', 'yhat', 'yhat_lower', 'yhat_upper']].tail()\n",
        "            \n",
        "            globals()[f\"fig_{str(i)}\"] = m.plot(forecast, figsize=(12,6))\n",
        "            plt.title(colList[i], size=20, weight='bold')\n",
        "            \n",
        "            fig_list.append(globals()[f\"fig_{str(i)}\"])\n",
        "            \n",
        "        return fig_list"
      ],
      "execution_count": null,
      "outputs": []
    },
    {
      "cell_type": "markdown",
      "metadata": {
        "id": "F79JLbgDPkcF"
      },
      "source": [
        "# 데이터 불러오기"
      ]
    },
    {
      "cell_type": "markdown",
      "metadata": {
        "id": "fORH47r6TW7a"
      },
      "source": [
        "검색어 그룹 세트 정의"
      ]
    },
    {
      "cell_type": "code",
      "metadata": {
        "id": "QstBR25NPkaG"
      },
      "source": [
        "keyword_group_set = {\n",
        "    'keyword_group_1': {'groupName': \"신라면\", 'keywords': [\"신라면\",\"sinlamyeon\"]},\n",
        "    'keyword_group_2': {'groupName': \"곰인형\", 'keywords': [\"곰인형\"]},\n",
        "    'keyword_group_3': {'groupName': \"스노우볼\", 'keywords': [\"스노우볼\",\"Snowball\"]},\n",
        "    'keyword_group_4': {'groupName': \"샤인머스켓\", 'keywords': [\"샤인머스켓\"]},\n",
        "    #'keyword_group_5': {'groupName': \"페이스북\", 'keywords': [\"페이스북\",\"Facebook\",\"FB\"]}\n",
        "}"
      ],
      "execution_count": null,
      "outputs": []
    },
    {
      "cell_type": "markdown",
      "metadata": {
        "id": "4CYI93aRPkXy"
      },
      "source": [
        "데이터 요청"
      ]
    },
    {
      "cell_type": "code",
      "metadata": {
        "colab": {
          "base_uri": "https://localhost:8080/"
        },
        "id": "HllVTJDqPkVl",
        "outputId": "2fa817fc-c19f-4437-e592-72b02659b08c"
      },
      "source": [
        "# API 인증 정보 설정\n",
        "client_id = \"c8VWJLgmKKWDoXRQDfM8\"\n",
        "client_secret = \"ezOHxy69Bq\"\n",
        "\n",
        "# 요청 파라미터 설정\n",
        "startDate = \"2019-12-01\"\n",
        "endDate = \"2021-12-01\"\n",
        "timeUnit = 'month'\n",
        "device = ''\n",
        "ages = []\n",
        "gender = ''\n",
        "\n",
        "# 데이터 프레임 정의\n",
        "naver = NaverDataLabOpenAPI(client_id=client_id, client_secret=client_secret)\n",
        "\n",
        "naver.add_keyword_groups(keyword_group_set['keyword_group_1'])\n",
        "naver.add_keyword_groups(keyword_group_set['keyword_group_2'])\n",
        "naver.add_keyword_groups(keyword_group_set['keyword_group_3'])\n",
        "naver.add_keyword_groups(keyword_group_set['keyword_group_4'])\n",
        "#naver.add_keyword_groups(keyword_group_set['keyword_group_5'])\n",
        "\n",
        "df = naver.get_data(startDate, endDate, timeUnit, device, ages, gender)"
      ],
      "execution_count": null,
      "outputs": [
        {
          "output_type": "stream",
          "name": "stdout",
          "text": [
            ">>> Num of keywordGroups: 1\n",
            ">>> Num of keywordGroups: 2\n",
            ">>> Num of keywordGroups: 3\n",
            ">>> Num of keywordGroups: 4\n"
          ]
        }
      ]
    },
    {
      "cell_type": "code",
      "metadata": {
        "colab": {
          "base_uri": "https://localhost:8080/",
          "height": 802
        },
        "id": "yWVSrx1tPkTG",
        "outputId": "1f264582-1c18-49bf-a2d0-285e2f76df51"
      },
      "source": [
        "df"
      ],
      "execution_count": null,
      "outputs": [
        {
          "output_type": "execute_result",
          "data": {
            "text/html": [
              "<div>\n",
              "<style scoped>\n",
              "    .dataframe tbody tr th:only-of-type {\n",
              "        vertical-align: middle;\n",
              "    }\n",
              "\n",
              "    .dataframe tbody tr th {\n",
              "        vertical-align: top;\n",
              "    }\n",
              "\n",
              "    .dataframe thead th {\n",
              "        text-align: right;\n",
              "    }\n",
              "</style>\n",
              "<table border=\"1\" class=\"dataframe\">\n",
              "  <thead>\n",
              "    <tr style=\"text-align: right;\">\n",
              "      <th></th>\n",
              "      <th>날짜</th>\n",
              "      <th>신라면</th>\n",
              "      <th>곰인형</th>\n",
              "      <th>스노우볼</th>\n",
              "      <th>샤인머스켓</th>\n",
              "    </tr>\n",
              "  </thead>\n",
              "  <tbody>\n",
              "    <tr>\n",
              "      <th>0</th>\n",
              "      <td>2019-12-01</td>\n",
              "      <td>4.04</td>\n",
              "      <td>2.07</td>\n",
              "      <td>9.22</td>\n",
              "      <td>21.60</td>\n",
              "    </tr>\n",
              "    <tr>\n",
              "      <th>1</th>\n",
              "      <td>2020-01-01</td>\n",
              "      <td>4.13</td>\n",
              "      <td>1.45</td>\n",
              "      <td>2.46</td>\n",
              "      <td>20.83</td>\n",
              "    </tr>\n",
              "    <tr>\n",
              "      <th>2</th>\n",
              "      <td>2020-02-01</td>\n",
              "      <td>11.90</td>\n",
              "      <td>1.60</td>\n",
              "      <td>2.13</td>\n",
              "      <td>7.84</td>\n",
              "    </tr>\n",
              "    <tr>\n",
              "      <th>3</th>\n",
              "      <td>2020-03-01</td>\n",
              "      <td>6.28</td>\n",
              "      <td>1.97</td>\n",
              "      <td>2.54</td>\n",
              "      <td>11.00</td>\n",
              "    </tr>\n",
              "    <tr>\n",
              "      <th>4</th>\n",
              "      <td>2020-04-01</td>\n",
              "      <td>4.50</td>\n",
              "      <td>7.49</td>\n",
              "      <td>2.10</td>\n",
              "      <td>7.79</td>\n",
              "    </tr>\n",
              "    <tr>\n",
              "      <th>5</th>\n",
              "      <td>2020-05-01</td>\n",
              "      <td>3.72</td>\n",
              "      <td>2.14</td>\n",
              "      <td>1.96</td>\n",
              "      <td>7.35</td>\n",
              "    </tr>\n",
              "    <tr>\n",
              "      <th>6</th>\n",
              "      <td>2020-06-01</td>\n",
              "      <td>3.96</td>\n",
              "      <td>1.56</td>\n",
              "      <td>1.68</td>\n",
              "      <td>8.02</td>\n",
              "    </tr>\n",
              "    <tr>\n",
              "      <th>7</th>\n",
              "      <td>2020-07-01</td>\n",
              "      <td>4.19</td>\n",
              "      <td>1.61</td>\n",
              "      <td>1.64</td>\n",
              "      <td>16.36</td>\n",
              "    </tr>\n",
              "    <tr>\n",
              "      <th>8</th>\n",
              "      <td>2020-08-01</td>\n",
              "      <td>4.41</td>\n",
              "      <td>1.81</td>\n",
              "      <td>2.02</td>\n",
              "      <td>33.12</td>\n",
              "    </tr>\n",
              "    <tr>\n",
              "      <th>9</th>\n",
              "      <td>2020-09-01</td>\n",
              "      <td>4.46</td>\n",
              "      <td>1.81</td>\n",
              "      <td>2.08</td>\n",
              "      <td>100.00</td>\n",
              "    </tr>\n",
              "    <tr>\n",
              "      <th>10</th>\n",
              "      <td>2020-10-01</td>\n",
              "      <td>4.10</td>\n",
              "      <td>1.87</td>\n",
              "      <td>2.20</td>\n",
              "      <td>63.06</td>\n",
              "    </tr>\n",
              "    <tr>\n",
              "      <th>11</th>\n",
              "      <td>2020-11-01</td>\n",
              "      <td>4.30</td>\n",
              "      <td>2.31</td>\n",
              "      <td>5.17</td>\n",
              "      <td>25.83</td>\n",
              "    </tr>\n",
              "    <tr>\n",
              "      <th>12</th>\n",
              "      <td>2020-12-01</td>\n",
              "      <td>6.09</td>\n",
              "      <td>4.02</td>\n",
              "      <td>17.12</td>\n",
              "      <td>18.66</td>\n",
              "    </tr>\n",
              "    <tr>\n",
              "      <th>13</th>\n",
              "      <td>2021-01-01</td>\n",
              "      <td>4.73</td>\n",
              "      <td>2.21</td>\n",
              "      <td>4.92</td>\n",
              "      <td>17.67</td>\n",
              "    </tr>\n",
              "    <tr>\n",
              "      <th>14</th>\n",
              "      <td>2021-02-01</td>\n",
              "      <td>4.19</td>\n",
              "      <td>1.80</td>\n",
              "      <td>2.60</td>\n",
              "      <td>14.30</td>\n",
              "    </tr>\n",
              "    <tr>\n",
              "      <th>15</th>\n",
              "      <td>2021-03-01</td>\n",
              "      <td>4.46</td>\n",
              "      <td>1.91</td>\n",
              "      <td>2.72</td>\n",
              "      <td>9.05</td>\n",
              "    </tr>\n",
              "    <tr>\n",
              "      <th>16</th>\n",
              "      <td>2021-04-01</td>\n",
              "      <td>4.01</td>\n",
              "      <td>2.25</td>\n",
              "      <td>2.31</td>\n",
              "      <td>7.30</td>\n",
              "    </tr>\n",
              "    <tr>\n",
              "      <th>17</th>\n",
              "      <td>2021-05-01</td>\n",
              "      <td>4.28</td>\n",
              "      <td>2.04</td>\n",
              "      <td>2.26</td>\n",
              "      <td>6.90</td>\n",
              "    </tr>\n",
              "    <tr>\n",
              "      <th>18</th>\n",
              "      <td>2021-06-01</td>\n",
              "      <td>4.08</td>\n",
              "      <td>1.74</td>\n",
              "      <td>1.91</td>\n",
              "      <td>7.06</td>\n",
              "    </tr>\n",
              "    <tr>\n",
              "      <th>19</th>\n",
              "      <td>2021-07-01</td>\n",
              "      <td>5.84</td>\n",
              "      <td>2.03</td>\n",
              "      <td>2.00</td>\n",
              "      <td>15.15</td>\n",
              "    </tr>\n",
              "    <tr>\n",
              "      <th>20</th>\n",
              "      <td>2021-08-01</td>\n",
              "      <td>6.04</td>\n",
              "      <td>2.26</td>\n",
              "      <td>2.16</td>\n",
              "      <td>46.18</td>\n",
              "    </tr>\n",
              "    <tr>\n",
              "      <th>21</th>\n",
              "      <td>2021-09-01</td>\n",
              "      <td>4.03</td>\n",
              "      <td>1.90</td>\n",
              "      <td>2.37</td>\n",
              "      <td>99.92</td>\n",
              "    </tr>\n",
              "    <tr>\n",
              "      <th>22</th>\n",
              "      <td>2021-10-01</td>\n",
              "      <td>4.69</td>\n",
              "      <td>1.88</td>\n",
              "      <td>3.25</td>\n",
              "      <td>41.45</td>\n",
              "    </tr>\n",
              "    <tr>\n",
              "      <th>23</th>\n",
              "      <td>2021-11-01</td>\n",
              "      <td>4.78</td>\n",
              "      <td>1.97</td>\n",
              "      <td>7.01</td>\n",
              "      <td>17.48</td>\n",
              "    </tr>\n",
              "  </tbody>\n",
              "</table>\n",
              "</div>"
            ],
            "text/plain": [
              "           날짜   신라면  곰인형  스노우볼  샤인머스켓\n",
              "0  2019-12-01  4.04 2.07  9.22  21.60\n",
              "1  2020-01-01  4.13 1.45  2.46  20.83\n",
              "2  2020-02-01 11.90 1.60  2.13   7.84\n",
              "3  2020-03-01  6.28 1.97  2.54  11.00\n",
              "4  2020-04-01  4.50 7.49  2.10   7.79\n",
              "5  2020-05-01  3.72 2.14  1.96   7.35\n",
              "6  2020-06-01  3.96 1.56  1.68   8.02\n",
              "7  2020-07-01  4.19 1.61  1.64  16.36\n",
              "8  2020-08-01  4.41 1.81  2.02  33.12\n",
              "9  2020-09-01  4.46 1.81  2.08 100.00\n",
              "10 2020-10-01  4.10 1.87  2.20  63.06\n",
              "11 2020-11-01  4.30 2.31  5.17  25.83\n",
              "12 2020-12-01  6.09 4.02 17.12  18.66\n",
              "13 2021-01-01  4.73 2.21  4.92  17.67\n",
              "14 2021-02-01  4.19 1.80  2.60  14.30\n",
              "15 2021-03-01  4.46 1.91  2.72   9.05\n",
              "16 2021-04-01  4.01 2.25  2.31   7.30\n",
              "17 2021-05-01  4.28 2.04  2.26   6.90\n",
              "18 2021-06-01  4.08 1.74  1.91   7.06\n",
              "19 2021-07-01  5.84 2.03  2.00  15.15\n",
              "20 2021-08-01  6.04 2.26  2.16  46.18\n",
              "21 2021-09-01  4.03 1.90  2.37  99.92\n",
              "22 2021-10-01  4.69 1.88  3.25  41.45\n",
              "23 2021-11-01  4.78 1.97  7.01  17.48"
            ]
          },
          "metadata": {},
          "execution_count": 67
        }
      ]
    },
    {
      "cell_type": "code",
      "metadata": {
        "colab": {
          "base_uri": "https://localhost:8080/"
        },
        "id": "50HwwlUw3Dle",
        "outputId": "ff8df670-72e8-4482-97c5-a273b847ec47"
      },
      "source": [
        "898300/100"
      ],
      "execution_count": null,
      "outputs": [
        {
          "output_type": "execute_result",
          "data": {
            "text/plain": [
              "8983.0"
            ]
          },
          "metadata": {},
          "execution_count": 60
        }
      ]
    },
    {
      "cell_type": "markdown",
      "metadata": {
        "id": "JJvsVLeK3RM4"
      },
      "source": [
        "1%당 8983"
      ]
    },
    {
      "cell_type": "code",
      "metadata": {
        "colab": {
          "base_uri": "https://localhost:8080/"
        },
        "id": "JRMOE_MW3Qf1",
        "outputId": "16fdd86d-b57e-4327-be3d-11bb10aa4805"
      },
      "source": [
        "8983*18.68"
      ],
      "execution_count": null,
      "outputs": [
        {
          "output_type": "execute_result",
          "data": {
            "text/plain": [
              "167802.44"
            ]
          },
          "metadata": {},
          "execution_count": 61
        }
      ]
    },
    {
      "cell_type": "code",
      "metadata": {
        "colab": {
          "base_uri": "https://localhost:8080/"
        },
        "id": "9nblqj0h3ao1",
        "outputId": "890a154d-bf7a-40ef-9b2d-5518cb828091"
      },
      "source": [
        "8983*6.09"
      ],
      "execution_count": null,
      "outputs": [
        {
          "output_type": "execute_result",
          "data": {
            "text/plain": [
              "54706.47"
            ]
          },
          "metadata": {},
          "execution_count": 63
        }
      ]
    },
    {
      "cell_type": "code",
      "metadata": {
        "colab": {
          "base_uri": "https://localhost:8080/"
        },
        "id": "Mesi0t5d4Yok",
        "outputId": "68272074-22ce-4e90-9890-edfcd5873868"
      },
      "source": [
        "8983*18.68"
      ],
      "execution_count": null,
      "outputs": [
        {
          "output_type": "execute_result",
          "data": {
            "text/plain": [
              "167802.44"
            ]
          },
          "metadata": {},
          "execution_count": 65
        }
      ]
    },
    {
      "cell_type": "code",
      "metadata": {
        "colab": {
          "base_uri": "https://localhost:8080/"
        },
        "id": "eZuEUAUK3uTk",
        "outputId": "3a528354-471f-4a83-f42c-1d76aef3c0f0"
      },
      "source": [
        "45100+8310"
      ],
      "execution_count": null,
      "outputs": [
        {
          "output_type": "execute_result",
          "data": {
            "text/plain": [
              "53410"
            ]
          },
          "metadata": {},
          "execution_count": 64
        }
      ]
    },
    {
      "cell_type": "code",
      "metadata": {
        "colab": {
          "base_uri": "https://localhost:8080/",
          "height": 49
        },
        "id": "frcCVy65hg3a",
        "outputId": "eed6311a-d2d7-4903-d56b-03c3994f9733"
      },
      "source": [
        "df.iloc[274:304][['날짜','샤인머스켓']]"
      ],
      "execution_count": null,
      "outputs": [
        {
          "output_type": "execute_result",
          "data": {
            "text/html": [
              "<div>\n",
              "<style scoped>\n",
              "    .dataframe tbody tr th:only-of-type {\n",
              "        vertical-align: middle;\n",
              "    }\n",
              "\n",
              "    .dataframe tbody tr th {\n",
              "        vertical-align: top;\n",
              "    }\n",
              "\n",
              "    .dataframe thead th {\n",
              "        text-align: right;\n",
              "    }\n",
              "</style>\n",
              "<table border=\"1\" class=\"dataframe\">\n",
              "  <thead>\n",
              "    <tr style=\"text-align: right;\">\n",
              "      <th></th>\n",
              "      <th>날짜</th>\n",
              "      <th>샤인머스켓</th>\n",
              "    </tr>\n",
              "  </thead>\n",
              "  <tbody>\n",
              "  </tbody>\n",
              "</table>\n",
              "</div>"
            ],
            "text/plain": [
              "Empty DataFrame\n",
              "Columns: [날짜, 샤인머스켓]\n",
              "Index: []"
            ]
          },
          "metadata": {},
          "execution_count": 51
        }
      ]
    },
    {
      "cell_type": "code",
      "metadata": {
        "colab": {
          "base_uri": "https://localhost:8080/",
          "height": 410
        },
        "id": "0uwGQjUvPkQ5",
        "outputId": "bd580b14-aba2-4cc8-fd07-ff681b83ad17"
      },
      "source": [
        "fig_1 = naver.plot_trend()"
      ],
      "execution_count": null,
      "outputs": [
        {
          "output_type": "display_data",
          "data": {
            "image/png": "[encoded data removed]",
            "text/plain": [
              "<Figure size 864x432 with 1 Axes>"
            ]
          },
          "metadata": {
            "needs_background": "light"
          }
        }
      ]
    },
    {
      "cell_type": "code",
      "metadata": {
        "colab": {
          "base_uri": "https://localhost:8080/",
          "height": 410
        },
        "id": "fkzoM8h7PkM-",
        "outputId": "94d4a532-0550-4358-d897-c326383c3f4b"
      },
      "source": [
        "#fig_2 = naver.plot_monthly_trend()"
      ],
      "execution_count": null,
      "outputs": [
        {
          "output_type": "display_data",
          "data": {
            "image/png": "[encoded data removed]",
            "text/plain": [
              "<Figure size 864x432 with 1 Axes>"
            ]
          },
          "metadata": {
            "needs_background": "light"
          }
        }
      ]
    },
    {
      "cell_type": "code",
      "metadata": {
        "colab": {
          "base_uri": "https://localhost:8080/",
          "height": 1000
        },
        "id": "0kEZc2JoPkIz",
        "outputId": "4a6507c4-2abd-4f5f-d274-a8723ab8a70c"
      },
      "source": [
        "fig_3 = naver.plot_pred_trend(days = 90)"
      ],
      "execution_count": null,
      "outputs": [
        {
          "output_type": "stream",
          "name": "stderr",
          "text": [
            "INFO:fbprophet:Disabling yearly seasonality. Run prophet with yearly_seasonality=True to override this.\n",
            "INFO:fbprophet:Disabling daily seasonality. Run prophet with daily_seasonality=True to override this.\n",
            "INFO:fbprophet:Disabling yearly seasonality. Run prophet with yearly_seasonality=True to override this.\n",
            "INFO:fbprophet:Disabling daily seasonality. Run prophet with daily_seasonality=True to override this.\n",
            "INFO:fbprophet:Disabling yearly seasonality. Run prophet with yearly_seasonality=True to override this.\n",
            "INFO:fbprophet:Disabling daily seasonality. Run prophet with daily_seasonality=True to override this.\n"
          ]
        },
        {
          "output_type": "display_data",
          "data": {
            "image/png": "[encoded data removed]",
            "text/plain": [
              "<Figure size 864x432 with 1 Axes>"
            ]
          },
          "metadata": {}
        },
        {
          "output_type": "display_data",
          "data": {
            "image/png": "[encoded data removed]",
            "text/plain": [
              "<Figure size 864x432 with 1 Axes>"
            ]
          },
          "metadata": {}
        },
        {
          "output_type": "display_data",
          "data": {
            "image/png": "[encoded data removed]",
            "text/plain": [
              "<Figure size 864x432 with 1 Axes>"
            ]
          },
          "metadata": {}
        }
      ]
    },
    {
      "cell_type": "code",
      "metadata": {
        "id": "xeT4BAkkPkAN"
      },
      "source": [
        ""
      ],
      "execution_count": null,
      "outputs": []
    },
    {
      "cell_type": "markdown",
      "metadata": {
        "id": "Knnt3g54ECVR"
      },
      "source": [
        ""
      ]
    },
    {
      "cell_type": "markdown",
      "metadata": {
        "id": "eeDbyIKBEFM5"
      },
      "source": [
        "# 네이버 키워드 도구 api"
      ]
    },
    {
      "cell_type": "markdown",
      "metadata": {
        "id": "yoGuB5uhEYAn"
      },
      "source": [
        "## import library"
      ]
    },
    {
      "cell_type": "code",
      "metadata": {
        "colab": {
          "base_uri": "https://localhost:8080/"
        },
        "id": "30evNn79fhlF",
        "outputId": "44554672-d2db-4e5c-95cb-940e5161c7fb"
      },
      "source": [
        "pip install jsonpickle"
      ],
      "execution_count": null,
      "outputs": [
        {
          "output_type": "stream",
          "name": "stdout",
          "text": [
            "Collecting jsonpickle\n",
            "  Downloading jsonpickle-2.0.0-py2.py3-none-any.whl (37 kB)\n",
            "Requirement already satisfied: importlib-metadata in /usr/local/lib/python3.7/dist-packages (from jsonpickle) (4.8.2)\n",
            "Requirement already satisfied: zipp>=0.5 in /usr/local/lib/python3.7/dist-packages (from importlib-metadata->jsonpickle) (3.6.0)\n",
            "Requirement already satisfied: typing-extensions>=3.6.4 in /usr/local/lib/python3.7/dist-packages (from importlib-metadata->jsonpickle) (3.10.0.2)\n",
            "Installing collected packages: jsonpickle\n",
            "Successfully installed jsonpickle-2.0.0\n"
          ]
        }
      ]
    },
    {
      "cell_type": "code",
      "metadata": {
        "id": "2vtXyg_HEJp1"
      },
      "source": [
        "import pandas as pd \n",
        "import collections\n",
        "from datetime import timedelta\n",
        "from dateutil.relativedelta import relativedelta\n",
        "import numpy as np\n",
        "import requests\n",
        "\n",
        "import math\n",
        "from datetime import datetime \n",
        "from datetime import datetime, timedelta\n",
        "\n",
        "from powernad.API.Campaign import *\n",
        "from powernad.API.RelKwdStat import *\n",
        "\n",
        "import time\n",
        "\n",
        "from time import sleep\n",
        "from urllib.error import HTTPError\n",
        "\n",
        "import urllib.request\n",
        "from datetime import datetime, timedelta\n",
        "import json\n",
        "\n",
        "from tqdm.notebook import tqdm"
      ],
      "execution_count": null,
      "outputs": []
    },
    {
      "cell_type": "markdown",
      "metadata": {
        "id": "L4jWS59xEJn2"
      },
      "source": [
        "## 컨트롤러 구현"
      ]
    },
    {
      "cell_type": "code",
      "metadata": {
        "id": "b8O7G-eEEJlQ"
      },
      "source": [
        "toda = datetime.now()\n",
        "time_month = toda - relativedelta(months=3)\n",
        "time_month = time_month.strftime('%Y-%m-%d')\n",
        "time_month= str(time_month)\n",
        "\n",
        "\n",
        "yesterday = toda - relativedelta(days=1)\n",
        "yesterday = yesterday.strftime('%Y-%m-%d')\n",
        "yesterday = str(yesterday)\n",
        "\n",
        "\n",
        "\n",
        "today = str(datetime.now().date())"
      ],
      "execution_count": null,
      "outputs": []
    },
    {
      "cell_type": "code",
      "metadata": {
        "id": "eBONZe9ZEJjC"
      },
      "source": [
        "dt_index = pd.date_range(start=time_month, end = yesterday)\n",
        "\n",
        "\n",
        "date = pd.DataFrame(data=dt_index, columns=['날짜'])"
      ],
      "execution_count": null,
      "outputs": []
    },
    {
      "cell_type": "markdown",
      "metadata": {
        "id": "5IesnuaAEJhB"
      },
      "source": [
        "네이버 광고 api"
      ]
    },
    {
      "cell_type": "code",
      "metadata": {
        "id": "bjj1f296EJew"
      },
      "source": [
        "BASE_URL = 'https://api.naver.com'\n",
        "API_KEY = '01000000007e740dbaf83df67c57d9d445873cc61b9ccc21f71e4cd122d4efb22e324d8b8e'\n",
        "SECRET_KEY = 'AQAAAAB+dA26+D32fFfZ1EWHPMYb9a64L3GhRJeg3IheWHUh3w=='\n",
        "CUSTOMER_ID = '2418619'"
      ],
      "execution_count": null,
      "outputs": []
    },
    {
      "cell_type": "code",
      "metadata": {
        "id": "6E2ia9-gELXb"
      },
      "source": [
        "rel = RelKwdStat(BASE_URL, API_KEY, SECRET_KEY, CUSTOMER_ID)\n",
        "\n",
        "def search_keyword(searchword):\n",
        "    \n",
        "\n",
        "    kwdDataList = rel.get_rel_kwd_stat_list(siteId=None, biztpId=None, hintKeywords=searchword, event=None, month='3', showDetail='1')\n",
        "\n",
        "\n",
        "    kwd_result = (kwdDataList[0].relKeyword, #키워드\n",
        "                 kwdDataList[0].monthlyPcQcCnt, # 최근 1개월간 검색수 (PC)\n",
        "                 kwdDataList[0].monthlyMobileQcCnt, # 최근 1개월간 검색수 (Mobile)\n",
        "                 kwdDataList[0].monthlyPcQcCnt+kwdDataList[0].monthlyMobileQcCnt) # 최근 1개월간 total \n",
        "\n",
        "    return(kwd_result[3])\n",
        "\n",
        "client_id = \"c8VWJLgmKKWDoXRQDfM8\"\n",
        "client_secret = \"ezOHxy69Bq\"\n",
        "\n",
        "dictionary_yester={}\n",
        "dictionary_now={}"
      ],
      "execution_count": null,
      "outputs": []
    },
    {
      "cell_type": "code",
      "metadata": {
        "id": "Ik5MsgNfELVg"
      },
      "source": [
        "# lis = ['검색하고자 하는 키워드 입력']\n",
        "lis = ['샤인머스켓']"
      ],
      "execution_count": null,
      "outputs": []
    },
    {
      "cell_type": "code",
      "metadata": {
        "colab": {
          "base_uri": "https://localhost:8080/",
          "height": 306,
          "referenced_widgets": [
            "07df72e4c57c4ebea509e51b1ffe946f",
            "d1fa0c500503465ea53a8f0fac9ddbcb",
            "5d074d75faed4104b4285dcc215cde56",
            "fac0d6b2b9d548c3b9368cbcecffb8bb",
            "d07b5f0b5b114d2b9f49207360dc81d0",
            "3391cb7f45e94295a2c98205022b3e37",
            "c995e549c8f744f69a1249ff6c6f35cf",
            "d5b8e54588724607914d63a3887272b4",
            "07e5afddda67451a8cf77c83f2859590",
            "6d74db2b35894187bae950f319d35aad",
            "66a7273948db44e1b678b7ba0f92b64b"
          ]
        },
        "id": "NT4_mBoHH_il",
        "outputId": "4f179c0f-3011-48cd-e830-ceb15e84ee50"
      },
      "source": [
        "error=[]\n",
        "for i in tqdm(lis):  \n",
        "    sleep(1)\n",
        "    try:\n",
        "        if type(search_keyword(i)) !=str : \n",
        "            searchword = i.replace(\" \",\"\")\n",
        "            a = search_keyword(searchword)\n",
        "            \n",
        "\n",
        "\n",
        "            url = \"https://openapi.naver.com/v1/datalab/search\"\n",
        "            body = \"{\\\"startDate\\\":\\\"\"+time_month+\"\\\",\\\"endDate\\\":\\\"\"+today+\"\\\",\\\"timeUnit\\\":\\\"date\\\",\\\"keywordGroups\\\":[{\\\"groupName\\\":\\\"\"+i+\"\\\",\\\"keywords\\\":[\\\"\"+i+\"\\\"]}]}\";\n",
        "            requested = urllib.request.Request(url)\n",
        "            requested.add_header(\"X-Naver-Client-Id\", client_id)\n",
        "            requested.add_header(\"X-Naver-Client-Secret\", client_secret)\n",
        "            requested.add_header(\"Content-Type\", \"application/json\")\n",
        "            response = urllib.request.urlopen(requested, data=body.encode(\"utf-8\"))\n",
        "            rescode = response.getcode()\n",
        "\n",
        "            if(rescode==200):\n",
        "                response_body = response.read()\n",
        "                output_data = response_body.decode('utf-8')\n",
        "            else:\n",
        "                print('Error code:'+ rescode)\n",
        "                pass\n",
        "\n",
        "            result = json.loads(output_data)\n",
        "\n",
        "\n",
        "            date = [a['period'] for a in result['results'][0]['data']]\n",
        "            \n",
        "\n",
        "\n",
        "            aa = pd.DataFrame({'date':date, \n",
        "                          i:[a['ratio'] for a in result['results'][0]['data']],\n",
        "                          })\n",
        "            \n",
        "            print(aa)\n",
        "\n",
        "            # 일일 데이터 계산 \n",
        "\n",
        "\n",
        "            sleep(0.5)\n",
        "            total = aa[i].sum()\n",
        "\n",
        "\n",
        "            aa[i] = aa[i].apply(lambda x :((x / total)*float(a)))\n",
        "\n",
        "        else : \n",
        "            pass\n",
        "\n",
        "    except (TypeError, IndexError,KeyError,ValueError):\n",
        "        print(\" 타입 or 인덱스 에러,Value 에러:\",i)\n",
        "        error.append(i)\n",
        "        pass\n",
        "\n",
        "\n",
        "    except HTTPError:\n",
        "        print('http 에러:', i )\n",
        "        error.append(i)\n",
        "        pass\n",
        "\n",
        "        #여기부터 새로코딩함 \n",
        "    try: \n",
        "        if type(search_keyword(i)) !=str : \n",
        "            searchword = i.replace(\" \",\"\")\n",
        "            a = search_keyword(searchword)        \n",
        "\n",
        "            dt_index = pd.date_range(start=time_month, end= yesterday)\n",
        "            dt_list = dt_index.strftime(\"%Y-%m-%d\").tolist()\n",
        "\n",
        "            date = pd.DataFrame(data=dt_list, columns=['날짜'])\n",
        "\n",
        "            spred = pd.merge(date,aa,left_on='날짜',right_on='date',how='outer')\n",
        "            spred.drop(['date'],inplace=True, axis=1)\n",
        "\n",
        "            spred.replace(np.nan,0,inplace=True)\n",
        "\n",
        "\n",
        "            a=[] \n",
        "\n",
        "            for j in range(len(spred)) : \n",
        "                a.append(today)\n",
        "\n",
        "\n",
        "            spred['수집날짜'] = a\n",
        "\n",
        "            spred = spred[['날짜','수집날짜',i]]\n",
        "\n",
        "            if i in dictionary_yester:\n",
        "\n",
        "                pass\n",
        "\n",
        "            else : \n",
        "                dictionary_yester[i]=[]\n",
        "\n",
        "\n",
        "\n",
        "            dictionary_now[i]=spred\n",
        "\n",
        "        else:\n",
        "            pass\n",
        "\n",
        "    except (TypeError, IndexError,KeyError,ValueError):\n",
        "\n",
        "        pass\n",
        "\n",
        "    sleep(0.5)\n",
        "    try :\n",
        "        if type(search_keyword(i)) !=str : \n",
        "            searchword = i.replace(\" \",\"\")\n",
        "            a = search_keyword(searchword)        \n",
        "\n",
        "            if dictionary_yester[i]==[]:\n",
        "                dictionary_yester[i] = dictionary_now[i]\n",
        "               # for k in range(3):\n",
        "                #    sleep(1)\n",
        "                 #   gc2.append_row(dictionary_now[i].iloc[-1-k,:].values.tolist()+[i])\n",
        "\n",
        "\n",
        "            else : \n",
        "                pass \n",
        "        else:\n",
        "            pass\n",
        "\n",
        "\n",
        "    except (TypeError, IndexError,KeyError):\n",
        "          pass\n",
        "\n",
        "\n",
        "    except ValueError:\n",
        "\n",
        "\n",
        "            yester_df= dictionary_yester[i]\n",
        "            today_df = dictionary_now[i]\n",
        "\n",
        "\n",
        "            yester_df.set_index('날짜',inplace=True)\n",
        "\n",
        "            today_df.set_index('날짜',inplace=True)\n",
        "\n",
        "            yester_df.update(today_df)\n",
        "\n",
        "\n",
        "            tmpt = today_df.iloc[-1,:]\n",
        "\n",
        "            yester_df = yester_df.append(tmpt)\n",
        "\n",
        "            yester_df.reset_index(inplace=True)\n",
        "            today_df.reset_index(inplace=True)\n",
        "\n",
        "            #dictionary_yester[i] = yester_df\n",
        "\n",
        "        ## 구글 API로 데이터 올리기\n",
        "            # 2주간의 데이터만 구글 스프레드 시트에 올리겠다.\n",
        "\n",
        "          #  for k in range(3):\n",
        "           #     sleep(1)\n",
        "            #    gc2.append_row(yester_df.iloc[-1-k,:].values.tolist()+[i])\n",
        "\n",
        "\n",
        "\n",
        "\n",
        "            dictionary_yester[i] = yester_df\n",
        "\n",
        "\n",
        "    except :\n",
        "        print('API 에러',i)\n",
        "        error.append(i)\n",
        "\n",
        "\n",
        "\n",
        "    sleep(3)"
      ],
      "execution_count": null,
      "outputs": [
        {
          "output_type": "display_data",
          "data": {
            "application/vnd.jupyter.widget-view+json": {
              "model_id": "07df72e4c57c4ebea509e51b1ffe946f",
              "version_minor": 0,
              "version_major": 2
            },
            "text/plain": [
              "  0%|          | 0/1 [00:00<?, ?it/s]"
            ]
          },
          "metadata": {}
        },
        {
          "output_type": "stream",
          "name": "stdout",
          "text": [
            "          date     샤인머스켓\n",
            "0   2021-09-02  52.59515\n",
            "1   2021-09-03  50.51903\n",
            "2   2021-09-04  46.17765\n",
            "3   2021-09-05  47.53809\n",
            "4   2021-09-06  57.15360\n",
            "..         ...       ...\n",
            "86  2021-11-27   7.12029\n",
            "87  2021-11-28   7.39538\n",
            "88  2021-11-29   6.81510\n",
            "89  2021-11-30   7.29867\n",
            "90  2021-12-01   6.58084\n",
            "\n",
            "[91 rows x 2 columns]\n"
          ]
        }
      ]
    },
    {
      "cell_type": "code",
      "metadata": {
        "colab": {
          "base_uri": "https://localhost:8080/",
          "height": 424
        },
        "id": "jCiT_bAnH_ZX",
        "outputId": "ba9a7947-e28f-496c-bb60-5fc89bae7c21"
      },
      "source": [
        "dictionary_now['샤인머스켓']"
      ],
      "execution_count": null,
      "outputs": [
        {
          "output_type": "execute_result",
          "data": {
            "text/html": [
              "<div>\n",
              "<style scoped>\n",
              "    .dataframe tbody tr th:only-of-type {\n",
              "        vertical-align: middle;\n",
              "    }\n",
              "\n",
              "    .dataframe tbody tr th {\n",
              "        vertical-align: top;\n",
              "    }\n",
              "\n",
              "    .dataframe thead th {\n",
              "        text-align: right;\n",
              "    }\n",
              "</style>\n",
              "<table border=\"1\" class=\"dataframe\">\n",
              "  <thead>\n",
              "    <tr style=\"text-align: right;\">\n",
              "      <th></th>\n",
              "      <th>날짜</th>\n",
              "      <th>수집날짜</th>\n",
              "      <th>샤인머스켓</th>\n",
              "    </tr>\n",
              "  </thead>\n",
              "  <tbody>\n",
              "    <tr>\n",
              "      <th>0</th>\n",
              "      <td>2021-09-02</td>\n",
              "      <td>2021-12-02</td>\n",
              "      <td>2759.153355</td>\n",
              "    </tr>\n",
              "    <tr>\n",
              "      <th>1</th>\n",
              "      <td>2021-09-03</td>\n",
              "      <td>2021-12-02</td>\n",
              "      <td>2650.239635</td>\n",
              "    </tr>\n",
              "    <tr>\n",
              "      <th>2</th>\n",
              "      <td>2021-09-04</td>\n",
              "      <td>2021-12-02</td>\n",
              "      <td>2422.489867</td>\n",
              "    </tr>\n",
              "    <tr>\n",
              "      <th>3</th>\n",
              "      <td>2021-09-05</td>\n",
              "      <td>2021-12-02</td>\n",
              "      <td>2493.858854</td>\n",
              "    </tr>\n",
              "    <tr>\n",
              "      <th>4</th>\n",
              "      <td>2021-09-06</td>\n",
              "      <td>2021-12-02</td>\n",
              "      <td>2998.290664</td>\n",
              "    </tr>\n",
              "    <tr>\n",
              "      <th>...</th>\n",
              "      <td>...</td>\n",
              "      <td>...</td>\n",
              "      <td>...</td>\n",
              "    </tr>\n",
              "    <tr>\n",
              "      <th>86</th>\n",
              "      <td>2021-11-27</td>\n",
              "      <td>2021-12-02</td>\n",
              "      <td>373.532009</td>\n",
              "    </tr>\n",
              "    <tr>\n",
              "      <th>87</th>\n",
              "      <td>2021-11-28</td>\n",
              "      <td>2021-12-02</td>\n",
              "      <td>387.963292</td>\n",
              "    </tr>\n",
              "    <tr>\n",
              "      <th>88</th>\n",
              "      <td>2021-11-29</td>\n",
              "      <td>2021-12-02</td>\n",
              "      <td>357.521673</td>\n",
              "    </tr>\n",
              "    <tr>\n",
              "      <th>89</th>\n",
              "      <td>2021-11-30</td>\n",
              "      <td>2021-12-02</td>\n",
              "      <td>382.889864</td>\n",
              "    </tr>\n",
              "    <tr>\n",
              "      <th>90</th>\n",
              "      <td>2021-12-01</td>\n",
              "      <td>2021-12-02</td>\n",
              "      <td>345.232341</td>\n",
              "    </tr>\n",
              "  </tbody>\n",
              "</table>\n",
              "<p>91 rows × 3 columns</p>\n",
              "</div>"
            ],
            "text/plain": [
              "            날짜        수집날짜        샤인머스켓\n",
              "0   2021-09-02  2021-12-02  2759.153355\n",
              "1   2021-09-03  2021-12-02  2650.239635\n",
              "2   2021-09-04  2021-12-02  2422.489867\n",
              "3   2021-09-05  2021-12-02  2493.858854\n",
              "4   2021-09-06  2021-12-02  2998.290664\n",
              "..         ...         ...          ...\n",
              "86  2021-11-27  2021-12-02   373.532009\n",
              "87  2021-11-28  2021-12-02   387.963292\n",
              "88  2021-11-29  2021-12-02   357.521673\n",
              "89  2021-11-30  2021-12-02   382.889864\n",
              "90  2021-12-01  2021-12-02   345.232341\n",
              "\n",
              "[91 rows x 3 columns]"
            ]
          },
          "metadata": {},
          "execution_count": 31
        }
      ]
    },
    {
      "cell_type": "markdown",
      "metadata": {
        "id": "y4QVyHzeH_VF"
      },
      "source": [
        "10월 샤인머스켓 검색 수: 374100 (검색광고 api)"
      ]
    },
    {
      "cell_type": "markdown",
      "metadata": {
        "id": "TRqYH4scT1YE"
      },
      "source": [
        "11월 샤인머스켓 검색 수 : 157400"
      ]
    },
    {
      "cell_type": "code",
      "metadata": {
        "colab": {
          "base_uri": "https://localhost:8080/"
        },
        "id": "g-21GuHBH_Rl",
        "outputId": "fd7963f0-92a4-45d3-c303-3f97fd07bd7f"
      },
      "source": [
        "dictionary_now['샤인머스켓'].iloc[29:60,2].sum()"
      ],
      "execution_count": null,
      "outputs": [
        {
          "output_type": "execute_result",
          "data": {
            "text/plain": [
              "40191.83516532045"
            ]
          },
          "metadata": {},
          "execution_count": 38
        }
      ]
    },
    {
      "cell_type": "code",
      "metadata": {
        "id": "kRFM4yvdgPb2"
      },
      "source": [
        ""
      ],
      "execution_count": null,
      "outputs": []
    },
    {
      "cell_type": "code",
      "metadata": {
        "id": "FprAiWN8H_IM"
      },
      "source": [
        ""
      ],
      "execution_count": null,
      "outputs": []
    },
    {
      "cell_type": "code",
      "metadata": {
        "id": "3tXi4hqnH_Cd"
      },
      "source": [
        ""
      ],
      "execution_count": null,
      "outputs": []
    },
    {
      "cell_type": "code",
      "metadata": {
        "id": "AxB6wSZXH-6m"
      },
      "source": [
        ""
      ],
      "execution_count": null,
      "outputs": []
    },
    {
      "cell_type": "code",
      "metadata": {
        "id": "fxjoIvBuH-yQ"
      },
      "source": [
        ""
      ],
      "execution_count": null,
      "outputs": []
    },
    {
      "cell_type": "code",
      "metadata": {
        "id": "akI2lnTGH-pt"
      },
      "source": [
        ""
      ],
      "execution_count": null,
      "outputs": []
    },
    {
      "cell_type": "code",
      "metadata": {
        "id": "2vBbgS9mH-fd"
      },
      "source": [
        ""
      ],
      "execution_count": null,
      "outputs": []
    },
    {
      "cell_type": "code",
      "metadata": {
        "id": "9ugg_9YWELRm"
      },
      "source": [
        "import hashlib\n",
        "import hmac\n",
        "import base64\n",
        "\n",
        "\n",
        "class Signature:\n",
        "\n",
        "    @staticmethod\n",
        "    def generate(timestamp, method, uri, secret_key):\n",
        "        message = \"{}.{}.{}\".format(timestamp, method, uri)\n",
        "        hash = hmac.new(bytes(secret_key, \"utf-8\"), bytes(message, \"utf-8\"), hashlib.sha256)\n",
        "\n",
        "        hash.hexdigest()\n",
        "        return base64.b64encode(hash.digest())"
      ],
      "execution_count": null,
      "outputs": []
    },
    {
      "cell_type": "code",
      "metadata": {
        "id": "bWqo9PmIELP0"
      },
      "source": [
        "def get_header(method, uri, api_key, secret_key, customer_id):\n",
        "    timestamp = str(round(time.time() * 1000))\n",
        "    signature = Signature.generate(timestamp, method, uri, SECRET_KEY)\n",
        "    return {'Content-Type': 'application/json; charset=UTF-8', \n",
        "            'X-Timestamp': timestamp, 'X-API-KEY': API_KEY, \n",
        "            'X-Customer': str(CUSTOMER_ID), 'X-Signature': signature}\n",
        "\n",
        "\n",
        "BASE_URL = 'https://api.naver.com'\n",
        "API_KEY = '01000000007e740dbaf83df67c57d9d445873cc61b9ccc21f71e4cd122d4efb22e324d8b8e'\n",
        "SECRET_KEY = 'AQAAAAB+dA26+D32fFfZ1EWHPMYb9a64L3GhRJeg3IheWHUh3w=='\n",
        "CUSTOMER_ID = '2418619'"
      ],
      "execution_count": null,
      "outputs": []
    },
    {
      "cell_type": "code",
      "metadata": {
        "colab": {
          "base_uri": "https://localhost:8080/"
        },
        "id": "_XAFckZAELOG",
        "outputId": "b8e989ab-72d5-4560-86fa-ced6d19feaa8"
      },
      "source": [
        "uri = '/keywordstool'\n",
        "method = 'GET'\n",
        "r = requests.get(BASE_URL + uri+'?hintKeywords={}&showDetail=1'.format(input('연관키워드를 조회할 키워드를 입력하세요\\n')),\n",
        "                 headers=get_header(method, uri, API_KEY, SECRET_KEY, CUSTOMER_ID))"
      ],
      "execution_count": null,
      "outputs": [
        {
          "name": "stdout",
          "output_type": "stream",
          "text": [
            "연관키워드를 조회할 키워드를 입력하세요\n",
            "샤인머스켓\n"
          ]
        }
      ]
    },
    {
      "cell_type": "code",
      "metadata": {
        "colab": {
          "base_uri": "https://localhost:8080/"
        },
        "id": "-s9cG5KMELMM",
        "outputId": "bc73924b-2a59-4194-f022-12e91f78e797"
      },
      "source": [
        "r.json()['keywordList'][0]"
      ],
      "execution_count": null,
      "outputs": [
        {
          "output_type": "execute_result",
          "data": {
            "text/plain": [
              "{'compIdx': '높음',\n",
              " 'monthlyAveMobileClkCnt': 1601.5,\n",
              " 'monthlyAveMobileCtr': 1.15,\n",
              " 'monthlyAvePcClkCnt': 37.7,\n",
              " 'monthlyAvePcCtr': 0.23,\n",
              " 'monthlyMobileQcCnt': 139900,\n",
              " 'monthlyPcQcCnt': 17500,\n",
              " 'plAvgDepth': 15,\n",
              " 'relKeyword': '샤인머스켓'}"
            ]
          },
          "metadata": {},
          "execution_count": 23
        }
      ]
    },
    {
      "cell_type": "code",
      "metadata": {
        "colab": {
          "base_uri": "https://localhost:8080/",
          "height": 206
        },
        "id": "aXMY5uhaELKn",
        "outputId": "d8ced2e0-9727-45ca-f0f1-f1cea6320dbf"
      },
      "source": [
        "df=pd.DataFrame(r.json()['keywordList'])\n",
        "\n",
        "df.rename({'compIdx':'경쟁정도',\n",
        "           'monthlyAveMobileClkCnt':'월평균클릭수_모바일',\n",
        "           'monthlyAveMobileCtr':'월평균클릭률_모바일',\n",
        "           'monthlyAvePcClkCnt':'월평균클릭수_PC',\n",
        "           'monthlyAvePcCtr':'월평균클릭률_PC', \n",
        "           'monthlyMobileQcCnt':'월간검색수_모바일',\n",
        "           'monthlyPcQcCnt': '월간검색수_PC',\n",
        "           'plAvgDepth':'월평균노출광고수', \n",
        "           'relKeyword':'연관키워드'},axis=1,inplace=True)\n",
        "df.head()"
      ],
      "execution_count": null,
      "outputs": [
        {
          "output_type": "execute_result",
          "data": {
            "text/html": [
              "<div>\n",
              "<style scoped>\n",
              "    .dataframe tbody tr th:only-of-type {\n",
              "        vertical-align: middle;\n",
              "    }\n",
              "\n",
              "    .dataframe tbody tr th {\n",
              "        vertical-align: top;\n",
              "    }\n",
              "\n",
              "    .dataframe thead th {\n",
              "        text-align: right;\n",
              "    }\n",
              "</style>\n",
              "<table border=\"1\" class=\"dataframe\">\n",
              "  <thead>\n",
              "    <tr style=\"text-align: right;\">\n",
              "      <th></th>\n",
              "      <th>연관키워드</th>\n",
              "      <th>월간검색수_PC</th>\n",
              "      <th>월간검색수_모바일</th>\n",
              "      <th>월평균클릭수_PC</th>\n",
              "      <th>월평균클릭수_모바일</th>\n",
              "      <th>월평균클릭률_PC</th>\n",
              "      <th>월평균클릭률_모바일</th>\n",
              "      <th>월평균노출광고수</th>\n",
              "      <th>경쟁정도</th>\n",
              "    </tr>\n",
              "  </thead>\n",
              "  <tbody>\n",
              "    <tr>\n",
              "      <th>0</th>\n",
              "      <td>샤인머스켓</td>\n",
              "      <td>17500</td>\n",
              "      <td>139900</td>\n",
              "      <td>37.7</td>\n",
              "      <td>1601.5</td>\n",
              "      <td>0.23</td>\n",
              "      <td>1.15</td>\n",
              "      <td>15</td>\n",
              "      <td>높음</td>\n",
              "    </tr>\n",
              "    <tr>\n",
              "      <th>1</th>\n",
              "      <td>OKF</td>\n",
              "      <td>830</td>\n",
              "      <td>2490</td>\n",
              "      <td>0.9</td>\n",
              "      <td>11.3</td>\n",
              "      <td>0.13</td>\n",
              "      <td>0.49</td>\n",
              "      <td>8</td>\n",
              "      <td>중간</td>\n",
              "    </tr>\n",
              "    <tr>\n",
              "      <th>2</th>\n",
              "      <td>샤인머스켓묘목</td>\n",
              "      <td>760</td>\n",
              "      <td>5210</td>\n",
              "      <td>27.8</td>\n",
              "      <td>252.4</td>\n",
              "      <td>3.87</td>\n",
              "      <td>5.08</td>\n",
              "      <td>15</td>\n",
              "      <td>높음</td>\n",
              "    </tr>\n",
              "    <tr>\n",
              "      <th>3</th>\n",
              "      <td>복숭아</td>\n",
              "      <td>4270</td>\n",
              "      <td>21300</td>\n",
              "      <td>9.7</td>\n",
              "      <td>222.7</td>\n",
              "      <td>0.25</td>\n",
              "      <td>1.12</td>\n",
              "      <td>15</td>\n",
              "      <td>높음</td>\n",
              "    </tr>\n",
              "    <tr>\n",
              "      <th>4</th>\n",
              "      <td>샤인머스캣</td>\n",
              "      <td>3240</td>\n",
              "      <td>9750</td>\n",
              "      <td>5.4</td>\n",
              "      <td>105.3</td>\n",
              "      <td>0.18</td>\n",
              "      <td>1.09</td>\n",
              "      <td>15</td>\n",
              "      <td>높음</td>\n",
              "    </tr>\n",
              "  </tbody>\n",
              "</table>\n",
              "</div>"
            ],
            "text/plain": [
              "     연관키워드 월간검색수_PC 월간검색수_모바일  월평균클릭수_PC  ...  월평균클릭률_PC  월평균클릭률_모바일  월평균노출광고수  경쟁정도\n",
              "0    샤인머스켓    17500    139900       37.7  ...       0.23        1.15        15    높음\n",
              "1      OKF      830      2490        0.9  ...       0.13        0.49         8    중간\n",
              "2  샤인머스켓묘목      760      5210       27.8  ...       3.87        5.08        15    높음\n",
              "3      복숭아     4270     21300        9.7  ...       0.25        1.12        15    높음\n",
              "4    샤인머스캣     3240      9750        5.4  ...       0.18        1.09        15    높음\n",
              "\n",
              "[5 rows x 9 columns]"
            ]
          },
          "metadata": {},
          "execution_count": 26
        }
      ]
    },
    {
      "cell_type": "code",
      "metadata": {
        "id": "8H2_JorQELIp"
      },
      "source": [
        ""
      ],
      "execution_count": null,
      "outputs": []
    },
    {
      "cell_type": "code",
      "metadata": {
        "id": "LfapXojqELGb"
      },
      "source": [
        ""
      ],
      "execution_count": null,
      "outputs": []
    },
    {
      "cell_type": "code",
      "metadata": {
        "id": "dbYK4LdHELD-"
      },
      "source": [
        ""
      ],
      "execution_count": null,
      "outputs": []
    },
    {
      "cell_type": "code",
      "metadata": {
        "id": "rdlkK6WaELB4"
      },
      "source": [
        ""
      ],
      "execution_count": null,
      "outputs": []
    },
    {
      "cell_type": "code",
      "metadata": {
        "id": "6Gci61H1EK12"
      },
      "source": [
        ""
      ],
      "execution_count": null,
      "outputs": []
    },
    {
      "cell_type": "code",
      "metadata": {
        "id": "vpBswiSnEJY2"
      },
      "source": [
        ""
      ],
      "execution_count": null,
      "outputs": []
    }
  ]
}