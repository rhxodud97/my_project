{
 "cells": [
  {
   "cell_type": "code",
   "execution_count": 1,
   "metadata": {},
   "outputs": [],
   "source": [
    "# -*- coding: <encoding-name> -*-"
   ]
  },
  {
   "cell_type": "markdown",
   "metadata": {},
   "source": [
    "# 데이터 전처리"
   ]
  },
  {
   "cell_type": "markdown",
   "metadata": {},
   "source": [
    "## import 및 데이터 불러오기"
   ]
  },
  {
   "cell_type": "code",
   "execution_count": 2,
   "metadata": {},
   "outputs": [],
   "source": [
    "from geoband.API import *\n",
    "\n",
    "import pandas as pd\n",
    "import numpy as np\n",
    "import matplotlib.pyplot as plt\n",
    "import folium\n",
    "import json\n",
    "import geopandas as gpd\n",
    "from shapely.geometry import Point, Polygon, LineString\n",
    "\n",
    "import pydeck as pdk\n",
    "import shapefile\n",
    "import os"
   ]
  },
  {
   "cell_type": "code",
   "execution_count": 3,
   "metadata": {},
   "outputs": [],
   "source": [
    "GetCompasData('SBJ_2012_001', '1', '1.오산시_주정차단속(2018~2020).csv')\n",
    "GetCompasData('SBJ_2012_001', '2', '2.오산시_어린이교통사고_격자.geojson')\n",
    "GetCompasData('SBJ_2012_001', '3', '3.오산시_차량등록현황_격자.geojson')\n",
    "GetCompasData('SBJ_2012_001', '4', '4.오산시_연령별_거주인구격자(총인구).geojson')\n",
    "GetCompasData('SBJ_2012_001', '5', '5.오산시_연령별_거주인구격자(유소년).geojson')\n",
    "GetCompasData('SBJ_2012_001', '6', '6.오산시_연령별_거주인구격자(생산가능인구).geojson')\n",
    "GetCompasData('SBJ_2012_001', '7', '7.오산시_연령별_거주인구격자(고령).geojson')\n",
    "GetCompasData('SBJ_2012_001', '8', '8.오산시_유동인구(2019).csv')\n",
    "GetCompasData('SBJ_2012_001', '9', '9.오산시_어린이보호구역.csv')\n",
    "GetCompasData('SBJ_2012_001', '10', '10.오산시_학교위치정보.csv')\n",
    "GetCompasData('SBJ_2012_001', '11', '11.오산시_초등학교_통학구.geojson')\n",
    "GetCompasData('SBJ_2012_001', '12', '12.오산시_중학교_학군.geojson')\n",
    "GetCompasData('SBJ_2012_001', '13', '13.오산시_어린이집_유치원현황.csv')\n",
    "GetCompasData('SBJ_2012_001', '14', '14.오산시_기상데이터(2010~2019).csv')\n",
    "GetCompasData('SBJ_2012_001', '15', '15.오산시_무인교통단속카메라.csv')\n",
    "GetCompasData('SBJ_2012_001', '16', '16.오산시_도로안전표지표준데이터.csv')\n",
    "GetCompasData('SBJ_2012_001', '17', '17.오산시_횡단보도.geojson')\n",
    "GetCompasData('SBJ_2012_001', '18', '18.오산시_과속방지턱표준데이터.csv')\n",
    "GetCompasData('SBJ_2012_001', '19', '19.오산시_신호등.geojson')\n",
    "GetCompasData('SBJ_2012_001', '20', '20.오산시_CCTV설치현황.csv')\n",
    "GetCompasData('SBJ_2012_001', '21', '21.오산시_인도.geojson')\n",
    "GetCompasData('SBJ_2012_001', '22', '22.오산시_버스정류장.csv')\n",
    "GetCompasData('SBJ_2012_001', '23', '23.오산시_상세도로망_LV6.geojson')\n",
    "GetCompasData('SBJ_2012_001', '24', '24.평일_전일,시간대별_오산시_추정교통량_Level6.csv')\n",
    "GetCompasData('SBJ_2012_001', '25', '25.평일_전일_오산시_혼잡빈도강도_Level6.csv')\n",
    "GetCompasData('SBJ_2012_001', '26', '26.평일_전일_오산시_혼잡시간강도_Level6.csv')\n",
    "GetCompasData('SBJ_2012_001', '27', '27.오산시_도로명주소_건물.geojson')\n",
    "GetCompasData('SBJ_2012_001', '28', '28.오산시_건물연면적_격자.geojson')\n",
    "GetCompasData('SBJ_2012_001', '29', '29.오산시_체육시설현황.csv')\n",
    "GetCompasData('SBJ_2012_001', '30', '30.오산시_학원_및_교습소_현황.csv')\n",
    "GetCompasData('SBJ_2012_001', '31', '31.오산시_법정경계(시군구).geojson')\n",
    "GetCompasData('SBJ_2012_001', '32', '32.오산시_행정경계(읍면동).geojson')\n",
    "GetCompasData('SBJ_2012_001', '33', '33.오산시_법정경계(읍면동).geojson')\n",
    "GetCompasData('SBJ_2012_001', '34', '34.오산시_지적도.geojson')\n",
    "GetCompasData('SBJ_2012_001', '35', '35.코드정의서.xlsx')"
   ]
  },
  {
   "cell_type": "code",
   "execution_count": 4,
   "metadata": {},
   "outputs": [
    {
     "name": "stderr",
     "output_type": "stream",
     "text": [
      "/opt/app-root/lib/python3.6/site-packages/IPython/core/interactiveshell.py:3072: DtypeWarning: Columns (7) have mixed types.Specify dtype option on import or set low_memory=False.\n",
      "  interactivity=interactivity, compiler=compiler, result=result)\n"
     ]
    }
   ],
   "source": [
    "data1 = pd.read_csv('1.오산시_주정차단속(2018~2020).csv')\n",
    "data2 = gpd.read_file('2.오산시_어린이교통사고_격자.geojson')\n",
    "data3 = gpd.read_file('3.오산시_차량등록현황_격자.geojson')\n",
    "data4 = gpd.read_file('4.오산시_연령별_거주인구격자(총인구).geojson')\n",
    "data5 = gpd.read_file('5.오산시_연령별_거주인구격자(유소년).geojson')\n",
    "data6 = gpd.read_file('6.오산시_연령별_거주인구격자(생산가능인구).geojson')\n",
    "data7 = gpd.read_file('7.오산시_연령별_거주인구격자(고령).geojson')\n",
    "data8 = pd.read_csv('8.오산시_유동인구(2019).csv')\n",
    "data9 = pd.read_csv('9.오산시_어린이보호구역.csv')\n",
    "data10 = pd.read_csv('10.오산시_학교위치정보.csv')\n",
    "data11 = gpd.read_file('11.오산시_초등학교_통학구.geojson')\n",
    "data12 = gpd.read_file('12.오산시_중학교_학군.geojson')\n",
    "data13 = pd.read_csv('13.오산시_어린이집_유치원현황.csv')\n",
    "data14 = pd.read_csv('14.오산시_기상데이터(2010~2019).csv')\n",
    "data15 = pd.read_csv('15.오산시_무인교통단속카메라.csv')\n",
    "data16 = pd.read_csv('16.오산시_도로안전표지표준데이터.csv')\n",
    "data17 = gpd.read_file('17.오산시_횡단보도.geojson')\n",
    "data18 = pd.read_csv('18.오산시_과속방지턱표준데이터.csv')\n",
    "data19 = gpd.read_file('19.오산시_신호등.geojson')\n",
    "data20 = pd.read_csv('20.오산시_CCTV설치현황.csv')\n",
    "data21 = gpd.read_file('21.오산시_인도.geojson')\n",
    "data22 = pd.read_csv('22.오산시_버스정류장.csv')\n",
    "data23 = gpd.read_file('23.오산시_상세도로망_LV6.geojson')\n",
    "data24 = pd.read_csv('24.평일_전일,시간대별_오산시_추정교통량_Level6.csv')\n",
    "data25 = pd.read_csv('25.평일_전일_오산시_혼잡빈도강도_Level6.csv')\n",
    "data26 = pd.read_csv('26.평일_전일_오산시_혼잡시간강도_Level6.csv')\n",
    "data27 = gpd.read_file('27.오산시_도로명주소_건물.geojson')\n",
    "data28 = gpd.read_file('28.오산시_건물연면적_격자.geojson')\n",
    "data29 = pd.read_csv('29.오산시_체육시설현황.csv')\n",
    "data30 = pd.read_csv('30.오산시_학원_및_교습소_현황.csv')\n",
    "data31 = gpd.read_file('31.오산시_법정경계(시군구).geojson')\n",
    "data32 = gpd.read_file('32.오산시_행정경계(읍면동).geojson')\n",
    "data33 = gpd.read_file('33.오산시_법정경계(읍면동).geojson')\n",
    "data34 = gpd.read_file('34.오산시_지적도.geojson')\n",
    "data35 = pd.read_excel('35.코드정의서.xlsx')"
   ]
  },
  {
   "cell_type": "markdown",
   "metadata": {},
   "source": [
    "## 전처리"
   ]
  },
  {
   "cell_type": "code",
   "execution_count": 5,
   "metadata": {},
   "outputs": [],
   "source": [
    "# 전처리 게요\n",
    "# 1. 격자(4510개)를 기준으로 변수 생성 및 데이터 병합\n",
    "# 2. 생성하고자하는 변수를 ['gid', 생성할 변수]의 두 열의 데이터프레임으로 각각 저장\n",
    "# 3. merge(on='gid', how='left') 방식으로 기준데이터와 2번 과정에서 만든 변수 데이터프레임 모두를 병합"
   ]
  },
  {
   "cell_type": "markdown",
   "metadata": {},
   "source": [
    "### 새롭게 정의할 변수: 사고횟수_가중치"
   ]
  },
  {
   "cell_type": "code",
   "execution_count": 6,
   "metadata": {},
   "outputs": [],
   "source": [
    "# 4510개의 격자별로 사고횟수_가중치를 측정\n",
    "\n",
    "df1 = data2.copy()       # df1은 해당 격자의 중심점에서 40 / 120 / 200m 반경으로 위치 정보 바꾼 데이터\n",
    "temp1 = data2.copy()     # 4510개의 격자별로 사고횟수_가중치를 측정할 데이터\n",
    "\n",
    "acc100 = []\n",
    "acc300 = []\n",
    "acc500 = []\n",
    "\n",
    "# acc100은 '해당 격자의 중심점에서 그린 40m 반경'이(해당 격자만 포함됨) 포함하는 격자에 '반경을 그린 격자의 사고횟수' 를 할당\n",
    "# acc300은 '해당 격자의 중심점에서 그린 1200m 반경'이(해당 격자 주변 1칸 포함) 포함하는 격자에 '반경을 그린 격자의 사고횟수' 를 할당\n",
    "# acc500은 '해당 격자의 중심점에서 그린 2000m 반경'이(해당 격자 주변 2칸 포함) 포함하는 격자에 '반경을 그린 격자의 사고횟수' 를 할당"
   ]
  },
  {
   "cell_type": "code",
   "execution_count": 7,
   "metadata": {
    "scrolled": true
   },
   "outputs": [
    {
     "name": "stderr",
     "output_type": "stream",
     "text": [
      "/opt/app-root/lib/python3.6/site-packages/ipykernel_launcher.py:3: UserWarning: Geometry is in a geographic CRS. Results from 'centroid' are likely incorrect. Use 'GeoSeries.to_crs()' to re-project geometries to a projected CRS before this operation.\n",
      "\n",
      "  This is separate from the ipykernel package so we can avoid doing imports until\n",
      "/opt/app-root/lib/python3.6/site-packages/ipykernel_launcher.py:3: UserWarning: Geometry is in a geographic CRS. Results from 'buffer' are likely incorrect. Use 'GeoSeries.to_crs()' to re-project geometries to a projected CRS before this operation.\n",
      "\n",
      "  This is separate from the ipykernel package so we can avoid doing imports until\n"
     ]
    }
   ],
   "source": [
    "# acc100 만들기\n",
    "\n",
    "df1.geometry = df1.geometry.centroid.buffer(0.0004)\n",
    "\n",
    "for i in range(len(temp1)):\n",
    "    temp = sum(df1.loc[np.where(df1.geometry.intersects(temp1.geometry[i])==True)[0], 'accident_cnt']) #temp는 격자 기준으로 사고발생격자의\n",
    "    acc100.append(temp)                                                                                 # 40m buffer와 겹쳐지는 사고횟수의 합"
   ]
  },
  {
   "cell_type": "code",
   "execution_count": 8,
   "metadata": {},
   "outputs": [
    {
     "name": "stderr",
     "output_type": "stream",
     "text": [
      "/opt/app-root/lib/python3.6/site-packages/ipykernel_launcher.py:3: UserWarning: Geometry is in a geographic CRS. Results from 'centroid' are likely incorrect. Use 'GeoSeries.to_crs()' to re-project geometries to a projected CRS before this operation.\n",
      "\n",
      "  This is separate from the ipykernel package so we can avoid doing imports until\n",
      "/opt/app-root/lib/python3.6/site-packages/ipykernel_launcher.py:3: UserWarning: Geometry is in a geographic CRS. Results from 'buffer' are likely incorrect. Use 'GeoSeries.to_crs()' to re-project geometries to a projected CRS before this operation.\n",
      "\n",
      "  This is separate from the ipykernel package so we can avoid doing imports until\n"
     ]
    }
   ],
   "source": [
    "# acc300 만들기\n",
    "\n",
    "df1.geometry = df1.geometry.centroid.buffer(0.0012)\n",
    "\n",
    "for i in range(len(temp1)):\n",
    "    temp = sum(df1.loc[np.where(df1.geometry.intersects(temp1.geometry[i])==True)[0], 'accident_cnt']) #temp는 격자 기준으로 사고발생격자의\n",
    "    acc300.append(temp)                                                                                 # 120m buffer와 겹쳐지는 사고횟수의 합"
   ]
  },
  {
   "cell_type": "code",
   "execution_count": 9,
   "metadata": {},
   "outputs": [
    {
     "name": "stderr",
     "output_type": "stream",
     "text": [
      "/opt/app-root/lib/python3.6/site-packages/ipykernel_launcher.py:3: UserWarning: Geometry is in a geographic CRS. Results from 'centroid' are likely incorrect. Use 'GeoSeries.to_crs()' to re-project geometries to a projected CRS before this operation.\n",
      "\n",
      "  This is separate from the ipykernel package so we can avoid doing imports until\n",
      "/opt/app-root/lib/python3.6/site-packages/ipykernel_launcher.py:3: UserWarning: Geometry is in a geographic CRS. Results from 'buffer' are likely incorrect. Use 'GeoSeries.to_crs()' to re-project geometries to a projected CRS before this operation.\n",
      "\n",
      "  This is separate from the ipykernel package so we can avoid doing imports until\n"
     ]
    }
   ],
   "source": [
    "# acc500 만들기\n",
    "\n",
    "df1.geometry = df1.geometry.centroid.buffer(0.0020)\n",
    "\n",
    "for i in range(len(temp1)):\n",
    "    temp = sum(df1.loc[np.where(df1.geometry.intersects(temp1.geometry[i])==True)[0], 'accident_cnt']) #temp는 격자 기준으로 사고발생격자의\n",
    "    acc500.append(temp)                                                                                 # 200m buffer와 겹쳐지는 사고횟수의 합"
   ]
  },
  {
   "cell_type": "code",
   "execution_count": 10,
   "metadata": {},
   "outputs": [],
   "source": [
    "# acc_buf는 기준 데이터와 병합할 데이터\n",
    "\n",
    "temp1['사고횟수_가중치'] = (np.array(acc100)*0.5) + (np.array(acc300)*0.3) + (np.array(acc500)*0.2)\n",
    "\n",
    "acc_buf = temp1.loc[:, ['gid', '사고횟수_가중치']]\n",
    "\n",
    "# 사고횟수_가중치는 해당 격자의 중심점 반경 100m 안에 다른 격자가 포함될 경우 다른 격자에 대한 해당 격자의 사고 가중치-> 가중치 1\n",
    "#                                        100m ~ 300m 다른 격자가 포함될 경우 다른 격자에 대한 해당 격자의 사고 가중치-> 가중치 0.5\n",
    "#                                        300m ~ 500m 다른 격자가 포함될 경우 다른 격자에 대한 해당 격자의 사고 가중치-> 가중치 0.2"
   ]
  },
  {
   "cell_type": "markdown",
   "metadata": {},
   "source": [
    "### join 할 데이터: 9번 오산시_어린이보호구역"
   ]
  },
  {
   "cell_type": "code",
   "execution_count": 11,
   "metadata": {},
   "outputs": [
    {
     "name": "stderr",
     "output_type": "stream",
     "text": [
      "/opt/app-root/lib/python3.6/site-packages/pyproj/crs/crs.py:53: FutureWarning: '+init=<authority>:<code>' syntax is deprecated. '<authority>:<code>' is the preferred initialization method. When making the change, be mindful of axis order changes: https://pyproj4.github.io/pyproj/stable/gotchas.html#axis-order-changes-in-proj-6\n",
      "  return _prepare_from_string(\" \".join(pjargs))\n"
     ]
    }
   ],
   "source": [
    "# 어린이보호구역 좌표 반경 300m로 데이터 변환\n",
    "\n",
    "df1 = data9.copy()\n",
    "\n",
    "df1 = df1[['시설종류','시설명','보호구역_경도','보호구역_위도']]\n",
    "df1.보호구역_경도 = df1.보호구역_경도.astype(float)\n",
    "df1.보호구역_위도 = df1.보호구역_위도.astype(float)\n",
    "df1['geometry'] = df1.apply(lambda row : Point([row['보호구역_경도'], row['보호구역_위도']]), axis=1)   # df1에 geometry 열을 만들어 위경도를 point 객체로 저장\n",
    "df1 = gpd.GeoDataFrame(df1, geometry='geometry')                                                         # df1을 geodataframe 타입으로 저장\n",
    "df1.geometry = df1.geometry.buffer(0.003)                                                                # df1 geometry열에 point 대신 300m 반경 poligon객체로 바꿈\n",
    "df1.crs = {'init':'epsg:4326'}                                                                           # 좌표계를 epsg 4326으로 설정\n",
    "df1 = df1.to_crs({'init':'epsg:4326'})\n",
    "\n",
    "# df1는 data9의 각 포인트를 반경 300m 구역으로 변환한 geodataframe\n",
    "\n",
    "## 위,경도를 미터법으로 변환한 과정\n",
    "# 위도 30도 -> 위도 1도 : 110.852km / 경도 1도 : 94.486km\n",
    "# 위도 45도 -> 위도 1도 : 111.132km / 경도 1도 : 78.847km\n",
    "# 위도마다 거리 계산법이 다르고, 위도의 1도와 경도의 1도도 거리 계산법이 다름\n",
    "# 편의를 위해 37도 부근에서 위도 1도 : 111km / 경도 1도 : 87km 로 계산함\n",
    "# 위도와 경도의 1도를 km로 변환하려면 타원을 도입해야하지만 복잡하기에\n",
    "# 위도 37도 부근에서 위도와 경도의 1도를 평균하여 약 100km로 설정\n",
    "# 따라서 위도와 경도의 1도는 100km이고 [ 0.001도 = 100m ] 를 buffer에 적용함"
   ]
  },
  {
   "cell_type": "code",
   "execution_count": 12,
   "metadata": {},
   "outputs": [],
   "source": [
    "# 4510개의 격자별로 지정된 스쿨존 300m 반경이 몇번 겹치는 지 측정\n",
    "\n",
    "temp1 = data2.copy()\n",
    "temp1 = temp1.loc[:, ['gid', 'geometry']]\n",
    "\n",
    "schzone_num = []\n",
    "\n",
    "for i in range(len(temp1)):\n",
    "    schzone_num.append(sum(df1.geometry.intersects(temp1.geometry[i])))"
   ]
  },
  {
   "cell_type": "code",
   "execution_count": 13,
   "metadata": {},
   "outputs": [],
   "source": [
    "# schzone은 기준 데이터와 병합할 데이터\n",
    "\n",
    "temp1['스쿨존'] = schzone_num\n",
    "\n",
    "schzone = temp1.loc[:, ['gid', '스쿨존']]"
   ]
  },
  {
   "cell_type": "markdown",
   "metadata": {},
   "source": [
    "### join 할 데이터 : 10번 오산시_학교위치정보"
   ]
  },
  {
   "cell_type": "code",
   "execution_count": 14,
   "metadata": {},
   "outputs": [],
   "source": [
    "# 4510개의 격자별로 초등학교 100/300/500m 반경이 몇번 겹치는 지 측정\n",
    "\n",
    "temp1 = data2.copy()\n",
    "temp1 = temp1.loc[:, ['gid', 'geometry']]\n",
    "\n",
    "school_100 = []\n",
    "school_300 = []\n",
    "school_500 = []"
   ]
  },
  {
   "cell_type": "code",
   "execution_count": 15,
   "metadata": {},
   "outputs": [],
   "source": [
    "# school_100 만들기\n",
    "\n",
    "df1 = data10.copy()\n",
    "\n",
    "df1 = df1[df1.학교구분 == '초등학교']                      # 초등학교만 select\n",
    "df1.학교위치_경도 = df1.학교위치_경도.astype(float)\n",
    "df1.학교위치_위도 = df1.학교위치_위도.astype(float)\n",
    "df1['geometry'] = df1.apply(lambda row : Point([row['학교위치_경도'], row['학교위치_위도']]), axis=1)\n",
    "df1 = gpd.GeoDataFrame(df1, geometry='geometry')\n",
    "df1.geometry = df1.geometry.buffer(0.001)                  # 학교 주변 100m 반경\n",
    "df1.crs = {'init':'epsg:4326'}\n",
    "df1 = df1.to_crs({'init':'epsg:4326'})\n",
    "\n",
    "# df1는 data10의 각 포인트를 반경 100m 구역으로 변환한 geodataframe\n",
    "\n",
    "for i in range(len(temp1)):\n",
    "    school_100.append(sum(df1.geometry.intersects(temp1.geometry[i])))"
   ]
  },
  {
   "cell_type": "code",
   "execution_count": 16,
   "metadata": {},
   "outputs": [],
   "source": [
    "# school_300 만들기\n",
    "\n",
    "df1 = data10.copy()\n",
    "\n",
    "df1 = df1[df1.학교구분 == '초등학교']                      # 초등학교만 select\n",
    "df1.학교위치_경도 = df1.학교위치_경도.astype(float)\n",
    "df1.학교위치_위도 = df1.학교위치_위도.astype(float)\n",
    "df1['geometry'] = df1.apply(lambda row : Point([row['학교위치_경도'], row['학교위치_위도']]), axis=1)\n",
    "df1 = gpd.GeoDataFrame(df1, geometry='geometry')\n",
    "df1.geometry = df1.geometry.buffer(0.003)                  # 학교 주변 300m 반경\n",
    "df1.crs = {'init':'epsg:4326'}\n",
    "df1 = df1.to_crs({'init':'epsg:4326'})\n",
    "\n",
    "# df1는 data10의 각 포인트를 반경 300m 구역으로 변환한 geodataframe\n",
    "\n",
    "for i in range(len(temp1)):\n",
    "    school_300.append(sum(df1.geometry.intersects(temp1.geometry[i])))"
   ]
  },
  {
   "cell_type": "code",
   "execution_count": 17,
   "metadata": {},
   "outputs": [],
   "source": [
    "# school_500 만들기\n",
    "\n",
    "df1 = data10.copy()\n",
    "\n",
    "df1 = df1[df1.학교구분 == '초등학교']                      # 초등학교만 select\n",
    "df1.학교위치_경도 = df1.학교위치_경도.astype(float)\n",
    "df1.학교위치_위도 = df1.학교위치_위도.astype(float)\n",
    "df1['geometry'] = df1.apply(lambda row : Point([row['학교위치_경도'], row['학교위치_위도']]), axis=1)\n",
    "df1 = gpd.GeoDataFrame(df1, geometry='geometry')\n",
    "df1.geometry = df1.geometry.buffer(0.005)                  # 학교 주변 500m 반경\n",
    "df1.crs = {'init':'epsg:4326'}\n",
    "df1 = df1.to_crs({'init':'epsg:4326'})\n",
    "\n",
    "# df1는 data10의 각 포인트를 반경 500m 구역으로 변환한 geodataframe\n",
    "\n",
    "for i in range(len(temp1)):\n",
    "    school_500.append(sum(df1.geometry.intersects(temp1.geometry[i])))"
   ]
  },
  {
   "cell_type": "code",
   "execution_count": 18,
   "metadata": {},
   "outputs": [],
   "source": [
    "# elementary는 기준 데이터와 병합할 데이터\n",
    "\n",
    "temp1['초등학교_100m'] = school_100\n",
    "temp1['초등학교_300m'] = school_300\n",
    "temp1['초등학교_500m'] = school_500\n",
    "temp1['초등학교_가중치'] = temp1.초등학교_100m*0.5 + temp1.초등학교_300m*0.3 + temp1.초등학교_500m*0.2\n",
    "\n",
    "elementary = temp1.loc[:, ['gid', '초등학교_100m', '초등학교_300m', '초등학교_500m', '초등학교_가중치']]\n",
    "\n",
    "# 초등학교_가중치는 격자별로 해당 격자가 초등학교 반경 100m 안에 포함될 경우 -> 가중치 1\n",
    "#                                               100m ~ 300m 안에 포함될 경우 -> 가중치 0.5\n",
    "#                                               300m ~ 500m 안에 포함될 경우 -> 가중치 0.2"
   ]
  },
  {
   "cell_type": "markdown",
   "metadata": {},
   "source": [
    "### join 할 데이터 : 13번 오산시_어린이집_유치원현황"
   ]
  },
  {
   "cell_type": "code",
   "execution_count": 19,
   "metadata": {},
   "outputs": [],
   "source": [
    "# 4510개의 격자별로 유치원 100/300/500m 반경이 몇번 겹치는 지 측정\n",
    "\n",
    "temp1 = data2.copy()\n",
    "temp1 = temp1.loc[:, ['gid', 'geometry']]\n",
    "\n",
    "kgd_100 = []\n",
    "kgd_300 = []\n",
    "kgd_500 = []"
   ]
  },
  {
   "cell_type": "code",
   "execution_count": 20,
   "metadata": {},
   "outputs": [],
   "source": [
    "# kgd_100 만들기\n",
    "\n",
    "df1 = data13.copy()\n",
    "\n",
    "df1.시설위치_경도 = df1.시설위치_경도.astype(float)\n",
    "df1.시설위치_위도 = df1.시설위치_위도.astype(float)\n",
    "df1['geometry'] = df1.apply(lambda row : Point([row['시설위치_경도'], row['시설위치_위도']]), axis=1)\n",
    "df1 = gpd.GeoDataFrame(df1, geometry='geometry')\n",
    "df1.geometry = df1.geometry.buffer(0.001)          # 시설 주변 100m 반경\n",
    "df1.crs = {'init':'epsg:4326'}\n",
    "df1 = df1.to_crs({'init':'epsg:4326'})\n",
    "\n",
    "# df1는 data13의 각 포인트를 반경 100m 구역으로 변환한 geodataframe\n",
    "\n",
    "for i in range(len(temp1)):\n",
    "    kgd_100.append(sum(df1.geometry.intersects(temp1.geometry[i])))"
   ]
  },
  {
   "cell_type": "code",
   "execution_count": 21,
   "metadata": {},
   "outputs": [],
   "source": [
    "# kgd_300 만들기\n",
    "\n",
    "df1 = data13.copy()\n",
    "\n",
    "df1.시설위치_경도 = df1.시설위치_경도.astype(float)\n",
    "df1.시설위치_위도 = df1.시설위치_위도.astype(float)\n",
    "df1['geometry'] = df1.apply(lambda row : Point([row['시설위치_경도'], row['시설위치_위도']]), axis=1)\n",
    "df1 = gpd.GeoDataFrame(df1, geometry='geometry')\n",
    "df1.geometry = df1.geometry.buffer(0.003)          # 시설 주변 300m 반경\n",
    "df1.crs = {'init':'epsg:4326'}\n",
    "df1 = df1.to_crs({'init':'epsg:4326'})\n",
    "\n",
    "# df1는 data13의 각 포인트를 반경 300m 구역으로 변환한 geodataframe\n",
    "\n",
    "for i in range(len(temp1)):\n",
    "    kgd_300.append(sum(df1.geometry.intersects(temp1.geometry[i])))"
   ]
  },
  {
   "cell_type": "code",
   "execution_count": 22,
   "metadata": {},
   "outputs": [],
   "source": [
    "# kgd_500 만들기\n",
    "\n",
    "df1 = data13.copy()\n",
    "\n",
    "df1.시설위치_경도 = df1.시설위치_경도.astype(float)\n",
    "df1.시설위치_위도 = df1.시설위치_위도.astype(float)\n",
    "df1['geometry'] = df1.apply(lambda row : Point([row['시설위치_경도'], row['시설위치_위도']]), axis=1)\n",
    "df1 = gpd.GeoDataFrame(df1, geometry='geometry')\n",
    "df1.geometry = df1.geometry.buffer(0.005)          # 시설 주변 500m 반경\n",
    "df1.crs = {'init':'epsg:4326'}\n",
    "df1 = df1.to_crs({'init':'epsg:4326'})\n",
    "\n",
    "# df1는 data13의 각 포인트를 반경 100m 구역으로 변환한 geodataframe\n",
    "\n",
    "for i in range(len(temp1)):\n",
    "    kgd_500.append(sum(df1.geometry.intersects(temp1.geometry[i])))"
   ]
  },
  {
   "cell_type": "code",
   "execution_count": 23,
   "metadata": {},
   "outputs": [],
   "source": [
    "# kindergarden은 기준 데이터와 병합할 데이터\n",
    "\n",
    "temp1['유치원_100m'] = kgd_100\n",
    "temp1['유치원_300m'] = kgd_300\n",
    "temp1['유치원_500m'] = kgd_500\n",
    "temp1['유치원_가중치'] = temp1.유치원_100m*0.5 + temp1.유치원_300m*0.3 + temp1.유치원_500m*0.2\n",
    "\n",
    "kindergarden = temp1.loc[:, ['gid', '유치원_100m', '유치원_300m', '유치원_500m', '유치원_가중치']]\n",
    "\n",
    "# 유치원_가중치는 격자별로 해당 격자가 유치원 반경 100m 안에 포함될 경우 -> 가중치 1\n",
    "#                                           100m ~ 300m 안에 포함될 경우 -> 가중치 0.5\n",
    "#                                           300m ~ 500m 안에 포함될 경우 -> 가중치 0.2"
   ]
  },
  {
   "cell_type": "markdown",
   "metadata": {},
   "source": [
    "### join 할 데이터 : 17번 오산시_횡단보도"
   ]
  },
  {
   "cell_type": "code",
   "execution_count": 24,
   "metadata": {},
   "outputs": [],
   "source": [
    "# 4510개의 격자별로 포함하는 횡단보도 면적 측정\n",
    "\n",
    "df1 = data17.copy()\n",
    "\n",
    "crosswalk_size = []\n",
    "crosswalk_area = []\n",
    "\n",
    "# crosswalk_size 는 각 격자와 겹쳐지는 횡단보도의 전체(횡단보도 전체) 면적 계산\n",
    "# 횡단보도가 격자를 넘어가도라도 횡단보도의 크기를 계산하기 위해 횡단보도 전체 면적의 합을 계산\n",
    "# 따라서 횡단보도가 여러 격자에 걸쳐있는 경우 중복되어 격자에 계산되었음\n",
    "\n",
    "# crosswalk_area 는 각 격자와 겹쳐지는 횡단보도만의(횡단보도 일부) 면적 계산"
   ]
  },
  {
   "cell_type": "code",
   "execution_count": 25,
   "metadata": {},
   "outputs": [],
   "source": [
    "# crosswalk_size 만들기\n",
    "\n",
    "temp1 = data2.copy()\n",
    "temp1 = temp1.loc[:, ['gid', 'geometry']]\n",
    "\n",
    "for i in range(len(temp1)):\n",
    "    area_i = sum([x.area for x in df1.geometry if x.intersects(temp1.geometry[i])==True])\n",
    "    crosswalk_size.append(area_i)\n",
    "    \n",
    "# df1.geometry.intersects(temp1.geometry[i]) # 1~1205개의 횡단보도가 i번째 격자와 겹치는가 -> [T, F, T, T, F, F, ....]\n",
    "# [x for x in df1.geometry if x.intersects(temp1.geometry[i])==True] # i번째 격자와 겹치는 횡단보도 geometry를 전부 모은 리스트\n",
    "# [x.area for x in df1.geometry if x.intersects(temp1.geometry[i])==True] # i번째 격자와 겹치는 횡단보도 geometry의 면적을 전부 모은 리스트"
   ]
  },
  {
   "cell_type": "code",
   "execution_count": 26,
   "metadata": {},
   "outputs": [
    {
     "name": "stderr",
     "output_type": "stream",
     "text": [
      "/opt/app-root/lib/python3.6/site-packages/ipykernel_launcher.py:4: UserWarning: Geometry is in a geographic CRS. Results from 'area' are likely incorrect. Use 'GeoSeries.to_crs()' to re-project geometries to a projected CRS before this operation.\n",
      "\n",
      "  after removing the cwd from sys.path.\n"
     ]
    }
   ],
   "source": [
    "# crosswalk_area 만들기\n",
    "\n",
    "for i in range(len(temp1)):\n",
    "    area_i = sum(df1.geometry.intersection(temp1.geometry[i]).area)   # area_i는 i번째 격자가 포함하는 횡단보도의 면적 합\n",
    "    crosswalk_area.append(area_i)\n",
    "    \n",
    "# temp1.geometry[i] 는 i번째 격자의 mulipoligon\n",
    "# df1.geometry.intersection(temp1.geometry[i]) # i번째 격자와 1~1205번째의 횡단보다 각각의 겹치는 부분의 리스트화 "
   ]
  },
  {
   "cell_type": "code",
   "execution_count": 27,
   "metadata": {},
   "outputs": [],
   "source": [
    "# crosswalk는 기준 데이터와 병합할 데이터\n",
    "\n",
    "temp1['횡단보도_전체면적'] = crosswalk_size\n",
    "temp1['횡단보도_포함면적'] = crosswalk_area\n",
    "\n",
    "crosswalk = temp1.loc[:, ['gid', '횡단보도_전체면적', '횡단보도_포함면적']]"
   ]
  },
  {
   "cell_type": "markdown",
   "metadata": {},
   "source": [
    "### join 할 데이터 : 27번 오산시_도로명주소_건물"
   ]
  },
  {
   "cell_type": "code",
   "execution_count": 28,
   "metadata": {},
   "outputs": [
    {
     "name": "stderr",
     "output_type": "stream",
     "text": [
      "/opt/app-root/lib/python3.6/site-packages/ipykernel_launcher.py:7: UserWarning: Geometry is in a geographic CRS. Results from 'centroid' are likely incorrect. Use 'GeoSeries.to_crs()' to re-project geometries to a projected CRS before this operation.\n",
      "\n",
      "  import sys\n"
     ]
    }
   ],
   "source": [
    "# 4510개의 격자별로 포함하는 건물(전체 / 주거용 / 시무용) 개수 측정\n",
    "\n",
    "df1 = data27.copy()\n",
    "\n",
    "df2 = df1.loc[:, ['BDTYP_CD','geometry']]\n",
    "df2['BDTYP_CD'] = [int(x[0:3]) for x in df2.BDTYP_CD]      # 건물 용도별로 구분하기 위해 구분열 지정\n",
    "df2['geometry'] = df2.geometry.centroid                     # 건물의 중심점으로 geometry 다시 지정\n",
    "\n",
    "bld = []        # bid는 격자 안에 있는 총 건물의 개수\n",
    "house = []      # house는 격자 안에 있는 주거용 건물의 개수\n",
    "office = []     # office는 격자 안에 있는 사무용 건물의 개수"
   ]
  },
  {
   "cell_type": "code",
   "execution_count": 29,
   "metadata": {},
   "outputs": [],
   "source": [
    "# bid 만들기\n",
    "\n",
    "temp1 = data2.copy()\n",
    "temp1 = temp1.loc[:, ['gid', 'geometry']]\n",
    "\n",
    "df3 = df2.copy()\n",
    "\n",
    "for i in range(len(temp1)):\n",
    "    bld.append(sum(df3.geometry.intersects(temp1.geometry[i])))"
   ]
  },
  {
   "cell_type": "code",
   "execution_count": 30,
   "metadata": {},
   "outputs": [],
   "source": [
    "# house 만들기\n",
    "\n",
    "df3 = df2.copy()\n",
    "df3 = df3.loc[(df3['BDTYP_CD']<30),:]      # 주거용 건물(건물 용도 번호 앞 세 자리가 30 이하)만 남김\n",
    "\n",
    "for i in range(len(temp1)):\n",
    "    house.append(sum(df3.geometry.intersects(temp1.geometry[i])))"
   ]
  },
  {
   "cell_type": "code",
   "execution_count": 31,
   "metadata": {},
   "outputs": [],
   "source": [
    "# office 만들기\n",
    "\n",
    "df3 = df2.copy()\n",
    "df3 = df3.loc[(df3['BDTYP_CD']==44)|(df3['BDTYP_CD']==100)|(df3['BDTYP_CD']==101)|(df3['BDTYP_CD']==102), :]    # 사무용 건물에 해당하는 건물 용도 번호만 남김\n",
    "\n",
    "for i in range(len(temp1)):\n",
    "    office.append(sum(df3.geometry.intersects(temp1.geometry[i])))"
   ]
  },
  {
   "cell_type": "code",
   "execution_count": 32,
   "metadata": {},
   "outputs": [],
   "source": [
    "# buildings는 기준 데이터와 병합할 데이터\n",
    "\n",
    "temp1['building'] = bld\n",
    "temp1['house'] = house\n",
    "temp1['office'] = office\n",
    "\n",
    "buildings = temp1.loc[:, ['gid', 'building', 'house', 'office']]"
   ]
  },
  {
   "cell_type": "markdown",
   "metadata": {},
   "source": [
    "### join 할 데이터 : 22번 오산시_버스정류장"
   ]
  },
  {
   "cell_type": "code",
   "execution_count": 33,
   "metadata": {},
   "outputs": [
    {
     "name": "stderr",
     "output_type": "stream",
     "text": [
      "/opt/app-root/lib/python3.6/site-packages/pyproj/crs/crs.py:53: FutureWarning: '+init=<authority>:<code>' syntax is deprecated. '<authority>:<code>' is the preferred initialization method. When making the change, be mindful of axis order changes: https://pyproj4.github.io/pyproj/stable/gotchas.html#axis-order-changes-in-proj-6\n",
      "  return _prepare_from_string(\" \".join(pjargs))\n"
     ]
    }
   ],
   "source": [
    "# 버스정류장 데이터(csv)를 GeoJSON 파일로 변환\n",
    "\n",
    "df1 = data22.copy()\n",
    "\n",
    "df1['정류장 위치_경도'] = df1['정류장 위치_경도'].astype(float)\n",
    "df1['정류장 위치_위도'] = df1['정류장 위치_위도'].astype(float)\n",
    "df1['geometry'] = df1.apply(lambda row : Point([row['정류장 위치_경도'], row['정류장 위치_위도']]), axis=1)   # df1에 geometry 열을 만들어 위경도를 point 객체로 저장\n",
    "df1 = gpd.GeoDataFrame(df1, geometry='geometry')                                                               # df1을 geodataframe 타입으로 저장\n",
    "df1.crs = {'init':'epsg:4326'}                                                                                 # 좌표계를 epsg 4326으로 설정\n",
    "df1 = df1.to_crs({'init':'epsg:4326'})"
   ]
  },
  {
   "cell_type": "code",
   "execution_count": 34,
   "metadata": {},
   "outputs": [],
   "source": [
    "# 4510개의 격자별로 포함하는 버스정류장 개수 측정\n",
    "\n",
    "temp1 = data2.copy()\n",
    "temp1 = temp1.loc[:, ['gid', 'geometry']]\n",
    "\n",
    "bus = []\n",
    "\n",
    "for i in range(len(temp1)):\n",
    "    bus.append(sum(df1.geometry.intersects(temp1.geometry[i])))"
   ]
  },
  {
   "cell_type": "code",
   "execution_count": 35,
   "metadata": {},
   "outputs": [],
   "source": [
    "# bus_stop은 기준 데이터와 병합할 데이터\n",
    "\n",
    "temp1['버스정류장'] = bus\n",
    "\n",
    "bus_stop = temp1.loc[:, ['gid', '버스정류장']]"
   ]
  },
  {
   "cell_type": "markdown",
   "metadata": {},
   "source": [
    "### join 할 데이터 : 29번 오산시_체육시설현황"
   ]
  },
  {
   "cell_type": "code",
   "execution_count": 36,
   "metadata": {},
   "outputs": [],
   "source": [
    "# 체육시설현황 데이터(csv)를 GeoJSON 파일로 변환\n",
    "\n",
    "df1 = data29.copy()\n",
    "\n",
    "df1.설치위치_경도 = df1.설치위치_경도.astype(float)\n",
    "df1.설치위치_위도 = df1.설치위치_위도.astype(float)\n",
    "df1['geometry'] = df1.apply(lambda row : Point([row['설치위치_경도'], row['설치위치_위도']]), axis=1)   # df1에 geometry 열을 만들어 위경도를 point 객체로 저장\n",
    "df1 = gpd.GeoDataFrame(df1, geometry='geometry')                                                         # df1을 geodataframe 타입으로 저장\n",
    "df1.crs = {'init':'epsg:4326'}                                                                           # 좌표계를 epsg 4326으로 설정\n",
    "df1 = df1.to_crs({'init':'epsg:4326'})"
   ]
  },
  {
   "cell_type": "code",
   "execution_count": 37,
   "metadata": {},
   "outputs": [],
   "source": [
    "# 4510개의 격자별로 포함하는 체육시설 개수 측정\n",
    "\n",
    "temp1 = data2.copy()\n",
    "temp1 = temp1.loc[:, ['gid', 'geometry']]\n",
    "\n",
    "fac = []\n",
    "\n",
    "for i in range(len(temp1)):\n",
    "    fac.append(sum(df1.geometry.intersects(temp1.geometry[i])))"
   ]
  },
  {
   "cell_type": "code",
   "execution_count": 38,
   "metadata": {},
   "outputs": [],
   "source": [
    "# physical_fac은 기준 데이터와 병합할 데이터\n",
    "\n",
    "temp1['체육시설'] = fac\n",
    "\n",
    "physical_fac = temp1.loc[:, ['gid', '체육시설']]"
   ]
  },
  {
   "cell_type": "markdown",
   "metadata": {},
   "source": [
    "### join 할 데이터 : 30번 오산시_학원_및_교습소_현황"
   ]
  },
  {
   "cell_type": "code",
   "execution_count": 39,
   "metadata": {},
   "outputs": [],
   "source": [
    "# 30번 오산시 학원 및 교습소 현황 데이터로 격자 안의 학원 수를 측정하기에는 데이터가 부정확함.\n",
    "# ex) 같은 학원이지만 '영어 초급' / '영어 고급'반이 다른 학원처럼 2개의 행을 차지함(1779, 1780번 행)\n",
    "\n",
    "# 따라서 제공되는 데이터 대신 카카오 API를 활용하여 각 격자별로 위치한 학원의 수를 측정함"
   ]
  },
  {
   "cell_type": "code",
   "execution_count": 40,
   "metadata": {},
   "outputs": [],
   "source": [
    "# 카카오 API 사용 함수\n",
    "\n",
    "import requests; from urllib.parse import urlparse\n",
    "\n",
    "def point_to_num(y,x,radius,keyword,category):  #좌표와 키워드를 입력하면 시설물의 수를 알수있음\n",
    "                    url = \"https://dapi.kakao.com/v2/local/search/keyword.json?&y=\" + y + \"&x=\" + x + \"&radius=\" + radius + \"&query=\" + keyword +\"&category_group_code=\" + category\n",
    "                    result = requests.get(urlparse(url).geturl(),\n",
    "                                          headers={\"Authorization\":\"KakaoAK d3c61988f98633f8311396ae5ed20fa2\"})\n",
    "                    json_obj = result.json()\n",
    "                    global val\n",
    "                    val = json_obj['meta']['pageable_count']\n",
    "                    return val "
   ]
  },
  {
   "cell_type": "code",
   "execution_count": 41,
   "metadata": {},
   "outputs": [],
   "source": [
    "# Point 객체의 x, y 좌표 반환 함수\n",
    "\n",
    "def getXY(pt):\n",
    "    \n",
    "    return (pt.x, pt.y)"
   ]
  },
  {
   "cell_type": "code",
   "execution_count": 42,
   "metadata": {},
   "outputs": [
    {
     "name": "stderr",
     "output_type": "stream",
     "text": [
      "/opt/app-root/lib/python3.6/site-packages/ipykernel_launcher.py:5: UserWarning: Geometry is in a geographic CRS. Results from 'centroid' are likely incorrect. Use 'GeoSeries.to_crs()' to re-project geometries to a projected CRS before this operation.\n",
      "\n",
      "  \"\"\"\n"
     ]
    }
   ],
   "source": [
    "# 카카오 API를 사용하기 위해 4510개의 격자의 x, y 좌표를 정보로 저장\n",
    "\n",
    "temp1 = data2.copy()\n",
    "temp1 = temp1.loc[:, ['gid', 'geometry']]\n",
    "temp1.geometry = temp1.geometry.centroid\n",
    "\n",
    "x,y = [list(t) for t in zip(*map(getXY, temp1['geometry']))]\n",
    "\n",
    "temp1['x']=x\n",
    "temp1['y']=y"
   ]
  },
  {
   "cell_type": "code",
   "execution_count": 43,
   "metadata": {},
   "outputs": [],
   "source": [
    "# 4510개의 격자별로 포함하는 학원 개수 측정\n",
    "\n",
    "acad = []\n",
    "\n",
    "for i in range(len(temp1)): \n",
    "    acad.append(point_to_num(str(temp1['y'][i]), str(temp1['x'][i]), '50', '학원','AC5'))\n",
    "\n",
    "# point_to_num() 함수 설명: i번째 격자의 중심에서 50m 반경에 있는 '학원' 카테고리의 개수 반환"
   ]
  },
  {
   "cell_type": "code",
   "execution_count": 44,
   "metadata": {},
   "outputs": [],
   "source": [
    "# academy는 기준 데이터와 병합할 데이터\n",
    "\n",
    "temp1['학원'] = acad\n",
    "\n",
    "temp1.loc[2617, '학원'] = 1     # 분석 당시 학원 개수로 변경(1월 25일 기준 2개)\n",
    "temp1.loc[3178, '학원'] = 0     # 분석 당시 학원 개수로 변경(1월 25일 기준 1개)\n",
    "temp1.loc[3348, '학원'] = 4     # 분석 당시 학원 개수로 변경(1월 25일 기준 5개)\n",
    "temp1.loc[3492, '학원'] = 16    # 분석 당시 학원 개수로 변경(1월 25일 기준 15개)\n",
    "\n",
    "academy = temp1.loc[:, ['gid', '학원']]"
   ]
  },
  {
   "cell_type": "code",
   "execution_count": 45,
   "metadata": {},
   "outputs": [],
   "source": [
    "# 카카오 API로 구한 학원 개수 데이터는 시간에 따라 바뀜\n",
    "# 따라서 분석 당시의 격자별 학원 개수를 맞추기 위해 데이터로 저장: academy_KAKAO_api\n",
    "\n",
    "#academy.to_csv('36_재생산.academy_KAKAO_api.csv', index=False)\n",
    "\n",
    "# 추후 분석에서 동일한 데이터를 얻기 위하여 저장했던 \"36_재생산.academy_KAKAO_api.csv\" 파일을 로드하여 사용\n",
    "academy = pd.read_csv('36_재생산.academy_KAKAO_api.csv')"
   ]
  },
  {
   "cell_type": "markdown",
   "metadata": {},
   "source": [
    "### join 할 데이터 : 19번 오산시_신호등"
   ]
  },
  {
   "cell_type": "code",
   "execution_count": 46,
   "metadata": {},
   "outputs": [],
   "source": [
    "# df1은 신호등 데이터\n",
    "# temp1은 격자별로 포함하는 신호등 개수 측정을 위한 데이터\n",
    "\n",
    "df1 = data19.copy()\n",
    "\n",
    "temp1 = data2.copy()\n",
    "temp1 = temp1.loc[:, ['gid', 'geometry']]"
   ]
  },
  {
   "cell_type": "code",
   "execution_count": 47,
   "metadata": {},
   "outputs": [],
   "source": [
    "# 4510개의 격자별로 포함하는 신호등 개수 측정\n",
    "\n",
    "light = []\n",
    "\n",
    "for i in range(len(temp1)):\n",
    "     light.append(sum(df1.geometry.intersects(temp1.geometry[i])))"
   ]
  },
  {
   "cell_type": "code",
   "execution_count": 48,
   "metadata": {},
   "outputs": [],
   "source": [
    "# physical_light는 기준 데이터와 병합할 데이터\n",
    "\n",
    "temp1['신호등'] = light\n",
    "\n",
    "traffic_light = temp1.loc[:, ['gid', '신호등']]"
   ]
  },
  {
   "cell_type": "markdown",
   "metadata": {},
   "source": [
    "### join 할 데이터 : 18_외부 오산시_과속방지턱표준데이터.csv"
   ]
  },
  {
   "cell_type": "code",
   "execution_count": 49,
   "metadata": {},
   "outputs": [],
   "source": [
    "# 18번 오산시_과속방지턱표준데이터에 오산시에 포함된 과속방지턱이 업데이트 되지 않아\n",
    "# 공공데이터포털에서 새롭게 다운로드함\n",
    "\n",
    "data18_outer = pd.read_csv('18_외부.오산시_과속방지턱표준데이터.csv')"
   ]
  },
  {
   "cell_type": "code",
   "execution_count": 50,
   "metadata": {},
   "outputs": [],
   "source": [
    "# 과속방지턱 데이터(csv)를 GeoJSON 파일로 변환\n",
    "\n",
    "df1 = data18_outer.copy()\n",
    "\n",
    "df1.경도 = df1.경도.astype(float)\n",
    "df1.위도 = df1.위도.astype(float)\n",
    "df1['geometry'] = df1.apply(lambda row : Point([row['경도'], row['위도']]), axis=1)   # df1에 geometry 열을 만들어 위경도를 point 객체로 저장\n",
    "df1 = gpd.GeoDataFrame(df1, geometry='geometry')                                       # df1을 geodataframe 타입으로 저장\n",
    "df1.crs = {'init':'epsg:4326'}                                                         # 좌표계를 epsg 4326으로 설정\n",
    "df1 = df1.to_crs({'init':'epsg:4326'})"
   ]
  },
  {
   "cell_type": "code",
   "execution_count": 51,
   "metadata": {},
   "outputs": [],
   "source": [
    "# 4510개의 격자별로 포함하는 과속방지턱 개수 측정\n",
    "\n",
    "temp1 = data2.copy()\n",
    "temp1 = temp1.loc[:, ['gid', 'geometry']]\n",
    "\n",
    "bump_count = []\n",
    "\n",
    "for i in range(len(temp1)):\n",
    "    bump_count.append(sum(df1.geometry.intersects(temp1.geometry[i])))"
   ]
  },
  {
   "cell_type": "code",
   "execution_count": 52,
   "metadata": {},
   "outputs": [],
   "source": [
    "# bump는 기준 데이터와 병합할 데이터\n",
    "\n",
    "temp1['과속방지턱'] = bump_count\n",
    "\n",
    "bump = temp1.loc[:, ['gid', '과속방지턱']]"
   ]
  },
  {
   "cell_type": "markdown",
   "metadata": {},
   "source": [
    "### join 할 데이터: 8번 유동인구"
   ]
  },
  {
   "cell_type": "code",
   "execution_count": 53,
   "metadata": {},
   "outputs": [],
   "source": [
    "df1 = data8.copy()"
   ]
  },
  {
   "cell_type": "code",
   "execution_count": 54,
   "metadata": {},
   "outputs": [],
   "source": [
    "#하루 평균 유동인구 구하기\n",
    "\n",
    "df1['month'] = df1.iloc[:,3] \n",
    "for i in range(4,27,1):\n",
    "    df1['month'] = df1['month'] + df1.iloc[:,i]"
   ]
  },
  {
   "cell_type": "code",
   "execution_count": 55,
   "metadata": {},
   "outputs": [],
   "source": [
    "#필요한 열만 추출\n",
    "\n",
    "df1 = df1.iloc[:,[0,1,2,27]]"
   ]
  },
  {
   "cell_type": "code",
   "execution_count": 56,
   "metadata": {
    "scrolled": true
   },
   "outputs": [],
   "source": [
    "#lon,lat을 기준으로 그룹화\n",
    "\n",
    "temp1 = df1.groupby(['lon','lat'],as_index=False).count()"
   ]
  },
  {
   "cell_type": "code",
   "execution_count": 57,
   "metadata": {
    "scrolled": false
   },
   "outputs": [],
   "source": [
    "#각 좌표의 평균값 계산\n",
    "\n",
    "temp1['mean'] = df1.groupby(['lon','lat'],as_index=False).mean().month  "
   ]
  },
  {
   "cell_type": "code",
   "execution_count": 58,
   "metadata": {},
   "outputs": [],
   "source": [
    "#필요한 열만 추출\n",
    "\n",
    "temp1 = temp1.iloc[:,[0,1,3,4]]"
   ]
  },
  {
   "cell_type": "code",
   "execution_count": 59,
   "metadata": {
    "scrolled": true
   },
   "outputs": [],
   "source": [
    "temp1 = temp1.rename(columns = {'month':'count'})"
   ]
  },
  {
   "cell_type": "code",
   "execution_count": 60,
   "metadata": {},
   "outputs": [],
   "source": [
    "for i in range(1,13,1):\n",
    "    if i < 10:\n",
    "        a = pd.merge(temp1, df1[df1.iloc[:,0]==int('20190%d' %i)],how='left',on=['lon','lat'])   #위도와 경도를 기준으로 해당 월의 평균 데이터와 원본 데이터 병합\n",
    "    else:\n",
    "        a = pd.merge(temp1, df1[df1.iloc[:,0]==int('2019%d' %i)],how='left',on=['lon','lat'])\n",
    "    for j in range(0,len(a),1):   #결측치 대체#\n",
    "        if a.iloc[:,5].isnull()[j]==True:   #값이 존재하지 않는 포인트의 유동인구를 평균값으로 대체\n",
    "            a.iloc[j,5] = a.iloc[j,3]\n",
    "        else:\n",
    "            a.iloc[j,5] = a.iloc[j,5]\n",
    "        if a.iloc[:,4].isnull()[j]==True:   #값이 존재하지 않는 포인트의 월을 해당 월로 대체\n",
    "            a.iloc[j,4] = a.iloc[j-1,4]\n",
    "        else:\n",
    "            a.iloc[j,4] = a.iloc[j,4]\n",
    "            \n",
    "    if i==1:\n",
    "        b=a\n",
    "    else:\n",
    "        b = pd.concat([b,a],axis = 0)   #1월부터 12월 병합#"
   ]
  },
  {
   "cell_type": "code",
   "execution_count": 61,
   "metadata": {},
   "outputs": [],
   "source": [
    "float_pop = b"
   ]
  },
  {
   "cell_type": "code",
   "execution_count": 62,
   "metadata": {},
   "outputs": [],
   "source": [
    "float_pop = float_pop.reset_index()"
   ]
  },
  {
   "cell_type": "code",
   "execution_count": 63,
   "metadata": {},
   "outputs": [
    {
     "data": {
      "text/plain": [
       "index     0\n",
       "lon       0\n",
       "lat       0\n",
       "count     0\n",
       "mean      0\n",
       "STD_YM    0\n",
       "month     0\n",
       "dtype: int64"
      ]
     },
     "execution_count": 63,
     "metadata": {},
     "output_type": "execute_result"
    }
   ],
   "source": [
    "#결측값 개수 확인\n",
    "\n",
    "float_pop.isnull().apply(sum)"
   ]
  },
  {
   "cell_type": "code",
   "execution_count": 64,
   "metadata": {
    "scrolled": true
   },
   "outputs": [
    {
     "name": "stderr",
     "output_type": "stream",
     "text": [
      "/opt/app-root/lib/python3.6/site-packages/pyproj/crs/crs.py:53: FutureWarning: '+init=<authority>:<code>' syntax is deprecated. '<authority>:<code>' is the preferred initialization method. When making the change, be mindful of axis order changes: https://pyproj4.github.io/pyproj/stable/gotchas.html#axis-order-changes-in-proj-6\n",
      "  return _prepare_from_string(\" \".join(pjargs))\n"
     ]
    }
   ],
   "source": [
    "#csv를 geodataframe으로 변환\n",
    "\n",
    "from shapely.geometry import Point   \n",
    "geo_float_pop = gpd.GeoDataFrame(float_pop.drop(['lon','lat'], axis=1),\n",
    "                           crs={'init':'epsg:4326'},\n",
    "                           geometry=[Point(xy) for xy in zip(float_pop.lon, float_pop.lat)])"
   ]
  },
  {
   "cell_type": "code",
   "execution_count": 65,
   "metadata": {
    "scrolled": true
   },
   "outputs": [
    {
     "data": {
      "text/html": [
       "<div>\n",
       "<style scoped>\n",
       "    .dataframe tbody tr th:only-of-type {\n",
       "        vertical-align: middle;\n",
       "    }\n",
       "\n",
       "    .dataframe tbody tr th {\n",
       "        vertical-align: top;\n",
       "    }\n",
       "\n",
       "    .dataframe thead th {\n",
       "        text-align: right;\n",
       "    }\n",
       "</style>\n",
       "<table border=\"1\" class=\"dataframe\">\n",
       "  <thead>\n",
       "    <tr style=\"text-align: right;\">\n",
       "      <th></th>\n",
       "      <th>index</th>\n",
       "      <th>count</th>\n",
       "      <th>mean</th>\n",
       "      <th>STD_YM</th>\n",
       "      <th>month</th>\n",
       "      <th>geometry</th>\n",
       "    </tr>\n",
       "  </thead>\n",
       "  <tbody>\n",
       "    <tr>\n",
       "      <th>0</th>\n",
       "      <td>0</td>\n",
       "      <td>8</td>\n",
       "      <td>8.436250</td>\n",
       "      <td>201901.0</td>\n",
       "      <td>8.880000</td>\n",
       "      <td>POINT (126.99514 37.17715)</td>\n",
       "    </tr>\n",
       "    <tr>\n",
       "      <th>1</th>\n",
       "      <td>1</td>\n",
       "      <td>12</td>\n",
       "      <td>13.730833</td>\n",
       "      <td>201901.0</td>\n",
       "      <td>11.700000</td>\n",
       "      <td>POINT (126.99515 37.17670)</td>\n",
       "    </tr>\n",
       "    <tr>\n",
       "      <th>2</th>\n",
       "      <td>2</td>\n",
       "      <td>7</td>\n",
       "      <td>3.397143</td>\n",
       "      <td>201901.0</td>\n",
       "      <td>3.397143</td>\n",
       "      <td>POINT (126.99515 37.17625)</td>\n",
       "    </tr>\n",
       "    <tr>\n",
       "      <th>3</th>\n",
       "      <td>3</td>\n",
       "      <td>4</td>\n",
       "      <td>2.250000</td>\n",
       "      <td>201901.0</td>\n",
       "      <td>2.250000</td>\n",
       "      <td>POINT (126.99515 37.17580)</td>\n",
       "    </tr>\n",
       "    <tr>\n",
       "      <th>4</th>\n",
       "      <td>4</td>\n",
       "      <td>5</td>\n",
       "      <td>2.104000</td>\n",
       "      <td>201901.0</td>\n",
       "      <td>2.104000</td>\n",
       "      <td>POINT (126.99515 37.17535)</td>\n",
       "    </tr>\n",
       "    <tr>\n",
       "      <th>...</th>\n",
       "      <td>...</td>\n",
       "      <td>...</td>\n",
       "      <td>...</td>\n",
       "      <td>...</td>\n",
       "      <td>...</td>\n",
       "      <td>...</td>\n",
       "    </tr>\n",
       "    <tr>\n",
       "      <th>148819</th>\n",
       "      <td>12397</td>\n",
       "      <td>3</td>\n",
       "      <td>0.816667</td>\n",
       "      <td>201912.0</td>\n",
       "      <td>0.780000</td>\n",
       "      <td>POINT (127.09779 37.15095)</td>\n",
       "    </tr>\n",
       "    <tr>\n",
       "      <th>148820</th>\n",
       "      <td>12398</td>\n",
       "      <td>3</td>\n",
       "      <td>6.486667</td>\n",
       "      <td>201912.0</td>\n",
       "      <td>5.860000</td>\n",
       "      <td>POINT (127.09782 37.14600)</td>\n",
       "    </tr>\n",
       "    <tr>\n",
       "      <th>148821</th>\n",
       "      <td>12399</td>\n",
       "      <td>6</td>\n",
       "      <td>5.735000</td>\n",
       "      <td>201912.0</td>\n",
       "      <td>0.500000</td>\n",
       "      <td>POINT (127.09835 37.15141)</td>\n",
       "    </tr>\n",
       "    <tr>\n",
       "      <th>148822</th>\n",
       "      <td>12400</td>\n",
       "      <td>1</td>\n",
       "      <td>51.170000</td>\n",
       "      <td>201912.0</td>\n",
       "      <td>51.170000</td>\n",
       "      <td>POINT (127.09836 37.15096)</td>\n",
       "    </tr>\n",
       "    <tr>\n",
       "      <th>148823</th>\n",
       "      <td>12401</td>\n",
       "      <td>8</td>\n",
       "      <td>0.603750</td>\n",
       "      <td>201912.0</td>\n",
       "      <td>0.560000</td>\n",
       "      <td>POINT (127.10063 37.14601)</td>\n",
       "    </tr>\n",
       "  </tbody>\n",
       "</table>\n",
       "<p>148824 rows × 6 columns</p>\n",
       "</div>"
      ],
      "text/plain": [
       "        index  count       mean    STD_YM      month  \\\n",
       "0           0      8   8.436250  201901.0   8.880000   \n",
       "1           1     12  13.730833  201901.0  11.700000   \n",
       "2           2      7   3.397143  201901.0   3.397143   \n",
       "3           3      4   2.250000  201901.0   2.250000   \n",
       "4           4      5   2.104000  201901.0   2.104000   \n",
       "...       ...    ...        ...       ...        ...   \n",
       "148819  12397      3   0.816667  201912.0   0.780000   \n",
       "148820  12398      3   6.486667  201912.0   5.860000   \n",
       "148821  12399      6   5.735000  201912.0   0.500000   \n",
       "148822  12400      1  51.170000  201912.0  51.170000   \n",
       "148823  12401      8   0.603750  201912.0   0.560000   \n",
       "\n",
       "                          geometry  \n",
       "0       POINT (126.99514 37.17715)  \n",
       "1       POINT (126.99515 37.17670)  \n",
       "2       POINT (126.99515 37.17625)  \n",
       "3       POINT (126.99515 37.17580)  \n",
       "4       POINT (126.99515 37.17535)  \n",
       "...                            ...  \n",
       "148819  POINT (127.09779 37.15095)  \n",
       "148820  POINT (127.09782 37.14600)  \n",
       "148821  POINT (127.09835 37.15141)  \n",
       "148822  POINT (127.09836 37.15096)  \n",
       "148823  POINT (127.10063 37.14601)  \n",
       "\n",
       "[148824 rows x 6 columns]"
      ]
     },
     "execution_count": 65,
     "metadata": {},
     "output_type": "execute_result"
    }
   ],
   "source": [
    "geo_float_pop"
   ]
  },
  {
   "cell_type": "code",
   "execution_count": 66,
   "metadata": {
    "scrolled": false
   },
   "outputs": [
    {
     "name": "stderr",
     "output_type": "stream",
     "text": [
      "/opt/app-root/lib/python3.6/site-packages/ipykernel_launcher.py:6: UserWarning: CRS mismatch between the CRS of left geometries and the CRS of right geometries.\n",
      "Use `to_crs()` to reproject one of the input geometries to match the CRS of the other.\n",
      "\n",
      "Left CRS: +init=epsg:4326 +type=crs\n",
      "Right CRS: EPSG:4326\n",
      "\n",
      "  \n"
     ]
    }
   ],
   "source": [
    "#coordinates를 multipolygon으로 할당\n",
    "\n",
    "point = geo_float_pop.copy()\n",
    "poly = data2.copy()\n",
    "from geopandas.tools import sjoin\n",
    "grid_float_pop = sjoin(point, poly, how='left')"
   ]
  },
  {
   "cell_type": "code",
   "execution_count": 67,
   "metadata": {},
   "outputs": [],
   "source": [
    "# 각 그리드의 월 평균 계산\n",
    "\n",
    "temp2 = grid_float_pop.groupby('gid',as_index=False).mean()"
   ]
  },
  {
   "cell_type": "code",
   "execution_count": 68,
   "metadata": {},
   "outputs": [],
   "source": [
    "temp2 = temp2.loc[:,['gid','month']]"
   ]
  },
  {
   "cell_type": "code",
   "execution_count": 69,
   "metadata": {},
   "outputs": [],
   "source": [
    "float_population = pd.merge(data2, temp2, how='left', on='gid')"
   ]
  },
  {
   "cell_type": "code",
   "execution_count": 70,
   "metadata": {},
   "outputs": [],
   "source": [
    "del float_population['accident_cnt']\n",
    "del float_population['geometry']"
   ]
  },
  {
   "cell_type": "code",
   "execution_count": 71,
   "metadata": {},
   "outputs": [],
   "source": [
    "float_population = float_population.fillna(0)"
   ]
  },
  {
   "cell_type": "code",
   "execution_count": 72,
   "metadata": {},
   "outputs": [
    {
     "data": {
      "text/plain": [
       "gid      0\n",
       "month    0\n",
       "dtype: int64"
      ]
     },
     "execution_count": 72,
     "metadata": {},
     "output_type": "execute_result"
    }
   ],
   "source": [
    "#결측값 개수 확인\n",
    "\n",
    "float_population.isnull().apply(sum)  "
   ]
  },
  {
   "cell_type": "code",
   "execution_count": 73,
   "metadata": {
    "scrolled": true
   },
   "outputs": [],
   "source": [
    "float_population = float_population.rename(columns={'month':'유동인구'})"
   ]
  },
  {
   "cell_type": "code",
   "execution_count": 74,
   "metadata": {},
   "outputs": [
    {
     "data": {
      "text/html": [
       "<div>\n",
       "<style scoped>\n",
       "    .dataframe tbody tr th:only-of-type {\n",
       "        vertical-align: middle;\n",
       "    }\n",
       "\n",
       "    .dataframe tbody tr th {\n",
       "        vertical-align: top;\n",
       "    }\n",
       "\n",
       "    .dataframe thead th {\n",
       "        text-align: right;\n",
       "    }\n",
       "</style>\n",
       "<table border=\"1\" class=\"dataframe\">\n",
       "  <thead>\n",
       "    <tr style=\"text-align: right;\">\n",
       "      <th></th>\n",
       "      <th>gid</th>\n",
       "      <th>유동인구</th>\n",
       "    </tr>\n",
       "  </thead>\n",
       "  <tbody>\n",
       "    <tr>\n",
       "      <th>0</th>\n",
       "      <td>다사551085</td>\n",
       "      <td>0.000000</td>\n",
       "    </tr>\n",
       "    <tr>\n",
       "      <th>1</th>\n",
       "      <td>다사551086</td>\n",
       "      <td>2.177000</td>\n",
       "    </tr>\n",
       "    <tr>\n",
       "      <th>2</th>\n",
       "      <td>다사551087</td>\n",
       "      <td>8.563988</td>\n",
       "    </tr>\n",
       "    <tr>\n",
       "      <th>3</th>\n",
       "      <td>다사551088</td>\n",
       "      <td>8.436250</td>\n",
       "    </tr>\n",
       "    <tr>\n",
       "      <th>4</th>\n",
       "      <td>다사552085</td>\n",
       "      <td>0.363333</td>\n",
       "    </tr>\n",
       "    <tr>\n",
       "      <th>...</th>\n",
       "      <td>...</td>\n",
       "      <td>...</td>\n",
       "    </tr>\n",
       "    <tr>\n",
       "      <th>4505</th>\n",
       "      <td>다사646052</td>\n",
       "      <td>0.000000</td>\n",
       "    </tr>\n",
       "    <tr>\n",
       "      <th>4506</th>\n",
       "      <td>다사646053</td>\n",
       "      <td>0.000000</td>\n",
       "    </tr>\n",
       "    <tr>\n",
       "      <th>4507</th>\n",
       "      <td>다사647050</td>\n",
       "      <td>0.000000</td>\n",
       "    </tr>\n",
       "    <tr>\n",
       "      <th>4508</th>\n",
       "      <td>다사647051</td>\n",
       "      <td>0.000000</td>\n",
       "    </tr>\n",
       "    <tr>\n",
       "      <th>4509</th>\n",
       "      <td>다사647052</td>\n",
       "      <td>0.000000</td>\n",
       "    </tr>\n",
       "  </tbody>\n",
       "</table>\n",
       "<p>4510 rows × 2 columns</p>\n",
       "</div>"
      ],
      "text/plain": [
       "           gid      유동인구\n",
       "0     다사551085  0.000000\n",
       "1     다사551086  2.177000\n",
       "2     다사551087  8.563988\n",
       "3     다사551088  8.436250\n",
       "4     다사552085  0.363333\n",
       "...        ...       ...\n",
       "4505  다사646052  0.000000\n",
       "4506  다사646053  0.000000\n",
       "4507  다사647050  0.000000\n",
       "4508  다사647051  0.000000\n",
       "4509  다사647052  0.000000\n",
       "\n",
       "[4510 rows x 2 columns]"
      ]
     },
     "execution_count": 74,
     "metadata": {},
     "output_type": "execute_result"
    }
   ],
   "source": [
    "float_population"
   ]
  },
  {
   "cell_type": "markdown",
   "metadata": {},
   "source": [
    "### join 할 데이터: 1번 주정차단속"
   ]
  },
  {
   "cell_type": "code",
   "execution_count": 75,
   "metadata": {},
   "outputs": [],
   "source": [
    "df1 = data1.copy()"
   ]
  },
  {
   "cell_type": "code",
   "execution_count": 76,
   "metadata": {
    "scrolled": true
   },
   "outputs": [
    {
     "data": {
      "text/plain": [
       "단속일자         0\n",
       "단속위치         0\n",
       "행정구역         0\n",
       "스쿨존여부        0\n",
       "단속위치_경도    188\n",
       "단속위치_위도    188\n",
       "단속종류         0\n",
       "dtype: int64"
      ]
     },
     "execution_count": 76,
     "metadata": {},
     "output_type": "execute_result"
    }
   ],
   "source": [
    "df1.isnull().sum()"
   ]
  },
  {
   "cell_type": "code",
   "execution_count": 77,
   "metadata": {
    "scrolled": true
   },
   "outputs": [],
   "source": [
    "#결측값 제거\n",
    "\n",
    "df1 = df1.dropna()"
   ]
  },
  {
   "cell_type": "code",
   "execution_count": 78,
   "metadata": {
    "scrolled": true
   },
   "outputs": [
    {
     "name": "stderr",
     "output_type": "stream",
     "text": [
      "/opt/app-root/lib/python3.6/site-packages/pyproj/crs/crs.py:53: FutureWarning: '+init=<authority>:<code>' syntax is deprecated. '<authority>:<code>' is the preferred initialization method. When making the change, be mindful of axis order changes: https://pyproj4.github.io/pyproj/stable/gotchas.html#axis-order-changes-in-proj-6\n",
      "  return _prepare_from_string(\" \".join(pjargs))\n"
     ]
    }
   ],
   "source": [
    "#csv를 geodataframe으로 변환\n",
    "\n",
    "from shapely.geometry import Point\n",
    "geo_parked_car = gpd.GeoDataFrame(df1.drop(['단속위치_경도','단속위치_위도'], axis=1),\n",
    "                           crs={'init':'epsg:4326'},\n",
    "                           geometry=[Point(xy) for xy in zip(df1.단속위치_경도, df1.단속위치_위도)])"
   ]
  },
  {
   "cell_type": "code",
   "execution_count": 79,
   "metadata": {
    "scrolled": true
   },
   "outputs": [
    {
     "name": "stderr",
     "output_type": "stream",
     "text": [
      "/opt/app-root/lib/python3.6/site-packages/ipykernel_launcher.py:6: UserWarning: CRS mismatch between the CRS of left geometries and the CRS of right geometries.\n",
      "Use `to_crs()` to reproject one of the input geometries to match the CRS of the other.\n",
      "\n",
      "Left CRS: +init=epsg:4326 +type=crs\n",
      "Right CRS: EPSG:4326\n",
      "\n",
      "  \n"
     ]
    }
   ],
   "source": [
    "#coordinates를 multipolygon으로 할당\n",
    "\n",
    "point = geo_parked_car.copy()\n",
    "poly = data2.copy()\n",
    "from geopandas.tools import sjoin\n",
    "grid_parked_car = sjoin(point, poly, how='left')"
   ]
  },
  {
   "cell_type": "code",
   "execution_count": 80,
   "metadata": {
    "scrolled": true
   },
   "outputs": [],
   "source": [
    "#grid별로 그룹화\n",
    "\n",
    "temp1 = grid_parked_car.groupby('gid',as_index=False).count()"
   ]
  },
  {
   "cell_type": "code",
   "execution_count": 81,
   "metadata": {
    "scrolled": true
   },
   "outputs": [],
   "source": [
    "temp1 = temp1.iloc[:,[0,1]]"
   ]
  },
  {
   "cell_type": "code",
   "execution_count": 82,
   "metadata": {},
   "outputs": [],
   "source": [
    "temp1 = temp1.rename(columns={'단속일자':'단속횟수'})"
   ]
  },
  {
   "cell_type": "code",
   "execution_count": 83,
   "metadata": {},
   "outputs": [],
   "source": [
    "parked_car = pd.merge(data2, temp1, how='left', on='gid')"
   ]
  },
  {
   "cell_type": "code",
   "execution_count": 84,
   "metadata": {},
   "outputs": [],
   "source": [
    "del parked_car['accident_cnt']\n",
    "del parked_car['geometry']"
   ]
  },
  {
   "cell_type": "code",
   "execution_count": 85,
   "metadata": {},
   "outputs": [],
   "source": [
    "parked_car = parked_car.fillna(0)"
   ]
  },
  {
   "cell_type": "code",
   "execution_count": 86,
   "metadata": {
    "scrolled": true
   },
   "outputs": [
    {
     "data": {
      "text/html": [
       "<div>\n",
       "<style scoped>\n",
       "    .dataframe tbody tr th:only-of-type {\n",
       "        vertical-align: middle;\n",
       "    }\n",
       "\n",
       "    .dataframe tbody tr th {\n",
       "        vertical-align: top;\n",
       "    }\n",
       "\n",
       "    .dataframe thead th {\n",
       "        text-align: right;\n",
       "    }\n",
       "</style>\n",
       "<table border=\"1\" class=\"dataframe\">\n",
       "  <thead>\n",
       "    <tr style=\"text-align: right;\">\n",
       "      <th></th>\n",
       "      <th>gid</th>\n",
       "      <th>단속횟수</th>\n",
       "    </tr>\n",
       "  </thead>\n",
       "  <tbody>\n",
       "    <tr>\n",
       "      <th>0</th>\n",
       "      <td>다사551085</td>\n",
       "      <td>0.0</td>\n",
       "    </tr>\n",
       "    <tr>\n",
       "      <th>1</th>\n",
       "      <td>다사551086</td>\n",
       "      <td>0.0</td>\n",
       "    </tr>\n",
       "    <tr>\n",
       "      <th>2</th>\n",
       "      <td>다사551087</td>\n",
       "      <td>0.0</td>\n",
       "    </tr>\n",
       "    <tr>\n",
       "      <th>3</th>\n",
       "      <td>다사551088</td>\n",
       "      <td>0.0</td>\n",
       "    </tr>\n",
       "    <tr>\n",
       "      <th>4</th>\n",
       "      <td>다사552085</td>\n",
       "      <td>0.0</td>\n",
       "    </tr>\n",
       "    <tr>\n",
       "      <th>...</th>\n",
       "      <td>...</td>\n",
       "      <td>...</td>\n",
       "    </tr>\n",
       "    <tr>\n",
       "      <th>4505</th>\n",
       "      <td>다사646052</td>\n",
       "      <td>0.0</td>\n",
       "    </tr>\n",
       "    <tr>\n",
       "      <th>4506</th>\n",
       "      <td>다사646053</td>\n",
       "      <td>0.0</td>\n",
       "    </tr>\n",
       "    <tr>\n",
       "      <th>4507</th>\n",
       "      <td>다사647050</td>\n",
       "      <td>0.0</td>\n",
       "    </tr>\n",
       "    <tr>\n",
       "      <th>4508</th>\n",
       "      <td>다사647051</td>\n",
       "      <td>0.0</td>\n",
       "    </tr>\n",
       "    <tr>\n",
       "      <th>4509</th>\n",
       "      <td>다사647052</td>\n",
       "      <td>0.0</td>\n",
       "    </tr>\n",
       "  </tbody>\n",
       "</table>\n",
       "<p>4510 rows × 2 columns</p>\n",
       "</div>"
      ],
      "text/plain": [
       "           gid  단속횟수\n",
       "0     다사551085   0.0\n",
       "1     다사551086   0.0\n",
       "2     다사551087   0.0\n",
       "3     다사551088   0.0\n",
       "4     다사552085   0.0\n",
       "...        ...   ...\n",
       "4505  다사646052   0.0\n",
       "4506  다사646053   0.0\n",
       "4507  다사647050   0.0\n",
       "4508  다사647051   0.0\n",
       "4509  다사647052   0.0\n",
       "\n",
       "[4510 rows x 2 columns]"
      ]
     },
     "execution_count": 86,
     "metadata": {},
     "output_type": "execute_result"
    }
   ],
   "source": [
    "parked_car"
   ]
  },
  {
   "cell_type": "markdown",
   "metadata": {},
   "source": [
    "### join 할 데이터: 24번 교통량"
   ]
  },
  {
   "cell_type": "code",
   "execution_count": 87,
   "metadata": {},
   "outputs": [],
   "source": [
    "df1 = data24.copy()"
   ]
  },
  {
   "cell_type": "code",
   "execution_count": 88,
   "metadata": {},
   "outputs": [],
   "source": [
    "#하루의 교통량만 사용\n",
    "\n",
    "df1 = df1[df1['시간적범위']=='전일']"
   ]
  },
  {
   "cell_type": "code",
   "execution_count": 89,
   "metadata": {},
   "outputs": [],
   "source": [
    "df1['상세도로망_LinkID'] = df1['상세도로망_LinkID'].astype(str)"
   ]
  },
  {
   "cell_type": "code",
   "execution_count": 90,
   "metadata": {},
   "outputs": [],
   "source": [
    "#상행선과 하행선 구분 X\n",
    "\n",
    "df1['link_id'] = df1['상세도로망_LinkID'].str[0:9]"
   ]
  },
  {
   "cell_type": "code",
   "execution_count": 91,
   "metadata": {},
   "outputs": [],
   "source": [
    "df1 = df1.groupby('link_id', as_index=False).sum()"
   ]
  },
  {
   "cell_type": "code",
   "execution_count": 92,
   "metadata": {},
   "outputs": [],
   "source": [
    "df2 = data23.copy()"
   ]
  },
  {
   "cell_type": "code",
   "execution_count": 93,
   "metadata": {},
   "outputs": [],
   "source": [
    "traffic = pd.merge(df1, df2, how='left', on='link_id')"
   ]
  },
  {
   "cell_type": "code",
   "execution_count": 94,
   "metadata": {},
   "outputs": [],
   "source": [
    "#고속도로, 도시고속국도, 고속도로 연결램프 제거\n",
    "\n",
    "for i in range(3, 8, 1):\n",
    "    traffic_a = traffic[traffic['road_rank'] == '10%d' %i]\n",
    "    if i == 3:\n",
    "        traffic_b = traffic_a\n",
    "    else:\n",
    "        traffic_b = pd.concat([traffic_b,traffic_a],axis = 0)"
   ]
  },
  {
   "cell_type": "code",
   "execution_count": 95,
   "metadata": {},
   "outputs": [],
   "source": [
    "traffic = traffic_b.copy()"
   ]
  },
  {
   "cell_type": "code",
   "execution_count": 96,
   "metadata": {},
   "outputs": [],
   "source": [
    "traffic = traffic[['link_id', '전체 추정교통량', 'geometry']]"
   ]
  },
  {
   "cell_type": "code",
   "execution_count": 97,
   "metadata": {},
   "outputs": [],
   "source": [
    "traffic_buff = traffic.copy()"
   ]
  },
  {
   "cell_type": "code",
   "execution_count": 98,
   "metadata": {},
   "outputs": [],
   "source": [
    "traffic_buff = gpd.GeoDataFrame(traffic_buff)"
   ]
  },
  {
   "cell_type": "code",
   "execution_count": 99,
   "metadata": {},
   "outputs": [
    {
     "name": "stderr",
     "output_type": "stream",
     "text": [
      "/opt/app-root/lib/python3.6/site-packages/ipykernel_launcher.py:3: UserWarning: Geometry is in a geographic CRS. Results from 'buffer' are likely incorrect. Use 'GeoSeries.to_crs()' to re-project geometries to a projected CRS before this operation.\n",
      "\n",
      "  This is separate from the ipykernel package so we can avoid doing imports until\n"
     ]
    }
   ],
   "source": [
    "#도로의 데이터를 격자로 포함시키기 위해 버퍼 적용\n",
    "\n",
    "traffic_buff['geometry'] = traffic_buff['geometry'].buffer(0.0005)"
   ]
  },
  {
   "cell_type": "code",
   "execution_count": 100,
   "metadata": {},
   "outputs": [],
   "source": [
    "grid_point = data2.copy()"
   ]
  },
  {
   "cell_type": "code",
   "execution_count": 101,
   "metadata": {
    "scrolled": true
   },
   "outputs": [
    {
     "name": "stderr",
     "output_type": "stream",
     "text": [
      "/opt/app-root/lib/python3.6/site-packages/ipykernel_launcher.py:1: UserWarning: Geometry is in a geographic CRS. Results from 'centroid' are likely incorrect. Use 'GeoSeries.to_crs()' to re-project geometries to a projected CRS before this operation.\n",
      "\n",
      "  \"\"\"Entry point for launching an IPython kernel.\n"
     ]
    }
   ],
   "source": [
    "grid_point['geometry'] = grid_point['geometry'].centroid"
   ]
  },
  {
   "cell_type": "code",
   "execution_count": 102,
   "metadata": {},
   "outputs": [],
   "source": [
    "#coordinates를 multipolygon으로 할당\n",
    "\n",
    "point = grid_point.copy()\n",
    "poly = traffic_buff.copy()\n",
    "from geopandas.tools import sjoin\n",
    "grid_traffic = sjoin(poly, point, how='left')"
   ]
  },
  {
   "cell_type": "code",
   "execution_count": 103,
   "metadata": {},
   "outputs": [],
   "source": [
    "grid_traffic = grid_traffic.reset_index()"
   ]
  },
  {
   "cell_type": "code",
   "execution_count": 104,
   "metadata": {
    "scrolled": true
   },
   "outputs": [
    {
     "data": {
      "text/plain": [
       "index            0\n",
       "link_id          0\n",
       "전체 추정교통량         0\n",
       "geometry         0\n",
       "index_right     81\n",
       "gid             81\n",
       "accident_cnt    81\n",
       "dtype: int64"
      ]
     },
     "execution_count": 104,
     "metadata": {},
     "output_type": "execute_result"
    }
   ],
   "source": [
    "grid_traffic.isnull().sum()"
   ]
  },
  {
   "cell_type": "code",
   "execution_count": 105,
   "metadata": {},
   "outputs": [],
   "source": [
    "grid_traffic = grid_traffic.dropna()"
   ]
  },
  {
   "cell_type": "code",
   "execution_count": 106,
   "metadata": {
    "scrolled": true
   },
   "outputs": [],
   "source": [
    "#그리드별 교통량 합\n",
    "\n",
    "grid_traffic_sum = grid_traffic.groupby('gid', as_index=False).sum()"
   ]
  },
  {
   "cell_type": "code",
   "execution_count": 107,
   "metadata": {},
   "outputs": [],
   "source": [
    "#그리드별 교통량 평균\n",
    "\n",
    "grid_traffic_mean = grid_traffic.groupby('gid', as_index=False).mean()"
   ]
  },
  {
   "cell_type": "code",
   "execution_count": 108,
   "metadata": {},
   "outputs": [],
   "source": [
    "grid_traffic = pd.merge(grid_traffic_sum, grid_traffic_mean, how='left', on='gid')"
   ]
  },
  {
   "cell_type": "code",
   "execution_count": 109,
   "metadata": {
    "scrolled": true
   },
   "outputs": [],
   "source": [
    "grid_traffic = grid_traffic.iloc[:,[0, 2, 6]]"
   ]
  },
  {
   "cell_type": "code",
   "execution_count": 110,
   "metadata": {},
   "outputs": [],
   "source": [
    "grid_traffic = grid_traffic.rename(columns={'전체 추정교통량_x':'traffic_sum', '전체 추정교통량_y':'traffic_mean'})"
   ]
  },
  {
   "cell_type": "code",
   "execution_count": 111,
   "metadata": {
    "scrolled": true
   },
   "outputs": [],
   "source": [
    "traffic = pd.merge(data2, grid_traffic, how='left', on='gid')"
   ]
  },
  {
   "cell_type": "code",
   "execution_count": 112,
   "metadata": {
    "scrolled": true
   },
   "outputs": [],
   "source": [
    "traffic = traffic[['gid', 'traffic_sum', 'traffic_mean']]"
   ]
  },
  {
   "cell_type": "code",
   "execution_count": 113,
   "metadata": {},
   "outputs": [],
   "source": [
    "traffic = traffic.fillna(0)"
   ]
  },
  {
   "cell_type": "code",
   "execution_count": 114,
   "metadata": {
    "scrolled": true
   },
   "outputs": [
    {
     "data": {
      "text/html": [
       "<div>\n",
       "<style scoped>\n",
       "    .dataframe tbody tr th:only-of-type {\n",
       "        vertical-align: middle;\n",
       "    }\n",
       "\n",
       "    .dataframe tbody tr th {\n",
       "        vertical-align: top;\n",
       "    }\n",
       "\n",
       "    .dataframe thead th {\n",
       "        text-align: right;\n",
       "    }\n",
       "</style>\n",
       "<table border=\"1\" class=\"dataframe\">\n",
       "  <thead>\n",
       "    <tr style=\"text-align: right;\">\n",
       "      <th></th>\n",
       "      <th>gid</th>\n",
       "      <th>traffic_sum</th>\n",
       "      <th>traffic_mean</th>\n",
       "    </tr>\n",
       "  </thead>\n",
       "  <tbody>\n",
       "    <tr>\n",
       "      <th>0</th>\n",
       "      <td>다사551085</td>\n",
       "      <td>0.0</td>\n",
       "      <td>0.0</td>\n",
       "    </tr>\n",
       "    <tr>\n",
       "      <th>1</th>\n",
       "      <td>다사551086</td>\n",
       "      <td>0.0</td>\n",
       "      <td>0.0</td>\n",
       "    </tr>\n",
       "    <tr>\n",
       "      <th>2</th>\n",
       "      <td>다사551087</td>\n",
       "      <td>0.0</td>\n",
       "      <td>0.0</td>\n",
       "    </tr>\n",
       "    <tr>\n",
       "      <th>3</th>\n",
       "      <td>다사551088</td>\n",
       "      <td>0.0</td>\n",
       "      <td>0.0</td>\n",
       "    </tr>\n",
       "    <tr>\n",
       "      <th>4</th>\n",
       "      <td>다사552085</td>\n",
       "      <td>0.0</td>\n",
       "      <td>0.0</td>\n",
       "    </tr>\n",
       "    <tr>\n",
       "      <th>...</th>\n",
       "      <td>...</td>\n",
       "      <td>...</td>\n",
       "      <td>...</td>\n",
       "    </tr>\n",
       "    <tr>\n",
       "      <th>4505</th>\n",
       "      <td>다사646052</td>\n",
       "      <td>0.0</td>\n",
       "      <td>0.0</td>\n",
       "    </tr>\n",
       "    <tr>\n",
       "      <th>4506</th>\n",
       "      <td>다사646053</td>\n",
       "      <td>0.0</td>\n",
       "      <td>0.0</td>\n",
       "    </tr>\n",
       "    <tr>\n",
       "      <th>4507</th>\n",
       "      <td>다사647050</td>\n",
       "      <td>0.0</td>\n",
       "      <td>0.0</td>\n",
       "    </tr>\n",
       "    <tr>\n",
       "      <th>4508</th>\n",
       "      <td>다사647051</td>\n",
       "      <td>0.0</td>\n",
       "      <td>0.0</td>\n",
       "    </tr>\n",
       "    <tr>\n",
       "      <th>4509</th>\n",
       "      <td>다사647052</td>\n",
       "      <td>0.0</td>\n",
       "      <td>0.0</td>\n",
       "    </tr>\n",
       "  </tbody>\n",
       "</table>\n",
       "<p>4510 rows × 3 columns</p>\n",
       "</div>"
      ],
      "text/plain": [
       "           gid  traffic_sum  traffic_mean\n",
       "0     다사551085          0.0           0.0\n",
       "1     다사551086          0.0           0.0\n",
       "2     다사551087          0.0           0.0\n",
       "3     다사551088          0.0           0.0\n",
       "4     다사552085          0.0           0.0\n",
       "...        ...          ...           ...\n",
       "4505  다사646052          0.0           0.0\n",
       "4506  다사646053          0.0           0.0\n",
       "4507  다사647050          0.0           0.0\n",
       "4508  다사647051          0.0           0.0\n",
       "4509  다사647052          0.0           0.0\n",
       "\n",
       "[4510 rows x 3 columns]"
      ]
     },
     "execution_count": 114,
     "metadata": {},
     "output_type": "execute_result"
    }
   ],
   "source": [
    "traffic"
   ]
  },
  {
   "cell_type": "markdown",
   "metadata": {},
   "source": [
    "### join 할 데이터: 25번 혼잡빈도강도"
   ]
  },
  {
   "cell_type": "code",
   "execution_count": 115,
   "metadata": {
    "scrolled": true
   },
   "outputs": [],
   "source": [
    "df1 = data25.copy()"
   ]
  },
  {
   "cell_type": "code",
   "execution_count": 116,
   "metadata": {
    "scrolled": true
   },
   "outputs": [],
   "source": [
    "df1['상세도로망_LinkID'] = df1['상세도로망_LinkID'].astype(str)"
   ]
  },
  {
   "cell_type": "code",
   "execution_count": 117,
   "metadata": {
    "scrolled": true
   },
   "outputs": [],
   "source": [
    "df1['link_id'] = df1['상세도로망_LinkID'].str[0:9]"
   ]
  },
  {
   "cell_type": "code",
   "execution_count": 118,
   "metadata": {},
   "outputs": [],
   "source": [
    "df2 = data23.copy()"
   ]
  },
  {
   "cell_type": "code",
   "execution_count": 119,
   "metadata": {
    "scrolled": true
   },
   "outputs": [],
   "source": [
    "freq = pd.merge(df1, df2, how='left', on='link_id')"
   ]
  },
  {
   "cell_type": "code",
   "execution_count": 120,
   "metadata": {},
   "outputs": [],
   "source": [
    "for i in range(3, 8, 1):\n",
    "    freq_a = freq[freq['road_rank'] == '10%d' %i]\n",
    "    if i == 3:\n",
    "        freq_b = freq_a\n",
    "    else:\n",
    "        freq_b = pd.concat([freq_b,freq_a],axis = 0)"
   ]
  },
  {
   "cell_type": "code",
   "execution_count": 121,
   "metadata": {},
   "outputs": [],
   "source": [
    "freq = freq_b.copy()"
   ]
  },
  {
   "cell_type": "code",
   "execution_count": 122,
   "metadata": {},
   "outputs": [],
   "source": [
    "freq = freq[['link_id', '혼잡빈도강도', 'geometry']]"
   ]
  },
  {
   "cell_type": "code",
   "execution_count": 123,
   "metadata": {},
   "outputs": [],
   "source": [
    "freq_buff = freq.copy()"
   ]
  },
  {
   "cell_type": "code",
   "execution_count": 124,
   "metadata": {
    "scrolled": true
   },
   "outputs": [],
   "source": [
    "freq_buff = gpd.GeoDataFrame(freq_buff)"
   ]
  },
  {
   "cell_type": "code",
   "execution_count": 125,
   "metadata": {
    "scrolled": true
   },
   "outputs": [
    {
     "name": "stderr",
     "output_type": "stream",
     "text": [
      "/opt/app-root/lib/python3.6/site-packages/ipykernel_launcher.py:1: UserWarning: Geometry is in a geographic CRS. Results from 'buffer' are likely incorrect. Use 'GeoSeries.to_crs()' to re-project geometries to a projected CRS before this operation.\n",
      "\n",
      "  \"\"\"Entry point for launching an IPython kernel.\n"
     ]
    }
   ],
   "source": [
    "freq_buff['geometry'] = freq_buff['geometry'].buffer(0.0005)"
   ]
  },
  {
   "cell_type": "code",
   "execution_count": 126,
   "metadata": {
    "scrolled": true
   },
   "outputs": [],
   "source": [
    "poly = freq_buff.copy()\n",
    "point = grid_point.copy()\n",
    "from geopandas.tools import sjoin\n",
    "grid_freq_temp = sjoin(poly, point, how='left')"
   ]
  },
  {
   "cell_type": "code",
   "execution_count": 127,
   "metadata": {},
   "outputs": [
    {
     "data": {
      "text/plain": [
       "link_id           0\n",
       "혼잡빈도강도            0\n",
       "geometry          0\n",
       "index_right     127\n",
       "gid             127\n",
       "accident_cnt    127\n",
       "dtype: int64"
      ]
     },
     "execution_count": 127,
     "metadata": {},
     "output_type": "execute_result"
    }
   ],
   "source": [
    "grid_freq_temp.isnull().sum()"
   ]
  },
  {
   "cell_type": "code",
   "execution_count": 128,
   "metadata": {},
   "outputs": [],
   "source": [
    "grid_freq_temp = grid_freq_temp.dropna()"
   ]
  },
  {
   "cell_type": "code",
   "execution_count": 129,
   "metadata": {},
   "outputs": [],
   "source": [
    "grid_freq_temp_sum = grid_freq_temp.groupby('gid', as_index=False).sum()"
   ]
  },
  {
   "cell_type": "code",
   "execution_count": 130,
   "metadata": {},
   "outputs": [],
   "source": [
    "grid_freq_temp_mean = grid_freq_temp.groupby('gid', as_index=False).mean()"
   ]
  },
  {
   "cell_type": "code",
   "execution_count": 131,
   "metadata": {
    "scrolled": true
   },
   "outputs": [],
   "source": [
    "grid_freq = pd.merge(grid_freq_temp_sum, grid_freq_temp_mean, how='left', on='gid')"
   ]
  },
  {
   "cell_type": "code",
   "execution_count": 132,
   "metadata": {
    "scrolled": true
   },
   "outputs": [],
   "source": [
    "grid_freq = grid_freq[['gid', '혼잡빈도강도_x', '혼잡빈도강도_y']]"
   ]
  },
  {
   "cell_type": "code",
   "execution_count": 133,
   "metadata": {},
   "outputs": [],
   "source": [
    "grid_freq = grid_freq.rename(columns={'혼잡빈도강도_x':'freq_sum', '혼잡빈도강도_y':'freq_mean'})"
   ]
  },
  {
   "cell_type": "code",
   "execution_count": 134,
   "metadata": {
    "scrolled": true
   },
   "outputs": [],
   "source": [
    "freq = pd.merge(data2, grid_freq, how='left', on='gid')"
   ]
  },
  {
   "cell_type": "code",
   "execution_count": 135,
   "metadata": {},
   "outputs": [],
   "source": [
    "freq = freq[['gid', 'freq_sum', 'freq_mean']]"
   ]
  },
  {
   "cell_type": "code",
   "execution_count": 136,
   "metadata": {},
   "outputs": [],
   "source": [
    "freq = freq.fillna(0)"
   ]
  },
  {
   "cell_type": "code",
   "execution_count": 137,
   "metadata": {
    "scrolled": true
   },
   "outputs": [
    {
     "data": {
      "text/html": [
       "<div>\n",
       "<style scoped>\n",
       "    .dataframe tbody tr th:only-of-type {\n",
       "        vertical-align: middle;\n",
       "    }\n",
       "\n",
       "    .dataframe tbody tr th {\n",
       "        vertical-align: top;\n",
       "    }\n",
       "\n",
       "    .dataframe thead th {\n",
       "        text-align: right;\n",
       "    }\n",
       "</style>\n",
       "<table border=\"1\" class=\"dataframe\">\n",
       "  <thead>\n",
       "    <tr style=\"text-align: right;\">\n",
       "      <th></th>\n",
       "      <th>gid</th>\n",
       "      <th>freq_sum</th>\n",
       "      <th>freq_mean</th>\n",
       "    </tr>\n",
       "  </thead>\n",
       "  <tbody>\n",
       "    <tr>\n",
       "      <th>0</th>\n",
       "      <td>다사551085</td>\n",
       "      <td>0.0</td>\n",
       "      <td>0.0</td>\n",
       "    </tr>\n",
       "    <tr>\n",
       "      <th>1</th>\n",
       "      <td>다사551086</td>\n",
       "      <td>0.0</td>\n",
       "      <td>0.0</td>\n",
       "    </tr>\n",
       "    <tr>\n",
       "      <th>2</th>\n",
       "      <td>다사551087</td>\n",
       "      <td>0.0</td>\n",
       "      <td>0.0</td>\n",
       "    </tr>\n",
       "    <tr>\n",
       "      <th>3</th>\n",
       "      <td>다사551088</td>\n",
       "      <td>0.0</td>\n",
       "      <td>0.0</td>\n",
       "    </tr>\n",
       "    <tr>\n",
       "      <th>4</th>\n",
       "      <td>다사552085</td>\n",
       "      <td>0.0</td>\n",
       "      <td>0.0</td>\n",
       "    </tr>\n",
       "    <tr>\n",
       "      <th>...</th>\n",
       "      <td>...</td>\n",
       "      <td>...</td>\n",
       "      <td>...</td>\n",
       "    </tr>\n",
       "    <tr>\n",
       "      <th>4505</th>\n",
       "      <td>다사646052</td>\n",
       "      <td>0.0</td>\n",
       "      <td>0.0</td>\n",
       "    </tr>\n",
       "    <tr>\n",
       "      <th>4506</th>\n",
       "      <td>다사646053</td>\n",
       "      <td>0.0</td>\n",
       "      <td>0.0</td>\n",
       "    </tr>\n",
       "    <tr>\n",
       "      <th>4507</th>\n",
       "      <td>다사647050</td>\n",
       "      <td>0.0</td>\n",
       "      <td>0.0</td>\n",
       "    </tr>\n",
       "    <tr>\n",
       "      <th>4508</th>\n",
       "      <td>다사647051</td>\n",
       "      <td>0.0</td>\n",
       "      <td>0.0</td>\n",
       "    </tr>\n",
       "    <tr>\n",
       "      <th>4509</th>\n",
       "      <td>다사647052</td>\n",
       "      <td>0.0</td>\n",
       "      <td>0.0</td>\n",
       "    </tr>\n",
       "  </tbody>\n",
       "</table>\n",
       "<p>4510 rows × 3 columns</p>\n",
       "</div>"
      ],
      "text/plain": [
       "           gid  freq_sum  freq_mean\n",
       "0     다사551085       0.0        0.0\n",
       "1     다사551086       0.0        0.0\n",
       "2     다사551087       0.0        0.0\n",
       "3     다사551088       0.0        0.0\n",
       "4     다사552085       0.0        0.0\n",
       "...        ...       ...        ...\n",
       "4505  다사646052       0.0        0.0\n",
       "4506  다사646053       0.0        0.0\n",
       "4507  다사647050       0.0        0.0\n",
       "4508  다사647051       0.0        0.0\n",
       "4509  다사647052       0.0        0.0\n",
       "\n",
       "[4510 rows x 3 columns]"
      ]
     },
     "execution_count": 137,
     "metadata": {},
     "output_type": "execute_result"
    }
   ],
   "source": [
    "freq"
   ]
  },
  {
   "cell_type": "markdown",
   "metadata": {},
   "source": [
    "### join 할 데이터: 26번 혼잡시간강도"
   ]
  },
  {
   "cell_type": "code",
   "execution_count": 138,
   "metadata": {},
   "outputs": [],
   "source": [
    "df1 = data26.copy()"
   ]
  },
  {
   "cell_type": "code",
   "execution_count": 139,
   "metadata": {},
   "outputs": [],
   "source": [
    "df1['상세도로망_LinkID'] = df1['상세도로망_LinkID'].astype(str)"
   ]
  },
  {
   "cell_type": "code",
   "execution_count": 140,
   "metadata": {
    "scrolled": true
   },
   "outputs": [],
   "source": [
    "df1['link_id'] = df1['상세도로망_LinkID'].str[0:9]"
   ]
  },
  {
   "cell_type": "code",
   "execution_count": 141,
   "metadata": {},
   "outputs": [],
   "source": [
    "df2 = data23.copy()"
   ]
  },
  {
   "cell_type": "code",
   "execution_count": 142,
   "metadata": {
    "scrolled": true
   },
   "outputs": [],
   "source": [
    "time = pd.merge(df1, df2, how='left', on='link_id')"
   ]
  },
  {
   "cell_type": "code",
   "execution_count": 143,
   "metadata": {},
   "outputs": [],
   "source": [
    "for i in range(3, 8, 1):\n",
    "    time_a = time[time['road_rank'] == '10%d' %i]\n",
    "    if i == 3:\n",
    "        time_b = time_a\n",
    "    else:\n",
    "        time_b = pd.concat([time_b,time_a],axis = 0)"
   ]
  },
  {
   "cell_type": "code",
   "execution_count": 144,
   "metadata": {},
   "outputs": [],
   "source": [
    "time = time_b.copy()"
   ]
  },
  {
   "cell_type": "code",
   "execution_count": 145,
   "metadata": {},
   "outputs": [],
   "source": [
    "time = time[['link_id', '혼잡시간강도', 'geometry']]"
   ]
  },
  {
   "cell_type": "code",
   "execution_count": 146,
   "metadata": {},
   "outputs": [],
   "source": [
    "time_buff = time.copy()"
   ]
  },
  {
   "cell_type": "code",
   "execution_count": 147,
   "metadata": {},
   "outputs": [],
   "source": [
    "time_buff = gpd.GeoDataFrame(time_buff)"
   ]
  },
  {
   "cell_type": "code",
   "execution_count": 148,
   "metadata": {},
   "outputs": [
    {
     "name": "stderr",
     "output_type": "stream",
     "text": [
      "/opt/app-root/lib/python3.6/site-packages/ipykernel_launcher.py:1: UserWarning: Geometry is in a geographic CRS. Results from 'buffer' are likely incorrect. Use 'GeoSeries.to_crs()' to re-project geometries to a projected CRS before this operation.\n",
      "\n",
      "  \"\"\"Entry point for launching an IPython kernel.\n"
     ]
    }
   ],
   "source": [
    "time_buff['geometry'] = time_buff['geometry'].buffer(0.0005)"
   ]
  },
  {
   "cell_type": "code",
   "execution_count": 149,
   "metadata": {},
   "outputs": [],
   "source": [
    "poly = time_buff.copy()\n",
    "point = grid_point.copy()\n",
    "from geopandas.tools import sjoin\n",
    "grid_time_temp = sjoin(poly, point, how='left')"
   ]
  },
  {
   "cell_type": "code",
   "execution_count": 150,
   "metadata": {},
   "outputs": [
    {
     "data": {
      "text/plain": [
       "link_id           0\n",
       "혼잡시간강도            0\n",
       "geometry          0\n",
       "index_right     127\n",
       "gid             127\n",
       "accident_cnt    127\n",
       "dtype: int64"
      ]
     },
     "execution_count": 150,
     "metadata": {},
     "output_type": "execute_result"
    }
   ],
   "source": [
    "grid_time_temp.isnull().sum()"
   ]
  },
  {
   "cell_type": "code",
   "execution_count": 151,
   "metadata": {
    "scrolled": true
   },
   "outputs": [],
   "source": [
    "grid_time_temp = grid_time_temp.dropna()"
   ]
  },
  {
   "cell_type": "code",
   "execution_count": 152,
   "metadata": {},
   "outputs": [],
   "source": [
    "grid_time_temp_sum = grid_time_temp.groupby('gid', as_index=False).sum()"
   ]
  },
  {
   "cell_type": "code",
   "execution_count": 153,
   "metadata": {},
   "outputs": [],
   "source": [
    "grid_time_temp_mean = grid_time_temp.groupby('gid', as_index=False).mean()"
   ]
  },
  {
   "cell_type": "code",
   "execution_count": 154,
   "metadata": {},
   "outputs": [],
   "source": [
    "grid_time = pd.merge(grid_time_temp_sum, grid_time_temp_mean, how='left', on='gid')"
   ]
  },
  {
   "cell_type": "code",
   "execution_count": 155,
   "metadata": {},
   "outputs": [],
   "source": [
    "grid_time = grid_time[['gid', '혼잡시간강도_x', '혼잡시간강도_y']]"
   ]
  },
  {
   "cell_type": "code",
   "execution_count": 156,
   "metadata": {},
   "outputs": [],
   "source": [
    "grid_time = grid_time.rename(columns={'혼잡시간강도_x':'time_sum','혼잡시간강도_y':'time_mean'})"
   ]
  },
  {
   "cell_type": "code",
   "execution_count": 157,
   "metadata": {
    "scrolled": true
   },
   "outputs": [],
   "source": [
    "time = pd.merge(data2, grid_time, how='left', on='gid')"
   ]
  },
  {
   "cell_type": "code",
   "execution_count": 158,
   "metadata": {},
   "outputs": [],
   "source": [
    "time = time[['gid', 'time_sum', 'time_mean']]"
   ]
  },
  {
   "cell_type": "code",
   "execution_count": 159,
   "metadata": {
    "scrolled": true
   },
   "outputs": [],
   "source": [
    "time = time.fillna(0)"
   ]
  },
  {
   "cell_type": "code",
   "execution_count": 160,
   "metadata": {
    "scrolled": true
   },
   "outputs": [
    {
     "data": {
      "text/html": [
       "<div>\n",
       "<style scoped>\n",
       "    .dataframe tbody tr th:only-of-type {\n",
       "        vertical-align: middle;\n",
       "    }\n",
       "\n",
       "    .dataframe tbody tr th {\n",
       "        vertical-align: top;\n",
       "    }\n",
       "\n",
       "    .dataframe thead th {\n",
       "        text-align: right;\n",
       "    }\n",
       "</style>\n",
       "<table border=\"1\" class=\"dataframe\">\n",
       "  <thead>\n",
       "    <tr style=\"text-align: right;\">\n",
       "      <th></th>\n",
       "      <th>gid</th>\n",
       "      <th>time_sum</th>\n",
       "      <th>time_mean</th>\n",
       "    </tr>\n",
       "  </thead>\n",
       "  <tbody>\n",
       "    <tr>\n",
       "      <th>0</th>\n",
       "      <td>다사551085</td>\n",
       "      <td>0.0</td>\n",
       "      <td>0.0</td>\n",
       "    </tr>\n",
       "    <tr>\n",
       "      <th>1</th>\n",
       "      <td>다사551086</td>\n",
       "      <td>0.0</td>\n",
       "      <td>0.0</td>\n",
       "    </tr>\n",
       "    <tr>\n",
       "      <th>2</th>\n",
       "      <td>다사551087</td>\n",
       "      <td>0.0</td>\n",
       "      <td>0.0</td>\n",
       "    </tr>\n",
       "    <tr>\n",
       "      <th>3</th>\n",
       "      <td>다사551088</td>\n",
       "      <td>0.0</td>\n",
       "      <td>0.0</td>\n",
       "    </tr>\n",
       "    <tr>\n",
       "      <th>4</th>\n",
       "      <td>다사552085</td>\n",
       "      <td>0.0</td>\n",
       "      <td>0.0</td>\n",
       "    </tr>\n",
       "    <tr>\n",
       "      <th>...</th>\n",
       "      <td>...</td>\n",
       "      <td>...</td>\n",
       "      <td>...</td>\n",
       "    </tr>\n",
       "    <tr>\n",
       "      <th>4505</th>\n",
       "      <td>다사646052</td>\n",
       "      <td>0.0</td>\n",
       "      <td>0.0</td>\n",
       "    </tr>\n",
       "    <tr>\n",
       "      <th>4506</th>\n",
       "      <td>다사646053</td>\n",
       "      <td>0.0</td>\n",
       "      <td>0.0</td>\n",
       "    </tr>\n",
       "    <tr>\n",
       "      <th>4507</th>\n",
       "      <td>다사647050</td>\n",
       "      <td>0.0</td>\n",
       "      <td>0.0</td>\n",
       "    </tr>\n",
       "    <tr>\n",
       "      <th>4508</th>\n",
       "      <td>다사647051</td>\n",
       "      <td>0.0</td>\n",
       "      <td>0.0</td>\n",
       "    </tr>\n",
       "    <tr>\n",
       "      <th>4509</th>\n",
       "      <td>다사647052</td>\n",
       "      <td>0.0</td>\n",
       "      <td>0.0</td>\n",
       "    </tr>\n",
       "  </tbody>\n",
       "</table>\n",
       "<p>4510 rows × 3 columns</p>\n",
       "</div>"
      ],
      "text/plain": [
       "           gid  time_sum  time_mean\n",
       "0     다사551085       0.0        0.0\n",
       "1     다사551086       0.0        0.0\n",
       "2     다사551087       0.0        0.0\n",
       "3     다사551088       0.0        0.0\n",
       "4     다사552085       0.0        0.0\n",
       "...        ...       ...        ...\n",
       "4505  다사646052       0.0        0.0\n",
       "4506  다사646053       0.0        0.0\n",
       "4507  다사647050       0.0        0.0\n",
       "4508  다사647051       0.0        0.0\n",
       "4509  다사647052       0.0        0.0\n",
       "\n",
       "[4510 rows x 3 columns]"
      ]
     },
     "execution_count": 160,
     "metadata": {},
     "output_type": "execute_result"
    }
   ],
   "source": [
    "time"
   ]
  },
  {
   "cell_type": "markdown",
   "metadata": {},
   "source": [
    "### join 할 데이터: 추가 주정차단속+횡단보도"
   ]
  },
  {
   "cell_type": "code",
   "execution_count": 161,
   "metadata": {},
   "outputs": [],
   "source": [
    "df1 = data1.copy()"
   ]
  },
  {
   "cell_type": "code",
   "execution_count": 162,
   "metadata": {},
   "outputs": [],
   "source": [
    "df1 = df1.dropna()"
   ]
  },
  {
   "cell_type": "code",
   "execution_count": 163,
   "metadata": {},
   "outputs": [
    {
     "name": "stderr",
     "output_type": "stream",
     "text": [
      "/opt/app-root/lib/python3.6/site-packages/pyproj/crs/crs.py:53: FutureWarning: '+init=<authority>:<code>' syntax is deprecated. '<authority>:<code>' is the preferred initialization method. When making the change, be mindful of axis order changes: https://pyproj4.github.io/pyproj/stable/gotchas.html#axis-order-changes-in-proj-6\n",
      "  return _prepare_from_string(\" \".join(pjargs))\n"
     ]
    }
   ],
   "source": [
    "#csv를 geodataframe으로 변환\n",
    "\n",
    "from shapely.geometry import Point\n",
    "park_point = gpd.GeoDataFrame(df1.drop(['단속위치_경도','단속위치_위도'], axis=1),\n",
    "                           crs={'init':'epsg:4326'},\n",
    "                           geometry=[Point(xy) for xy in zip(df1.단속위치_경도, df1.단속위치_위도)])"
   ]
  },
  {
   "cell_type": "code",
   "execution_count": 164,
   "metadata": {},
   "outputs": [],
   "source": [
    "cross_buff = data17.copy()"
   ]
  },
  {
   "cell_type": "code",
   "execution_count": 165,
   "metadata": {},
   "outputs": [
    {
     "name": "stderr",
     "output_type": "stream",
     "text": [
      "/opt/app-root/lib/python3.6/site-packages/ipykernel_launcher.py:1: UserWarning: Geometry is in a geographic CRS. Results from 'buffer' are likely incorrect. Use 'GeoSeries.to_crs()' to re-project geometries to a projected CRS before this operation.\n",
      "\n",
      "  \"\"\"Entry point for launching an IPython kernel.\n"
     ]
    }
   ],
   "source": [
    "cross_buff['geometry'] = cross_buff['geometry'].buffer(0.00005)   #5미터"
   ]
  },
  {
   "cell_type": "code",
   "execution_count": 166,
   "metadata": {},
   "outputs": [
    {
     "name": "stderr",
     "output_type": "stream",
     "text": [
      "/opt/app-root/lib/python3.6/site-packages/ipykernel_launcher.py:6: UserWarning: CRS mismatch between the CRS of left geometries and the CRS of right geometries.\n",
      "Use `to_crs()` to reproject one of the input geometries to match the CRS of the other.\n",
      "\n",
      "Left CRS: +init=epsg:4326 +type=crs\n",
      "Right CRS: EPSG:4326\n",
      "\n",
      "  \n"
     ]
    }
   ],
   "source": [
    "#주정차단속 좌표를 multipolygon으로 할당\n",
    "\n",
    "point = park_point.copy()\n",
    "poly = cross_buff.copy()\n",
    "from geopandas.tools import sjoin\n",
    "park_cross = sjoin(point, poly, how='left')"
   ]
  },
  {
   "cell_type": "code",
   "execution_count": 167,
   "metadata": {},
   "outputs": [
    {
     "data": {
      "text/plain": [
       "단속일자               0\n",
       "단속위치               0\n",
       "행정구역               0\n",
       "스쿨존여부              0\n",
       "단속종류               0\n",
       "geometry           0\n",
       "index_right    44206\n",
       "OBJECTID       44206\n",
       "dtype: int64"
      ]
     },
     "execution_count": 167,
     "metadata": {},
     "output_type": "execute_result"
    }
   ],
   "source": [
    "park_cross.isnull().sum()"
   ]
  },
  {
   "cell_type": "code",
   "execution_count": 168,
   "metadata": {},
   "outputs": [],
   "source": [
    "park_cross = park_cross.dropna()"
   ]
  },
  {
   "cell_type": "code",
   "execution_count": 169,
   "metadata": {},
   "outputs": [],
   "source": [
    "del park_cross['index_right']"
   ]
  },
  {
   "cell_type": "code",
   "execution_count": 170,
   "metadata": {},
   "outputs": [
    {
     "name": "stderr",
     "output_type": "stream",
     "text": [
      "/opt/app-root/lib/python3.6/site-packages/ipykernel_launcher.py:4: UserWarning: CRS mismatch between the CRS of left geometries and the CRS of right geometries.\n",
      "Use `to_crs()` to reproject one of the input geometries to match the CRS of the other.\n",
      "\n",
      "Left CRS: +init=epsg:4326 +type=crs\n",
      "Right CRS: EPSG:4326\n",
      "\n",
      "  after removing the cwd from sys.path.\n"
     ]
    }
   ],
   "source": [
    "point = park_cross.copy()   #주정차단속 좌표를 multipolygon으로 할당#\n",
    "poly = data2.copy()\n",
    "from geopandas.tools import sjoin\n",
    "grid_park_cross = sjoin(point, poly, how='left')"
   ]
  },
  {
   "cell_type": "code",
   "execution_count": 171,
   "metadata": {},
   "outputs": [],
   "source": [
    "grid_park_cross = grid_park_cross.groupby('gid', as_index=False).count()"
   ]
  },
  {
   "cell_type": "code",
   "execution_count": 172,
   "metadata": {},
   "outputs": [],
   "source": [
    "grid_park_cross = grid_park_cross.iloc[:,[0,1]]"
   ]
  },
  {
   "cell_type": "code",
   "execution_count": 173,
   "metadata": {},
   "outputs": [],
   "source": [
    "grid_park_cross = grid_park_cross.rename(columns={'단속일자':'단속횟수_횡단보도위'})"
   ]
  },
  {
   "cell_type": "code",
   "execution_count": 174,
   "metadata": {},
   "outputs": [],
   "source": [
    "grid_park_cross = pd.merge(data2, grid_park_cross, how='left', on='gid')"
   ]
  },
  {
   "cell_type": "code",
   "execution_count": 175,
   "metadata": {},
   "outputs": [],
   "source": [
    "grid_park_cross = grid_park_cross.fillna(0)"
   ]
  },
  {
   "cell_type": "code",
   "execution_count": 176,
   "metadata": {},
   "outputs": [],
   "source": [
    "grid_park_cross = grid_park_cross[['gid', '단속횟수_횡단보도위']]"
   ]
  },
  {
   "cell_type": "code",
   "execution_count": 177,
   "metadata": {},
   "outputs": [],
   "source": [
    "park_cross = grid_park_cross.copy()"
   ]
  },
  {
   "cell_type": "code",
   "execution_count": 178,
   "metadata": {},
   "outputs": [
    {
     "data": {
      "text/html": [
       "<div>\n",
       "<style scoped>\n",
       "    .dataframe tbody tr th:only-of-type {\n",
       "        vertical-align: middle;\n",
       "    }\n",
       "\n",
       "    .dataframe tbody tr th {\n",
       "        vertical-align: top;\n",
       "    }\n",
       "\n",
       "    .dataframe thead th {\n",
       "        text-align: right;\n",
       "    }\n",
       "</style>\n",
       "<table border=\"1\" class=\"dataframe\">\n",
       "  <thead>\n",
       "    <tr style=\"text-align: right;\">\n",
       "      <th></th>\n",
       "      <th>gid</th>\n",
       "      <th>단속횟수_횡단보도위</th>\n",
       "    </tr>\n",
       "  </thead>\n",
       "  <tbody>\n",
       "    <tr>\n",
       "      <th>0</th>\n",
       "      <td>다사551085</td>\n",
       "      <td>0.0</td>\n",
       "    </tr>\n",
       "    <tr>\n",
       "      <th>1</th>\n",
       "      <td>다사551086</td>\n",
       "      <td>0.0</td>\n",
       "    </tr>\n",
       "    <tr>\n",
       "      <th>2</th>\n",
       "      <td>다사551087</td>\n",
       "      <td>0.0</td>\n",
       "    </tr>\n",
       "    <tr>\n",
       "      <th>3</th>\n",
       "      <td>다사551088</td>\n",
       "      <td>0.0</td>\n",
       "    </tr>\n",
       "    <tr>\n",
       "      <th>4</th>\n",
       "      <td>다사552085</td>\n",
       "      <td>0.0</td>\n",
       "    </tr>\n",
       "    <tr>\n",
       "      <th>...</th>\n",
       "      <td>...</td>\n",
       "      <td>...</td>\n",
       "    </tr>\n",
       "    <tr>\n",
       "      <th>4505</th>\n",
       "      <td>다사646052</td>\n",
       "      <td>0.0</td>\n",
       "    </tr>\n",
       "    <tr>\n",
       "      <th>4506</th>\n",
       "      <td>다사646053</td>\n",
       "      <td>0.0</td>\n",
       "    </tr>\n",
       "    <tr>\n",
       "      <th>4507</th>\n",
       "      <td>다사647050</td>\n",
       "      <td>0.0</td>\n",
       "    </tr>\n",
       "    <tr>\n",
       "      <th>4508</th>\n",
       "      <td>다사647051</td>\n",
       "      <td>0.0</td>\n",
       "    </tr>\n",
       "    <tr>\n",
       "      <th>4509</th>\n",
       "      <td>다사647052</td>\n",
       "      <td>0.0</td>\n",
       "    </tr>\n",
       "  </tbody>\n",
       "</table>\n",
       "<p>4510 rows × 2 columns</p>\n",
       "</div>"
      ],
      "text/plain": [
       "           gid  단속횟수_횡단보도위\n",
       "0     다사551085         0.0\n",
       "1     다사551086         0.0\n",
       "2     다사551087         0.0\n",
       "3     다사551088         0.0\n",
       "4     다사552085         0.0\n",
       "...        ...         ...\n",
       "4505  다사646052         0.0\n",
       "4506  다사646053         0.0\n",
       "4507  다사647050         0.0\n",
       "4508  다사647051         0.0\n",
       "4509  다사647052         0.0\n",
       "\n",
       "[4510 rows x 2 columns]"
      ]
     },
     "execution_count": 178,
     "metadata": {},
     "output_type": "execute_result"
    }
   ],
   "source": [
    "park_cross"
   ]
  },
  {
   "cell_type": "markdown",
   "metadata": {},
   "source": [
    "### join 할 데이터: 여러가지 데이터"
   ]
  },
  {
   "cell_type": "code",
   "execution_count": 179,
   "metadata": {},
   "outputs": [],
   "source": [
    "var_data = pd.merge(data2,data3,how = 'left', on='geometry')"
   ]
  },
  {
   "cell_type": "code",
   "execution_count": 180,
   "metadata": {},
   "outputs": [],
   "source": [
    "var_data = pd.merge(var_data,data4,on='geometry')\n",
    "var_data = var_data.rename(columns = {'val':'pop_all'})"
   ]
  },
  {
   "cell_type": "code",
   "execution_count": 181,
   "metadata": {},
   "outputs": [],
   "source": [
    "del var_data['gid_y']\n",
    "del var_data['gid_x']"
   ]
  },
  {
   "cell_type": "code",
   "execution_count": 182,
   "metadata": {},
   "outputs": [],
   "source": [
    "var_data = pd.merge(var_data,data5,on='geometry')\n",
    "var_data = var_data.rename(columns = {'val':'pop_child'})"
   ]
  },
  {
   "cell_type": "code",
   "execution_count": 183,
   "metadata": {},
   "outputs": [],
   "source": [
    "del var_data['gid_y']\n",
    "del var_data['accident_cnt']\n",
    "del var_data['geometry']"
   ]
  },
  {
   "cell_type": "code",
   "execution_count": 184,
   "metadata": {
    "scrolled": true
   },
   "outputs": [],
   "source": [
    "var_data = var_data.rename(columns={'gid_x':'gid'})"
   ]
  },
  {
   "cell_type": "code",
   "execution_count": 185,
   "metadata": {
    "scrolled": true
   },
   "outputs": [],
   "source": [
    "var_data = var_data[['gid','car_cnt','pop_all','pop_child']]"
   ]
  },
  {
   "cell_type": "code",
   "execution_count": 186,
   "metadata": {},
   "outputs": [
    {
     "data": {
      "text/plain": [
       "gid             0\n",
       "car_cnt         0\n",
       "pop_all      2921\n",
       "pop_child    3543\n",
       "dtype: int64"
      ]
     },
     "execution_count": 186,
     "metadata": {},
     "output_type": "execute_result"
    }
   ],
   "source": [
    "var_data.isnull().sum()"
   ]
  },
  {
   "cell_type": "code",
   "execution_count": 187,
   "metadata": {
    "scrolled": true
   },
   "outputs": [],
   "source": [
    "var_data = var_data.fillna(0)"
   ]
  },
  {
   "cell_type": "code",
   "execution_count": 188,
   "metadata": {},
   "outputs": [
    {
     "data": {
      "text/html": [
       "<div>\n",
       "<style scoped>\n",
       "    .dataframe tbody tr th:only-of-type {\n",
       "        vertical-align: middle;\n",
       "    }\n",
       "\n",
       "    .dataframe tbody tr th {\n",
       "        vertical-align: top;\n",
       "    }\n",
       "\n",
       "    .dataframe thead th {\n",
       "        text-align: right;\n",
       "    }\n",
       "</style>\n",
       "<table border=\"1\" class=\"dataframe\">\n",
       "  <thead>\n",
       "    <tr style=\"text-align: right;\">\n",
       "      <th></th>\n",
       "      <th>gid</th>\n",
       "      <th>car_cnt</th>\n",
       "      <th>pop_all</th>\n",
       "      <th>pop_child</th>\n",
       "    </tr>\n",
       "  </thead>\n",
       "  <tbody>\n",
       "    <tr>\n",
       "      <th>0</th>\n",
       "      <td>다사551085</td>\n",
       "      <td>0</td>\n",
       "      <td>0.0</td>\n",
       "      <td>0.0</td>\n",
       "    </tr>\n",
       "    <tr>\n",
       "      <th>1</th>\n",
       "      <td>다사551086</td>\n",
       "      <td>0</td>\n",
       "      <td>0.0</td>\n",
       "      <td>0.0</td>\n",
       "    </tr>\n",
       "    <tr>\n",
       "      <th>2</th>\n",
       "      <td>다사551087</td>\n",
       "      <td>0</td>\n",
       "      <td>0.0</td>\n",
       "      <td>0.0</td>\n",
       "    </tr>\n",
       "    <tr>\n",
       "      <th>3</th>\n",
       "      <td>다사551088</td>\n",
       "      <td>0</td>\n",
       "      <td>0.0</td>\n",
       "      <td>0.0</td>\n",
       "    </tr>\n",
       "    <tr>\n",
       "      <th>4</th>\n",
       "      <td>다사552085</td>\n",
       "      <td>0</td>\n",
       "      <td>0.0</td>\n",
       "      <td>0.0</td>\n",
       "    </tr>\n",
       "    <tr>\n",
       "      <th>...</th>\n",
       "      <td>...</td>\n",
       "      <td>...</td>\n",
       "      <td>...</td>\n",
       "      <td>...</td>\n",
       "    </tr>\n",
       "    <tr>\n",
       "      <th>4505</th>\n",
       "      <td>다사646052</td>\n",
       "      <td>0</td>\n",
       "      <td>0.0</td>\n",
       "      <td>0.0</td>\n",
       "    </tr>\n",
       "    <tr>\n",
       "      <th>4506</th>\n",
       "      <td>다사646053</td>\n",
       "      <td>0</td>\n",
       "      <td>0.0</td>\n",
       "      <td>0.0</td>\n",
       "    </tr>\n",
       "    <tr>\n",
       "      <th>4507</th>\n",
       "      <td>다사647050</td>\n",
       "      <td>0</td>\n",
       "      <td>0.0</td>\n",
       "      <td>0.0</td>\n",
       "    </tr>\n",
       "    <tr>\n",
       "      <th>4508</th>\n",
       "      <td>다사647051</td>\n",
       "      <td>0</td>\n",
       "      <td>0.0</td>\n",
       "      <td>0.0</td>\n",
       "    </tr>\n",
       "    <tr>\n",
       "      <th>4509</th>\n",
       "      <td>다사647052</td>\n",
       "      <td>0</td>\n",
       "      <td>0.0</td>\n",
       "      <td>0.0</td>\n",
       "    </tr>\n",
       "  </tbody>\n",
       "</table>\n",
       "<p>4510 rows × 4 columns</p>\n",
       "</div>"
      ],
      "text/plain": [
       "           gid  car_cnt  pop_all  pop_child\n",
       "0     다사551085        0      0.0        0.0\n",
       "1     다사551086        0      0.0        0.0\n",
       "2     다사551087        0      0.0        0.0\n",
       "3     다사551088        0      0.0        0.0\n",
       "4     다사552085        0      0.0        0.0\n",
       "...        ...      ...      ...        ...\n",
       "4505  다사646052        0      0.0        0.0\n",
       "4506  다사646053        0      0.0        0.0\n",
       "4507  다사647050        0      0.0        0.0\n",
       "4508  다사647051        0      0.0        0.0\n",
       "4509  다사647052        0      0.0        0.0\n",
       "\n",
       "[4510 rows x 4 columns]"
      ]
     },
     "execution_count": 188,
     "metadata": {},
     "output_type": "execute_result"
    }
   ],
   "source": [
    "var_data"
   ]
  },
  {
   "cell_type": "markdown",
   "metadata": {},
   "source": [
    "### join 할 데이터:  15번 단속카메라"
   ]
  },
  {
   "cell_type": "code",
   "execution_count": 189,
   "metadata": {},
   "outputs": [],
   "source": [
    "df1 = data15.copy()"
   ]
  },
  {
   "cell_type": "code",
   "execution_count": 190,
   "metadata": {},
   "outputs": [],
   "source": [
    "df2 = data2.copy()"
   ]
  },
  {
   "cell_type": "code",
   "execution_count": 191,
   "metadata": {},
   "outputs": [],
   "source": [
    "# 각 좌표가 어떤 그리드에 포함되는지 저장\n",
    "camera_grid=[]\n",
    "\n",
    "for i in range(112):\n",
    "    temp = Point(df1['설치위치_경도'][i], df1['설치위치_위도'][i])\n",
    "    for j in range(4510):\n",
    "        if temp.within(df2['geometry'][j]) == True:\n",
    "            camera_grid.append(df2['gid'][j])"
   ]
  },
  {
   "cell_type": "code",
   "execution_count": 192,
   "metadata": {},
   "outputs": [],
   "source": [
    "# 각 그리드별 개수를 변수로 저장\n",
    "camera_cnt = []\n",
    "\n",
    "for i in range(4510):\n",
    "    camera_cnt.append(camera_grid.count(df2['gid'][i]))\n",
    "    \n",
    "df2['camera_cnt'] = camera_cnt"
   ]
  },
  {
   "cell_type": "code",
   "execution_count": 193,
   "metadata": {},
   "outputs": [],
   "source": [
    "camera = df2.copy()"
   ]
  },
  {
   "cell_type": "code",
   "execution_count": 194,
   "metadata": {},
   "outputs": [],
   "source": [
    "camera = camera.rename(columns={'camera_cnt':'단속카메라'})"
   ]
  },
  {
   "cell_type": "code",
   "execution_count": 195,
   "metadata": {},
   "outputs": [],
   "source": [
    "del camera['accident_cnt']\n",
    "del camera['geometry']"
   ]
  },
  {
   "cell_type": "code",
   "execution_count": 196,
   "metadata": {},
   "outputs": [
    {
     "data": {
      "text/html": [
       "<div>\n",
       "<style scoped>\n",
       "    .dataframe tbody tr th:only-of-type {\n",
       "        vertical-align: middle;\n",
       "    }\n",
       "\n",
       "    .dataframe tbody tr th {\n",
       "        vertical-align: top;\n",
       "    }\n",
       "\n",
       "    .dataframe thead th {\n",
       "        text-align: right;\n",
       "    }\n",
       "</style>\n",
       "<table border=\"1\" class=\"dataframe\">\n",
       "  <thead>\n",
       "    <tr style=\"text-align: right;\">\n",
       "      <th></th>\n",
       "      <th>gid</th>\n",
       "      <th>단속카메라</th>\n",
       "    </tr>\n",
       "  </thead>\n",
       "  <tbody>\n",
       "    <tr>\n",
       "      <th>0</th>\n",
       "      <td>다사551085</td>\n",
       "      <td>0</td>\n",
       "    </tr>\n",
       "    <tr>\n",
       "      <th>1</th>\n",
       "      <td>다사551086</td>\n",
       "      <td>0</td>\n",
       "    </tr>\n",
       "    <tr>\n",
       "      <th>2</th>\n",
       "      <td>다사551087</td>\n",
       "      <td>0</td>\n",
       "    </tr>\n",
       "    <tr>\n",
       "      <th>3</th>\n",
       "      <td>다사551088</td>\n",
       "      <td>0</td>\n",
       "    </tr>\n",
       "    <tr>\n",
       "      <th>4</th>\n",
       "      <td>다사552085</td>\n",
       "      <td>0</td>\n",
       "    </tr>\n",
       "    <tr>\n",
       "      <th>...</th>\n",
       "      <td>...</td>\n",
       "      <td>...</td>\n",
       "    </tr>\n",
       "    <tr>\n",
       "      <th>4505</th>\n",
       "      <td>다사646052</td>\n",
       "      <td>0</td>\n",
       "    </tr>\n",
       "    <tr>\n",
       "      <th>4506</th>\n",
       "      <td>다사646053</td>\n",
       "      <td>0</td>\n",
       "    </tr>\n",
       "    <tr>\n",
       "      <th>4507</th>\n",
       "      <td>다사647050</td>\n",
       "      <td>0</td>\n",
       "    </tr>\n",
       "    <tr>\n",
       "      <th>4508</th>\n",
       "      <td>다사647051</td>\n",
       "      <td>0</td>\n",
       "    </tr>\n",
       "    <tr>\n",
       "      <th>4509</th>\n",
       "      <td>다사647052</td>\n",
       "      <td>0</td>\n",
       "    </tr>\n",
       "  </tbody>\n",
       "</table>\n",
       "<p>4510 rows × 2 columns</p>\n",
       "</div>"
      ],
      "text/plain": [
       "           gid  단속카메라\n",
       "0     다사551085      0\n",
       "1     다사551086      0\n",
       "2     다사551087      0\n",
       "3     다사551088      0\n",
       "4     다사552085      0\n",
       "...        ...    ...\n",
       "4505  다사646052      0\n",
       "4506  다사646053      0\n",
       "4507  다사647050      0\n",
       "4508  다사647051      0\n",
       "4509  다사647052      0\n",
       "\n",
       "[4510 rows x 2 columns]"
      ]
     },
     "execution_count": 196,
     "metadata": {},
     "output_type": "execute_result"
    }
   ],
   "source": [
    "camera"
   ]
  },
  {
   "cell_type": "markdown",
   "metadata": {},
   "source": [
    "### join 할 데이터:  16번 도로안내표지"
   ]
  },
  {
   "cell_type": "code",
   "execution_count": 197,
   "metadata": {},
   "outputs": [],
   "source": [
    "df1 = data16.copy()"
   ]
  },
  {
   "cell_type": "code",
   "execution_count": 198,
   "metadata": {},
   "outputs": [],
   "source": [
    "df2 = data2.copy()"
   ]
  },
  {
   "cell_type": "code",
   "execution_count": 199,
   "metadata": {},
   "outputs": [],
   "source": [
    "# 각 좌표가 어떤 그리드에 포함되는지 저장\n",
    "sign_grid=[]\n",
    "\n",
    "for i in range(831):\n",
    "    temp = Point(df1['lon'][i], df1['lat'][i])\n",
    "    for j in range(4510):\n",
    "        if temp.within(df2['geometry'][j]) == True:\n",
    "            sign_grid.append(df2['gid'][j])"
   ]
  },
  {
   "cell_type": "code",
   "execution_count": 200,
   "metadata": {},
   "outputs": [],
   "source": [
    "# 각 그리드별 개수를 변수로 저장\n",
    "sign_cnt = []\n",
    "\n",
    "for i in range(4510):\n",
    "    sign_cnt.append(sign_grid.count(df2['gid'][i]))\n",
    "    \n",
    "df2['sign_cnt'] = sign_cnt"
   ]
  },
  {
   "cell_type": "code",
   "execution_count": 201,
   "metadata": {},
   "outputs": [],
   "source": [
    "sign = df2.copy()"
   ]
  },
  {
   "cell_type": "code",
   "execution_count": 202,
   "metadata": {},
   "outputs": [],
   "source": [
    "del sign['accident_cnt']\n",
    "del sign['geometry']"
   ]
  },
  {
   "cell_type": "code",
   "execution_count": 203,
   "metadata": {},
   "outputs": [],
   "source": [
    "sign = sign.rename(columns={'sign_cnt':'도로안내표지'})"
   ]
  },
  {
   "cell_type": "code",
   "execution_count": 204,
   "metadata": {},
   "outputs": [
    {
     "data": {
      "text/html": [
       "<div>\n",
       "<style scoped>\n",
       "    .dataframe tbody tr th:only-of-type {\n",
       "        vertical-align: middle;\n",
       "    }\n",
       "\n",
       "    .dataframe tbody tr th {\n",
       "        vertical-align: top;\n",
       "    }\n",
       "\n",
       "    .dataframe thead th {\n",
       "        text-align: right;\n",
       "    }\n",
       "</style>\n",
       "<table border=\"1\" class=\"dataframe\">\n",
       "  <thead>\n",
       "    <tr style=\"text-align: right;\">\n",
       "      <th></th>\n",
       "      <th>gid</th>\n",
       "      <th>도로안내표지</th>\n",
       "    </tr>\n",
       "  </thead>\n",
       "  <tbody>\n",
       "    <tr>\n",
       "      <th>0</th>\n",
       "      <td>다사551085</td>\n",
       "      <td>0</td>\n",
       "    </tr>\n",
       "    <tr>\n",
       "      <th>1</th>\n",
       "      <td>다사551086</td>\n",
       "      <td>0</td>\n",
       "    </tr>\n",
       "    <tr>\n",
       "      <th>2</th>\n",
       "      <td>다사551087</td>\n",
       "      <td>0</td>\n",
       "    </tr>\n",
       "    <tr>\n",
       "      <th>3</th>\n",
       "      <td>다사551088</td>\n",
       "      <td>0</td>\n",
       "    </tr>\n",
       "    <tr>\n",
       "      <th>4</th>\n",
       "      <td>다사552085</td>\n",
       "      <td>0</td>\n",
       "    </tr>\n",
       "    <tr>\n",
       "      <th>...</th>\n",
       "      <td>...</td>\n",
       "      <td>...</td>\n",
       "    </tr>\n",
       "    <tr>\n",
       "      <th>4505</th>\n",
       "      <td>다사646052</td>\n",
       "      <td>0</td>\n",
       "    </tr>\n",
       "    <tr>\n",
       "      <th>4506</th>\n",
       "      <td>다사646053</td>\n",
       "      <td>0</td>\n",
       "    </tr>\n",
       "    <tr>\n",
       "      <th>4507</th>\n",
       "      <td>다사647050</td>\n",
       "      <td>0</td>\n",
       "    </tr>\n",
       "    <tr>\n",
       "      <th>4508</th>\n",
       "      <td>다사647051</td>\n",
       "      <td>0</td>\n",
       "    </tr>\n",
       "    <tr>\n",
       "      <th>4509</th>\n",
       "      <td>다사647052</td>\n",
       "      <td>0</td>\n",
       "    </tr>\n",
       "  </tbody>\n",
       "</table>\n",
       "<p>4510 rows × 2 columns</p>\n",
       "</div>"
      ],
      "text/plain": [
       "           gid  도로안내표지\n",
       "0     다사551085       0\n",
       "1     다사551086       0\n",
       "2     다사551087       0\n",
       "3     다사551088       0\n",
       "4     다사552085       0\n",
       "...        ...     ...\n",
       "4505  다사646052       0\n",
       "4506  다사646053       0\n",
       "4507  다사647050       0\n",
       "4508  다사647051       0\n",
       "4509  다사647052       0\n",
       "\n",
       "[4510 rows x 2 columns]"
      ]
     },
     "execution_count": 204,
     "metadata": {},
     "output_type": "execute_result"
    }
   ],
   "source": [
    "sign"
   ]
  },
  {
   "cell_type": "markdown",
   "metadata": {},
   "source": [
    "### join 할 데이터:  20번 CCTV"
   ]
  },
  {
   "cell_type": "code",
   "execution_count": 205,
   "metadata": {},
   "outputs": [],
   "source": [
    "df1 = data20.copy()"
   ]
  },
  {
   "cell_type": "code",
   "execution_count": 206,
   "metadata": {},
   "outputs": [],
   "source": [
    "df2 = data2.copy()"
   ]
  },
  {
   "cell_type": "code",
   "execution_count": 207,
   "metadata": {},
   "outputs": [],
   "source": [
    "# 과속단속카메라(E)만\n",
    "cctv_E = df1[ df1['CCTV 유형코드'] == 'E' ].reset_index()"
   ]
  },
  {
   "cell_type": "code",
   "execution_count": 208,
   "metadata": {},
   "outputs": [],
   "source": [
    "# 각 좌표가 어떤 그리드에 포함되는지 저장\n",
    "cctv_grid=[]\n",
    "\n",
    "for i in range(10):\n",
    "    temp = Point(cctv_E['설치위치_위도'].iloc[i], cctv_E['설치위치_경도'][i])\n",
    "    for j in range(4510):\n",
    "        if temp.within(df2['geometry'][j]) == True:\n",
    "            cctv_grid.append(df2['gid'][j])"
   ]
  },
  {
   "cell_type": "code",
   "execution_count": 209,
   "metadata": {},
   "outputs": [],
   "source": [
    "# 각 그리드별 개수를 변수로 저장\n",
    "cctv_cnt = []\n",
    "\n",
    "for i in range(4510):\n",
    "    cctv_cnt.append(cctv_grid.count(df2['gid'][i]))\n",
    "    \n",
    "df2['cctv_cnt'] = cctv_cnt"
   ]
  },
  {
   "cell_type": "code",
   "execution_count": 210,
   "metadata": {},
   "outputs": [],
   "source": [
    "cctv = df2.copy()"
   ]
  },
  {
   "cell_type": "code",
   "execution_count": 211,
   "metadata": {},
   "outputs": [],
   "source": [
    "del cctv['accident_cnt']\n",
    "del cctv['geometry']"
   ]
  },
  {
   "cell_type": "code",
   "execution_count": 212,
   "metadata": {},
   "outputs": [],
   "source": [
    "cctv = cctv.rename(columns={'cctv_cnt':'cctv'})"
   ]
  },
  {
   "cell_type": "code",
   "execution_count": 213,
   "metadata": {
    "scrolled": true
   },
   "outputs": [
    {
     "data": {
      "text/html": [
       "<div>\n",
       "<style scoped>\n",
       "    .dataframe tbody tr th:only-of-type {\n",
       "        vertical-align: middle;\n",
       "    }\n",
       "\n",
       "    .dataframe tbody tr th {\n",
       "        vertical-align: top;\n",
       "    }\n",
       "\n",
       "    .dataframe thead th {\n",
       "        text-align: right;\n",
       "    }\n",
       "</style>\n",
       "<table border=\"1\" class=\"dataframe\">\n",
       "  <thead>\n",
       "    <tr style=\"text-align: right;\">\n",
       "      <th></th>\n",
       "      <th>gid</th>\n",
       "      <th>cctv</th>\n",
       "    </tr>\n",
       "  </thead>\n",
       "  <tbody>\n",
       "    <tr>\n",
       "      <th>0</th>\n",
       "      <td>다사551085</td>\n",
       "      <td>0</td>\n",
       "    </tr>\n",
       "    <tr>\n",
       "      <th>1</th>\n",
       "      <td>다사551086</td>\n",
       "      <td>0</td>\n",
       "    </tr>\n",
       "    <tr>\n",
       "      <th>2</th>\n",
       "      <td>다사551087</td>\n",
       "      <td>0</td>\n",
       "    </tr>\n",
       "    <tr>\n",
       "      <th>3</th>\n",
       "      <td>다사551088</td>\n",
       "      <td>0</td>\n",
       "    </tr>\n",
       "    <tr>\n",
       "      <th>4</th>\n",
       "      <td>다사552085</td>\n",
       "      <td>0</td>\n",
       "    </tr>\n",
       "    <tr>\n",
       "      <th>...</th>\n",
       "      <td>...</td>\n",
       "      <td>...</td>\n",
       "    </tr>\n",
       "    <tr>\n",
       "      <th>4505</th>\n",
       "      <td>다사646052</td>\n",
       "      <td>0</td>\n",
       "    </tr>\n",
       "    <tr>\n",
       "      <th>4506</th>\n",
       "      <td>다사646053</td>\n",
       "      <td>0</td>\n",
       "    </tr>\n",
       "    <tr>\n",
       "      <th>4507</th>\n",
       "      <td>다사647050</td>\n",
       "      <td>0</td>\n",
       "    </tr>\n",
       "    <tr>\n",
       "      <th>4508</th>\n",
       "      <td>다사647051</td>\n",
       "      <td>0</td>\n",
       "    </tr>\n",
       "    <tr>\n",
       "      <th>4509</th>\n",
       "      <td>다사647052</td>\n",
       "      <td>0</td>\n",
       "    </tr>\n",
       "  </tbody>\n",
       "</table>\n",
       "<p>4510 rows × 2 columns</p>\n",
       "</div>"
      ],
      "text/plain": [
       "           gid  cctv\n",
       "0     다사551085     0\n",
       "1     다사551086     0\n",
       "2     다사551087     0\n",
       "3     다사551088     0\n",
       "4     다사552085     0\n",
       "...        ...   ...\n",
       "4505  다사646052     0\n",
       "4506  다사646053     0\n",
       "4507  다사647050     0\n",
       "4508  다사647051     0\n",
       "4509  다사647052     0\n",
       "\n",
       "[4510 rows x 2 columns]"
      ]
     },
     "execution_count": 213,
     "metadata": {},
     "output_type": "execute_result"
    }
   ],
   "source": [
    "cctv"
   ]
  },
  {
   "cell_type": "markdown",
   "metadata": {},
   "source": [
    "## 모든 변수 병합"
   ]
  },
  {
   "cell_type": "code",
   "execution_count": 214,
   "metadata": {},
   "outputs": [],
   "source": [
    "# 격자별로 모든 변수를 합치기 위한 기준 데이터: data2(어린이교통사고)\n",
    "\n",
    "osan = data2.copy()\n",
    "osan = osan.rename(columns={'accident_cnt':'사고횟수'})"
   ]
  },
  {
   "cell_type": "code",
   "execution_count": 215,
   "metadata": {},
   "outputs": [],
   "source": [
    "# 전처리한 변수들을 기준 데이터(data2)에 'gid'열을 기준으로 병합\n",
    "\n",
    "osan = pd.merge(osan, acc_buf, on='gid', how='left')\n",
    "osan = pd.merge(osan, schzone, on='gid', how='left')\n",
    "osan = pd.merge(osan, elementary, on='gid', how='left')\n",
    "osan = pd.merge(osan, kindergarden, on='gid', how='left')\n",
    "osan = pd.merge(osan, crosswalk, on='gid', how='left')\n",
    "osan = pd.merge(osan, buildings, on='gid', how='left')\n",
    "osan = pd.merge(osan, bus_stop, on='gid', how='left')\n",
    "osan = pd.merge(osan, physical_fac, on='gid', how='left')\n",
    "osan = pd.merge(osan, academy, on='gid', how='left')\n",
    "osan = pd.merge(osan, traffic_light, on='gid', how='left')\n",
    "osan = pd.merge(osan, bump, on='gid', how='left')\n",
    "osan = pd.merge(osan, cctv, on='gid', how='left')\n",
    "osan = pd.merge(osan, sign, on='gid', how='left')\n",
    "osan = pd.merge(osan, camera, on='gid', how='left')\n",
    "osan = pd.merge(osan, var_data, on='gid', how='left')\n",
    "osan = pd.merge(osan, park_cross, on='gid', how='left')\n",
    "osan = pd.merge(osan, time, on='gid', how='left')\n",
    "osan = pd.merge(osan, freq, on='gid', how='left')\n",
    "osan = pd.merge(osan, traffic, on='gid', how='left')\n",
    "osan = pd.merge(osan, parked_car, on='gid', how='left')\n",
    "osan = pd.merge(osan, float_population, on='gid', how='left')"
   ]
  },
  {
   "cell_type": "code",
   "execution_count": 216,
   "metadata": {},
   "outputs": [],
   "source": [
    "# osan 데이터 저장할 때\n",
    "\n",
    "#osan.to_file('osan_data.geojson', driver='GeoJSON')"
   ]
  },
  {
   "cell_type": "markdown",
   "metadata": {},
   "source": [
    "## 합성 데이터 생성"
   ]
  },
  {
   "cell_type": "code",
   "execution_count": 217,
   "metadata": {},
   "outputs": [],
   "source": [
    "# osan_data를 불러올 때\n",
    "#osan_data = gpd.read_file('osan_data.geojson')\n",
    "\n",
    "# osan_data를 위에서 병합한 데이터로 사용할 때\n",
    "osan_data = osan.copy()"
   ]
  },
  {
   "cell_type": "markdown",
   "metadata": {},
   "source": [
    "### 합성데이터 생성 함수: SMOTE()"
   ]
  },
  {
   "cell_type": "code",
   "execution_count": 218,
   "metadata": {},
   "outputs": [],
   "source": [
    "from random import randrange, choice\n",
    "from sklearn.neighbors import NearestNeighbors\n",
    "\n",
    "def SMOTE(T, N, k):\n",
    "    \n",
    "    n_minority_samples, n_features = T.shape\n",
    "\n",
    "    if (N % 100) != 0:\n",
    "        raise ValueError(\"N must be < 100 or multiple of 100\")\n",
    "        \n",
    "    N = int(N/100)                                                         # N은 1,2,3 등 정수값 저장\n",
    "    n_synthetic_samples = N * n_minority_samples                           # (원본데이터의 행 * N) 만큼 합성데이터 행 만들 것\n",
    "    S = np.zeros(shape=(n_synthetic_samples, n_features),dtype=float)      # S는 합성데이터 저장을 위한 데이터프레임\n",
    "    \n",
    "    # 기본 학습 모델: KNN\n",
    "    neigh = NearestNeighbors(n_neighbors = k)                              # 합성데이터를 만들기 위한 기본 모델은 KNN\n",
    "    neigh.fit(T)                                                           # 원본데이터로 KNN 모델 학습\n",
    "    \n",
    "    # 합성데이터 만들기\n",
    "    for i in range(n_minority_samples):                                    # 원본데이터의 행의 수 만큼 반복\n",
    "        nn = neigh.kneighbors([T[i]], return_distance=False)               # nn은 원본데이터의 i번째 행에서 가장 가까운 행 K개 모음\n",
    "        for n in range(N):                                                      # N번 반복할 것\n",
    "            nn_index = choice(nn[0])                                             # nn_index는 nn에서 K개 중 한개 랜덤하게 선택\n",
    "            while nn_index == i:                                                # NOTE: nn은 T[i]를 포함. nn_index로 i를 뽑지 않기 위해 \n",
    "                nn_index = choice(nn[0])\n",
    "                                                                            # i번째 원본데이터의 행에서 가장 가까운 K개의 행에서 뽑힌 행\n",
    "            dif = T[nn_index] - T[i]                                        # dif는 뽑힌 행과 i번째 원본데이터의 행의 각 변수값의 차이\n",
    "            gap = np.random.random()                                        # gap은 dif에 곱해주기 위한 0~1 사이 랜덤값\n",
    "            S[n + i * N, :] = T[i,:] + gap * dif[:]                        # 합성데이터 구성: 원본데이터의 i번쩨 행에서 dif 와 gap을 곱한\n",
    "                                                                            # 랜덤 오차항을 더해서 구성\n",
    "    return S\n",
    "\n",
    "# NOTE: 여러 변수들의 상관성을 고려하기 위해 합성데이터를 만들 때 KNN 모형을 중심으로 합성데이터 구성\n",
    "# 요약: i번째 행의 합성데이터를 만들기 위한 과정\n",
    "#         1. i번째 행과 가장 유사한 K개의 행 추출(KNN 모형을 통해)\n",
    "#         2. K개의 행 중에서 랜덤하게 하나 선택\n",
    "#         3. i번째 행과 선택된 행의 각 변수값의 차이를 구함\n",
    "#         4. 구해진 차이에 0~1 만큼의 랜덤값을 곱해 오차항을 구함\n",
    "#         5. 원본데이터의 i번째 행에 대응하는 합성데이터는 원본데이터의 [i번째 행 + 위에서 구해진 오차항] 으로 생성"
   ]
  },
  {
   "cell_type": "markdown",
   "metadata": {},
   "source": [
    "### 합성 데이터 생성 과정"
   ]
  },
  {
   "cell_type": "code",
   "execution_count": 219,
   "metadata": {},
   "outputs": [],
   "source": [
    "# 원본 데이터 정렬\n",
    "\n",
    "clist   =   ['gid','geometry','사고횟수','사고횟수_가중치',\n",
    "           \n",
    "            '단속카메라','도로안내표지','과속방지턱','스쿨존',\n",
    "            '횡단보도_전체면적','횡단보도_포함면적','신호등','단속횟수','단속횟수_횡단보도위',\n",
    "            'traffic_sum','traffic_mean','freq_sum','freq_mean','time_sum','time_mean',\n",
    "            \n",
    "            '초등학교_100m', '초등학교_300m', '초등학교_500m', '초등학교_가중치',\n",
    "            '유치원_100m', '유치원_300m', '유치원_500m', '유치원_가중치',\n",
    "            '유동인구','cctv','버스정류장','체육시설','학원','car_cnt','pop_all','pop_child',\n",
    "            'building','house','office']\n",
    "\n",
    "osan_data = osan_data.loc[:, clist]"
   ]
  },
  {
   "cell_type": "code",
   "execution_count": 220,
   "metadata": {},
   "outputs": [],
   "source": [
    "# clist 중 'gid', 'geometry' 를 제외한 나머지 변수로 합성 데이터 생성\n",
    "\n",
    "raw_data = osan_data.copy()\n",
    "raw_data = raw_data.iloc[:, range(2, len(osan_data.columns))]\n",
    "raw_data_arr = np.array(raw_data)\n",
    "\n",
    "\n",
    "# SMOTE() 함수 적용\n",
    "\n",
    "syn = SMOTE(raw_data_arr,100,10)\n",
    "\n",
    "\n",
    "# 원본데이터로 새롭게 만든 합성데이터 저장\n",
    "\n",
    "syn_data = osan_data.copy()\n",
    "syn_data.iloc[:, range(2, len(syn_data.columns))] = syn"
   ]
  },
  {
   "cell_type": "markdown",
   "metadata": {},
   "source": [
    "## 최종 데이터 : osan(원본) / syn(합성)"
   ]
  },
  {
   "cell_type": "code",
   "execution_count": 221,
   "metadata": {},
   "outputs": [],
   "source": [
    "osan_dataset = osan_data.copy()\n",
    "syn_dataset = syn_data.copy()"
   ]
  },
  {
   "cell_type": "markdown",
   "metadata": {},
   "source": [
    "### 원본 및 합성 데이터에 region_type 변수 생성"
   ]
  },
  {
   "cell_type": "code",
   "execution_count": 222,
   "metadata": {},
   "outputs": [],
   "source": [
    "# 원본데이터에 region_type 변수 생성\n",
    "\n",
    "house_p = osan_data.house / (osan_data.building + 0.001)           # building의 개수가 0인 격자 있기에 비율 계산할 분모에 0.001 더함\n",
    "office_p = osan_data.office / (osan_data.building + 0.001)\n",
    "other_p = 1- house_p - office_p                                    # house_p: 주거용 건물의 비율 / office_p: 사무용 건물의 비율 / other_p: 기타 건물 비율\n",
    "\n",
    "region_type = []\n",
    "\n",
    "for i in range(len(house_p)):                                      # 가장 높은 건물 비율로 해당 격자의 region_type 정함                 \n",
    "    if max(house_p[i], office_p[i], other_p[i])==house_p[i]:       # region_type = HS: 주거용 / OF: 사무용 / OTH: 기타\n",
    "        region_type.append('HS')\n",
    "    elif max(house_p[i], office_p[i], other_p[i])==office_p[i]:\n",
    "        region_type.append('OF') \n",
    "    else:\n",
    "        region_type.append('OTH')\n",
    "        \n",
    "osan_dataset['region_type'] = region_type\n",
    "#osan_dataset['region_type'] = osan_dataset.region_type.astype('category')"
   ]
  },
  {
   "cell_type": "code",
   "execution_count": 223,
   "metadata": {},
   "outputs": [],
   "source": [
    "# 합성데이터에 region_type 변수 생성\n",
    "\n",
    "house_p = syn_data.house / (syn_data.building + 0.001)\n",
    "office_p = syn_data.office / (syn_data.building + 0.001)\n",
    "other_p = 1- house_p - office_p\n",
    "\n",
    "region_type = []\n",
    "\n",
    "for i in range(len(house_p)):\n",
    "    if max(house_p[i], office_p[i], other_p[i])==house_p[i]:\n",
    "        region_type.append('HS')\n",
    "    elif max(house_p[i], office_p[i], other_p[i])==office_p[i]:\n",
    "        region_type.append('OF') \n",
    "    else:\n",
    "        region_type.append('OTH')\n",
    "        \n",
    "syn_dataset['region_type'] = region_type\n",
    "#syn_dataset['region_type'] = syn_dataset.region_type.astype('category')"
   ]
  },
  {
   "cell_type": "markdown",
   "metadata": {},
   "source": [
    "### 원본 및 합성 데이터에 float_type 변수 생성"
   ]
  },
  {
   "cell_type": "code",
   "execution_count": 224,
   "metadata": {},
   "outputs": [],
   "source": [
    "# 원본데이터에 float_type 변수 생성\n",
    "\n",
    "float_type = []                                      # 데이터의 유동인구 변수의 값 범위: 0~1000\n",
    "\n",
    "for i in range(len(osan_data.유동인구)):\n",
    "    if osan_data.유동인구[i] > 40:                   # 대략 상위 35%의 유동인구 격자: 유동인구 40 이상\n",
    "        float_type.append('H')\n",
    "    elif osan_data.유동인구[i] < 1:                  # 대략 하위 35%의 유동인구 격자: 유동인구 1 이하\n",
    "        float_type.append('L')\n",
    "    else:\n",
    "        float_type.append('M')\n",
    "        \n",
    "osan_dataset['float_type'] = float_type\n",
    "#osan_dataset['float_type'] = osan_dataset.float_type.astype('category')"
   ]
  },
  {
   "cell_type": "code",
   "execution_count": 225,
   "metadata": {},
   "outputs": [],
   "source": [
    "# 합성데이터에 float_type 변수 생성\n",
    "\n",
    "float_type = []\n",
    "\n",
    "for i in range(len(syn_data.유동인구)):\n",
    "    if syn_data.유동인구[i] > 40:\n",
    "        float_type.append('H')\n",
    "    elif syn_data.유동인구[i] < 1:\n",
    "        float_type.append('L')\n",
    "    else:\n",
    "        float_type.append('M')\n",
    "        \n",
    "syn_dataset['float_type'] = float_type\n",
    "#syn_dataset['float_type'] = syn_dataset.float_type.astype('category')"
   ]
  },
  {
   "cell_type": "markdown",
   "metadata": {},
   "source": [
    "### region_type / float_type 원-핫 인코딩"
   ]
  },
  {
   "cell_type": "code",
   "execution_count": 226,
   "metadata": {},
   "outputs": [],
   "source": [
    "# 머신러닝에 범주형 변수 사용하기 위해 원-핫 인코딩\n",
    "\n",
    "osan_dataset = pd.concat([osan_dataset, pd.get_dummies(osan_dataset.loc[:,['region_type','float_type']])], axis=1)\n",
    "syn_dataset = pd.concat([syn_dataset, pd.get_dummies(syn_dataset.loc[:,['region_type','float_type']])], axis=1)"
   ]
  },
  {
   "cell_type": "markdown",
   "metadata": {},
   "source": [
    "## 최종 데이터 저장"
   ]
  },
  {
   "cell_type": "code",
   "execution_count": 227,
   "metadata": {},
   "outputs": [],
   "source": [
    "osan_dataset.to_file('osan.geojson', driver='GeoJSON')\n",
    "syn_dataset.to_file('syn.geojson', driver='GeoJSON')"
   ]
  },
  {
   "cell_type": "markdown",
   "metadata": {},
   "source": [
    "### 데이터를 생성할 때 근소한 차이가 있을 수 있으니, 보고서와 같은 결과를 얻기 위해서는 별도로 첨부한\n",
    "###  osan_dataset.geojson / syn_dataset.geojson을 사용하셔야 합니다.\n",
    "#### 'osan.geojson' 대신 'osan_dataset.geojson'(별도 첨부)\n",
    "#### 'syn_geojson' 대신 'syn_dataset.geojson'(별도 첨부)"
   ]
  }
 ],
 "metadata": {
  "kernelspec": {
   "display_name": "Python 3",
   "language": "python",
   "name": "python3"
  },
  "language_info": {
   "codemirror_mode": {
    "name": "ipython",
    "version": 3
   },
   "file_extension": ".py",
   "mimetype": "text/x-python",
   "name": "python",
   "nbconvert_exporter": "python",
   "pygments_lexer": "ipython3",
   "version": "3.6.9"
  }
 },
 "nbformat": 4,
 "nbformat_minor": 4
}
