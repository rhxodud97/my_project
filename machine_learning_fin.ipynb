{
 "cells": [
  {
   "cell_type": "code",
   "execution_count": 57,
   "metadata": {},
   "outputs": [],
   "source": [
    "import pandas as pd\n",
    "pd.set_option('display.max_columns',None)\n",
    "import numpy as np\n",
    "\n",
    "import matplotlib.pyplot as plt\n",
    "import seaborn as sns\n",
    "\n",
    "import os\n",
    "import re\n",
    "\n",
    "from IPython.core.interactiveshell import InteractiveShell\n",
    "InteractiveShell.ast_node_interactivity = \"all\"\n",
    "\n",
    "from sklearn.linear_model import LinearRegression\n",
    "from sklearn.linear_model import Lasso\n",
    "from sklearn.linear_model import Ridge\n",
    "from sklearn.linear_model import ElasticNet\n",
    "from sklearn.neighbors import KNeighborsRegressor\n",
    "from sklearn.tree import DecisionTreeRegressor\n",
    "from sklearn.ensemble import GradientBoostingRegressor\n",
    "from sklearn.ensemble import AdaBoostRegressor\n",
    "from sklearn.ensemble import BaggingRegressor\n",
    "\n",
    "from sklearn import preprocessing\n",
    "from sklearn.preprocessing import MinMaxScaler, StandardScaler\n",
    "from sklearn.model_selection import train_test_split\n",
    "from sklearn.model_selection import RandomizedSearchCV \n",
    "from sklearn.metrics import accuracy_score\n",
    "from sklearn.metrics import mean_squared_error\n",
    "from sklearn.utils import shuffle\n",
    "from scipy.special import erfc\n",
    "from sklearn.dummy import DummyRegressor\n",
    "from sklearn.svm import SVR\n",
    "\n",
    "from sklearn.model_selection import KFold\n",
    "from sklearn.model_selection import cross_val_score\n",
    "\n",
    "from sklearn.model_selection import train_test_split, cross_validate, RandomizedSearchCV\n",
    "from sklearn.metrics import accuracy_score, precision_score, recall_score, confusion_matrix, mean_squared_error, r2_score\n",
    "from sklearn.ensemble import RandomForestClassifier, GradientBoostingClassifier, RandomForestRegressor, VotingRegressor\n",
    "\n",
    "from lightgbm import LGBMRegressor\n",
    "\n",
    "import xgboost as xgb\n",
    "from xgboost import XGBClassifier, XGBRegressor\n",
    "\n",
    "import warnings\n",
    "import datawig\n",
    "from category_encoders.ordinal import OrdinalEncoder\n",
    "\n",
    "from collections import Counter\n",
    "from sklearn.datasets import make_classification\n",
    "from imblearn.over_sampling import ADASYN # doctest: +NORMALIZE_WHITESPACE\n",
    "from imblearn.over_sampling import SMOTENC\n",
    "\n",
    "from sklearn.model_selection import StratifiedKFold\n",
    "\n",
    "from sklearn.cluster import KMeans\n",
    "from catboost import CatBoostClassifier, Pool\n",
    "from sklearn.metrics import log_loss"
   ]
  },
  {
   "cell_type": "code",
   "execution_count": null,
   "metadata": {},
   "outputs": [],
   "source": []
  },
  {
   "cell_type": "markdown",
   "metadata": {},
   "source": [
    "# Data load"
   ]
  },
  {
   "cell_type": "code",
   "execution_count": 2,
   "metadata": {},
   "outputs": [],
   "source": [
    "train = pd.read_csv('train.csv')\n",
    "test = pd.read_csv('test.csv')"
   ]
  },
  {
   "cell_type": "code",
   "execution_count": null,
   "metadata": {},
   "outputs": [],
   "source": []
  },
  {
   "cell_type": "markdown",
   "metadata": {},
   "source": [
    "### 결측치 처리"
   ]
  },
  {
   "cell_type": "code",
   "execution_count": 3,
   "metadata": {},
   "outputs": [],
   "source": [
    "train.fillna('NaN', inplace=True) \n",
    "test.fillna('NaN', inplace=True)"
   ]
  },
  {
   "cell_type": "code",
   "execution_count": null,
   "metadata": {},
   "outputs": [],
   "source": []
  },
  {
   "cell_type": "markdown",
   "metadata": {},
   "source": [
    "## 데이터 전처리 / 파생변수 생성"
   ]
  },
  {
   "cell_type": "markdown",
   "metadata": {},
   "source": [
    "&nbsp;"
   ]
  },
  {
   "cell_type": "markdown",
   "metadata": {},
   "source": [
    "#### binary class "
   ]
  },
  {
   "cell_type": "code",
   "execution_count": 4,
   "metadata": {},
   "outputs": [],
   "source": [
    "# binary transform (0, 1)\n",
    "\n",
    "train.gender = train.gender.replace(['F','M'],[0,1])  \n",
    "test.gender = test.gender.replace(['F','M'],[0,1])\n",
    "\n",
    "train.car = train.car.replace(['N','Y'],[0,1])  \n",
    "test.car = test.car.replace(['N','Y'],[0,1])\n",
    "\n",
    "train.reality = train.reality.replace(['N','Y'],[0,1])  \n",
    "test.reality = test.reality.replace(['N','Y'],[0,1])"
   ]
  },
  {
   "cell_type": "markdown",
   "metadata": {},
   "source": [
    "&nbsp;"
   ]
  },
  {
   "cell_type": "markdown",
   "metadata": {},
   "source": [
    "#### days 변수 "
   ]
  },
  {
   "cell_type": "markdown",
   "metadata": {},
   "source": [
    "양수변환"
   ]
  },
  {
   "cell_type": "code",
   "execution_count": 5,
   "metadata": {},
   "outputs": [],
   "source": [
    "# 음수 -> 양수 변환\n",
    "\n",
    "train.DAYS_BIRTH = -train.DAYS_BIRTH\n",
    "test.DAYS_BIRTH = -test.DAYS_BIRTH\n",
    "\n",
    "train.DAYS_EMPLOYED = -train.DAYS_EMPLOYED\n",
    "test.DAYS_EMPLOYED = -test.DAYS_EMPLOYED\n",
    "\n",
    "train.begin_month = -train.begin_month\n",
    "test.begin_month = -test.begin_month"
   ]
  },
  {
   "cell_type": "markdown",
   "metadata": {},
   "source": [
    "이상치 처리"
   ]
  },
  {
   "cell_type": "code",
   "execution_count": 6,
   "metadata": {},
   "outputs": [],
   "source": [
    "# 365243 인 값 0으로 바꾸기\n",
    "\n",
    "train.DAYS_EMPLOYED = train.DAYS_EMPLOYED.replace([-365243],[0])\n",
    "test.DAYS_EMPLOYED = test.DAYS_EMPLOYED.replace([-365243],[0])"
   ]
  },
  {
   "cell_type": "markdown",
   "metadata": {},
   "source": [
    "나이, 일한 기간 변수로 변환"
   ]
  },
  {
   "cell_type": "code",
   "execution_count": 7,
   "metadata": {},
   "outputs": [],
   "source": [
    "# 360으로 나눠서 나이, 일한 년수 계산\n",
    "\n",
    "train['EMPLOYED']= train.DAYS_EMPLOYED.apply(lambda x: abs(x/360) )\n",
    "train['age']= train.DAYS_BIRTH.apply(lambda x: abs(x/360) ).astype(int)\n",
    "train['begin_month']= train.begin_month.apply(lambda x: abs(x) ).astype(int)\n",
    "\n",
    "test['EMPLOYED']= test.DAYS_EMPLOYED.apply(lambda x: abs(x/360) )\n",
    "test['age']= test.DAYS_BIRTH.apply(lambda x: abs(x/360) ).astype(int)\n",
    "test['begin_month']= test.begin_month.apply(lambda x: abs(x) ).astype(int)"
   ]
  },
  {
   "cell_type": "markdown",
   "metadata": {},
   "source": [
    "&nbsp;"
   ]
  },
  {
   "cell_type": "markdown",
   "metadata": {},
   "source": [
    "#### child num, family size"
   ]
  },
  {
   "cell_type": "code",
   "execution_count": 8,
   "metadata": {},
   "outputs": [],
   "source": [
    "# child_num이 14, 19인 행 지우기\n",
    "idx_child_drop = train[(train['child_num'] == 14)|(train['child_num'] == 19)].index\n",
    "train = train.drop(idx_child_drop)"
   ]
  },
  {
   "cell_type": "code",
   "execution_count": 9,
   "metadata": {},
   "outputs": [],
   "source": [
    "# child_num이 family_size보다 큰 행도 지우기\n",
    "\n",
    "idx_child_drop2 = train[train['family_size'] < train['child_num']].index\n",
    "train = train.drop(idx_child_drop2)"
   ]
  },
  {
   "cell_type": "markdown",
   "metadata": {},
   "source": [
    "**child_num, faimily size PCA 변수 생성**"
   ]
  },
  {
   "cell_type": "code",
   "execution_count": 12,
   "metadata": {},
   "outputs": [],
   "source": [
    "train_pca = train[['child_num', 'family_size']]\n",
    "#train_pca_target = train['credit']       <-  이거는 혹시 왜 필요한가요?\n",
    "\n",
    "test_pca = test[['child_num', 'family_size']]\n",
    "#test_pca_target = test['credit']"
   ]
  },
  {
   "cell_type": "code",
   "execution_count": 13,
   "metadata": {},
   "outputs": [],
   "source": [
    "train_pca = StandardScaler().fit_transform(train_pca)\n",
    "test_pca  = StandardScaler().fit_transform(test_pca)"
   ]
  },
  {
   "cell_type": "code",
   "execution_count": 14,
   "metadata": {},
   "outputs": [],
   "source": [
    "from sklearn.decomposition import PCA\n",
    "pca_train = PCA(n_components=1) # 어차피 변수 2개라서 하나로만 진행\n",
    "printcipalComponents_train = pca_train.fit_transform(train_pca)\n",
    "principalDf_train = pd.DataFrame(data=printcipalComponents_train, columns = ['principal component'])\n",
    "\n",
    "pca_test = PCA(n_components=1) # 어차피 변수 2개라서 하나로만 진행\n",
    "printcipalComponents_test = pca_test.fit_transform(test_pca)\n",
    "principalDf_test = pd.DataFrame(data=printcipalComponents_test, columns = ['principal component'])"
   ]
  },
  {
   "cell_type": "code",
   "execution_count": 16,
   "metadata": {},
   "outputs": [],
   "source": [
    "train['cf_pca'] = principalDf_train # 기존 데이터 셋에 넣어주기\n",
    "test['cf_pca'] = principalDf_test"
   ]
  },
  {
   "cell_type": "markdown",
   "metadata": {},
   "source": [
    "&nbsp;"
   ]
  },
  {
   "cell_type": "markdown",
   "metadata": {},
   "source": [
    "#### income / family size 변수 생성"
   ]
  },
  {
   "cell_type": "code",
   "execution_count": 21,
   "metadata": {},
   "outputs": [],
   "source": [
    "train['if_ratio'] = train['income_total'] / train['family_size']\n",
    "test['if_ratio'] = test['income_total'] / test['family_size']"
   ]
  },
  {
   "cell_type": "code",
   "execution_count": null,
   "metadata": {},
   "outputs": [],
   "source": []
  },
  {
   "cell_type": "markdown",
   "metadata": {},
   "source": [
    "#### 통합 핸드폰 관련 변수 생성"
   ]
  },
  {
   "cell_type": "code",
   "execution_count": 23,
   "metadata": {},
   "outputs": [],
   "source": [
    "def try_t(data):\n",
    "  data.loc[(data['work_phone'] == 0)&(data['phone'] == 0)&(data['email'] == 0), 'try'] = 0\n",
    "  data.loc[(data['work_phone'] == 0)&(data['phone'] == 0)&(data['email'] == 1), 'try'] = 1\n",
    "  data.loc[(data['work_phone'] == 0)&(data['phone'] == 1)&(data['email'] == 0), 'try'] = 2\n",
    "  data.loc[(data['work_phone'] == 1)&(data['phone'] == 0)&(data['email'] == 0), 'try'] = 3\n",
    "  data.loc[(data['work_phone'] == 0)&(data['phone'] == 1)&(data['email'] == 1), 'try'] = 4\n",
    "  data.loc[(data['work_phone'] == 1)&(data['phone'] == 0)&(data['email'] == 1), 'try'] = 5\n",
    "  data.loc[(data['work_phone'] == 1)&(data['phone'] == 1)&(data['email'] == 0), 'try'] = 6\n",
    "  data.loc[(data['work_phone'] == 1)&(data['phone'] == 1)&(data['email'] == 1), 'try'] = 7\n",
    "\n",
    "try_t(train)\n",
    "try_t(test)"
   ]
  },
  {
   "cell_type": "code",
   "execution_count": 26,
   "metadata": {},
   "outputs": [
    {
     "name": "stdout",
     "output_type": "stream",
     "text": [
      "<class 'pandas.core.frame.DataFrame'>\n",
      "Int64Index: 26452 entries, 0 to 26456\n",
      "Data columns (total 25 columns):\n",
      "index            26452 non-null int64\n",
      "gender           26452 non-null int64\n",
      "car              26452 non-null int64\n",
      "reality          26452 non-null int64\n",
      "child_num        26452 non-null int64\n",
      "income_total     26452 non-null float64\n",
      "income_type      26452 non-null object\n",
      "edu_type         26452 non-null object\n",
      "family_type      26452 non-null object\n",
      "house_type       26452 non-null object\n",
      "DAYS_BIRTH       26452 non-null int64\n",
      "DAYS_EMPLOYED    26452 non-null int64\n",
      "FLAG_MOBIL       26452 non-null int64\n",
      "work_phone       26452 non-null int64\n",
      "phone            26452 non-null int64\n",
      "email            26452 non-null int64\n",
      "occyp_type       26452 non-null object\n",
      "family_size      26452 non-null float64\n",
      "begin_month      26452 non-null int32\n",
      "credit           26452 non-null float64\n",
      "EMPLOYED         26452 non-null float64\n",
      "age              26452 non-null int32\n",
      "cf_pca           26447 non-null float64\n",
      "if_ratio         26452 non-null float64\n",
      "try              26452 non-null float64\n",
      "dtypes: float64(7), int32(2), int64(11), object(5)\n",
      "memory usage: 5.0+ MB\n"
     ]
    }
   ],
   "source": [
    "train.info()"
   ]
  },
  {
   "cell_type": "markdown",
   "metadata": {},
   "source": [
    "&nbsp;"
   ]
  },
  {
   "cell_type": "markdown",
   "metadata": {},
   "source": [
    "#### 대체된 열 / 미사용 변수 삭제"
   ]
  },
  {
   "cell_type": "code",
   "execution_count": 27,
   "metadata": {},
   "outputs": [],
   "source": [
    "train = train.drop(['index', 'FLAG_MOBIL', 'DAYS_BIRTH', 'DAYS_EMPLOYED', 'child_num', 'family_size', \n",
    "                   'work_phone', 'phone', 'email'],axis=1)\n",
    "\n",
    "test = test.drop(['index', 'FLAG_MOBIL', 'DAYS_BIRTH', 'DAYS_EMPLOYED', 'child_num', 'family_size', \n",
    "                   'work_phone', 'phone', 'email'],axis=1)"
   ]
  },
  {
   "cell_type": "markdown",
   "metadata": {},
   "source": [
    "&nbsp;"
   ]
  },
  {
   "cell_type": "markdown",
   "metadata": {},
   "source": [
    "### 스케일링 / 인코딩"
   ]
  },
  {
   "cell_type": "markdown",
   "metadata": {},
   "source": [
    "log scailing - income_total"
   ]
  },
  {
   "cell_type": "code",
   "execution_count": null,
   "metadata": {},
   "outputs": [],
   "source": [
    "# train에 로그변환한 변수로 바꾸기\n",
    "tr_it=train['income_total']\n",
    "tr_it_log = np.log1p(tr_it)\n",
    "train['income_total']= tr_it_log\n",
    "# test set\n",
    "te_it=test['income_total']\n",
    "te_it_log = np.log1p(te_it)\n",
    "test['income_total']= te_it_log"
   ]
  },
  {
   "cell_type": "markdown",
   "metadata": {},
   "source": [
    "ordinal encoding"
   ]
  },
  {
   "cell_type": "code",
   "execution_count": 28,
   "metadata": {},
   "outputs": [
    {
     "name": "stdout",
     "output_type": "stream",
     "text": [
      "Number of Numerical features:  10\n",
      "Number of Categorical features:  5\n"
     ]
    }
   ],
   "source": [
    "numerical_feats = train.dtypes[train.dtypes != \"object\"].index.tolist()\n",
    "numerical_feats.remove('credit')\n",
    "print(\"Number of Numerical features: \", len(numerical_feats))\n",
    "\n",
    "categorical_feats = train.dtypes[train.dtypes == \"object\"].index.tolist()\n",
    "print(\"Number of Categorical features: \", len(categorical_feats))"
   ]
  },
  {
   "cell_type": "code",
   "execution_count": 32,
   "metadata": {},
   "outputs": [],
   "source": [
    "encoder = OrdinalEncoder(categorical_feats)\n",
    "train[categorical_feats] = encoder.fit_transform(train[categorical_feats], train['credit'])\n",
    "test[categorical_feats] = encoder.transform(test[categorical_feats])"
   ]
  },
  {
   "cell_type": "markdown",
   "metadata": {},
   "source": [
    "standard scailing"
   ]
  },
  {
   "cell_type": "code",
   "execution_count": 33,
   "metadata": {},
   "outputs": [],
   "source": [
    "#numerical_feats.remove('income_total')\n",
    "scaler = StandardScaler()\n",
    "train[numerical_feats] = scaler.fit_transform(train[numerical_feats])\n",
    "test[numerical_feats] = scaler.transform(test[numerical_feats])"
   ]
  },
  {
   "cell_type": "markdown",
   "metadata": {},
   "source": [
    "&nbsp;"
   ]
  },
  {
   "cell_type": "markdown",
   "metadata": {},
   "source": [
    "### 이유불명 결측값 처리"
   ]
  },
  {
   "cell_type": "code",
   "execution_count": 45,
   "metadata": {},
   "outputs": [],
   "source": [
    "train = train.dropna(axis = 0)"
   ]
  },
  {
   "cell_type": "markdown",
   "metadata": {},
   "source": [
    "&nbsp;"
   ]
  },
  {
   "cell_type": "markdown",
   "metadata": {},
   "source": [
    "### 최종데이터셋"
   ]
  },
  {
   "cell_type": "code",
   "execution_count": 47,
   "metadata": {},
   "outputs": [
    {
     "data": {
      "text/html": [
       "<div>\n",
       "<style scoped>\n",
       "    .dataframe tbody tr th:only-of-type {\n",
       "        vertical-align: middle;\n",
       "    }\n",
       "\n",
       "    .dataframe tbody tr th {\n",
       "        vertical-align: top;\n",
       "    }\n",
       "\n",
       "    .dataframe thead th {\n",
       "        text-align: right;\n",
       "    }\n",
       "</style>\n",
       "<table border=\"1\" class=\"dataframe\">\n",
       "  <thead>\n",
       "    <tr style=\"text-align: right;\">\n",
       "      <th></th>\n",
       "      <th>gender</th>\n",
       "      <th>car</th>\n",
       "      <th>reality</th>\n",
       "      <th>income_total</th>\n",
       "      <th>income_type</th>\n",
       "      <th>edu_type</th>\n",
       "      <th>family_type</th>\n",
       "      <th>house_type</th>\n",
       "      <th>occyp_type</th>\n",
       "      <th>begin_month</th>\n",
       "      <th>credit</th>\n",
       "      <th>EMPLOYED</th>\n",
       "      <th>age</th>\n",
       "      <th>cf_pca</th>\n",
       "      <th>if_ratio</th>\n",
       "      <th>try</th>\n",
       "    </tr>\n",
       "  </thead>\n",
       "  <tbody>\n",
       "    <tr>\n",
       "      <th>0</th>\n",
       "      <td>-0.703421</td>\n",
       "      <td>-0.782331</td>\n",
       "      <td>-1.437548</td>\n",
       "      <td>0.149153</td>\n",
       "      <td>1</td>\n",
       "      <td>1</td>\n",
       "      <td>1</td>\n",
       "      <td>1</td>\n",
       "      <td>1</td>\n",
       "      <td>-1.215266</td>\n",
       "      <td>1.0</td>\n",
       "      <td>1.059101</td>\n",
       "      <td>-0.499873</td>\n",
       "      <td>-0.414431</td>\n",
       "      <td>0.002212</td>\n",
       "      <td>-0.722786</td>\n",
       "    </tr>\n",
       "    <tr>\n",
       "      <th>1</th>\n",
       "      <td>-0.703421</td>\n",
       "      <td>-0.782331</td>\n",
       "      <td>0.695629</td>\n",
       "      <td>0.590832</td>\n",
       "      <td>1</td>\n",
       "      <td>2</td>\n",
       "      <td>2</td>\n",
       "      <td>2</td>\n",
       "      <td>2</td>\n",
       "      <td>-1.275658</td>\n",
       "      <td>1.0</td>\n",
       "      <td>-0.277854</td>\n",
       "      <td>-1.099805</td>\n",
       "      <td>0.868285</td>\n",
       "      <td>-0.254013</td>\n",
       "      <td>-0.242043</td>\n",
       "    </tr>\n",
       "    <tr>\n",
       "      <th>2</th>\n",
       "      <td>1.421624</td>\n",
       "      <td>1.278231</td>\n",
       "      <td>0.695629</td>\n",
       "      <td>2.578387</td>\n",
       "      <td>2</td>\n",
       "      <td>1</td>\n",
       "      <td>1</td>\n",
       "      <td>2</td>\n",
       "      <td>3</td>\n",
       "      <td>-0.248987</td>\n",
       "      <td>2.0</td>\n",
       "      <td>0.943082</td>\n",
       "      <td>0.785693</td>\n",
       "      <td>-0.414431</td>\n",
       "      <td>1.693299</td>\n",
       "      <td>0.238699</td>\n",
       "    </tr>\n",
       "    <tr>\n",
       "      <th>3</th>\n",
       "      <td>-0.703421</td>\n",
       "      <td>-0.782331</td>\n",
       "      <td>0.695629</td>\n",
       "      <td>0.149153</td>\n",
       "      <td>1</td>\n",
       "      <td>2</td>\n",
       "      <td>1</td>\n",
       "      <td>2</td>\n",
       "      <td>4</td>\n",
       "      <td>0.656899</td>\n",
       "      <td>0.0</td>\n",
       "      <td>-0.044973</td>\n",
       "      <td>-0.242760</td>\n",
       "      <td>-0.414431</td>\n",
       "      <td>0.002212</td>\n",
       "      <td>0.238699</td>\n",
       "    </tr>\n",
       "    <tr>\n",
       "      <th>4</th>\n",
       "      <td>-0.703421</td>\n",
       "      <td>1.278231</td>\n",
       "      <td>0.695629</td>\n",
       "      <td>-0.292525</td>\n",
       "      <td>3</td>\n",
       "      <td>1</td>\n",
       "      <td>1</td>\n",
       "      <td>2</td>\n",
       "      <td>3</td>\n",
       "      <td>-0.007418</td>\n",
       "      <td>2.0</td>\n",
       "      <td>-0.039488</td>\n",
       "      <td>-0.242760</td>\n",
       "      <td>-0.414431</td>\n",
       "      <td>-0.305258</td>\n",
       "      <td>-0.722786</td>\n",
       "    </tr>\n",
       "    <tr>\n",
       "      <th>...</th>\n",
       "      <td>...</td>\n",
       "      <td>...</td>\n",
       "      <td>...</td>\n",
       "      <td>...</td>\n",
       "      <td>...</td>\n",
       "      <td>...</td>\n",
       "      <td>...</td>\n",
       "      <td>...</td>\n",
       "      <td>...</td>\n",
       "      <td>...</td>\n",
       "      <td>...</td>\n",
       "      <td>...</td>\n",
       "      <td>...</td>\n",
       "      <td>...</td>\n",
       "      <td>...</td>\n",
       "      <td>...</td>\n",
       "    </tr>\n",
       "    <tr>\n",
       "      <th>26447</th>\n",
       "      <td>1.421624</td>\n",
       "      <td>-0.782331</td>\n",
       "      <td>0.695629</td>\n",
       "      <td>-0.866708</td>\n",
       "      <td>2</td>\n",
       "      <td>2</td>\n",
       "      <td>1</td>\n",
       "      <td>2</td>\n",
       "      <td>2</td>\n",
       "      <td>1.019253</td>\n",
       "      <td>2.0</td>\n",
       "      <td>-0.494703</td>\n",
       "      <td>-0.414169</td>\n",
       "      <td>2.151001</td>\n",
       "      <td>-1.043187</td>\n",
       "      <td>2.161669</td>\n",
       "    </tr>\n",
       "    <tr>\n",
       "      <th>26448</th>\n",
       "      <td>1.421624</td>\n",
       "      <td>-0.782331</td>\n",
       "      <td>0.695629</td>\n",
       "      <td>1.032511</td>\n",
       "      <td>1</td>\n",
       "      <td>1</td>\n",
       "      <td>1</td>\n",
       "      <td>2</td>\n",
       "      <td>2</td>\n",
       "      <td>-0.188595</td>\n",
       "      <td>0.0</td>\n",
       "      <td>-0.553345</td>\n",
       "      <td>0.100058</td>\n",
       "      <td>0.296293</td>\n",
       "      <td>0.617153</td>\n",
       "      <td>-0.722786</td>\n",
       "    </tr>\n",
       "    <tr>\n",
       "      <th>26449</th>\n",
       "      <td>-0.703421</td>\n",
       "      <td>-0.782331</td>\n",
       "      <td>-1.437548</td>\n",
       "      <td>-0.955044</td>\n",
       "      <td>2</td>\n",
       "      <td>2</td>\n",
       "      <td>1</td>\n",
       "      <td>2</td>\n",
       "      <td>1</td>\n",
       "      <td>-1.456836</td>\n",
       "      <td>1.0</td>\n",
       "      <td>0.092562</td>\n",
       "      <td>-1.271213</td>\n",
       "      <td>-0.414431</td>\n",
       "      <td>-0.766464</td>\n",
       "      <td>2.161669</td>\n",
       "    </tr>\n",
       "    <tr>\n",
       "      <th>26450</th>\n",
       "      <td>-0.703421</td>\n",
       "      <td>-0.782331</td>\n",
       "      <td>-1.437548</td>\n",
       "      <td>0.369993</td>\n",
       "      <td>1</td>\n",
       "      <td>2</td>\n",
       "      <td>4</td>\n",
       "      <td>2</td>\n",
       "      <td>2</td>\n",
       "      <td>0.656899</td>\n",
       "      <td>2.0</td>\n",
       "      <td>-0.682442</td>\n",
       "      <td>-1.356918</td>\n",
       "      <td>-0.986423</td>\n",
       "      <td>1.693299</td>\n",
       "      <td>0.238699</td>\n",
       "    </tr>\n",
       "    <tr>\n",
       "      <th>26451</th>\n",
       "      <td>-0.703421</td>\n",
       "      <td>-0.782331</td>\n",
       "      <td>0.695629</td>\n",
       "      <td>0.149153</td>\n",
       "      <td>2</td>\n",
       "      <td>1</td>\n",
       "      <td>1</td>\n",
       "      <td>2</td>\n",
       "      <td>9</td>\n",
       "      <td>1.079646</td>\n",
       "      <td>1.0</td>\n",
       "      <td>-0.588783</td>\n",
       "      <td>-0.756987</td>\n",
       "      <td>-0.414431</td>\n",
       "      <td>0.002212</td>\n",
       "      <td>2.161669</td>\n",
       "    </tr>\n",
       "  </tbody>\n",
       "</table>\n",
       "<p>26447 rows × 16 columns</p>\n",
       "</div>"
      ],
      "text/plain": [
       "         gender       car   reality  income_total  income_type  edu_type  \\\n",
       "0     -0.703421 -0.782331 -1.437548      0.149153            1         1   \n",
       "1     -0.703421 -0.782331  0.695629      0.590832            1         2   \n",
       "2      1.421624  1.278231  0.695629      2.578387            2         1   \n",
       "3     -0.703421 -0.782331  0.695629      0.149153            1         2   \n",
       "4     -0.703421  1.278231  0.695629     -0.292525            3         1   \n",
       "...         ...       ...       ...           ...          ...       ...   \n",
       "26447  1.421624 -0.782331  0.695629     -0.866708            2         2   \n",
       "26448  1.421624 -0.782331  0.695629      1.032511            1         1   \n",
       "26449 -0.703421 -0.782331 -1.437548     -0.955044            2         2   \n",
       "26450 -0.703421 -0.782331 -1.437548      0.369993            1         2   \n",
       "26451 -0.703421 -0.782331  0.695629      0.149153            2         1   \n",
       "\n",
       "       family_type  house_type  occyp_type  begin_month  credit  EMPLOYED  \\\n",
       "0                1           1           1    -1.215266     1.0  1.059101   \n",
       "1                2           2           2    -1.275658     1.0 -0.277854   \n",
       "2                1           2           3    -0.248987     2.0  0.943082   \n",
       "3                1           2           4     0.656899     0.0 -0.044973   \n",
       "4                1           2           3    -0.007418     2.0 -0.039488   \n",
       "...            ...         ...         ...          ...     ...       ...   \n",
       "26447            1           2           2     1.019253     2.0 -0.494703   \n",
       "26448            1           2           2    -0.188595     0.0 -0.553345   \n",
       "26449            1           2           1    -1.456836     1.0  0.092562   \n",
       "26450            4           2           2     0.656899     2.0 -0.682442   \n",
       "26451            1           2           9     1.079646     1.0 -0.588783   \n",
       "\n",
       "            age    cf_pca  if_ratio       try  \n",
       "0     -0.499873 -0.414431  0.002212 -0.722786  \n",
       "1     -1.099805  0.868285 -0.254013 -0.242043  \n",
       "2      0.785693 -0.414431  1.693299  0.238699  \n",
       "3     -0.242760 -0.414431  0.002212  0.238699  \n",
       "4     -0.242760 -0.414431 -0.305258 -0.722786  \n",
       "...         ...       ...       ...       ...  \n",
       "26447 -0.414169  2.151001 -1.043187  2.161669  \n",
       "26448  0.100058  0.296293  0.617153 -0.722786  \n",
       "26449 -1.271213 -0.414431 -0.766464  2.161669  \n",
       "26450 -1.356918 -0.986423  1.693299  0.238699  \n",
       "26451 -0.756987 -0.414431  0.002212  2.161669  \n",
       "\n",
       "[26447 rows x 16 columns]"
      ]
     },
     "execution_count": 47,
     "metadata": {},
     "output_type": "execute_result"
    },
    {
     "name": "stdout",
     "output_type": "stream",
     "text": [
      "<class 'pandas.core.frame.DataFrame'>\n",
      "Int64Index: 26447 entries, 0 to 26451\n",
      "Data columns (total 16 columns):\n",
      "gender          26447 non-null float64\n",
      "car             26447 non-null float64\n",
      "reality         26447 non-null float64\n",
      "income_total    26447 non-null float64\n",
      "income_type     26447 non-null int32\n",
      "edu_type        26447 non-null int32\n",
      "family_type     26447 non-null int32\n",
      "house_type      26447 non-null int32\n",
      "occyp_type      26447 non-null int32\n",
      "begin_month     26447 non-null float64\n",
      "credit          26447 non-null float64\n",
      "EMPLOYED        26447 non-null float64\n",
      "age             26447 non-null float64\n",
      "cf_pca          26447 non-null float64\n",
      "if_ratio        26447 non-null float64\n",
      "try             26447 non-null float64\n",
      "dtypes: float64(11), int32(5)\n",
      "memory usage: 2.9 MB\n"
     ]
    }
   ],
   "source": [
    "train\n",
    "train.info()"
   ]
  },
  {
   "cell_type": "code",
   "execution_count": 37,
   "metadata": {},
   "outputs": [
    {
     "name": "stdout",
     "output_type": "stream",
     "text": [
      "<class 'pandas.core.frame.DataFrame'>\n",
      "RangeIndex: 10000 entries, 0 to 9999\n",
      "Data columns (total 15 columns):\n",
      "gender          10000 non-null float64\n",
      "car             10000 non-null float64\n",
      "reality         10000 non-null float64\n",
      "income_total    10000 non-null float64\n",
      "income_type     10000 non-null int32\n",
      "edu_type        10000 non-null int32\n",
      "family_type     10000 non-null int32\n",
      "house_type      10000 non-null int32\n",
      "occyp_type      10000 non-null int32\n",
      "begin_month     10000 non-null float64\n",
      "EMPLOYED        10000 non-null float64\n",
      "age             10000 non-null float64\n",
      "cf_pca          10000 non-null float64\n",
      "if_ratio        10000 non-null float64\n",
      "try             10000 non-null float64\n",
      "dtypes: float64(10), int32(5)\n",
      "memory usage: 976.7 KB\n"
     ]
    }
   ],
   "source": [
    "test.info()"
   ]
  },
  {
   "cell_type": "code",
   "execution_count": null,
   "metadata": {},
   "outputs": [],
   "source": []
  },
  {
   "cell_type": "markdown",
   "metadata": {},
   "source": [
    "## smote_nc 적용버전"
   ]
  },
  {
   "cell_type": "code",
   "execution_count": 48,
   "metadata": {},
   "outputs": [],
   "source": [
    "target = 'credit'\n",
    "X = train.drop(target, axis=1)\n",
    "y = train[target]\n",
    "X_test = test"
   ]
  },
  {
   "cell_type": "code",
   "execution_count": 51,
   "metadata": {},
   "outputs": [
    {
     "name": "stdout",
     "output_type": "stream",
     "text": [
      "Original dataset shape Counter({2.0: 16959, 1.0: 6266, 0.0: 3222})\n",
      "Resampled dataset shape Counter({1.0: 16959, 2.0: 16959, 0.0: 16959})\n"
     ]
    }
   ],
   "source": [
    "print('Original dataset shape %s' % Counter(y))\n",
    "\n",
    "\n",
    "#Create the oversampler. For SMOTE-NC we need to pinpoint the column position where is the categorical features are. In this case, 'IsActiveMember' is positioned in the second column we input [1] as the parameter. If you have more than one categorical columns, just input all the columns position\n",
    "smote_nc = SMOTENC(categorical_features=[0,1,2,5,6,7,8,9,10,11,12], random_state=0)\n",
    "X_over, y_over = smote_nc.fit_resample(X, y)\n",
    "\n",
    "\n",
    "print('Resampled dataset shape %s' % Counter(y_over))"
   ]
  },
  {
   "cell_type": "code",
   "execution_count": null,
   "metadata": {},
   "outputs": [],
   "source": []
  },
  {
   "cell_type": "code",
   "execution_count": null,
   "metadata": {},
   "outputs": [],
   "source": []
  },
  {
   "cell_type": "markdown",
   "metadata": {},
   "source": [
    "## 모델링"
   ]
  },
  {
   "cell_type": "markdown",
   "metadata": {},
   "source": [
    "&nbsp;"
   ]
  },
  {
   "cell_type": "markdown",
   "metadata": {},
   "source": [
    "### catboost"
   ]
  },
  {
   "cell_type": "code",
   "execution_count": 53,
   "metadata": {},
   "outputs": [],
   "source": [
    "n_est = 2000\n",
    "seed = 42\n",
    "n_fold = 10\n",
    "n_class = 3"
   ]
  },
  {
   "cell_type": "code",
   "execution_count": 58,
   "metadata": {},
   "outputs": [
    {
     "name": "stdout",
     "output_type": "stream",
     "text": [
      "\n",
      "----------------- Fold 0 -----------------\n",
      "\n",
      "Learning rate set to 0.115043\n",
      "0:\tlearn: 1.0343027\ttest: 1.0338955\tbest: 1.0338955 (0)\ttotal: 31.5ms\tremaining: 31.5s\n",
      "100:\tlearn: 0.7874667\ttest: 0.8001023\tbest: 0.8001023 (100)\ttotal: 3.53s\tremaining: 31.5s\n",
      "200:\tlearn: 0.7572722\ttest: 0.7863649\tbest: 0.7863649 (200)\ttotal: 7.59s\tremaining: 30.2s\n",
      "300:\tlearn: 0.7323850\ttest: 0.7776023\tbest: 0.7774700 (298)\ttotal: 11.4s\tremaining: 26.5s\n",
      "400:\tlearn: 0.7080241\ttest: 0.7696839\tbest: 0.7696839 (400)\ttotal: 15.8s\tremaining: 23.6s\n",
      "500:\tlearn: 0.6878145\ttest: 0.7644361\tbest: 0.7644361 (500)\ttotal: 20.3s\tremaining: 20.2s\n",
      "600:\tlearn: 0.6683584\ttest: 0.7586164\tbest: 0.7586164 (600)\ttotal: 24.6s\tremaining: 16.3s\n",
      "700:\tlearn: 0.6500365\ttest: 0.7539426\tbest: 0.7539426 (700)\ttotal: 29s\tremaining: 12.4s\n",
      "800:\tlearn: 0.6344145\ttest: 0.7514044\tbest: 0.7514044 (800)\ttotal: 33.2s\tremaining: 8.25s\n",
      "900:\tlearn: 0.6178028\ttest: 0.7495799\tbest: 0.7495622 (899)\ttotal: 37.5s\tremaining: 4.12s\n",
      "999:\tlearn: 0.6031267\ttest: 0.7463894\tbest: 0.7463307 (997)\ttotal: 41.3s\tremaining: 0us\n",
      "\n",
      "bestTest = 0.7463307222\n",
      "bestIteration = 997\n",
      "\n",
      "Shrink model to first 998 iterations.\n"
     ]
    },
    {
     "data": {
      "text/plain": [
       "<catboost.core.CatBoostClassifier at 0x19b20237f40>"
      ]
     },
     "execution_count": 58,
     "metadata": {},
     "output_type": "execute_result"
    },
    {
     "name": "stdout",
     "output_type": "stream",
     "text": [
      "CV Log Loss Score: 0.746331\n",
      "\n",
      "----------------- Fold 1 -----------------\n",
      "\n",
      "Learning rate set to 0.115043\n",
      "0:\tlearn: 1.0341752\ttest: 1.0346371\tbest: 1.0346371 (0)\ttotal: 32.3ms\tremaining: 32.3s\n",
      "100:\tlearn: 0.7859058\ttest: 0.8012229\tbest: 0.8012157 (99)\ttotal: 3.66s\tremaining: 32.6s\n",
      "200:\tlearn: 0.7534052\ttest: 0.7912024\tbest: 0.7912024 (200)\ttotal: 7.31s\tremaining: 29s\n",
      "300:\tlearn: 0.7280748\ttest: 0.7848374\tbest: 0.7848374 (300)\ttotal: 11.7s\tremaining: 27.2s\n",
      "400:\tlearn: 0.7049703\ttest: 0.7782416\tbest: 0.7782147 (399)\ttotal: 16.2s\tremaining: 24.2s\n",
      "500:\tlearn: 0.6836040\ttest: 0.7748985\tbest: 0.7748383 (496)\ttotal: 20.3s\tremaining: 20.2s\n",
      "600:\tlearn: 0.6643531\ttest: 0.7696984\tbest: 0.7695653 (595)\ttotal: 24.4s\tremaining: 16.2s\n",
      "700:\tlearn: 0.6473196\ttest: 0.7663419\tbest: 0.7662030 (697)\ttotal: 28.6s\tremaining: 12.2s\n",
      "800:\tlearn: 0.6299686\ttest: 0.7653578\tbest: 0.7652278 (752)\ttotal: 33.4s\tremaining: 8.29s\n",
      "900:\tlearn: 0.6127583\ttest: 0.7638262\tbest: 0.7636904 (892)\ttotal: 37.7s\tremaining: 4.15s\n",
      "999:\tlearn: 0.5968150\ttest: 0.7622623\tbest: 0.7620046 (995)\ttotal: 41.7s\tremaining: 0us\n",
      "\n",
      "bestTest = 0.7620046206\n",
      "bestIteration = 995\n",
      "\n",
      "Shrink model to first 996 iterations.\n"
     ]
    },
    {
     "data": {
      "text/plain": [
       "<catboost.core.CatBoostClassifier at 0x19b20237a60>"
      ]
     },
     "execution_count": 58,
     "metadata": {},
     "output_type": "execute_result"
    },
    {
     "name": "stdout",
     "output_type": "stream",
     "text": [
      "CV Log Loss Score: 0.762005\n",
      "\n",
      "----------------- Fold 2 -----------------\n",
      "\n",
      "Learning rate set to 0.115043\n",
      "0:\tlearn: 1.0352995\ttest: 1.0344783\tbest: 1.0344783 (0)\ttotal: 33.2ms\tremaining: 33.2s\n",
      "100:\tlearn: 0.7881943\ttest: 0.7965490\tbest: 0.7965490 (100)\ttotal: 3.56s\tremaining: 31.7s\n",
      "200:\tlearn: 0.7538671\ttest: 0.7831926\tbest: 0.7831248 (199)\ttotal: 7.52s\tremaining: 29.9s\n",
      "300:\tlearn: 0.7272709\ttest: 0.7745970\tbest: 0.7745571 (299)\ttotal: 12s\tremaining: 27.8s\n",
      "400:\tlearn: 0.7064836\ttest: 0.7675592\tbest: 0.7675402 (398)\ttotal: 16s\tremaining: 23.9s\n",
      "500:\tlearn: 0.6850389\ttest: 0.7595654\tbest: 0.7595291 (498)\ttotal: 20.5s\tremaining: 20.4s\n",
      "600:\tlearn: 0.6654988\ttest: 0.7577579\tbest: 0.7575976 (597)\ttotal: 24.8s\tremaining: 16.4s\n",
      "700:\tlearn: 0.6479536\ttest: 0.7552631\tbest: 0.7551380 (695)\ttotal: 29.2s\tremaining: 12.4s\n",
      "800:\tlearn: 0.6319551\ttest: 0.7514738\tbest: 0.7514738 (800)\ttotal: 33s\tremaining: 8.21s\n",
      "900:\tlearn: 0.6157011\ttest: 0.7498792\tbest: 0.7498669 (899)\ttotal: 36.7s\tremaining: 4.04s\n",
      "999:\tlearn: 0.5992263\ttest: 0.7463913\tbest: 0.7463913 (999)\ttotal: 40.5s\tremaining: 0us\n",
      "\n",
      "bestTest = 0.7463913344\n",
      "bestIteration = 999\n",
      "\n"
     ]
    },
    {
     "data": {
      "text/plain": [
       "<catboost.core.CatBoostClassifier at 0x19b20237820>"
      ]
     },
     "execution_count": 58,
     "metadata": {},
     "output_type": "execute_result"
    },
    {
     "name": "stdout",
     "output_type": "stream",
     "text": [
      "CV Log Loss Score: 0.746391\n",
      "\n",
      "----------------- Fold 3 -----------------\n",
      "\n",
      "Learning rate set to 0.115043\n",
      "0:\tlearn: 1.0344374\ttest: 1.0333665\tbest: 1.0333665 (0)\ttotal: 31.6ms\tremaining: 31.6s\n",
      "100:\tlearn: 0.7873031\ttest: 0.7985645\tbest: 0.7985645 (100)\ttotal: 3.8s\tremaining: 33.8s\n",
      "200:\tlearn: 0.7564939\ttest: 0.7877674\tbest: 0.7877604 (199)\ttotal: 8.21s\tremaining: 32.6s\n",
      "300:\tlearn: 0.7307907\ttest: 0.7803106\tbest: 0.7803106 (300)\ttotal: 11.8s\tremaining: 27.5s\n",
      "400:\tlearn: 0.7071603\ttest: 0.7740516\tbest: 0.7736202 (383)\ttotal: 16.3s\tremaining: 24.3s\n",
      "500:\tlearn: 0.6864749\ttest: 0.7694010\tbest: 0.7691865 (498)\ttotal: 20.4s\tremaining: 20.3s\n",
      "600:\tlearn: 0.6651383\ttest: 0.7667647\tbest: 0.7667647 (600)\ttotal: 24.5s\tremaining: 16.2s\n",
      "700:\tlearn: 0.6462522\ttest: 0.7642322\tbest: 0.7642322 (700)\ttotal: 28.4s\tremaining: 12.1s\n",
      "800:\tlearn: 0.6287284\ttest: 0.7621538\tbest: 0.7619454 (797)\ttotal: 32.3s\tremaining: 8.04s\n",
      "900:\tlearn: 0.6127687\ttest: 0.7596401\tbest: 0.7593897 (898)\ttotal: 36.7s\tremaining: 4.04s\n",
      "999:\tlearn: 0.5980654\ttest: 0.7573358\tbest: 0.7573358 (999)\ttotal: 41.1s\tremaining: 0us\n",
      "\n",
      "bestTest = 0.7573357644\n",
      "bestIteration = 999\n",
      "\n"
     ]
    },
    {
     "data": {
      "text/plain": [
       "<catboost.core.CatBoostClassifier at 0x19b202375b0>"
      ]
     },
     "execution_count": 58,
     "metadata": {},
     "output_type": "execute_result"
    },
    {
     "name": "stdout",
     "output_type": "stream",
     "text": [
      "CV Log Loss Score: 0.757336\n",
      "\n",
      "----------------- Fold 4 -----------------\n",
      "\n",
      "Learning rate set to 0.115043\n",
      "0:\tlearn: 1.0348082\ttest: 1.0366168\tbest: 1.0366168 (0)\ttotal: 30.9ms\tremaining: 30.8s\n",
      "100:\tlearn: 0.7833794\ttest: 0.8169602\tbest: 0.8169495 (99)\ttotal: 3.36s\tremaining: 29.9s\n",
      "200:\tlearn: 0.7498405\ttest: 0.8037452\tbest: 0.8037452 (200)\ttotal: 7.19s\tremaining: 28.6s\n",
      "300:\tlearn: 0.7252353\ttest: 0.7971014\tbest: 0.7971014 (300)\ttotal: 11.4s\tremaining: 26.5s\n",
      "400:\tlearn: 0.7023587\ttest: 0.7934592\tbest: 0.7930414 (370)\ttotal: 15.2s\tremaining: 22.7s\n",
      "500:\tlearn: 0.6804351\ttest: 0.7884974\tbest: 0.7884280 (499)\ttotal: 18.9s\tremaining: 18.9s\n",
      "600:\tlearn: 0.6624269\ttest: 0.7858885\tbest: 0.7858535 (598)\ttotal: 23.1s\tremaining: 15.3s\n",
      "700:\tlearn: 0.6420662\ttest: 0.7810363\tbest: 0.7810235 (696)\ttotal: 26.9s\tremaining: 11.5s\n",
      "800:\tlearn: 0.6251018\ttest: 0.7777183\tbest: 0.7776510 (792)\ttotal: 31.1s\tremaining: 7.72s\n",
      "900:\tlearn: 0.6102722\ttest: 0.7743571\tbest: 0.7742942 (898)\ttotal: 35.2s\tremaining: 3.87s\n",
      "999:\tlearn: 0.5955053\ttest: 0.7733852\tbest: 0.7733852 (999)\ttotal: 39.5s\tremaining: 0us\n",
      "\n",
      "bestTest = 0.7733851779\n",
      "bestIteration = 999\n",
      "\n"
     ]
    },
    {
     "data": {
      "text/plain": [
       "<catboost.core.CatBoostClassifier at 0x19b202375e0>"
      ]
     },
     "execution_count": 58,
     "metadata": {},
     "output_type": "execute_result"
    },
    {
     "name": "stdout",
     "output_type": "stream",
     "text": [
      "CV Log Loss Score: 0.773385\n",
      "\n",
      "----------------- Fold 5 -----------------\n",
      "\n",
      "Learning rate set to 0.115043\n",
      "0:\tlearn: 1.0340829\ttest: 1.0346846\tbest: 1.0346846 (0)\ttotal: 35.1ms\tremaining: 35.1s\n",
      "100:\tlearn: 0.7835730\ttest: 0.8049254\tbest: 0.8049254 (100)\ttotal: 3.32s\tremaining: 29.6s\n",
      "200:\tlearn: 0.7500575\ttest: 0.7931703\tbest: 0.7931703 (200)\ttotal: 7.61s\tremaining: 30.2s\n",
      "300:\tlearn: 0.7261283\ttest: 0.7863153\tbest: 0.7862896 (299)\ttotal: 12s\tremaining: 27.8s\n",
      "400:\tlearn: 0.7037861\ttest: 0.7797752\tbest: 0.7796783 (399)\ttotal: 16.2s\tremaining: 24.1s\n",
      "500:\tlearn: 0.6840794\ttest: 0.7749011\tbest: 0.7749011 (500)\ttotal: 20.1s\tremaining: 20.1s\n",
      "600:\tlearn: 0.6651191\ttest: 0.7729836\tbest: 0.7728524 (587)\ttotal: 24.2s\tremaining: 16.1s\n",
      "700:\tlearn: 0.6480070\ttest: 0.7713616\tbest: 0.7712854 (699)\ttotal: 27.7s\tremaining: 11.8s\n",
      "800:\tlearn: 0.6303117\ttest: 0.7684475\tbest: 0.7680202 (781)\ttotal: 31.1s\tremaining: 7.74s\n",
      "Stopped by overfitting detector  (100 iterations wait)\n",
      "\n",
      "bestTest = 0.7680202043\n",
      "bestIteration = 781\n",
      "\n",
      "Shrink model to first 782 iterations.\n"
     ]
    },
    {
     "data": {
      "text/plain": [
       "<catboost.core.CatBoostClassifier at 0x19b20237790>"
      ]
     },
     "execution_count": 58,
     "metadata": {},
     "output_type": "execute_result"
    },
    {
     "name": "stdout",
     "output_type": "stream",
     "text": [
      "CV Log Loss Score: 0.768020\n",
      "\n",
      "----------------- Fold 6 -----------------\n",
      "\n",
      "Learning rate set to 0.115043\n",
      "0:\tlearn: 1.0352085\ttest: 1.0347448\tbest: 1.0347448 (0)\ttotal: 34.3ms\tremaining: 34.2s\n",
      "100:\tlearn: 0.7881319\ttest: 0.8025186\tbest: 0.8025186 (100)\ttotal: 3.2s\tremaining: 28.5s\n",
      "200:\tlearn: 0.7552430\ttest: 0.7903011\tbest: 0.7902821 (199)\ttotal: 7.34s\tremaining: 29.2s\n",
      "300:\tlearn: 0.7278605\ttest: 0.7806939\tbest: 0.7806939 (300)\ttotal: 11.4s\tremaining: 26.5s\n",
      "400:\tlearn: 0.7044460\ttest: 0.7751802\tbest: 0.7751802 (400)\ttotal: 15.7s\tremaining: 23.4s\n",
      "500:\tlearn: 0.6834794\ttest: 0.7707507\tbest: 0.7707507 (500)\ttotal: 19.7s\tremaining: 19.6s\n",
      "600:\tlearn: 0.6654387\ttest: 0.7695493\tbest: 0.7694843 (592)\ttotal: 23.5s\tremaining: 15.6s\n",
      "700:\tlearn: 0.6470298\ttest: 0.7658978\tbest: 0.7658581 (698)\ttotal: 27.5s\tremaining: 11.7s\n",
      "800:\tlearn: 0.6292476\ttest: 0.7623055\tbest: 0.7621518 (799)\ttotal: 31.1s\tremaining: 7.73s\n",
      "900:\tlearn: 0.6139458\ttest: 0.7593406\tbest: 0.7593406 (900)\ttotal: 34.8s\tremaining: 3.82s\n",
      "999:\tlearn: 0.5985889\ttest: 0.7563289\tbest: 0.7563289 (999)\ttotal: 38.6s\tremaining: 0us\n",
      "\n",
      "bestTest = 0.7563288596\n",
      "bestIteration = 999\n",
      "\n"
     ]
    },
    {
     "data": {
      "text/plain": [
       "<catboost.core.CatBoostClassifier at 0x19b202376a0>"
      ]
     },
     "execution_count": 58,
     "metadata": {},
     "output_type": "execute_result"
    },
    {
     "name": "stdout",
     "output_type": "stream",
     "text": [
      "CV Log Loss Score: 0.756329\n",
      "\n",
      "----------------- Fold 7 -----------------\n",
      "\n",
      "Learning rate set to 0.115043\n",
      "0:\tlearn: 1.0342853\ttest: 1.0335520\tbest: 1.0335520 (0)\ttotal: 31.6ms\tremaining: 31.6s\n",
      "100:\tlearn: 0.7874502\ttest: 0.7915380\tbest: 0.7915380 (100)\ttotal: 3.37s\tremaining: 30s\n",
      "200:\tlearn: 0.7533420\ttest: 0.7781210\tbest: 0.7780660 (199)\ttotal: 6.86s\tremaining: 27.3s\n",
      "300:\tlearn: 0.7277870\ttest: 0.7700051\tbest: 0.7700051 (300)\ttotal: 10.9s\tremaining: 25.2s\n",
      "400:\tlearn: 0.7066458\ttest: 0.7635345\tbest: 0.7635345 (400)\ttotal: 14.2s\tremaining: 21.2s\n",
      "500:\tlearn: 0.6856068\ttest: 0.7582556\tbest: 0.7582556 (500)\ttotal: 17.4s\tremaining: 17.4s\n",
      "600:\tlearn: 0.6662291\ttest: 0.7538991\tbest: 0.7538025 (595)\ttotal: 20.8s\tremaining: 13.8s\n",
      "700:\tlearn: 0.6486422\ttest: 0.7504323\tbest: 0.7504323 (700)\ttotal: 24.3s\tremaining: 10.4s\n",
      "800:\tlearn: 0.6315004\ttest: 0.7467306\tbest: 0.7464691 (798)\ttotal: 27.5s\tremaining: 6.83s\n",
      "900:\tlearn: 0.6141501\ttest: 0.7447743\tbest: 0.7447743 (900)\ttotal: 31.4s\tremaining: 3.45s\n",
      "999:\tlearn: 0.5986179\ttest: 0.7417253\tbest: 0.7417253 (999)\ttotal: 35.6s\tremaining: 0us\n",
      "\n",
      "bestTest = 0.7417252692\n",
      "bestIteration = 999\n",
      "\n"
     ]
    },
    {
     "data": {
      "text/plain": [
       "<catboost.core.CatBoostClassifier at 0x19b20237b80>"
      ]
     },
     "execution_count": 58,
     "metadata": {},
     "output_type": "execute_result"
    },
    {
     "name": "stdout",
     "output_type": "stream",
     "text": [
      "CV Log Loss Score: 0.741725\n",
      "\n",
      "----------------- Fold 8 -----------------\n",
      "\n",
      "Learning rate set to 0.115043\n",
      "0:\tlearn: 1.0341336\ttest: 1.0343548\tbest: 1.0343548 (0)\ttotal: 31ms\tremaining: 31s\n",
      "100:\tlearn: 0.7853685\ttest: 0.8000339\tbest: 0.8000339 (100)\ttotal: 3.3s\tremaining: 29.4s\n",
      "200:\tlearn: 0.7535296\ttest: 0.7876904\tbest: 0.7876823 (198)\ttotal: 7.92s\tremaining: 31.5s\n",
      "300:\tlearn: 0.7283412\ttest: 0.7803910\tbest: 0.7803910 (300)\ttotal: 11.3s\tremaining: 26.3s\n",
      "400:\tlearn: 0.7065717\ttest: 0.7744898\tbest: 0.7744898 (400)\ttotal: 14.9s\tremaining: 22.2s\n",
      "500:\tlearn: 0.6868296\ttest: 0.7699989\tbest: 0.7699787 (499)\ttotal: 18.7s\tremaining: 18.6s\n",
      "600:\tlearn: 0.6675020\ttest: 0.7670111\tbest: 0.7668552 (593)\ttotal: 22.2s\tremaining: 14.7s\n",
      "700:\tlearn: 0.6485104\ttest: 0.7643483\tbest: 0.7642842 (672)\ttotal: 25.5s\tremaining: 10.9s\n",
      "800:\tlearn: 0.6292531\ttest: 0.7627743\tbest: 0.7626838 (796)\ttotal: 28.8s\tremaining: 7.15s\n",
      "900:\tlearn: 0.6121762\ttest: 0.7606049\tbest: 0.7606049 (900)\ttotal: 32.1s\tremaining: 3.52s\n",
      "999:\tlearn: 0.5965612\ttest: 0.7588900\tbest: 0.7588684 (998)\ttotal: 35.4s\tremaining: 0us\n",
      "\n",
      "bestTest = 0.7588683688\n",
      "bestIteration = 998\n",
      "\n",
      "Shrink model to first 999 iterations.\n"
     ]
    },
    {
     "data": {
      "text/plain": [
       "<catboost.core.CatBoostClassifier at 0x19b20237670>"
      ]
     },
     "execution_count": 58,
     "metadata": {},
     "output_type": "execute_result"
    },
    {
     "name": "stdout",
     "output_type": "stream",
     "text": [
      "CV Log Loss Score: 0.758868\n",
      "\n",
      "----------------- Fold 9 -----------------\n",
      "\n",
      "Learning rate set to 0.115043\n",
      "0:\tlearn: 1.0341785\ttest: 1.0340822\tbest: 1.0340822 (0)\ttotal: 31.4ms\tremaining: 31.3s\n",
      "100:\tlearn: 0.7843458\ttest: 0.7991214\tbest: 0.7991214 (100)\ttotal: 3.59s\tremaining: 31.9s\n",
      "200:\tlearn: 0.7513504\ttest: 0.7891149\tbest: 0.7891007 (198)\ttotal: 8.1s\tremaining: 32.2s\n",
      "300:\tlearn: 0.7243293\ttest: 0.7821097\tbest: 0.7821097 (300)\ttotal: 12.5s\tremaining: 29s\n",
      "400:\tlearn: 0.7016558\ttest: 0.7765358\tbest: 0.7765358 (400)\ttotal: 16.1s\tremaining: 24s\n",
      "500:\tlearn: 0.6805866\ttest: 0.7716903\tbest: 0.7716903 (500)\ttotal: 19.7s\tremaining: 19.6s\n",
      "600:\tlearn: 0.6612055\ttest: 0.7694699\tbest: 0.7694699 (600)\ttotal: 24s\tremaining: 15.9s\n",
      "700:\tlearn: 0.6428791\ttest: 0.7659496\tbest: 0.7657665 (696)\ttotal: 27.9s\tremaining: 11.9s\n",
      "800:\tlearn: 0.6256736\ttest: 0.7621747\tbest: 0.7621073 (799)\ttotal: 31.7s\tremaining: 7.87s\n",
      "900:\tlearn: 0.6061365\ttest: 0.7621178\tbest: 0.7615033 (841)\ttotal: 35.7s\tremaining: 3.93s\n",
      "Stopped by overfitting detector  (100 iterations wait)\n",
      "\n",
      "bestTest = 0.7615032898\n",
      "bestIteration = 841\n",
      "\n",
      "Shrink model to first 842 iterations.\n"
     ]
    },
    {
     "data": {
      "text/plain": [
       "<catboost.core.CatBoostClassifier at 0x19b20237dc0>"
      ]
     },
     "execution_count": 58,
     "metadata": {},
     "output_type": "execute_result"
    },
    {
     "name": "stdout",
     "output_type": "stream",
     "text": [
      "CV Log Loss Score: 0.761503\n",
      "\tLog Loss: 0.757190\n"
     ]
    }
   ],
   "source": [
    "skfold = StratifiedKFold(n_splits=n_fold, shuffle=True, random_state=seed)\n",
    "folds=[]\n",
    "for train_idx, valid_idx in skfold.split(X, y):\n",
    "        folds.append((train_idx, valid_idx))\n",
    "\n",
    "cat_pred = np.zeros((X.shape[0], n_class))\n",
    "cat_pred_test = np.zeros((X_test.shape[0], n_class))\n",
    "cat_cols = ['income_type', 'edu_type', 'family_type', 'house_type', 'occyp_type']\n",
    "for fold in range(n_fold):\n",
    "  print(f'\\n----------------- Fold {fold} -----------------\\n')\n",
    "  train_idx, valid_idx = folds[fold]\n",
    "  X_train, X_valid, y_train, y_valid = X.iloc[train_idx], X.iloc[valid_idx], y.iloc[train_idx], y.iloc[valid_idx]\n",
    "  train_data = Pool(data=X_train, label=y_train, cat_features=cat_cols)\n",
    "  valid_data = Pool(data=X_valid, label=y_valid, cat_features=cat_cols)\n",
    "\n",
    "  model_cat = CatBoostClassifier()\n",
    "  model_cat.fit(train_data, eval_set=valid_data, use_best_model=True, early_stopping_rounds=100, verbose=100)\n",
    "  \n",
    "  cat_pred[valid_idx] = model_cat.predict_proba(X_valid)\n",
    "  cat_pred_test += model_cat.predict_proba(X_test) / n_fold\n",
    "  print(f'CV Log Loss Score: {log_loss(y_valid, cat_pred[valid_idx]):.6f}')\n",
    "    \n",
    "print(f'\\tLog Loss: {log_loss(y, cat_pred):.6f}')"
   ]
  },
  {
   "cell_type": "code",
   "execution_count": 59,
   "metadata": {},
   "outputs": [
    {
     "data": {
      "text/html": [
       "<div>\n",
       "<style scoped>\n",
       "    .dataframe tbody tr th:only-of-type {\n",
       "        vertical-align: middle;\n",
       "    }\n",
       "\n",
       "    .dataframe tbody tr th {\n",
       "        vertical-align: top;\n",
       "    }\n",
       "\n",
       "    .dataframe thead th {\n",
       "        text-align: right;\n",
       "    }\n",
       "</style>\n",
       "<table border=\"1\" class=\"dataframe\">\n",
       "  <thead>\n",
       "    <tr style=\"text-align: right;\">\n",
       "      <th></th>\n",
       "      <th>index</th>\n",
       "      <th>0</th>\n",
       "      <th>1</th>\n",
       "      <th>2</th>\n",
       "    </tr>\n",
       "  </thead>\n",
       "  <tbody>\n",
       "    <tr>\n",
       "      <th>0</th>\n",
       "      <td>26457</td>\n",
       "      <td>0.108691</td>\n",
       "      <td>0.140215</td>\n",
       "      <td>0.751094</td>\n",
       "    </tr>\n",
       "    <tr>\n",
       "      <th>1</th>\n",
       "      <td>26458</td>\n",
       "      <td>0.141232</td>\n",
       "      <td>0.157840</td>\n",
       "      <td>0.700928</td>\n",
       "    </tr>\n",
       "    <tr>\n",
       "      <th>2</th>\n",
       "      <td>26459</td>\n",
       "      <td>0.119412</td>\n",
       "      <td>0.151644</td>\n",
       "      <td>0.728944</td>\n",
       "    </tr>\n",
       "    <tr>\n",
       "      <th>3</th>\n",
       "      <td>26460</td>\n",
       "      <td>0.128912</td>\n",
       "      <td>0.142789</td>\n",
       "      <td>0.728299</td>\n",
       "    </tr>\n",
       "    <tr>\n",
       "      <th>4</th>\n",
       "      <td>26461</td>\n",
       "      <td>0.091621</td>\n",
       "      <td>0.218364</td>\n",
       "      <td>0.690015</td>\n",
       "    </tr>\n",
       "    <tr>\n",
       "      <th>...</th>\n",
       "      <td>...</td>\n",
       "      <td>...</td>\n",
       "      <td>...</td>\n",
       "      <td>...</td>\n",
       "    </tr>\n",
       "    <tr>\n",
       "      <th>9995</th>\n",
       "      <td>36452</td>\n",
       "      <td>0.174974</td>\n",
       "      <td>0.191246</td>\n",
       "      <td>0.633779</td>\n",
       "    </tr>\n",
       "    <tr>\n",
       "      <th>9996</th>\n",
       "      <td>36453</td>\n",
       "      <td>0.101350</td>\n",
       "      <td>0.242709</td>\n",
       "      <td>0.655941</td>\n",
       "    </tr>\n",
       "    <tr>\n",
       "      <th>9997</th>\n",
       "      <td>36454</td>\n",
       "      <td>0.024520</td>\n",
       "      <td>0.078620</td>\n",
       "      <td>0.896860</td>\n",
       "    </tr>\n",
       "    <tr>\n",
       "      <th>9998</th>\n",
       "      <td>36455</td>\n",
       "      <td>0.127251</td>\n",
       "      <td>0.172769</td>\n",
       "      <td>0.699980</td>\n",
       "    </tr>\n",
       "    <tr>\n",
       "      <th>9999</th>\n",
       "      <td>36456</td>\n",
       "      <td>0.111533</td>\n",
       "      <td>0.241522</td>\n",
       "      <td>0.646945</td>\n",
       "    </tr>\n",
       "  </tbody>\n",
       "</table>\n",
       "<p>10000 rows × 4 columns</p>\n",
       "</div>"
      ],
      "text/plain": [
       "      index         0         1         2\n",
       "0     26457  0.108691  0.140215  0.751094\n",
       "1     26458  0.141232  0.157840  0.700928\n",
       "2     26459  0.119412  0.151644  0.728944\n",
       "3     26460  0.128912  0.142789  0.728299\n",
       "4     26461  0.091621  0.218364  0.690015\n",
       "...     ...       ...       ...       ...\n",
       "9995  36452  0.174974  0.191246  0.633779\n",
       "9996  36453  0.101350  0.242709  0.655941\n",
       "9997  36454  0.024520  0.078620  0.896860\n",
       "9998  36455  0.127251  0.172769  0.699980\n",
       "9999  36456  0.111533  0.241522  0.646945\n",
       "\n",
       "[10000 rows x 4 columns]"
      ]
     },
     "execution_count": 59,
     "metadata": {},
     "output_type": "execute_result"
    }
   ],
   "source": [
    "submission=pd.read_csv('sample_submission.csv')\n",
    "submission.iloc[:, 1:] = cat_pred_test\n",
    "submission"
   ]
  },
  {
   "cell_type": "code",
   "execution_count": 61,
   "metadata": {},
   "outputs": [],
   "source": [
    "submission.to_csv('ml_cat_fin.csv', index=False)"
   ]
  },
  {
   "cell_type": "code",
   "execution_count": null,
   "metadata": {},
   "outputs": [],
   "source": []
  },
  {
   "cell_type": "markdown",
   "metadata": {},
   "source": [
    "### smote 버전"
   ]
  },
  {
   "cell_type": "code",
   "execution_count": 62,
   "metadata": {},
   "outputs": [
    {
     "name": "stdout",
     "output_type": "stream",
     "text": [
      "\n",
      "----------------- Fold 0 -----------------\n",
      "\n",
      "Learning rate set to 0.116558\n",
      "0:\tlearn: 1.0856816\ttest: 1.0854006\tbest: 1.0854006 (0)\ttotal: 48.5ms\tremaining: 48.5s\n",
      "100:\tlearn: 0.9109535\ttest: 0.9209863\tbest: 0.9209863 (100)\ttotal: 6.56s\tremaining: 58.4s\n",
      "200:\tlearn: 0.8251711\ttest: 0.8485294\tbest: 0.8485294 (200)\ttotal: 13.3s\tremaining: 52.7s\n",
      "300:\tlearn: 0.7695292\ttest: 0.8038491\tbest: 0.8038491 (300)\ttotal: 20s\tremaining: 46.5s\n",
      "400:\tlearn: 0.7287393\ttest: 0.7713085\tbest: 0.7713085 (400)\ttotal: 26.5s\tremaining: 39.5s\n",
      "500:\tlearn: 0.6946040\ttest: 0.7446072\tbest: 0.7446072 (500)\ttotal: 32.6s\tremaining: 32.5s\n",
      "600:\tlearn: 0.6643090\ttest: 0.7229421\tbest: 0.7229421 (600)\ttotal: 38.9s\tremaining: 25.8s\n",
      "700:\tlearn: 0.6406713\ttest: 0.7064192\tbest: 0.7064192 (700)\ttotal: 44.6s\tremaining: 19s\n",
      "800:\tlearn: 0.6205704\ttest: 0.6919974\tbest: 0.6919974 (800)\ttotal: 50.5s\tremaining: 12.5s\n",
      "900:\tlearn: 0.6010270\ttest: 0.6772650\tbest: 0.6772650 (900)\ttotal: 57.1s\tremaining: 6.28s\n",
      "999:\tlearn: 0.5836423\ttest: 0.6665760\tbest: 0.6665760 (999)\ttotal: 1m 2s\tremaining: 0us\n",
      "\n",
      "bestTest = 0.666576008\n",
      "bestIteration = 999\n",
      "\n"
     ]
    },
    {
     "data": {
      "text/plain": [
       "<catboost.core.CatBoostClassifier at 0x19b202377f0>"
      ]
     },
     "execution_count": 62,
     "metadata": {},
     "output_type": "execute_result"
    },
    {
     "name": "stdout",
     "output_type": "stream",
     "text": [
      "CV Log Loss Score: 0.666576\n",
      "\n",
      "----------------- Fold 1 -----------------\n",
      "\n",
      "Learning rate set to 0.116558\n",
      "0:\tlearn: 1.0861036\ttest: 1.0855469\tbest: 1.0855469 (0)\ttotal: 56.1ms\tremaining: 56s\n",
      "100:\tlearn: 0.9186259\ttest: 0.9190420\tbest: 0.9190420 (100)\ttotal: 6.09s\tremaining: 54.3s\n",
      "200:\tlearn: 0.8289176\ttest: 0.8375386\tbest: 0.8375386 (200)\ttotal: 12.3s\tremaining: 49.1s\n",
      "300:\tlearn: 0.7704060\ttest: 0.7877278\tbest: 0.7877278 (300)\ttotal: 18.5s\tremaining: 43.1s\n",
      "400:\tlearn: 0.7321207\ttest: 0.7575089\tbest: 0.7575089 (400)\ttotal: 24.1s\tremaining: 35.9s\n",
      "500:\tlearn: 0.6996505\ttest: 0.7330885\tbest: 0.7330885 (500)\ttotal: 29.9s\tremaining: 29.7s\n",
      "600:\tlearn: 0.6707237\ttest: 0.7115592\tbest: 0.7115592 (600)\ttotal: 35.5s\tremaining: 23.6s\n",
      "700:\tlearn: 0.6451596\ttest: 0.6942062\tbest: 0.6942062 (700)\ttotal: 41.4s\tremaining: 17.7s\n",
      "800:\tlearn: 0.6215134\ttest: 0.6770839\tbest: 0.6770839 (800)\ttotal: 47.2s\tremaining: 11.7s\n",
      "900:\tlearn: 0.6024883\ttest: 0.6640655\tbest: 0.6640655 (900)\ttotal: 53.1s\tremaining: 5.84s\n",
      "999:\tlearn: 0.5874364\ttest: 0.6539951\tbest: 0.6539951 (999)\ttotal: 59.3s\tremaining: 0us\n",
      "\n",
      "bestTest = 0.6539950566\n",
      "bestIteration = 999\n",
      "\n"
     ]
    },
    {
     "data": {
      "text/plain": [
       "<catboost.core.CatBoostClassifier at 0x19b202372b0>"
      ]
     },
     "execution_count": 62,
     "metadata": {},
     "output_type": "execute_result"
    },
    {
     "name": "stdout",
     "output_type": "stream",
     "text": [
      "CV Log Loss Score: 0.653995\n",
      "\n",
      "----------------- Fold 2 -----------------\n",
      "\n",
      "Learning rate set to 0.116558\n",
      "0:\tlearn: 1.0866893\ttest: 1.0867151\tbest: 1.0867151 (0)\ttotal: 56.3ms\tremaining: 56.3s\n",
      "100:\tlearn: 0.9104775\ttest: 0.9155194\tbest: 0.9155194 (100)\ttotal: 5.56s\tremaining: 49.5s\n",
      "200:\tlearn: 0.8221760\ttest: 0.8369740\tbest: 0.8369740 (200)\ttotal: 11.8s\tremaining: 46.9s\n",
      "300:\tlearn: 0.7672087\ttest: 0.7912292\tbest: 0.7912292 (300)\ttotal: 17.5s\tremaining: 40.7s\n",
      "400:\tlearn: 0.7324766\ttest: 0.7647522\tbest: 0.7647522 (400)\ttotal: 23.4s\tremaining: 34.9s\n",
      "500:\tlearn: 0.6993518\ttest: 0.7407635\tbest: 0.7407635 (500)\ttotal: 29.2s\tremaining: 29.1s\n",
      "600:\tlearn: 0.6711783\ttest: 0.7198585\tbest: 0.7198585 (600)\ttotal: 35.5s\tremaining: 23.6s\n",
      "700:\tlearn: 0.6461553\ttest: 0.6998772\tbest: 0.6998772 (700)\ttotal: 41.9s\tremaining: 17.9s\n",
      "800:\tlearn: 0.6224377\ttest: 0.6837742\tbest: 0.6837628 (799)\ttotal: 48.9s\tremaining: 12.1s\n",
      "900:\tlearn: 0.6015888\ttest: 0.6686616\tbest: 0.6686616 (900)\ttotal: 55.7s\tremaining: 6.12s\n",
      "999:\tlearn: 0.5859506\ttest: 0.6590024\tbest: 0.6590024 (999)\ttotal: 1m 2s\tremaining: 0us\n",
      "\n",
      "bestTest = 0.6590024411\n",
      "bestIteration = 999\n",
      "\n"
     ]
    },
    {
     "data": {
      "text/plain": [
       "<catboost.core.CatBoostClassifier at 0x19b202375b0>"
      ]
     },
     "execution_count": 62,
     "metadata": {},
     "output_type": "execute_result"
    },
    {
     "name": "stdout",
     "output_type": "stream",
     "text": [
      "CV Log Loss Score: 0.659002\n",
      "\n",
      "----------------- Fold 3 -----------------\n",
      "\n",
      "Learning rate set to 0.116558\n",
      "0:\tlearn: 1.0862175\ttest: 1.0863526\tbest: 1.0863526 (0)\ttotal: 62.1ms\tremaining: 1m 2s\n",
      "100:\tlearn: 0.9144148\ttest: 0.9265179\tbest: 0.9265179 (100)\ttotal: 6.79s\tremaining: 1m\n",
      "200:\tlearn: 0.8225973\ttest: 0.8488894\tbest: 0.8488894 (200)\ttotal: 13.6s\tremaining: 53.9s\n",
      "300:\tlearn: 0.7689689\ttest: 0.8063578\tbest: 0.8063578 (300)\ttotal: 19.8s\tremaining: 45.9s\n",
      "400:\tlearn: 0.7310532\ttest: 0.7747440\tbest: 0.7747440 (400)\ttotal: 26.2s\tremaining: 39.2s\n",
      "500:\tlearn: 0.6973923\ttest: 0.7481678\tbest: 0.7481678 (500)\ttotal: 32.9s\tremaining: 32.8s\n",
      "600:\tlearn: 0.6692787\ttest: 0.7269620\tbest: 0.7269620 (600)\ttotal: 38.9s\tremaining: 25.8s\n",
      "700:\tlearn: 0.6447418\ttest: 0.7085566\tbest: 0.7085566 (700)\ttotal: 45.2s\tremaining: 19.3s\n",
      "800:\tlearn: 0.6237556\ttest: 0.6946892\tbest: 0.6946892 (800)\ttotal: 51.2s\tremaining: 12.7s\n",
      "900:\tlearn: 0.6039766\ttest: 0.6807864\tbest: 0.6807864 (900)\ttotal: 57.3s\tremaining: 6.3s\n",
      "999:\tlearn: 0.5858946\ttest: 0.6679000\tbest: 0.6679000 (999)\ttotal: 1m 4s\tremaining: 0us\n",
      "\n",
      "bestTest = 0.6678999875\n",
      "bestIteration = 999\n",
      "\n"
     ]
    },
    {
     "data": {
      "text/plain": [
       "<catboost.core.CatBoostClassifier at 0x19b1c26ad30>"
      ]
     },
     "execution_count": 62,
     "metadata": {},
     "output_type": "execute_result"
    },
    {
     "name": "stdout",
     "output_type": "stream",
     "text": [
      "CV Log Loss Score: 0.667900\n",
      "\n",
      "----------------- Fold 4 -----------------\n",
      "\n",
      "Learning rate set to 0.116558\n",
      "0:\tlearn: 1.0855071\ttest: 1.0860505\tbest: 1.0860505 (0)\ttotal: 62.7ms\tremaining: 1m 2s\n",
      "100:\tlearn: 0.9065830\ttest: 0.9235822\tbest: 0.9235822 (100)\ttotal: 6.64s\tremaining: 59.1s\n",
      "200:\tlearn: 0.8230084\ttest: 0.8527409\tbest: 0.8527409 (200)\ttotal: 13s\tremaining: 51.7s\n",
      "300:\tlearn: 0.7675727\ttest: 0.8064466\tbest: 0.8064466 (300)\ttotal: 19.8s\tremaining: 46s\n",
      "400:\tlearn: 0.7292418\ttest: 0.7757972\tbest: 0.7757972 (400)\ttotal: 27.1s\tremaining: 40.5s\n",
      "500:\tlearn: 0.6966006\ttest: 0.7500869\tbest: 0.7500869 (500)\ttotal: 34.2s\tremaining: 34s\n",
      "600:\tlearn: 0.6699616\ttest: 0.7292972\tbest: 0.7292972 (600)\ttotal: 41s\tremaining: 27.2s\n",
      "700:\tlearn: 0.6469608\ttest: 0.7112532\tbest: 0.7112532 (700)\ttotal: 47.4s\tremaining: 20.2s\n",
      "800:\tlearn: 0.6253549\ttest: 0.6954183\tbest: 0.6954183 (800)\ttotal: 54s\tremaining: 13.4s\n",
      "900:\tlearn: 0.6045272\ttest: 0.6810897\tbest: 0.6810786 (899)\ttotal: 1m\tremaining: 6.61s\n",
      "999:\tlearn: 0.5885042\ttest: 0.6693142\tbest: 0.6693142 (999)\ttotal: 1m 6s\tremaining: 0us\n",
      "\n",
      "bestTest = 0.6693141923\n",
      "bestIteration = 999\n",
      "\n"
     ]
    },
    {
     "data": {
      "text/plain": [
       "<catboost.core.CatBoostClassifier at 0x19b20237880>"
      ]
     },
     "execution_count": 62,
     "metadata": {},
     "output_type": "execute_result"
    },
    {
     "name": "stdout",
     "output_type": "stream",
     "text": [
      "CV Log Loss Score: 0.669314\n",
      "\n",
      "----------------- Fold 5 -----------------\n",
      "\n",
      "Learning rate set to 0.116558\n",
      "0:\tlearn: 1.0866218\ttest: 1.0872020\tbest: 1.0872020 (0)\ttotal: 52.7ms\tremaining: 52.7s\n",
      "100:\tlearn: 0.9068869\ttest: 0.9237988\tbest: 0.9237988 (100)\ttotal: 6.46s\tremaining: 57.5s\n",
      "200:\tlearn: 0.8209834\ttest: 0.8512546\tbest: 0.8512546 (200)\ttotal: 12.8s\tremaining: 51.1s\n",
      "300:\tlearn: 0.7652765\ttest: 0.8054406\tbest: 0.8054406 (300)\ttotal: 19.8s\tremaining: 46s\n",
      "400:\tlearn: 0.7249483\ttest: 0.7719610\tbest: 0.7719349 (399)\ttotal: 26.6s\tremaining: 39.8s\n",
      "500:\tlearn: 0.6905994\ttest: 0.7455697\tbest: 0.7455697 (500)\ttotal: 32.5s\tremaining: 32.4s\n",
      "600:\tlearn: 0.6617981\ttest: 0.7252708\tbest: 0.7252708 (600)\ttotal: 38.6s\tremaining: 25.6s\n",
      "700:\tlearn: 0.6398819\ttest: 0.7082710\tbest: 0.7082710 (700)\ttotal: 44.8s\tremaining: 19.1s\n",
      "800:\tlearn: 0.6192107\ttest: 0.6920384\tbest: 0.6920384 (800)\ttotal: 51s\tremaining: 12.7s\n",
      "900:\tlearn: 0.6011081\ttest: 0.6798448\tbest: 0.6798448 (900)\ttotal: 57.6s\tremaining: 6.32s\n",
      "999:\tlearn: 0.5829909\ttest: 0.6669266\tbest: 0.6669204 (998)\ttotal: 1m 3s\tremaining: 0us\n",
      "\n",
      "bestTest = 0.6669204096\n",
      "bestIteration = 998\n",
      "\n",
      "Shrink model to first 999 iterations.\n"
     ]
    },
    {
     "data": {
      "text/plain": [
       "<catboost.core.CatBoostClassifier at 0x19b20258c40>"
      ]
     },
     "execution_count": 62,
     "metadata": {},
     "output_type": "execute_result"
    },
    {
     "name": "stdout",
     "output_type": "stream",
     "text": [
      "CV Log Loss Score: 0.666920\n",
      "\n",
      "----------------- Fold 6 -----------------\n",
      "\n",
      "Learning rate set to 0.116558\n",
      "0:\tlearn: 1.0855711\ttest: 1.0867514\tbest: 1.0867514 (0)\ttotal: 54ms\tremaining: 54s\n",
      "100:\tlearn: 0.9089741\ttest: 0.9268196\tbest: 0.9268196 (100)\ttotal: 6.46s\tremaining: 57.5s\n",
      "200:\tlearn: 0.8227120\ttest: 0.8496239\tbest: 0.8496239 (200)\ttotal: 12.7s\tremaining: 50.4s\n",
      "300:\tlearn: 0.7667995\ttest: 0.8006115\tbest: 0.8006115 (300)\ttotal: 18.9s\tremaining: 43.9s\n",
      "400:\tlearn: 0.7253216\ttest: 0.7681167\tbest: 0.7681167 (400)\ttotal: 25.2s\tremaining: 37.7s\n",
      "500:\tlearn: 0.6915964\ttest: 0.7413989\tbest: 0.7413989 (500)\ttotal: 31.6s\tremaining: 31.5s\n",
      "600:\tlearn: 0.6657341\ttest: 0.7223035\tbest: 0.7223035 (600)\ttotal: 37.9s\tremaining: 25.2s\n",
      "700:\tlearn: 0.6413799\ttest: 0.7035477\tbest: 0.7035477 (700)\ttotal: 44.5s\tremaining: 19s\n",
      "800:\tlearn: 0.6196869\ttest: 0.6887434\tbest: 0.6887434 (800)\ttotal: 50.7s\tremaining: 12.6s\n",
      "900:\tlearn: 0.6001661\ttest: 0.6758237\tbest: 0.6758237 (900)\ttotal: 57.1s\tremaining: 6.27s\n",
      "999:\tlearn: 0.5823129\ttest: 0.6637388\tbest: 0.6637388 (999)\ttotal: 1m 3s\tremaining: 0us\n",
      "\n",
      "bestTest = 0.6637387562\n",
      "bestIteration = 999\n",
      "\n"
     ]
    },
    {
     "data": {
      "text/plain": [
       "<catboost.core.CatBoostClassifier at 0x19b202584f0>"
      ]
     },
     "execution_count": 62,
     "metadata": {},
     "output_type": "execute_result"
    },
    {
     "name": "stdout",
     "output_type": "stream",
     "text": [
      "CV Log Loss Score: 0.663739\n",
      "\n",
      "----------------- Fold 7 -----------------\n",
      "\n",
      "Learning rate set to 0.116558\n",
      "0:\tlearn: 1.0869905\ttest: 1.0871105\tbest: 1.0871105 (0)\ttotal: 53.7ms\tremaining: 53.7s\n",
      "100:\tlearn: 0.9042392\ttest: 0.9144474\tbest: 0.9144474 (100)\ttotal: 6.73s\tremaining: 59.9s\n",
      "200:\tlearn: 0.8192149\ttest: 0.8371785\tbest: 0.8371785 (200)\ttotal: 13.6s\tremaining: 54.2s\n",
      "300:\tlearn: 0.7675800\ttest: 0.7928348\tbest: 0.7928348 (300)\ttotal: 20.1s\tremaining: 46.7s\n",
      "400:\tlearn: 0.7258986\ttest: 0.7569406\tbest: 0.7569406 (400)\ttotal: 26.3s\tremaining: 39.3s\n",
      "500:\tlearn: 0.6912648\ttest: 0.7298486\tbest: 0.7298486 (500)\ttotal: 32.8s\tremaining: 32.7s\n",
      "600:\tlearn: 0.6636498\ttest: 0.7091384\tbest: 0.7091384 (600)\ttotal: 38.9s\tremaining: 25.8s\n",
      "700:\tlearn: 0.6405836\ttest: 0.6935469\tbest: 0.6935469 (700)\ttotal: 45.4s\tremaining: 19.4s\n",
      "800:\tlearn: 0.6204666\ttest: 0.6803784\tbest: 0.6803784 (800)\ttotal: 52.1s\tremaining: 12.9s\n",
      "900:\tlearn: 0.6012609\ttest: 0.6665258\tbest: 0.6665258 (900)\ttotal: 58.8s\tremaining: 6.46s\n",
      "999:\tlearn: 0.5851902\ttest: 0.6553020\tbest: 0.6553020 (999)\ttotal: 1m 5s\tremaining: 0us\n",
      "\n",
      "bestTest = 0.6553020241\n",
      "bestIteration = 999\n",
      "\n"
     ]
    },
    {
     "data": {
      "text/plain": [
       "<catboost.core.CatBoostClassifier at 0x19b198cec10>"
      ]
     },
     "execution_count": 62,
     "metadata": {},
     "output_type": "execute_result"
    },
    {
     "name": "stdout",
     "output_type": "stream",
     "text": [
      "CV Log Loss Score: 0.655302\n",
      "\n",
      "----------------- Fold 8 -----------------\n",
      "\n",
      "Learning rate set to 0.116558\n",
      "0:\tlearn: 1.0870573\ttest: 1.0870783\tbest: 1.0870783 (0)\ttotal: 50.4ms\tremaining: 50.4s\n",
      "100:\tlearn: 0.9087553\ttest: 0.9206583\tbest: 0.9206583 (100)\ttotal: 6.14s\tremaining: 54.6s\n",
      "200:\tlearn: 0.8247028\ttest: 0.8431920\tbest: 0.8431920 (200)\ttotal: 12.2s\tremaining: 48.6s\n",
      "300:\tlearn: 0.7741073\ttest: 0.7998263\tbest: 0.7998263 (300)\ttotal: 18.5s\tremaining: 42.9s\n",
      "400:\tlearn: 0.7322681\ttest: 0.7646738\tbest: 0.7646738 (400)\ttotal: 25.5s\tremaining: 38.1s\n",
      "500:\tlearn: 0.7014175\ttest: 0.7392036\tbest: 0.7392036 (500)\ttotal: 31.5s\tremaining: 31.4s\n",
      "600:\tlearn: 0.6689228\ttest: 0.7140543\tbest: 0.7140543 (600)\ttotal: 38.3s\tremaining: 25.4s\n",
      "700:\tlearn: 0.6453039\ttest: 0.6965704\tbest: 0.6965038 (699)\ttotal: 44.3s\tremaining: 18.9s\n",
      "800:\tlearn: 0.6236147\ttest: 0.6806481\tbest: 0.6806481 (800)\ttotal: 50.2s\tremaining: 12.5s\n",
      "900:\tlearn: 0.6039382\ttest: 0.6665350\tbest: 0.6665246 (899)\ttotal: 56.1s\tremaining: 6.17s\n",
      "999:\tlearn: 0.5861686\ttest: 0.6525173\tbest: 0.6525173 (999)\ttotal: 1m 2s\tremaining: 0us\n",
      "\n",
      "bestTest = 0.6525172926\n",
      "bestIteration = 999\n",
      "\n"
     ]
    },
    {
     "data": {
      "text/plain": [
       "<catboost.core.CatBoostClassifier at 0x19b20258d90>"
      ]
     },
     "execution_count": 62,
     "metadata": {},
     "output_type": "execute_result"
    },
    {
     "name": "stdout",
     "output_type": "stream",
     "text": [
      "CV Log Loss Score: 0.652517\n",
      "\n",
      "----------------- Fold 9 -----------------\n",
      "\n",
      "Learning rate set to 0.116558\n",
      "0:\tlearn: 1.0870211\ttest: 1.0874724\tbest: 1.0874724 (0)\ttotal: 49.2ms\tremaining: 49.2s\n",
      "100:\tlearn: 0.9110096\ttest: 0.9237743\tbest: 0.9237743 (100)\ttotal: 6.04s\tremaining: 53.8s\n",
      "200:\tlearn: 0.8258288\ttest: 0.8471549\tbest: 0.8471549 (200)\ttotal: 12.3s\tremaining: 49s\n",
      "300:\tlearn: 0.7709331\ttest: 0.8002341\tbest: 0.8002341 (300)\ttotal: 18.5s\tremaining: 42.9s\n",
      "400:\tlearn: 0.7303913\ttest: 0.7665504\tbest: 0.7665504 (400)\ttotal: 24.6s\tremaining: 36.8s\n",
      "500:\tlearn: 0.6981236\ttest: 0.7409063\tbest: 0.7409063 (500)\ttotal: 30.8s\tremaining: 30.7s\n",
      "600:\tlearn: 0.6697719\ttest: 0.7197074\tbest: 0.7197074 (600)\ttotal: 36.9s\tremaining: 24.5s\n",
      "700:\tlearn: 0.6444445\ttest: 0.7008503\tbest: 0.7008503 (700)\ttotal: 43.2s\tremaining: 18.4s\n",
      "800:\tlearn: 0.6216626\ttest: 0.6849767\tbest: 0.6849767 (800)\ttotal: 49.8s\tremaining: 12.4s\n",
      "900:\tlearn: 0.6011937\ttest: 0.6702384\tbest: 0.6702384 (900)\ttotal: 56.6s\tremaining: 6.22s\n",
      "999:\tlearn: 0.5817370\ttest: 0.6568195\tbest: 0.6568195 (999)\ttotal: 1m 3s\tremaining: 0us\n",
      "\n",
      "bestTest = 0.656819459\n",
      "bestIteration = 999\n",
      "\n"
     ]
    },
    {
     "data": {
      "text/plain": [
       "<catboost.core.CatBoostClassifier at 0x19b1c1dbc70>"
      ]
     },
     "execution_count": 62,
     "metadata": {},
     "output_type": "execute_result"
    },
    {
     "name": "stdout",
     "output_type": "stream",
     "text": [
      "CV Log Loss Score: 0.656819\n"
     ]
    },
    {
     "ename": "ValueError",
     "evalue": "Found input variables with inconsistent numbers of samples: [50877, 26447]",
     "output_type": "error",
     "traceback": [
      "\u001b[1;31m---------------------------------------------------------------------------\u001b[0m",
      "\u001b[1;31mValueError\u001b[0m                                Traceback (most recent call last)",
      "\u001b[1;32m<ipython-input-62-159a7b8ad9a8>\u001b[0m in \u001b[0;36m<module>\u001b[1;34m\u001b[0m\n\u001b[0;32m     21\u001b[0m   \u001b[0mprint\u001b[0m\u001b[1;33m(\u001b[0m\u001b[1;34mf'CV Log Loss Score: {log_loss(y_valid, cat_pred[valid_idx]):.6f}'\u001b[0m\u001b[1;33m)\u001b[0m\u001b[1;33m\u001b[0m\u001b[1;33m\u001b[0m\u001b[0m\n\u001b[0;32m     22\u001b[0m \u001b[1;33m\u001b[0m\u001b[0m\n\u001b[1;32m---> 23\u001b[1;33m \u001b[0mprint\u001b[0m\u001b[1;33m(\u001b[0m\u001b[1;34mf'\\tLog Loss: {log_loss(y, cat_pred):.6f}'\u001b[0m\u001b[1;33m)\u001b[0m\u001b[1;33m\u001b[0m\u001b[1;33m\u001b[0m\u001b[0m\n\u001b[0m",
      "\u001b[1;32mC:\\rhxod\\anaconda3\\lib\\site-packages\\sklearn\\utils\\validation.py\u001b[0m in \u001b[0;36minner_f\u001b[1;34m(*args, **kwargs)\u001b[0m\n\u001b[0;32m     61\u001b[0m             \u001b[0mextra_args\u001b[0m \u001b[1;33m=\u001b[0m \u001b[0mlen\u001b[0m\u001b[1;33m(\u001b[0m\u001b[0margs\u001b[0m\u001b[1;33m)\u001b[0m \u001b[1;33m-\u001b[0m \u001b[0mlen\u001b[0m\u001b[1;33m(\u001b[0m\u001b[0mall_args\u001b[0m\u001b[1;33m)\u001b[0m\u001b[1;33m\u001b[0m\u001b[1;33m\u001b[0m\u001b[0m\n\u001b[0;32m     62\u001b[0m             \u001b[1;32mif\u001b[0m \u001b[0mextra_args\u001b[0m \u001b[1;33m<=\u001b[0m \u001b[1;36m0\u001b[0m\u001b[1;33m:\u001b[0m\u001b[1;33m\u001b[0m\u001b[1;33m\u001b[0m\u001b[0m\n\u001b[1;32m---> 63\u001b[1;33m                 \u001b[1;32mreturn\u001b[0m \u001b[0mf\u001b[0m\u001b[1;33m(\u001b[0m\u001b[1;33m*\u001b[0m\u001b[0margs\u001b[0m\u001b[1;33m,\u001b[0m \u001b[1;33m**\u001b[0m\u001b[0mkwargs\u001b[0m\u001b[1;33m)\u001b[0m\u001b[1;33m\u001b[0m\u001b[1;33m\u001b[0m\u001b[0m\n\u001b[0m\u001b[0;32m     64\u001b[0m \u001b[1;33m\u001b[0m\u001b[0m\n\u001b[0;32m     65\u001b[0m             \u001b[1;31m# extra_args > 0\u001b[0m\u001b[1;33m\u001b[0m\u001b[1;33m\u001b[0m\u001b[1;33m\u001b[0m\u001b[0m\n",
      "\u001b[1;32mC:\\rhxod\\anaconda3\\lib\\site-packages\\sklearn\\metrics\\_classification.py\u001b[0m in \u001b[0;36mlog_loss\u001b[1;34m(y_true, y_pred, eps, normalize, sample_weight, labels)\u001b[0m\n\u001b[0;32m   2228\u001b[0m     \"\"\"\n\u001b[0;32m   2229\u001b[0m     \u001b[0my_pred\u001b[0m \u001b[1;33m=\u001b[0m \u001b[0mcheck_array\u001b[0m\u001b[1;33m(\u001b[0m\u001b[0my_pred\u001b[0m\u001b[1;33m,\u001b[0m \u001b[0mensure_2d\u001b[0m\u001b[1;33m=\u001b[0m\u001b[1;32mFalse\u001b[0m\u001b[1;33m)\u001b[0m\u001b[1;33m\u001b[0m\u001b[1;33m\u001b[0m\u001b[0m\n\u001b[1;32m-> 2230\u001b[1;33m     \u001b[0mcheck_consistent_length\u001b[0m\u001b[1;33m(\u001b[0m\u001b[0my_pred\u001b[0m\u001b[1;33m,\u001b[0m \u001b[0my_true\u001b[0m\u001b[1;33m,\u001b[0m \u001b[0msample_weight\u001b[0m\u001b[1;33m)\u001b[0m\u001b[1;33m\u001b[0m\u001b[1;33m\u001b[0m\u001b[0m\n\u001b[0m\u001b[0;32m   2231\u001b[0m \u001b[1;33m\u001b[0m\u001b[0m\n\u001b[0;32m   2232\u001b[0m     \u001b[0mlb\u001b[0m \u001b[1;33m=\u001b[0m \u001b[0mLabelBinarizer\u001b[0m\u001b[1;33m(\u001b[0m\u001b[1;33m)\u001b[0m\u001b[1;33m\u001b[0m\u001b[1;33m\u001b[0m\u001b[0m\n",
      "\u001b[1;32mC:\\rhxod\\anaconda3\\lib\\site-packages\\sklearn\\utils\\validation.py\u001b[0m in \u001b[0;36mcheck_consistent_length\u001b[1;34m(*arrays)\u001b[0m\n\u001b[0;32m    317\u001b[0m     \u001b[0muniques\u001b[0m \u001b[1;33m=\u001b[0m \u001b[0mnp\u001b[0m\u001b[1;33m.\u001b[0m\u001b[0munique\u001b[0m\u001b[1;33m(\u001b[0m\u001b[0mlengths\u001b[0m\u001b[1;33m)\u001b[0m\u001b[1;33m\u001b[0m\u001b[1;33m\u001b[0m\u001b[0m\n\u001b[0;32m    318\u001b[0m     \u001b[1;32mif\u001b[0m \u001b[0mlen\u001b[0m\u001b[1;33m(\u001b[0m\u001b[0muniques\u001b[0m\u001b[1;33m)\u001b[0m \u001b[1;33m>\u001b[0m \u001b[1;36m1\u001b[0m\u001b[1;33m:\u001b[0m\u001b[1;33m\u001b[0m\u001b[1;33m\u001b[0m\u001b[0m\n\u001b[1;32m--> 319\u001b[1;33m         raise ValueError(\"Found input variables with inconsistent numbers of\"\n\u001b[0m\u001b[0;32m    320\u001b[0m                          \" samples: %r\" % [int(l) for l in lengths])\n\u001b[0;32m    321\u001b[0m \u001b[1;33m\u001b[0m\u001b[0m\n",
      "\u001b[1;31mValueError\u001b[0m: Found input variables with inconsistent numbers of samples: [50877, 26447]"
     ]
    }
   ],
   "source": [
    "skfold = StratifiedKFold(n_splits=n_fold, shuffle=True, random_state=seed)\n",
    "folds=[]\n",
    "for train_idx, valid_idx in skfold.split(X_over, y_over):\n",
    "        folds.append((train_idx, valid_idx))\n",
    "\n",
    "cat_pred = np.zeros((X_over.shape[0], n_class))\n",
    "cat_pred_test_nc = np.zeros((X_test.shape[0], n_class))\n",
    "cat_cols = ['income_type', 'edu_type', 'family_type', 'house_type', 'occyp_type']\n",
    "for fold in range(n_fold):\n",
    "  print(f'\\n----------------- Fold {fold} -----------------\\n')\n",
    "  train_idx, valid_idx = folds[fold]\n",
    "  X_train, X_valid, y_train, y_valid = X_over.iloc[train_idx], X_over.iloc[valid_idx], y_over.iloc[train_idx], y_over.iloc[valid_idx]\n",
    "  train_data = Pool(data=X_train, label=y_train, cat_features=cat_cols)\n",
    "  valid_data = Pool(data=X_valid, label=y_valid, cat_features=cat_cols)\n",
    "\n",
    "  model_cat = CatBoostClassifier()\n",
    "  model_cat.fit(train_data, eval_set=valid_data, use_best_model=True, early_stopping_rounds=100, verbose=100)\n",
    "  \n",
    "  cat_pred[valid_idx] = model_cat.predict_proba(X_valid)\n",
    "  cat_pred_test_nc += model_cat.predict_proba(X_test) / n_fold\n",
    "  print(f'CV Log Loss Score: {log_loss(y_valid, cat_pred[valid_idx]):.6f}')\n",
    "    \n",
    "print(f'\\tLog Loss: {log_loss(y, cat_pred):.6f}')\n"
   ]
  },
  {
   "cell_type": "code",
   "execution_count": null,
   "metadata": {},
   "outputs": [],
   "source": [
    "submission=pd.read_csv('sample_submission.csv')\n",
    "submission.iloc[:, 1:] = cat_pred_test_nc\n",
    "submission"
   ]
  },
  {
   "cell_type": "code",
   "execution_count": null,
   "metadata": {},
   "outputs": [],
   "source": [
    "submission.to_csv('ml_cat_smote_fin.csv', index=False)"
   ]
  },
  {
   "cell_type": "markdown",
   "metadata": {},
   "source": [
    "&nbsp;"
   ]
  },
  {
   "cell_type": "markdown",
   "metadata": {},
   "source": [
    "### RandomForest"
   ]
  },
  {
   "cell_type": "code",
   "execution_count": 63,
   "metadata": {},
   "outputs": [],
   "source": [
    "from tensorflow.keras.utils import to_categorical"
   ]
  },
  {
   "cell_type": "markdown",
   "metadata": {},
   "source": [
    "#### 파라미터 튜닝"
   ]
  },
  {
   "cell_type": "code",
   "execution_count": 64,
   "metadata": {},
   "outputs": [
    {
     "data": {
      "text/plain": [
       "RandomizedSearchCV(cv=5, estimator=RandomForestClassifier(random_state=30),\n",
       "                   n_iter=30,\n",
       "                   param_distributions={'max_depth': [38, 40, 44, 48, 50],\n",
       "                                        'min_samples_leaf': [1, 3, 5, 7, 9],\n",
       "                                        'min_samples_split': [9],\n",
       "                                        'n_estimators': [110, 130, 150]},\n",
       "                   random_state=30, scoring='neg_log_loss')"
      ]
     },
     "execution_count": 64,
     "metadata": {},
     "output_type": "execute_result"
    }
   ],
   "source": [
    "seed = 30\n",
    "\n",
    "params_rf = {'n_estimators': [110,130,150],\n",
    "              'max_depth': [38,40,44,48,50],\n",
    "              'min_samples_split': [9],\n",
    "              'min_samples_leaf': [1,3,5,7,9]}\n",
    "\n",
    "model_rf = RandomForestClassifier(random_state=seed)\n",
    "    \n",
    "search_rf = RandomizedSearchCV(estimator=model_rf, param_distributions=params_rf, scoring='neg_log_loss',\n",
    "                                n_iter=30, cv = 5,random_state=seed)\n",
    "search_rf.fit(X, y)\n",
    "    \n",
    "\n",
    "model_rf = RandomForestClassifier(n_estimators=search_rf.best_params_['n_estimators'],\n",
    "                                  max_depth=search_rf.best_params_['max_depth'],\n",
    "                                  min_samples_split=search_rf.best_params_['min_samples_split'],\n",
    "                                  min_samples_leaf=search_rf.best_params_['min_samples_leaf'],\n",
    "                                  random_state=seed)"
   ]
  },
  {
   "cell_type": "code",
   "execution_count": 79,
   "metadata": {},
   "outputs": [
    {
     "name": "stdout",
     "output_type": "stream",
     "text": [
      "FOLD 0 : logloss:0.7087393632612599\n",
      "FOLD 1 : logloss:0.7110248159366424\n",
      "FOLD 2 : logloss:0.7173359801606047\n",
      "FOLD 3 : logloss:0.7177966429142233\n",
      "FOLD 4 : logloss:0.7251270902038277\n",
      "Mean:0.7160047784953115\n"
     ]
    }
   ],
   "source": [
    "from sklearn.model_selection import KFold, StratifiedKFold\n",
    "\n",
    "def Kfold(model):\n",
    "    folds=StratifiedKFold(n_splits=5, shuffle=True, random_state=156)\n",
    "    outcomes=[]\n",
    "    sub=np.zeros((X_test.shape[0], 3))\n",
    "    for n_fold, (train_index, val_index) in enumerate(folds.split(X, y)):\n",
    "        X_train, X_val = X.iloc[train_index], X.iloc[val_index]\n",
    "        y_train, y_val = y.iloc[train_index], y.iloc[val_index]\n",
    "        model.fit(X_train, y_train)\n",
    "        \n",
    "        predictions=model.predict_proba(X_val)\n",
    "        \n",
    "        logloss=log_loss(to_categorical(y_val), predictions)\n",
    "        outcomes.append(logloss)\n",
    "        print(f\"FOLD {n_fold} : logloss:{logloss}\")\n",
    "        \n",
    "        sub+=model.predict_proba(X_test)\n",
    "        \n",
    "        \n",
    "    mean_outcome=np.mean(outcomes)\n",
    "    \n",
    "    print(\"Mean:{}\".format(mean_outcome))\n",
    "    return sub/folds.n_splits\n",
    "\n",
    "rf_submission = Kfold(model_rf)"
   ]
  },
  {
   "cell_type": "code",
   "execution_count": 80,
   "metadata": {},
   "outputs": [],
   "source": [
    "rf_submission = pd.DataFrame(rf_submission)\n",
    "\n",
    "rf_submission['index'] = submission['index']\n",
    "#rf_submission = rf_submission.reindex(columns=['index','0','1','2'])"
   ]
  },
  {
   "cell_type": "code",
   "execution_count": 84,
   "metadata": {},
   "outputs": [
    {
     "data": {
      "text/html": [
       "<div>\n",
       "<style scoped>\n",
       "    .dataframe tbody tr th:only-of-type {\n",
       "        vertical-align: middle;\n",
       "    }\n",
       "\n",
       "    .dataframe tbody tr th {\n",
       "        vertical-align: top;\n",
       "    }\n",
       "\n",
       "    .dataframe thead th {\n",
       "        text-align: right;\n",
       "    }\n",
       "</style>\n",
       "<table border=\"1\" class=\"dataframe\">\n",
       "  <thead>\n",
       "    <tr style=\"text-align: right;\">\n",
       "      <th></th>\n",
       "      <th>0</th>\n",
       "      <th>1</th>\n",
       "      <th>2</th>\n",
       "      <th>index</th>\n",
       "    </tr>\n",
       "  </thead>\n",
       "  <tbody>\n",
       "    <tr>\n",
       "      <th>0</th>\n",
       "      <td>0.105532</td>\n",
       "      <td>0.189752</td>\n",
       "      <td>0.704716</td>\n",
       "      <td>26457</td>\n",
       "    </tr>\n",
       "    <tr>\n",
       "      <th>1</th>\n",
       "      <td>0.189374</td>\n",
       "      <td>0.289610</td>\n",
       "      <td>0.521016</td>\n",
       "      <td>26458</td>\n",
       "    </tr>\n",
       "    <tr>\n",
       "      <th>2</th>\n",
       "      <td>0.076976</td>\n",
       "      <td>0.089298</td>\n",
       "      <td>0.833726</td>\n",
       "      <td>26459</td>\n",
       "    </tr>\n",
       "    <tr>\n",
       "      <th>3</th>\n",
       "      <td>0.084531</td>\n",
       "      <td>0.089776</td>\n",
       "      <td>0.825694</td>\n",
       "      <td>26460</td>\n",
       "    </tr>\n",
       "    <tr>\n",
       "      <th>4</th>\n",
       "      <td>0.122682</td>\n",
       "      <td>0.213724</td>\n",
       "      <td>0.663594</td>\n",
       "      <td>26461</td>\n",
       "    </tr>\n",
       "    <tr>\n",
       "      <th>...</th>\n",
       "      <td>...</td>\n",
       "      <td>...</td>\n",
       "      <td>...</td>\n",
       "      <td>...</td>\n",
       "    </tr>\n",
       "    <tr>\n",
       "      <th>9995</th>\n",
       "      <td>0.125306</td>\n",
       "      <td>0.154692</td>\n",
       "      <td>0.720002</td>\n",
       "      <td>36452</td>\n",
       "    </tr>\n",
       "    <tr>\n",
       "      <th>9996</th>\n",
       "      <td>0.210707</td>\n",
       "      <td>0.287825</td>\n",
       "      <td>0.501469</td>\n",
       "      <td>36453</td>\n",
       "    </tr>\n",
       "    <tr>\n",
       "      <th>9997</th>\n",
       "      <td>0.030615</td>\n",
       "      <td>0.104622</td>\n",
       "      <td>0.864763</td>\n",
       "      <td>36454</td>\n",
       "    </tr>\n",
       "    <tr>\n",
       "      <th>9998</th>\n",
       "      <td>0.213529</td>\n",
       "      <td>0.313131</td>\n",
       "      <td>0.473341</td>\n",
       "      <td>36455</td>\n",
       "    </tr>\n",
       "    <tr>\n",
       "      <th>9999</th>\n",
       "      <td>0.163273</td>\n",
       "      <td>0.228625</td>\n",
       "      <td>0.608102</td>\n",
       "      <td>36456</td>\n",
       "    </tr>\n",
       "  </tbody>\n",
       "</table>\n",
       "<p>10000 rows × 4 columns</p>\n",
       "</div>"
      ],
      "text/plain": [
       "             0         1         2  index\n",
       "0     0.105532  0.189752  0.704716  26457\n",
       "1     0.189374  0.289610  0.521016  26458\n",
       "2     0.076976  0.089298  0.833726  26459\n",
       "3     0.084531  0.089776  0.825694  26460\n",
       "4     0.122682  0.213724  0.663594  26461\n",
       "...        ...       ...       ...    ...\n",
       "9995  0.125306  0.154692  0.720002  36452\n",
       "9996  0.210707  0.287825  0.501469  36453\n",
       "9997  0.030615  0.104622  0.864763  36454\n",
       "9998  0.213529  0.313131  0.473341  36455\n",
       "9999  0.163273  0.228625  0.608102  36456\n",
       "\n",
       "[10000 rows x 4 columns]"
      ]
     },
     "execution_count": 84,
     "metadata": {},
     "output_type": "execute_result"
    }
   ],
   "source": [
    "rf_submission\n",
    "\n",
    "rf_submission.to_csv('ml_rf_fin.csv',index=False)"
   ]
  },
  {
   "cell_type": "code",
   "execution_count": null,
   "metadata": {},
   "outputs": [],
   "source": []
  },
  {
   "cell_type": "markdown",
   "metadata": {},
   "source": [
    "### smote 버전"
   ]
  },
  {
   "cell_type": "code",
   "execution_count": 87,
   "metadata": {},
   "outputs": [
    {
     "data": {
      "text/plain": [
       "RandomizedSearchCV(cv=5, estimator=RandomForestClassifier(random_state=30),\n",
       "                   n_iter=30,\n",
       "                   param_distributions={'max_depth': [38, 40, 44, 48, 50],\n",
       "                                        'min_samples_leaf': [1, 3, 5, 7, 9],\n",
       "                                        'min_samples_split': [9],\n",
       "                                        'n_estimators': [110, 130, 150]},\n",
       "                   random_state=30, scoring='neg_log_loss')"
      ]
     },
     "execution_count": 87,
     "metadata": {},
     "output_type": "execute_result"
    }
   ],
   "source": [
    "seed = 30\n",
    "\n",
    "params_rf = {'n_estimators': [110,130,150],\n",
    "              'max_depth': [38,40,44,48,50],\n",
    "              'min_samples_split': [9],\n",
    "              'min_samples_leaf': [1,3,5,7,9]}\n",
    "\n",
    "model_rf = RandomForestClassifier(random_state=seed)\n",
    "    \n",
    "search_rf = RandomizedSearchCV(estimator=model_rf, param_distributions=params_rf, scoring='neg_log_loss',\n",
    "                                n_iter=30, cv = 5,random_state=seed)\n",
    "search_rf.fit(X_over, y_over)\n",
    "    \n",
    "\n",
    "model_rf = RandomForestClassifier(n_estimators=search_rf.best_params_['n_estimators'],\n",
    "                                  max_depth=search_rf.best_params_['max_depth'],\n",
    "                                  min_samples_split=search_rf.best_params_['min_samples_split'],\n",
    "                                  min_samples_leaf=search_rf.best_params_['min_samples_leaf'],\n",
    "                                  random_state=seed)"
   ]
  },
  {
   "cell_type": "code",
   "execution_count": 93,
   "metadata": {},
   "outputs": [
    {
     "name": "stdout",
     "output_type": "stream",
     "text": [
      "FOLD 0 : logloss:0.7090487640333039\n",
      "FOLD 1 : logloss:0.711749023755983\n",
      "FOLD 2 : logloss:0.7176746146760286\n",
      "FOLD 3 : logloss:0.718168701360285\n",
      "FOLD 4 : logloss:0.7252969504047662\n",
      "Mean:0.7163876108460733\n"
     ]
    }
   ],
   "source": [
    "from sklearn.model_selection import KFold, StratifiedKFold\n",
    "\n",
    "def Kfold(model):\n",
    "    folds=StratifiedKFold(n_splits=5, shuffle=True, random_state=156)\n",
    "    outcomes=[]\n",
    "    sub=np.zeros((X_test.shape[0], 3))\n",
    "    for n_fold, (train_index, val_index) in enumerate(folds.split(X, y)):\n",
    "        X_train, X_val = X_over.iloc[train_index], X_over.iloc[val_index]\n",
    "        y_train, y_val = y_over.iloc[train_index], y_over.iloc[val_index]\n",
    "        model.fit(X_train, y_train)\n",
    "        \n",
    "        predictions=model.predict_proba(X_val)\n",
    "        \n",
    "        logloss=log_loss(to_categorical(y_val), predictions)\n",
    "        outcomes.append(logloss)\n",
    "        print(f\"FOLD {n_fold} : logloss:{logloss}\")\n",
    "        \n",
    "        sub+=model.predict_proba(X_test)\n",
    "        \n",
    "        \n",
    "    mean_outcome=np.mean(outcomes)\n",
    "    \n",
    "    print(\"Mean:{}\".format(mean_outcome))\n",
    "    return sub/folds.n_splits\n",
    "\n",
    "rf_submission_nc = Kfold(model_rf)"
   ]
  },
  {
   "cell_type": "code",
   "execution_count": 94,
   "metadata": {},
   "outputs": [
    {
     "data": {
      "text/html": [
       "<div>\n",
       "<style scoped>\n",
       "    .dataframe tbody tr th:only-of-type {\n",
       "        vertical-align: middle;\n",
       "    }\n",
       "\n",
       "    .dataframe tbody tr th {\n",
       "        vertical-align: top;\n",
       "    }\n",
       "\n",
       "    .dataframe thead th {\n",
       "        text-align: right;\n",
       "    }\n",
       "</style>\n",
       "<table border=\"1\" class=\"dataframe\">\n",
       "  <thead>\n",
       "    <tr style=\"text-align: right;\">\n",
       "      <th></th>\n",
       "      <th>0</th>\n",
       "      <th>1</th>\n",
       "      <th>2</th>\n",
       "      <th>index</th>\n",
       "    </tr>\n",
       "  </thead>\n",
       "  <tbody>\n",
       "    <tr>\n",
       "      <th>0</th>\n",
       "      <td>0.102560</td>\n",
       "      <td>0.186664</td>\n",
       "      <td>0.710776</td>\n",
       "      <td>26457</td>\n",
       "    </tr>\n",
       "    <tr>\n",
       "      <th>1</th>\n",
       "      <td>0.184391</td>\n",
       "      <td>0.287738</td>\n",
       "      <td>0.527872</td>\n",
       "      <td>26458</td>\n",
       "    </tr>\n",
       "    <tr>\n",
       "      <th>2</th>\n",
       "      <td>0.075715</td>\n",
       "      <td>0.086077</td>\n",
       "      <td>0.838208</td>\n",
       "      <td>26459</td>\n",
       "    </tr>\n",
       "    <tr>\n",
       "      <th>3</th>\n",
       "      <td>0.084916</td>\n",
       "      <td>0.090380</td>\n",
       "      <td>0.824703</td>\n",
       "      <td>26460</td>\n",
       "    </tr>\n",
       "    <tr>\n",
       "      <th>4</th>\n",
       "      <td>0.116445</td>\n",
       "      <td>0.216893</td>\n",
       "      <td>0.666663</td>\n",
       "      <td>26461</td>\n",
       "    </tr>\n",
       "    <tr>\n",
       "      <th>...</th>\n",
       "      <td>...</td>\n",
       "      <td>...</td>\n",
       "      <td>...</td>\n",
       "      <td>...</td>\n",
       "    </tr>\n",
       "    <tr>\n",
       "      <th>9995</th>\n",
       "      <td>0.121264</td>\n",
       "      <td>0.156484</td>\n",
       "      <td>0.722251</td>\n",
       "      <td>36452</td>\n",
       "    </tr>\n",
       "    <tr>\n",
       "      <th>9996</th>\n",
       "      <td>0.210103</td>\n",
       "      <td>0.290908</td>\n",
       "      <td>0.498989</td>\n",
       "      <td>36453</td>\n",
       "    </tr>\n",
       "    <tr>\n",
       "      <th>9997</th>\n",
       "      <td>0.031081</td>\n",
       "      <td>0.098489</td>\n",
       "      <td>0.870429</td>\n",
       "      <td>36454</td>\n",
       "    </tr>\n",
       "    <tr>\n",
       "      <th>9998</th>\n",
       "      <td>0.210210</td>\n",
       "      <td>0.319687</td>\n",
       "      <td>0.470103</td>\n",
       "      <td>36455</td>\n",
       "    </tr>\n",
       "    <tr>\n",
       "      <th>9999</th>\n",
       "      <td>0.165531</td>\n",
       "      <td>0.226402</td>\n",
       "      <td>0.608067</td>\n",
       "      <td>36456</td>\n",
       "    </tr>\n",
       "  </tbody>\n",
       "</table>\n",
       "<p>10000 rows × 4 columns</p>\n",
       "</div>"
      ],
      "text/plain": [
       "             0         1         2  index\n",
       "0     0.102560  0.186664  0.710776  26457\n",
       "1     0.184391  0.287738  0.527872  26458\n",
       "2     0.075715  0.086077  0.838208  26459\n",
       "3     0.084916  0.090380  0.824703  26460\n",
       "4     0.116445  0.216893  0.666663  26461\n",
       "...        ...       ...       ...    ...\n",
       "9995  0.121264  0.156484  0.722251  36452\n",
       "9996  0.210103  0.290908  0.498989  36453\n",
       "9997  0.031081  0.098489  0.870429  36454\n",
       "9998  0.210210  0.319687  0.470103  36455\n",
       "9999  0.165531  0.226402  0.608067  36456\n",
       "\n",
       "[10000 rows x 4 columns]"
      ]
     },
     "execution_count": 94,
     "metadata": {},
     "output_type": "execute_result"
    }
   ],
   "source": [
    "rf_submission_nc = pd.DataFrame(rf_submission_nc)\n",
    "\n",
    "rf_submission_nc['index'] = submission['index']\n",
    "rf_submission_nc"
   ]
  },
  {
   "cell_type": "code",
   "execution_count": 95,
   "metadata": {},
   "outputs": [],
   "source": [
    "rf_submission_nc.to_csv('ml_rf_nc_fin.csv',index=False)"
   ]
  },
  {
   "cell_type": "code",
   "execution_count": null,
   "metadata": {},
   "outputs": [],
   "source": []
  },
  {
   "cell_type": "code",
   "execution_count": null,
   "metadata": {},
   "outputs": [],
   "source": []
  },
  {
   "cell_type": "code",
   "execution_count": null,
   "metadata": {},
   "outputs": [],
   "source": []
  },
  {
   "cell_type": "code",
   "execution_count": null,
   "metadata": {},
   "outputs": [],
   "source": []
  },
  {
   "cell_type": "code",
   "execution_count": null,
   "metadata": {},
   "outputs": [],
   "source": []
  },
  {
   "cell_type": "code",
   "execution_count": null,
   "metadata": {},
   "outputs": [],
   "source": []
  },
  {
   "cell_type": "code",
   "execution_count": null,
   "metadata": {},
   "outputs": [],
   "source": []
  },
  {
   "cell_type": "code",
   "execution_count": null,
   "metadata": {},
   "outputs": [],
   "source": []
  },
  {
   "cell_type": "code",
   "execution_count": null,
   "metadata": {},
   "outputs": [],
   "source": []
  },
  {
   "cell_type": "code",
   "execution_count": null,
   "metadata": {},
   "outputs": [],
   "source": []
  },
  {
   "cell_type": "code",
   "execution_count": null,
   "metadata": {},
   "outputs": [],
   "source": []
  },
  {
   "cell_type": "code",
   "execution_count": null,
   "metadata": {},
   "outputs": [],
   "source": []
  },
  {
   "cell_type": "code",
   "execution_count": null,
   "metadata": {},
   "outputs": [],
   "source": []
  },
  {
   "cell_type": "code",
   "execution_count": null,
   "metadata": {},
   "outputs": [],
   "source": []
  },
  {
   "cell_type": "code",
   "execution_count": null,
   "metadata": {},
   "outputs": [],
   "source": []
  },
  {
   "cell_type": "code",
   "execution_count": null,
   "metadata": {},
   "outputs": [],
   "source": []
  },
  {
   "cell_type": "code",
   "execution_count": null,
   "metadata": {},
   "outputs": [],
   "source": []
  },
  {
   "cell_type": "code",
   "execution_count": null,
   "metadata": {},
   "outputs": [],
   "source": []
  },
  {
   "cell_type": "code",
   "execution_count": null,
   "metadata": {},
   "outputs": [],
   "source": []
  },
  {
   "cell_type": "code",
   "execution_count": null,
   "metadata": {},
   "outputs": [],
   "source": []
  },
  {
   "cell_type": "code",
   "execution_count": null,
   "metadata": {},
   "outputs": [],
   "source": []
  },
  {
   "cell_type": "code",
   "execution_count": null,
   "metadata": {},
   "outputs": [],
   "source": []
  },
  {
   "cell_type": "code",
   "execution_count": null,
   "metadata": {},
   "outputs": [],
   "source": []
  },
  {
   "cell_type": "code",
   "execution_count": null,
   "metadata": {},
   "outputs": [],
   "source": []
  }
 ],
 "metadata": {
  "kernelspec": {
   "display_name": "Python 3",
   "language": "python",
   "name": "python3"
  },
  "language_info": {
   "codemirror_mode": {
    "name": "ipython",
    "version": 3
   },
   "file_extension": ".py",
   "mimetype": "text/x-python",
   "name": "python",
   "nbconvert_exporter": "python",
   "pygments_lexer": "ipython3",
   "version": "3.8.5"
  }
 },
 "nbformat": 4,
 "nbformat_minor": 4
}
