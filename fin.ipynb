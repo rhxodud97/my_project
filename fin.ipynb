{
 "cells": [
  {
   "cell_type": "code",
   "execution_count": 1,
   "metadata": {},
   "outputs": [],
   "source": [
    "import pandas as pd\n",
    "pd.set_option('display.max_columns',None)\n",
    "import numpy as np\n",
    "\n",
    "import matplotlib.pyplot as plt\n",
    "import seaborn as sns\n",
    "\n",
    "import os\n",
    "import re\n",
    "\n",
    "from IPython.core.interactiveshell import InteractiveShell\n",
    "InteractiveShell.ast_node_interactivity = \"all\"\n",
    "\n",
    "from sklearn.linear_model import LinearRegression\n",
    "from sklearn.linear_model import Lasso\n",
    "from sklearn.linear_model import Ridge\n",
    "from sklearn.linear_model import ElasticNet\n",
    "from sklearn.neighbors import KNeighborsRegressor\n",
    "from sklearn.tree import DecisionTreeRegressor\n",
    "from sklearn.ensemble import GradientBoostingRegressor\n",
    "from sklearn.ensemble import AdaBoostRegressor\n",
    "from sklearn.ensemble import BaggingRegressor\n",
    "\n",
    "from sklearn import preprocessing\n",
    "from sklearn.preprocessing import MinMaxScaler, StandardScaler\n",
    "from sklearn.model_selection import train_test_split\n",
    "from sklearn.model_selection import RandomizedSearchCV \n",
    "from sklearn.metrics import accuracy_score\n",
    "from sklearn.metrics import mean_squared_error\n",
    "from sklearn.utils import shuffle\n",
    "from scipy.special import erfc\n",
    "from sklearn.dummy import DummyRegressor\n",
    "from sklearn.svm import SVR\n",
    "\n",
    "from sklearn.model_selection import KFold\n",
    "from sklearn.model_selection import cross_val_score\n",
    "\n",
    "from sklearn.model_selection import train_test_split, cross_validate, RandomizedSearchCV\n",
    "from sklearn.metrics import accuracy_score, precision_score, recall_score, confusion_matrix, mean_squared_error, r2_score\n",
    "from sklearn.ensemble import RandomForestClassifier, GradientBoostingClassifier, RandomForestRegressor, VotingRegressor\n",
    "\n",
    "from lightgbm import LGBMRegressor\n",
    "\n",
    "import xgboost as xgb\n",
    "from xgboost import XGBClassifier, XGBRegressor\n",
    "\n",
    "import warnings\n",
    "import datawig"
   ]
  },
  {
   "cell_type": "code",
   "execution_count": 2,
   "metadata": {},
   "outputs": [],
   "source": [
    "import numpy as np\n",
    "import pandas as pd\n",
    "import seaborn as sns\n",
    "import matplotlib.pyplot as plt\n",
    "import warnings, random\n",
    "warnings.filterwarnings(action='ignore')\n",
    "\n",
    "from sklearn.metrics import log_loss\n",
    "from sklearn.preprocessing import StandardScaler\n",
    "from category_encoders.ordinal import OrdinalEncoder\n",
    "from sklearn.model_selection import StratifiedKFold\n",
    "\n",
    "from sklearn.cluster import KMeans\n",
    "from catboost import CatBoostClassifier, Pool\n"
   ]
  },
  {
   "cell_type": "code",
   "execution_count": 3,
   "metadata": {},
   "outputs": [],
   "source": [
    "train = pd.read_csv('train.csv')\n",
    "test = pd.read_csv('test.csv')\n",
    "submission=pd.read_csv('sample_submission.csv')"
   ]
  },
  {
   "cell_type": "code",
   "execution_count": 4,
   "metadata": {},
   "outputs": [],
   "source": [
    "train.fillna('NaN', inplace=True) \n",
    "test.fillna('NaN', inplace=True)"
   ]
  },
  {
   "cell_type": "markdown",
   "metadata": {},
   "source": [
    "바이너리 변수"
   ]
  },
  {
   "cell_type": "code",
   "execution_count": 52,
   "metadata": {},
   "outputs": [],
   "source": [
    "# binary transform (0, 1)\n",
    "\n",
    "train.gender = train.gender.replace(['F','M'],[0,1])  \n",
    "test.gender = test.gender.replace(['F','M'],[0,1])\n",
    "\n",
    "train.car = train.car.replace(['N','Y'],[0,1])  \n",
    "test.car = test.car.replace(['N','Y'],[0,1])\n",
    "\n",
    "train.reality = train.reality.replace(['N','Y'],[0,1])  \n",
    "test.reality = test.reality.replace(['N','Y'],[0,1])"
   ]
  },
  {
   "cell_type": "markdown",
   "metadata": {},
   "source": [
    "days변수 양수변환, 360나누기"
   ]
  },
  {
   "cell_type": "code",
   "execution_count": 53,
   "metadata": {},
   "outputs": [],
   "source": [
    "# 음수 -> 양수 변환\n",
    "\n",
    "train.DAYS_BIRTH = -train.DAYS_BIRTH\n",
    "test.DAYS_BIRTH = -test.DAYS_BIRTH\n",
    "\n",
    "train.DAYS_EMPLOYED = -train.DAYS_EMPLOYED\n",
    "test.DAYS_EMPLOYED = -test.DAYS_EMPLOYED\n",
    "\n",
    "train.begin_month = -train.begin_month\n",
    "test.begin_month = -test.begin_month"
   ]
  },
  {
   "cell_type": "code",
   "execution_count": 54,
   "metadata": {},
   "outputs": [],
   "source": [
    "# 365243 인 값 0으로 바꾸기\n",
    "\n",
    "train.DAYS_EMPLOYED = train.DAYS_EMPLOYED.replace([-365243],[0])\n",
    "test.DAYS_EMPLOYED = test.DAYS_EMPLOYED.replace([-365243],[0])"
   ]
  },
  {
   "cell_type": "code",
   "execution_count": 55,
   "metadata": {},
   "outputs": [],
   "source": [
    "# 360으로 나눠서 나이, 일한 년수 계산\n",
    "\n",
    "train['EMPLOYED']= train.DAYS_EMPLOYED.apply(lambda x: abs(x/360) )\n",
    "train['age']= train.DAYS_BIRTH.apply(lambda x: abs(x/360) ).astype(int)\n",
    "train['begin_month']= train.begin_month.apply(lambda x: abs(x) ).astype(int)\n",
    "\n",
    "test['EMPLOYED']= test.DAYS_EMPLOYED.apply(lambda x: abs(x/360) )\n",
    "test['age']= test.DAYS_BIRTH.apply(lambda x: abs(x/360) ).astype(int)\n",
    "test['begin_month']= test.begin_month.apply(lambda x: abs(x) ).astype(int)"
   ]
  },
  {
   "cell_type": "markdown",
   "metadata": {},
   "source": [
    "로그스케일"
   ]
  },
  {
   "cell_type": "code",
   "execution_count": 56,
   "metadata": {},
   "outputs": [],
   "source": [
    "# train에 로그변환한 변수로 바꾸기\n",
    "tr_it=train['income_total']\n",
    "tr_it_log = np.log1p(tr_it)\n",
    "train['income_total']= tr_it_log\n",
    "# test set도\n",
    "te_it=test['income_total']\n",
    "te_it_log = np.log1p(te_it)\n",
    "test['income_total']= te_it_log"
   ]
  },
  {
   "cell_type": "code",
   "execution_count": 57,
   "metadata": {},
   "outputs": [],
   "source": [
    "# child_num이 14, 19인 행 지우기\n",
    "idx_child_drop = train[(train['child_num'] == 14)|(train['child_num'] == 19)].index\n",
    "train = train.drop(idx_child_drop)"
   ]
  },
  {
   "cell_type": "code",
   "execution_count": 58,
   "metadata": {},
   "outputs": [],
   "source": [
    "# child_num이 family_size보다 큰 행도 지우기\n",
    "\n",
    "idx_child_drop2 = train[train['family_size'] < train['child_num']].index\n",
    "train = train.drop(idx_child_drop2)"
   ]
  },
  {
   "cell_type": "markdown",
   "metadata": {},
   "source": [
    "파생변수"
   ]
  },
  {
   "cell_type": "code",
   "execution_count": 59,
   "metadata": {},
   "outputs": [],
   "source": [
    "train['cf_ratio'] = train['child_num'] / train['family_size']\n",
    "test['cf_ratio'] = test['child_num'] / test['family_size']\n",
    "\n",
    "train['if_ratio'] = train['income_total'] / train['family_size']\n",
    "test['if_ratio'] = test['income_total'] / test['family_size']"
   ]
  },
  {
   "cell_type": "markdown",
   "metadata": {},
   "source": [
    "결측치처리"
   ]
  },
  {
   "cell_type": "code",
   "execution_count": 14,
   "metadata": {},
   "outputs": [],
   "source": [
    "def unemployed(data):\n",
    "    data.loc[(data['DAYS_EMPLOYED'] == 0), 'occyp_type'] = 'unemployed'\n",
    "\n",
    "#train에 적용\n",
    "unemployed(train)\n",
    "#test에 적용\n",
    "unemployed(test)"
   ]
  },
  {
   "cell_type": "markdown",
   "metadata": {},
   "source": [
    "data wig"
   ]
  },
  {
   "cell_type": "code",
   "execution_count": 17,
   "metadata": {},
   "outputs": [
    {
     "name": "stderr",
     "output_type": "stream",
     "text": [
      "2021-05-30 17:08:48,699 [INFO]  CategoricalEncoder for column occyp_type                                found only 88 occurrences of value Secretaries\n",
      "2021-05-30 17:08:48,702 [INFO]  CategoricalEncoder for column occyp_type                                found only 62 occurrences of value Realty agents\n",
      "2021-05-30 17:08:48,702 [INFO]  CategoricalEncoder for column occyp_type                                found only 57 occurrences of value HR staff\n",
      "2021-05-30 17:08:48,703 [INFO]  CategoricalEncoder for column occyp_type                                found only 38 occurrences of value IT staff\n",
      "2021-05-30 17:08:49,263 [INFO]  \n",
      "========== start: fit model\n",
      "2021-05-30 17:08:49,264 [WARNING]  Already bound, ignoring bind()\n",
      "2021-05-30 17:08:55,621 [INFO]  Epoch[0] Batch [0-639]\tSpeed: 1613.29 samples/sec\tcross-entropy=1.737805\toccyp_type-accuracy=0.406543\n",
      "2021-05-30 17:09:02,210 [INFO]  Epoch[0] Train-cross-entropy=1.702629\n",
      "2021-05-30 17:09:02,211 [INFO]  Epoch[0] Train-occyp_type-accuracy=0.411581\n",
      "2021-05-30 17:09:02,211 [INFO]  Epoch[0] Time cost=12.946\n",
      "2021-05-30 17:09:02,217 [INFO]  Saved checkpoint to \"imputer_model\\model-0000.params\"\n",
      "2021-05-30 17:09:02,868 [INFO]  Epoch[0] Validation-cross-entropy=1.640678\n",
      "2021-05-30 17:09:02,869 [INFO]  Epoch[0] Validation-occyp_type-accuracy=0.422975\n",
      "2021-05-30 17:09:09,411 [INFO]  Epoch[1] Batch [0-639]\tSpeed: 1565.91 samples/sec\tcross-entropy=1.675977\toccyp_type-accuracy=0.416309\n",
      "2021-05-30 17:09:15,916 [INFO]  Epoch[1] Train-cross-entropy=1.666678\n",
      "2021-05-30 17:09:15,917 [INFO]  Epoch[1] Train-occyp_type-accuracy=0.417645\n",
      "2021-05-30 17:09:15,917 [INFO]  Epoch[1] Time cost=13.047\n",
      "2021-05-30 17:09:15,923 [INFO]  Saved checkpoint to \"imputer_model\\model-0001.params\"\n",
      "2021-05-30 17:09:16,560 [INFO]  Epoch[1] Validation-cross-entropy=1.635327\n",
      "2021-05-30 17:09:16,561 [INFO]  Epoch[1] Validation-occyp_type-accuracy=0.422975\n",
      "2021-05-30 17:09:22,899 [INFO]  Epoch[2] Batch [0-639]\tSpeed: 1615.86 samples/sec\tcross-entropy=1.671219\toccyp_type-accuracy=0.417676\n",
      "2021-05-30 17:09:29,200 [INFO]  Epoch[2] Train-cross-entropy=1.662022\n",
      "2021-05-30 17:09:29,200 [INFO]  Epoch[2] Train-occyp_type-accuracy=0.418867\n",
      "2021-05-30 17:09:29,201 [INFO]  Epoch[2] Time cost=12.640\n",
      "2021-05-30 17:09:29,206 [INFO]  Saved checkpoint to \"imputer_model\\model-0002.params\"\n",
      "2021-05-30 17:09:29,788 [INFO]  Epoch[2] Validation-cross-entropy=1.632757\n",
      "2021-05-30 17:09:29,789 [INFO]  Epoch[2] Validation-occyp_type-accuracy=0.422535\n",
      "2021-05-30 17:09:36,155 [INFO]  Epoch[3] Batch [0-639]\tSpeed: 1608.55 samples/sec\tcross-entropy=1.668212\toccyp_type-accuracy=0.416992\n",
      "2021-05-30 17:09:42,560 [INFO]  Epoch[3] Train-cross-entropy=1.658798\n",
      "2021-05-30 17:09:42,561 [INFO]  Epoch[3] Train-occyp_type-accuracy=0.418672\n",
      "2021-05-30 17:09:42,561 [INFO]  Epoch[3] Time cost=12.773\n",
      "2021-05-30 17:09:42,566 [INFO]  Saved checkpoint to \"imputer_model\\model-0003.params\"\n",
      "2021-05-30 17:09:43,200 [INFO]  Epoch[3] Validation-cross-entropy=1.630713\n",
      "2021-05-30 17:09:43,201 [INFO]  Epoch[3] Validation-occyp_type-accuracy=0.426056\n",
      "2021-05-30 17:09:49,655 [INFO]  Epoch[4] Batch [0-639]\tSpeed: 1586.86 samples/sec\tcross-entropy=1.665778\toccyp_type-accuracy=0.416797\n",
      "2021-05-30 17:09:56,333 [INFO]  Epoch[4] Train-cross-entropy=1.656260\n",
      "2021-05-30 17:09:56,334 [INFO]  Epoch[4] Train-occyp_type-accuracy=0.418476\n",
      "2021-05-30 17:09:56,335 [INFO]  Epoch[4] Time cost=13.134\n",
      "2021-05-30 17:09:56,341 [INFO]  Saved checkpoint to \"imputer_model\\model-0004.params\"\n",
      "2021-05-30 17:09:56,944 [INFO]  Epoch[4] Validation-cross-entropy=1.629531\n",
      "2021-05-30 17:09:56,945 [INFO]  Epoch[4] Validation-occyp_type-accuracy=0.425616\n",
      "2021-05-30 17:10:03,484 [INFO]  Epoch[5] Batch [0-639]\tSpeed: 1566.37 samples/sec\tcross-entropy=1.663570\toccyp_type-accuracy=0.416992\n",
      "2021-05-30 17:10:10,293 [INFO]  Epoch[5] Train-cross-entropy=1.654162\n",
      "2021-05-30 17:10:10,294 [INFO]  Epoch[5] Train-occyp_type-accuracy=0.418574\n",
      "2021-05-30 17:10:10,294 [INFO]  Epoch[5] Time cost=13.347\n",
      "2021-05-30 17:10:10,299 [INFO]  Saved checkpoint to \"imputer_model\\model-0005.params\"\n",
      "2021-05-30 17:10:10,870 [INFO]  Epoch[5] Validation-cross-entropy=1.628732\n",
      "2021-05-30 17:10:10,871 [INFO]  Epoch[5] Validation-occyp_type-accuracy=0.425176\n",
      "2021-05-30 17:10:17,285 [INFO]  Epoch[6] Batch [0-639]\tSpeed: 1596.64 samples/sec\tcross-entropy=1.661790\toccyp_type-accuracy=0.417871\n",
      "2021-05-30 17:10:23,866 [INFO]  Epoch[6] Train-cross-entropy=1.652507\n",
      "2021-05-30 17:10:23,867 [INFO]  Epoch[6] Train-occyp_type-accuracy=0.419161\n",
      "2021-05-30 17:10:23,867 [INFO]  Epoch[6] Time cost=12.997\n",
      "2021-05-30 17:10:23,873 [INFO]  Saved checkpoint to \"imputer_model\\model-0006.params\"\n",
      "2021-05-30 17:10:24,503 [INFO]  Epoch[6] Validation-cross-entropy=1.627767\n",
      "2021-05-30 17:10:24,503 [INFO]  Epoch[6] Validation-occyp_type-accuracy=0.425176\n",
      "2021-05-30 17:10:30,705 [INFO]  Epoch[7] Batch [0-639]\tSpeed: 1651.94 samples/sec\tcross-entropy=1.660455\toccyp_type-accuracy=0.417871\n",
      "2021-05-30 17:10:37,356 [INFO]  Epoch[7] Train-cross-entropy=1.651270\n",
      "2021-05-30 17:10:37,357 [INFO]  Epoch[7] Train-occyp_type-accuracy=0.419161\n",
      "2021-05-30 17:10:37,357 [INFO]  Epoch[7] Time cost=12.853\n",
      "2021-05-30 17:10:37,363 [INFO]  Saved checkpoint to \"imputer_model\\model-0007.params\"\n",
      "2021-05-30 17:10:38,006 [INFO]  Epoch[7] Validation-cross-entropy=1.626628\n",
      "2021-05-30 17:10:38,007 [INFO]  Epoch[7] Validation-occyp_type-accuracy=0.426937\n",
      "2021-05-30 17:10:44,548 [INFO]  Epoch[8] Batch [0-639]\tSpeed: 1566.12 samples/sec\tcross-entropy=1.659096\toccyp_type-accuracy=0.420410\n",
      "2021-05-30 17:10:50,932 [INFO]  Epoch[8] Train-cross-entropy=1.650086\n",
      "2021-05-30 17:10:50,933 [INFO]  Epoch[8] Train-occyp_type-accuracy=0.421019\n",
      "2021-05-30 17:10:50,933 [INFO]  Epoch[8] Time cost=12.925\n",
      "2021-05-30 17:10:50,939 [INFO]  Saved checkpoint to \"imputer_model\\model-0008.params\"\n",
      "2021-05-30 17:10:51,561 [INFO]  Epoch[8] Validation-cross-entropy=1.625313\n",
      "2021-05-30 17:10:51,562 [INFO]  Epoch[8] Validation-occyp_type-accuracy=0.426496\n",
      "2021-05-30 17:10:58,142 [INFO]  Epoch[9] Batch [0-639]\tSpeed: 1556.27 samples/sec\tcross-entropy=1.657885\toccyp_type-accuracy=0.418750\n",
      "2021-05-30 17:11:04,294 [INFO]  Epoch[9] Train-cross-entropy=1.648903\n",
      "2021-05-30 17:11:04,295 [INFO]  Epoch[9] Train-occyp_type-accuracy=0.420286\n",
      "2021-05-30 17:11:04,295 [INFO]  Epoch[9] Time cost=12.732\n",
      "2021-05-30 17:11:04,300 [INFO]  Saved checkpoint to \"imputer_model\\model-0009.params\"\n",
      "2021-05-30 17:11:04,857 [INFO]  Epoch[9] Validation-cross-entropy=1.625453\n",
      "2021-05-30 17:11:04,858 [INFO]  Epoch[9] Validation-occyp_type-accuracy=0.429137\n",
      "2021-05-30 17:11:11,233 [INFO]  Epoch[10] Batch [0-639]\tSpeed: 1606.34 samples/sec\tcross-entropy=1.656804\toccyp_type-accuracy=0.419629\n",
      "2021-05-30 17:11:17,634 [INFO]  Epoch[10] Train-cross-entropy=1.647814\n",
      "2021-05-30 17:11:17,634 [INFO]  Epoch[10] Train-occyp_type-accuracy=0.420872\n",
      "2021-05-30 17:11:17,635 [INFO]  Epoch[10] Time cost=12.776\n",
      "2021-05-30 17:11:17,640 [INFO]  Saved checkpoint to \"imputer_model\\model-0010.params\"\n",
      "2021-05-30 17:11:18,210 [INFO]  Epoch[10] Validation-cross-entropy=1.624931\n",
      "2021-05-30 17:11:18,211 [INFO]  Epoch[10] Validation-occyp_type-accuracy=0.430458\n",
      "2021-05-30 17:11:24,677 [INFO]  Epoch[11] Batch [0-639]\tSpeed: 1584.20 samples/sec\tcross-entropy=1.655706\toccyp_type-accuracy=0.419238\n",
      "2021-05-30 17:11:30,959 [INFO]  Epoch[11] Train-cross-entropy=1.646821\n",
      "2021-05-30 17:11:30,960 [INFO]  Epoch[11] Train-occyp_type-accuracy=0.420041\n",
      "2021-05-30 17:11:30,960 [INFO]  Epoch[11] Time cost=12.748\n",
      "2021-05-30 17:11:30,966 [INFO]  Saved checkpoint to \"imputer_model\\model-0011.params\"\n",
      "2021-05-30 17:11:31,567 [INFO]  Epoch[11] Validation-cross-entropy=1.624181\n",
      "2021-05-30 17:11:31,567 [INFO]  Epoch[11] Validation-occyp_type-accuracy=0.430458\n",
      "2021-05-30 17:11:37,872 [INFO]  Epoch[12] Batch [0-639]\tSpeed: 1624.57 samples/sec\tcross-entropy=1.654908\toccyp_type-accuracy=0.420508\n",
      "2021-05-30 17:11:44,338 [INFO]  Epoch[12] Train-cross-entropy=1.645803\n",
      "2021-05-30 17:11:44,339 [INFO]  Epoch[12] Train-occyp_type-accuracy=0.420970\n",
      "2021-05-30 17:11:44,339 [INFO]  Epoch[12] Time cost=12.771\n",
      "2021-05-30 17:11:44,345 [INFO]  Saved checkpoint to \"imputer_model\\model-0012.params\"\n",
      "2021-05-30 17:11:44,944 [INFO]  Epoch[12] Validation-cross-entropy=1.624241\n"
     ]
    },
    {
     "name": "stderr",
     "output_type": "stream",
     "text": [
      "2021-05-30 17:11:44,945 [INFO]  Epoch[12] Validation-occyp_type-accuracy=0.430018\n",
      "2021-05-30 17:11:51,499 [INFO]  Epoch[13] Batch [0-639]\tSpeed: 1562.69 samples/sec\tcross-entropy=1.654103\toccyp_type-accuracy=0.420215\n",
      "2021-05-30 17:11:58,005 [INFO]  Epoch[13] Train-cross-entropy=1.644906\n",
      "2021-05-30 17:11:58,006 [INFO]  Epoch[13] Train-occyp_type-accuracy=0.420335\n",
      "2021-05-30 17:11:58,006 [INFO]  Epoch[13] Time cost=13.061\n",
      "2021-05-30 17:11:58,011 [INFO]  Saved checkpoint to \"imputer_model\\model-0013.params\"\n",
      "2021-05-30 17:11:58,640 [INFO]  Epoch[13] Validation-cross-entropy=1.624163\n",
      "2021-05-30 17:11:58,641 [INFO]  Epoch[13] Validation-occyp_type-accuracy=0.430018\n",
      "2021-05-30 17:12:04,893 [INFO]  Epoch[14] Batch [0-639]\tSpeed: 1638.36 samples/sec\tcross-entropy=1.653241\toccyp_type-accuracy=0.420117\n",
      "2021-05-30 17:12:11,054 [INFO]  Epoch[14] Train-cross-entropy=1.644068\n",
      "2021-05-30 17:12:11,054 [INFO]  Epoch[14] Train-occyp_type-accuracy=0.420286\n",
      "2021-05-30 17:12:11,055 [INFO]  Epoch[14] Time cost=12.413\n",
      "2021-05-30 17:12:11,061 [INFO]  Saved checkpoint to \"imputer_model\\model-0014.params\"\n",
      "2021-05-30 17:12:11,624 [INFO]  Epoch[14] Validation-cross-entropy=1.623196\n",
      "2021-05-30 17:12:11,625 [INFO]  Epoch[14] Validation-occyp_type-accuracy=0.429137\n",
      "2021-05-30 17:12:17,805 [INFO]  Epoch[15] Batch [0-639]\tSpeed: 1656.95 samples/sec\tcross-entropy=1.652570\toccyp_type-accuracy=0.420312\n",
      "2021-05-30 17:12:24,220 [INFO]  Epoch[15] Train-cross-entropy=1.643573\n",
      "2021-05-30 17:12:24,221 [INFO]  Epoch[15] Train-occyp_type-accuracy=0.420090\n",
      "2021-05-30 17:12:24,221 [INFO]  Epoch[15] Time cost=12.596\n",
      "2021-05-30 17:12:24,226 [INFO]  Saved checkpoint to \"imputer_model\\model-0015.params\"\n",
      "2021-05-30 17:12:24,832 [INFO]  Epoch[15] Validation-cross-entropy=1.623583\n",
      "2021-05-30 17:12:24,833 [INFO]  Epoch[15] Validation-occyp_type-accuracy=0.430898\n",
      "2021-05-30 17:12:31,084 [INFO]  Epoch[16] Batch [0-639]\tSpeed: 1638.48 samples/sec\tcross-entropy=1.651839\toccyp_type-accuracy=0.419336\n",
      "2021-05-30 17:12:37,507 [INFO]  Epoch[16] Train-cross-entropy=1.642906\n",
      "2021-05-30 17:12:37,507 [INFO]  Epoch[16] Train-occyp_type-accuracy=0.419650\n",
      "2021-05-30 17:12:37,508 [INFO]  Epoch[16] Time cost=12.675\n",
      "2021-05-30 17:12:37,513 [INFO]  Saved checkpoint to \"imputer_model\\model-0016.params\"\n",
      "2021-05-30 17:12:38,099 [INFO]  Epoch[16] Validation-cross-entropy=1.623447\n",
      "2021-05-30 17:12:38,099 [INFO]  Epoch[16] Validation-occyp_type-accuracy=0.430458\n",
      "2021-05-30 17:12:44,369 [INFO]  Epoch[17] Batch [0-639]\tSpeed: 1633.39 samples/sec\tcross-entropy=1.650976\toccyp_type-accuracy=0.420508\n",
      "2021-05-30 17:12:50,619 [INFO]  Epoch[17] Train-cross-entropy=1.642173\n",
      "2021-05-30 17:12:50,620 [INFO]  Epoch[17] Train-occyp_type-accuracy=0.420335\n",
      "2021-05-30 17:12:50,620 [INFO]  Epoch[17] Time cost=12.521\n",
      "2021-05-30 17:12:50,625 [INFO]  Saved checkpoint to \"imputer_model\\model-0017.params\"\n",
      "2021-05-30 17:12:51,189 [INFO]  Epoch[17] Validation-cross-entropy=1.621565\n",
      "2021-05-30 17:12:51,190 [INFO]  Epoch[17] Validation-occyp_type-accuracy=0.430898\n",
      "2021-05-30 17:12:57,517 [INFO]  Epoch[18] Batch [0-639]\tSpeed: 1618.43 samples/sec\tcross-entropy=1.650687\toccyp_type-accuracy=0.420996\n",
      "2021-05-30 17:13:03,864 [INFO]  Epoch[18] Train-cross-entropy=1.641741\n",
      "2021-05-30 17:13:03,865 [INFO]  Epoch[18] Train-occyp_type-accuracy=0.420188\n",
      "2021-05-30 17:13:03,866 [INFO]  Epoch[18] Time cost=12.675\n",
      "2021-05-30 17:13:03,870 [INFO]  Saved checkpoint to \"imputer_model\\model-0018.params\"\n",
      "2021-05-30 17:13:04,471 [INFO]  Epoch[18] Validation-cross-entropy=1.621324\n",
      "2021-05-30 17:13:04,472 [INFO]  Epoch[18] Validation-occyp_type-accuracy=0.432218\n",
      "2021-05-30 17:13:10,805 [INFO]  Epoch[19] Batch [0-639]\tSpeed: 1617.04 samples/sec\tcross-entropy=1.650078\toccyp_type-accuracy=0.422070\n",
      "2021-05-30 17:13:17,126 [INFO]  Epoch[19] Train-cross-entropy=1.641084\n",
      "2021-05-30 17:13:17,127 [INFO]  Epoch[19] Train-occyp_type-accuracy=0.420432\n",
      "2021-05-30 17:13:17,128 [INFO]  Epoch[19] Time cost=12.656\n",
      "2021-05-30 17:13:17,132 [INFO]  Saved checkpoint to \"imputer_model\\model-0019.params\"\n",
      "2021-05-30 17:13:17,701 [INFO]  Epoch[19] Validation-cross-entropy=1.621239\n",
      "2021-05-30 17:13:17,702 [INFO]  Epoch[19] Validation-occyp_type-accuracy=0.430458\n",
      "2021-05-30 17:13:24,024 [INFO]  Epoch[20] Batch [0-639]\tSpeed: 1620.06 samples/sec\tcross-entropy=1.649478\toccyp_type-accuracy=0.420801\n",
      "2021-05-30 17:13:30,346 [INFO]  Epoch[20] Train-cross-entropy=1.640567\n",
      "2021-05-30 17:13:30,346 [INFO]  Epoch[20] Train-occyp_type-accuracy=0.420041\n",
      "2021-05-30 17:13:30,347 [INFO]  Epoch[20] Time cost=12.644\n",
      "2021-05-30 17:13:30,352 [INFO]  Saved checkpoint to \"imputer_model\\model-0020.params\"\n",
      "2021-05-30 17:13:30,931 [INFO]  Epoch[20] Validation-cross-entropy=1.620876\n",
      "2021-05-30 17:13:30,932 [INFO]  Epoch[20] Validation-occyp_type-accuracy=0.430018\n",
      "2021-05-30 17:13:37,290 [INFO]  Epoch[21] Batch [0-639]\tSpeed: 1610.66 samples/sec\tcross-entropy=1.648901\toccyp_type-accuracy=0.422559\n",
      "2021-05-30 17:13:43,673 [INFO]  Epoch[21] Train-cross-entropy=1.640057\n",
      "2021-05-30 17:13:43,674 [INFO]  Epoch[21] Train-occyp_type-accuracy=0.420872\n",
      "2021-05-30 17:13:43,675 [INFO]  Epoch[21] Time cost=12.743\n",
      "2021-05-30 17:13:43,681 [INFO]  Saved checkpoint to \"imputer_model\\model-0021.params\"\n",
      "2021-05-30 17:13:44,264 [INFO]  Epoch[21] Validation-cross-entropy=1.620565\n",
      "2021-05-30 17:13:44,265 [INFO]  Epoch[21] Validation-occyp_type-accuracy=0.431338\n",
      "2021-05-30 17:13:50,631 [INFO]  Epoch[22] Batch [0-639]\tSpeed: 1608.67 samples/sec\tcross-entropy=1.648312\toccyp_type-accuracy=0.421680\n",
      "2021-05-30 17:13:56,993 [INFO]  Epoch[22] Train-cross-entropy=1.639152\n",
      "2021-05-30 17:13:56,994 [INFO]  Epoch[22] Train-occyp_type-accuracy=0.421117\n",
      "2021-05-30 17:13:56,994 [INFO]  Epoch[22] Time cost=12.730\n",
      "2021-05-30 17:13:56,999 [INFO]  Saved checkpoint to \"imputer_model\\model-0022.params\"\n",
      "2021-05-30 17:13:57,567 [INFO]  Epoch[22] Validation-cross-entropy=1.620400\n",
      "2021-05-30 17:13:57,567 [INFO]  Epoch[22] Validation-occyp_type-accuracy=0.430458\n",
      "2021-05-30 17:14:03,954 [INFO]  Epoch[23] Batch [0-639]\tSpeed: 1603.63 samples/sec\tcross-entropy=1.647677\toccyp_type-accuracy=0.421582\n",
      "2021-05-30 17:14:10,387 [INFO]  Epoch[23] Train-cross-entropy=1.638928\n",
      "2021-05-30 17:14:10,388 [INFO]  Epoch[23] Train-occyp_type-accuracy=0.420041\n",
      "2021-05-30 17:14:10,388 [INFO]  Epoch[23] Time cost=12.821\n",
      "2021-05-30 17:14:10,394 [INFO]  Saved checkpoint to \"imputer_model\\model-0023.params\"\n",
      "2021-05-30 17:14:10,977 [INFO]  Epoch[23] Validation-cross-entropy=1.620075\n",
      "2021-05-30 17:14:10,977 [INFO]  Epoch[23] Validation-occyp_type-accuracy=0.431338\n",
      "2021-05-30 17:14:17,410 [INFO]  Epoch[24] Batch [0-639]\tSpeed: 1592.40 samples/sec\tcross-entropy=1.647366\toccyp_type-accuracy=0.421191\n",
      "2021-05-30 17:14:23,894 [INFO]  Epoch[24] Train-cross-entropy=1.638636\n",
      "2021-05-30 17:14:23,895 [INFO]  Epoch[24] Train-occyp_type-accuracy=0.420481\n",
      "2021-05-30 17:14:23,895 [INFO]  Epoch[24] Time cost=12.916\n",
      "2021-05-30 17:14:23,901 [INFO]  Saved checkpoint to \"imputer_model\\model-0024.params\"\n",
      "2021-05-30 17:14:24,468 [INFO]  Epoch[24] Validation-cross-entropy=1.620114\n",
      "2021-05-30 17:14:24,468 [INFO]  Epoch[24] Validation-occyp_type-accuracy=0.431778\n",
      "2021-05-30 17:14:30,936 [INFO]  Epoch[25] Batch [0-639]\tSpeed: 1583.59 samples/sec\tcross-entropy=1.646879\toccyp_type-accuracy=0.421973\n",
      "2021-05-30 17:14:37,449 [INFO]  Epoch[25] Train-cross-entropy=1.638127\n",
      "2021-05-30 17:14:37,450 [INFO]  Epoch[25] Train-occyp_type-accuracy=0.420726\n",
      "2021-05-30 17:14:37,451 [INFO]  Epoch[25] Time cost=12.982\n",
      "2021-05-30 17:14:37,464 [INFO]  Saved checkpoint to \"imputer_model\\model-0025.params\"\n",
      "2021-05-30 17:14:38,059 [INFO]  Epoch[25] Validation-cross-entropy=1.619903\n",
      "2021-05-30 17:14:38,060 [INFO]  Epoch[25] Validation-occyp_type-accuracy=0.431338\n",
      "2021-05-30 17:14:44,551 [INFO]  Epoch[26] Batch [0-639]\tSpeed: 1578.56 samples/sec\tcross-entropy=1.646568\toccyp_type-accuracy=0.422461\n",
      "2021-05-30 17:14:51,080 [INFO]  Epoch[26] Train-cross-entropy=1.637688\n",
      "2021-05-30 17:14:51,081 [INFO]  Epoch[26] Train-occyp_type-accuracy=0.421215\n",
      "2021-05-30 17:14:51,081 [INFO]  Epoch[26] Time cost=13.020\n",
      "2021-05-30 17:14:51,086 [INFO]  Saved checkpoint to \"imputer_model\\model-0026.params\"\n",
      "2021-05-30 17:14:51,651 [INFO]  Epoch[26] Validation-cross-entropy=1.619537\n"
     ]
    },
    {
     "name": "stderr",
     "output_type": "stream",
     "text": [
      "2021-05-30 17:14:51,651 [INFO]  Epoch[26] Validation-occyp_type-accuracy=0.430898\n",
      "2021-05-30 17:14:58,328 [INFO]  Epoch[27] Batch [0-639]\tSpeed: 1534.19 samples/sec\tcross-entropy=1.646025\toccyp_type-accuracy=0.421777\n",
      "2021-05-30 17:15:05,105 [INFO]  Epoch[27] Train-cross-entropy=1.637197\n",
      "2021-05-30 17:15:05,106 [INFO]  Epoch[27] Train-occyp_type-accuracy=0.420921\n",
      "2021-05-30 17:15:05,107 [INFO]  Epoch[27] Time cost=13.455\n",
      "2021-05-30 17:15:05,112 [INFO]  Saved checkpoint to \"imputer_model\\model-0027.params\"\n",
      "2021-05-30 17:15:05,697 [INFO]  Epoch[27] Validation-cross-entropy=1.619518\n",
      "2021-05-30 17:15:05,697 [INFO]  Epoch[27] Validation-occyp_type-accuracy=0.431338\n",
      "2021-05-30 17:15:12,829 [INFO]  Epoch[28] Batch [0-639]\tSpeed: 1435.94 samples/sec\tcross-entropy=1.645742\toccyp_type-accuracy=0.422852\n",
      "2021-05-30 17:15:19,661 [INFO]  Epoch[28] Train-cross-entropy=1.636869\n",
      "2021-05-30 17:15:19,662 [INFO]  Epoch[28] Train-occyp_type-accuracy=0.421362\n",
      "2021-05-30 17:15:19,663 [INFO]  Epoch[28] Time cost=13.965\n",
      "2021-05-30 17:15:19,669 [INFO]  Saved checkpoint to \"imputer_model\\model-0028.params\"\n",
      "2021-05-30 17:15:20,292 [INFO]  Epoch[28] Validation-cross-entropy=1.619618\n",
      "2021-05-30 17:15:20,293 [INFO]  Epoch[28] Validation-occyp_type-accuracy=0.428257\n",
      "2021-05-30 17:15:26,905 [INFO]  Epoch[29] Batch [0-639]\tSpeed: 1548.77 samples/sec\tcross-entropy=1.645616\toccyp_type-accuracy=0.422949\n",
      "2021-05-30 17:15:33,471 [INFO]  Epoch[29] Train-cross-entropy=1.636487\n",
      "2021-05-30 17:15:33,471 [INFO]  Epoch[29] Train-occyp_type-accuracy=0.421215\n",
      "2021-05-30 17:15:33,472 [INFO]  Epoch[29] Time cost=13.179\n",
      "2021-05-30 17:15:33,477 [INFO]  Saved checkpoint to \"imputer_model\\model-0029.params\"\n",
      "2021-05-30 17:15:34,030 [INFO]  Epoch[29] Validation-cross-entropy=1.618897\n",
      "2021-05-30 17:15:34,031 [INFO]  Epoch[29] Validation-occyp_type-accuracy=0.429137\n",
      "2021-05-30 17:15:40,575 [INFO]  Epoch[30] Batch [0-639]\tSpeed: 1565.09 samples/sec\tcross-entropy=1.645176\toccyp_type-accuracy=0.421875\n",
      "2021-05-30 17:15:47,067 [INFO]  Epoch[30] Train-cross-entropy=1.636200\n",
      "2021-05-30 17:15:47,068 [INFO]  Epoch[30] Train-occyp_type-accuracy=0.420775\n",
      "2021-05-30 17:15:47,069 [INFO]  Epoch[30] Time cost=13.036\n",
      "2021-05-30 17:15:47,078 [INFO]  Saved checkpoint to \"imputer_model\\model-0030.params\"\n",
      "2021-05-30 17:15:47,694 [INFO]  Epoch[30] Validation-cross-entropy=1.619591\n",
      "2021-05-30 17:15:47,694 [INFO]  Epoch[30] Validation-occyp_type-accuracy=0.431338\n",
      "2021-05-30 17:15:54,926 [INFO]  Epoch[31] Batch [0-639]\tSpeed: 1416.28 samples/sec\tcross-entropy=1.644795\toccyp_type-accuracy=0.422266\n",
      "2021-05-30 17:16:01,715 [INFO]  Epoch[31] Train-cross-entropy=1.635635\n",
      "2021-05-30 17:16:01,716 [INFO]  Epoch[31] Train-occyp_type-accuracy=0.420677\n",
      "2021-05-30 17:16:01,717 [INFO]  Epoch[31] Time cost=14.022\n",
      "2021-05-30 17:16:01,721 [INFO]  Saved checkpoint to \"imputer_model\\model-0031.params\"\n",
      "2021-05-30 17:16:02,303 [INFO]  Epoch[31] Validation-cross-entropy=1.619685\n",
      "2021-05-30 17:16:02,304 [INFO]  Epoch[31] Validation-occyp_type-accuracy=0.427817\n",
      "2021-05-30 17:16:09,405 [INFO]  Epoch[32] Batch [0-639]\tSpeed: 1442.07 samples/sec\tcross-entropy=1.644469\toccyp_type-accuracy=0.421875\n",
      "2021-05-30 17:16:16,669 [INFO]  Epoch[32] Train-cross-entropy=1.635442\n",
      "2021-05-30 17:16:16,670 [INFO]  Epoch[32] Train-occyp_type-accuracy=0.420677\n",
      "2021-05-30 17:16:16,671 [INFO]  Epoch[32] Time cost=14.367\n",
      "2021-05-30 17:16:16,676 [INFO]  Saved checkpoint to \"imputer_model\\model-0032.params\"\n",
      "2021-05-30 17:16:17,337 [INFO]  Epoch[32] Validation-cross-entropy=1.619659\n",
      "2021-05-30 17:16:17,338 [INFO]  Epoch[32] Validation-occyp_type-accuracy=0.428697\n",
      "2021-05-30 17:16:24,542 [INFO]  Epoch[33] Batch [0-639]\tSpeed: 1422.08 samples/sec\tcross-entropy=1.644019\toccyp_type-accuracy=0.421191\n",
      "2021-05-30 17:16:31,373 [INFO]  Epoch[33] Train-cross-entropy=1.635142\n",
      "2021-05-30 17:16:31,374 [INFO]  Epoch[33] Train-occyp_type-accuracy=0.420335\n",
      "2021-05-30 17:16:31,374 [INFO]  Epoch[33] Time cost=14.034\n",
      "2021-05-30 17:16:31,379 [INFO]  Saved checkpoint to \"imputer_model\\model-0033.params\"\n",
      "2021-05-30 17:16:31,981 [INFO]  Epoch[33] Validation-cross-entropy=1.619273\n",
      "2021-05-30 17:16:31,982 [INFO]  Epoch[33] Validation-occyp_type-accuracy=0.429577\n",
      "2021-05-30 17:16:38,824 [INFO]  Epoch[34] Batch [0-639]\tSpeed: 1497.38 samples/sec\tcross-entropy=1.643690\toccyp_type-accuracy=0.420801\n",
      "2021-05-30 17:16:45,631 [INFO]  Epoch[34] Train-cross-entropy=1.634735\n",
      "2021-05-30 17:16:45,632 [INFO]  Epoch[34] Train-occyp_type-accuracy=0.420286\n",
      "2021-05-30 17:16:45,632 [INFO]  Epoch[34] Time cost=13.649\n",
      "2021-05-30 17:16:45,637 [INFO]  Saved checkpoint to \"imputer_model\\model-0034.params\"\n",
      "2021-05-30 17:16:46,234 [INFO]  No improvement detected for 5 epochs compared to 1.6188971433841006 last error obtained: 1.61915769837272, stopping here\n",
      "2021-05-30 17:16:46,235 [INFO]  \n",
      "========== done (476.97212052345276 s) fit model\n"
     ]
    },
    {
     "data": {
      "text/plain": [
       "<datawig.simple_imputer.SimpleImputer at 0x16f5b83b550>"
      ]
     },
     "execution_count": 17,
     "metadata": {},
     "output_type": "execute_result"
    }
   ],
   "source": [
    "# data split\n",
    "train_notnull = train[train.occyp_type.notnull()]\n",
    "train_null = train[train.occyp_type.isnull()]\n",
    "\n",
    "#Initialize a SimpleImputer model\n",
    "imputer = datawig.SimpleImputer(\n",
    "    input_columns=['EMPLOYED','age','income_type'], # column(s) containing information about the column we want to impute\n",
    "    output_column='occyp_type', # the column we'd like to impute values for\n",
    "    output_path = 'imputer_model' # stores model data and metrics\n",
    "    )\n",
    "\n",
    "#Fit an imputer model on the train data\n",
    "imputer.fit(train_df=train_notnull, num_epochs=50)\n",
    "\n",
    "#Impute missing values and return original dataframe with predictions\n",
    "imputed = imputer.predict(train_null)"
   ]
  },
  {
   "cell_type": "code",
   "execution_count": 18,
   "metadata": {},
   "outputs": [
    {
     "data": {
      "text/html": [
       "<div>\n",
       "<style scoped>\n",
       "    .dataframe tbody tr th:only-of-type {\n",
       "        vertical-align: middle;\n",
       "    }\n",
       "\n",
       "    .dataframe tbody tr th {\n",
       "        vertical-align: top;\n",
       "    }\n",
       "\n",
       "    .dataframe thead th {\n",
       "        text-align: right;\n",
       "    }\n",
       "</style>\n",
       "<table border=\"1\" class=\"dataframe\">\n",
       "  <thead>\n",
       "    <tr style=\"text-align: right;\">\n",
       "      <th></th>\n",
       "      <th>DAYS_BIRTH</th>\n",
       "      <th>DAYS_EMPLOYED</th>\n",
       "      <th>EMPLOYED</th>\n",
       "      <th>FLAG_MOBIL</th>\n",
       "      <th>age</th>\n",
       "      <th>begin_month</th>\n",
       "      <th>car</th>\n",
       "      <th>cf_ratio</th>\n",
       "      <th>child_num</th>\n",
       "      <th>credit</th>\n",
       "      <th>edu_type</th>\n",
       "      <th>email</th>\n",
       "      <th>family_size</th>\n",
       "      <th>family_type</th>\n",
       "      <th>gender</th>\n",
       "      <th>house_type</th>\n",
       "      <th>if_ratio</th>\n",
       "      <th>income_total</th>\n",
       "      <th>income_type</th>\n",
       "      <th>index</th>\n",
       "      <th>occyp_type</th>\n",
       "      <th>phone</th>\n",
       "      <th>reality</th>\n",
       "      <th>work_phone</th>\n",
       "    </tr>\n",
       "  </thead>\n",
       "  <tbody>\n",
       "    <tr>\n",
       "      <th>1</th>\n",
       "      <td>11380</td>\n",
       "      <td>1540</td>\n",
       "      <td>4.277778</td>\n",
       "      <td>1</td>\n",
       "      <td>31</td>\n",
       "      <td>5</td>\n",
       "      <td>0</td>\n",
       "      <td>0.333333</td>\n",
       "      <td>1</td>\n",
       "      <td>1.0</td>\n",
       "      <td>Secondary / secondary special</td>\n",
       "      <td>1</td>\n",
       "      <td>3.0</td>\n",
       "      <td>Civil marriage</td>\n",
       "      <td>0</td>\n",
       "      <td>House / apartment</td>\n",
       "      <td>4.139723</td>\n",
       "      <td>12.419170</td>\n",
       "      <td>Commercial associate</td>\n",
       "      <td>1</td>\n",
       "      <td>Laborers</td>\n",
       "      <td>0</td>\n",
       "      <td>1</td>\n",
       "      <td>0</td>\n",
       "    </tr>\n",
       "    <tr>\n",
       "      <th>2</th>\n",
       "      <td>19087</td>\n",
       "      <td>4434</td>\n",
       "      <td>12.316667</td>\n",
       "      <td>1</td>\n",
       "      <td>53</td>\n",
       "      <td>22</td>\n",
       "      <td>1</td>\n",
       "      <td>0.000000</td>\n",
       "      <td>0</td>\n",
       "      <td>2.0</td>\n",
       "      <td>Higher education</td>\n",
       "      <td>0</td>\n",
       "      <td>2.0</td>\n",
       "      <td>Married</td>\n",
       "      <td>1</td>\n",
       "      <td>House / apartment</td>\n",
       "      <td>6.508503</td>\n",
       "      <td>13.017005</td>\n",
       "      <td>Working</td>\n",
       "      <td>2</td>\n",
       "      <td>Managers</td>\n",
       "      <td>1</td>\n",
       "      <td>1</td>\n",
       "      <td>0</td>\n",
       "    </tr>\n",
       "    <tr>\n",
       "      <th>3</th>\n",
       "      <td>15088</td>\n",
       "      <td>2092</td>\n",
       "      <td>5.811111</td>\n",
       "      <td>1</td>\n",
       "      <td>41</td>\n",
       "      <td>37</td>\n",
       "      <td>0</td>\n",
       "      <td>0.000000</td>\n",
       "      <td>0</td>\n",
       "      <td>0.0</td>\n",
       "      <td>Secondary / secondary special</td>\n",
       "      <td>0</td>\n",
       "      <td>2.0</td>\n",
       "      <td>Married</td>\n",
       "      <td>0</td>\n",
       "      <td>House / apartment</td>\n",
       "      <td>6.109250</td>\n",
       "      <td>12.218500</td>\n",
       "      <td>Commercial associate</td>\n",
       "      <td>3</td>\n",
       "      <td>Sales staff</td>\n",
       "      <td>1</td>\n",
       "      <td>1</td>\n",
       "      <td>0</td>\n",
       "    </tr>\n",
       "    <tr>\n",
       "      <th>4</th>\n",
       "      <td>15037</td>\n",
       "      <td>2105</td>\n",
       "      <td>5.847222</td>\n",
       "      <td>1</td>\n",
       "      <td>41</td>\n",
       "      <td>26</td>\n",
       "      <td>1</td>\n",
       "      <td>0.000000</td>\n",
       "      <td>0</td>\n",
       "      <td>2.0</td>\n",
       "      <td>Higher education</td>\n",
       "      <td>0</td>\n",
       "      <td>2.0</td>\n",
       "      <td>Married</td>\n",
       "      <td>0</td>\n",
       "      <td>House / apartment</td>\n",
       "      <td>5.983594</td>\n",
       "      <td>11.967187</td>\n",
       "      <td>State servant</td>\n",
       "      <td>4</td>\n",
       "      <td>Managers</td>\n",
       "      <td>0</td>\n",
       "      <td>1</td>\n",
       "      <td>0</td>\n",
       "    </tr>\n",
       "    <tr>\n",
       "      <th>5</th>\n",
       "      <td>13413</td>\n",
       "      <td>4996</td>\n",
       "      <td>13.877778</td>\n",
       "      <td>1</td>\n",
       "      <td>37</td>\n",
       "      <td>18</td>\n",
       "      <td>0</td>\n",
       "      <td>0.500000</td>\n",
       "      <td>2</td>\n",
       "      <td>1.0</td>\n",
       "      <td>Secondary / secondary special</td>\n",
       "      <td>1</td>\n",
       "      <td>4.0</td>\n",
       "      <td>Married</td>\n",
       "      <td>0</td>\n",
       "      <td>House / apartment</td>\n",
       "      <td>3.126545</td>\n",
       "      <td>12.506181</td>\n",
       "      <td>Working</td>\n",
       "      <td>5</td>\n",
       "      <td>High skill tech staff</td>\n",
       "      <td>0</td>\n",
       "      <td>1</td>\n",
       "      <td>0</td>\n",
       "    </tr>\n",
       "  </tbody>\n",
       "</table>\n",
       "</div>"
      ],
      "text/plain": [
       "   DAYS_BIRTH  DAYS_EMPLOYED   EMPLOYED  FLAG_MOBIL  age  begin_month  car  \\\n",
       "1       11380           1540   4.277778           1   31            5    0   \n",
       "2       19087           4434  12.316667           1   53           22    1   \n",
       "3       15088           2092   5.811111           1   41           37    0   \n",
       "4       15037           2105   5.847222           1   41           26    1   \n",
       "5       13413           4996  13.877778           1   37           18    0   \n",
       "\n",
       "   cf_ratio  child_num  credit                       edu_type  email  \\\n",
       "1  0.333333          1     1.0  Secondary / secondary special      1   \n",
       "2  0.000000          0     2.0               Higher education      0   \n",
       "3  0.000000          0     0.0  Secondary / secondary special      0   \n",
       "4  0.000000          0     2.0               Higher education      0   \n",
       "5  0.500000          2     1.0  Secondary / secondary special      1   \n",
       "\n",
       "   family_size     family_type  gender         house_type  if_ratio  \\\n",
       "1          3.0  Civil marriage       0  House / apartment  4.139723   \n",
       "2          2.0         Married       1  House / apartment  6.508503   \n",
       "3          2.0         Married       0  House / apartment  6.109250   \n",
       "4          2.0         Married       0  House / apartment  5.983594   \n",
       "5          4.0         Married       0  House / apartment  3.126545   \n",
       "\n",
       "   income_total           income_type  index             occyp_type  phone  \\\n",
       "1     12.419170  Commercial associate      1               Laborers      0   \n",
       "2     13.017005               Working      2               Managers      1   \n",
       "3     12.218500  Commercial associate      3            Sales staff      1   \n",
       "4     11.967187         State servant      4               Managers      0   \n",
       "5     12.506181               Working      5  High skill tech staff      0   \n",
       "\n",
       "   reality  work_phone  \n",
       "1        1           0  \n",
       "2        1           0  \n",
       "3        1           0  \n",
       "4        1           0  \n",
       "5        1           0  "
      ]
     },
     "execution_count": 18,
     "metadata": {},
     "output_type": "execute_result"
    }
   ],
   "source": [
    "imputed = imputed.drop(['occyp_type','occyp_type_imputed_proba'],axis=1)\n",
    "\n",
    "imputed = imputed.rename(columns = {'occyp_type_imputed':'occyp_type'})\n",
    "\n",
    "train_imputed = pd.concat([train_notnull,imputed],axis = 0)\n",
    "\n",
    "train_imputed.head()"
   ]
  },
  {
   "cell_type": "code",
   "execution_count": 19,
   "metadata": {},
   "outputs": [
    {
     "data": {
      "text/plain": [
       "<datawig.simple_imputer.SimpleImputer at 0x16f817b96d0>"
      ]
     },
     "execution_count": 19,
     "metadata": {},
     "output_type": "execute_result"
    }
   ],
   "source": [
    "# data split\n",
    "test_notnull = test[test.occyp_type.notnull()]\n",
    "test_null = test[test.occyp_type.isnull()]\n",
    "\n",
    "#Initialize a SimpleImputer model\n",
    "imputer = datawig.SimpleImputer(\n",
    "    input_columns=['DAYS_EMPLOYED','DAYS_BIRTH','income_type'], # column(s) containing information about the column we want to impute\n",
    "    output_column='occyp_type', # the column we'd like to impute values for\n",
    "    output_path = 'imputer_model' # stores model data and metrics\n",
    "    )\n",
    "\n",
    "#Fit an imputer model on the train data\n",
    "imputer.fit(train_df=test_notnull, num_epochs=50)\n",
    "\n",
    "#Impute missing values and return original dataframe with predictions\n",
    "imputed_2 = imputer.predict(test_null)"
   ]
  },
  {
   "cell_type": "code",
   "execution_count": 20,
   "metadata": {},
   "outputs": [],
   "source": [
    "imputed_2 = imputed_2.drop(['occyp_type','occyp_type_imputed_proba'],axis=1)\n",
    "\n",
    "imputed_2 = imputed_2.rename(columns = {'occyp_type_imputed':'occyp_type'})\n",
    "\n",
    "test_imputed = pd.concat([test_notnull,imputed_2],axis = 0)"
   ]
  },
  {
   "cell_type": "markdown",
   "metadata": {},
   "source": [
    "대체된 열 삭제"
   ]
  },
  {
   "cell_type": "code",
   "execution_count": 61,
   "metadata": {},
   "outputs": [],
   "source": [
    "train = train.drop(['index', 'FLAG_MOBIL', 'DAYS_BIRTH', 'DAYS_EMPLOYED'],axis=1)\n",
    "test = test.drop(['index', 'FLAG_MOBIL', 'DAYS_BIRTH', 'DAYS_EMPLOYED'],axis=1)"
   ]
  },
  {
   "cell_type": "markdown",
   "metadata": {},
   "source": [
    "스케일링"
   ]
  },
  {
   "cell_type": "code",
   "execution_count": 62,
   "metadata": {},
   "outputs": [
    {
     "name": "stdout",
     "output_type": "stream",
     "text": [
      "Number of Numerical features:  14\n",
      "Number of Categorical features:  5\n"
     ]
    }
   ],
   "source": [
    "numerical_feats = train.dtypes[train.dtypes != \"object\"].index.tolist()\n",
    "numerical_feats.remove('credit')\n",
    "print(\"Number of Numerical features: \", len(numerical_feats))\n",
    "\n",
    "categorical_feats = train.dtypes[train.dtypes == \"object\"].index.tolist()\n",
    "print(\"Number of Categorical features: \", len(categorical_feats))"
   ]
  },
  {
   "cell_type": "code",
   "execution_count": 63,
   "metadata": {},
   "outputs": [],
   "source": [
    "encoder = OrdinalEncoder(categorical_feats)\n",
    "train[categorical_feats] = encoder.fit_transform(train[categorical_feats], train['credit'])\n",
    "test[categorical_feats] = encoder.transform(test[categorical_feats])"
   ]
  },
  {
   "cell_type": "code",
   "execution_count": 64,
   "metadata": {},
   "outputs": [],
   "source": [
    "#numerical_feats.remove('income_total')\n",
    "scaler = StandardScaler()\n",
    "train[numerical_feats] = scaler.fit_transform(train[numerical_feats])\n",
    "test[numerical_feats] = scaler.transform(test[numerical_feats])"
   ]
  },
  {
   "cell_type": "markdown",
   "metadata": {},
   "source": [
    "모델링"
   ]
  },
  {
   "cell_type": "code",
   "execution_count": 71,
   "metadata": {},
   "outputs": [],
   "source": [
    "n_est = 2000\n",
    "seed = 42\n",
    "n_fold = 7\n",
    "n_class = 3\n",
    "\n",
    "target = 'credit'\n",
    "X = train.drop(target, axis=1)\n",
    "y = train[target]\n",
    "X_test = test"
   ]
  },
  {
   "cell_type": "code",
   "execution_count": 72,
   "metadata": {},
   "outputs": [
    {
     "name": "stdout",
     "output_type": "stream",
     "text": [
      "\n",
      "----------------- Fold 0 -----------------\n",
      "\n",
      "Learning rate set to 0.114931\n",
      "0:\tlearn: 1.0348127\ttest: 1.0335262\tbest: 1.0335262 (0)\ttotal: 37.6ms\tremaining: 37.6s\n",
      "100:\tlearn: 0.7854994\ttest: 0.7940367\tbest: 0.7940367 (100)\ttotal: 3.83s\tremaining: 34.1s\n",
      "200:\tlearn: 0.7540875\ttest: 0.7813367\tbest: 0.7813367 (200)\ttotal: 7.8s\tremaining: 31s\n",
      "300:\tlearn: 0.7271243\ttest: 0.7725959\tbest: 0.7725834 (299)\ttotal: 11.7s\tremaining: 27.3s\n",
      "400:\tlearn: 0.7036949\ttest: 0.7663053\tbest: 0.7663053 (400)\ttotal: 15.7s\tremaining: 23.5s\n",
      "500:\tlearn: 0.6840680\ttest: 0.7630735\tbest: 0.7629294 (497)\ttotal: 19.7s\tremaining: 19.6s\n",
      "600:\tlearn: 0.6650446\ttest: 0.7594588\tbest: 0.7594530 (596)\ttotal: 23.5s\tremaining: 15.6s\n",
      "700:\tlearn: 0.6458350\ttest: 0.7561185\tbest: 0.7560757 (692)\ttotal: 27.6s\tremaining: 11.8s\n",
      "800:\tlearn: 0.6281662\ttest: 0.7529388\tbest: 0.7528990 (798)\ttotal: 31.5s\tremaining: 7.83s\n",
      "900:\tlearn: 0.6115147\ttest: 0.7514245\tbest: 0.7510631 (871)\ttotal: 35.6s\tremaining: 3.91s\n",
      "999:\tlearn: 0.5968681\ttest: 0.7499111\tbest: 0.7497683 (996)\ttotal: 39.6s\tremaining: 0us\n",
      "\n",
      "bestTest = 0.7497682544\n",
      "bestIteration = 996\n",
      "\n",
      "Shrink model to first 997 iterations.\n"
     ]
    },
    {
     "data": {
      "text/plain": [
       "<catboost.core.CatBoostClassifier at 0x16f9ac1de50>"
      ]
     },
     "execution_count": 72,
     "metadata": {},
     "output_type": "execute_result"
    },
    {
     "name": "stdout",
     "output_type": "stream",
     "text": [
      "CV Log Loss Score: 0.749768\n",
      "\n",
      "----------------- Fold 1 -----------------\n",
      "\n",
      "Learning rate set to 0.114931\n",
      "0:\tlearn: 1.0342233\ttest: 1.0354075\tbest: 1.0354075 (0)\ttotal: 32.8ms\tremaining: 32.8s\n",
      "100:\tlearn: 0.7882414\ttest: 0.8089793\tbest: 0.8089793 (100)\ttotal: 3.47s\tremaining: 30.9s\n",
      "200:\tlearn: 0.7580928\ttest: 0.7970883\tbest: 0.7970883 (200)\ttotal: 7.29s\tremaining: 29s\n",
      "300:\tlearn: 0.7307308\ttest: 0.7855386\tbest: 0.7855386 (300)\ttotal: 11.2s\tremaining: 26s\n",
      "400:\tlearn: 0.7072605\ttest: 0.7770862\tbest: 0.7770862 (400)\ttotal: 15.1s\tremaining: 22.5s\n",
      "500:\tlearn: 0.6868357\ttest: 0.7728152\tbest: 0.7728090 (499)\ttotal: 19s\tremaining: 18.9s\n",
      "600:\tlearn: 0.6695504\ttest: 0.7691513\tbest: 0.7691193 (599)\ttotal: 23s\tremaining: 15.3s\n",
      "700:\tlearn: 0.6511557\ttest: 0.7665864\tbest: 0.7665864 (700)\ttotal: 26.9s\tremaining: 11.5s\n",
      "800:\tlearn: 0.6321025\ttest: 0.7624896\tbest: 0.7624625 (799)\ttotal: 31.1s\tremaining: 7.73s\n",
      "900:\tlearn: 0.6165758\ttest: 0.7595673\tbest: 0.7594285 (897)\ttotal: 35.2s\tremaining: 3.87s\n",
      "999:\tlearn: 0.6006679\ttest: 0.7567419\tbest: 0.7565766 (990)\ttotal: 39.2s\tremaining: 0us\n",
      "\n",
      "bestTest = 0.7565766322\n",
      "bestIteration = 990\n",
      "\n",
      "Shrink model to first 991 iterations.\n"
     ]
    },
    {
     "data": {
      "text/plain": [
       "<catboost.core.CatBoostClassifier at 0x16f9ac1d790>"
      ]
     },
     "execution_count": 72,
     "metadata": {},
     "output_type": "execute_result"
    },
    {
     "name": "stdout",
     "output_type": "stream",
     "text": [
      "CV Log Loss Score: 0.756577\n",
      "\n",
      "----------------- Fold 2 -----------------\n",
      "\n",
      "Learning rate set to 0.114931\n",
      "0:\tlearn: 1.0346939\ttest: 1.0340202\tbest: 1.0340202 (0)\ttotal: 34.8ms\tremaining: 34.7s\n",
      "100:\tlearn: 0.7886206\ttest: 0.7986631\tbest: 0.7986631 (100)\ttotal: 3.6s\tremaining: 32.1s\n",
      "200:\tlearn: 0.7533595\ttest: 0.7857098\tbest: 0.7857098 (200)\ttotal: 7.61s\tremaining: 30.3s\n",
      "300:\tlearn: 0.7283973\ttest: 0.7791543\tbest: 0.7788511 (294)\ttotal: 11.5s\tremaining: 26.8s\n",
      "400:\tlearn: 0.7043652\ttest: 0.7721638\tbest: 0.7721505 (388)\ttotal: 15.4s\tremaining: 23s\n",
      "500:\tlearn: 0.6826658\ttest: 0.7665359\tbest: 0.7665359 (500)\ttotal: 19.4s\tremaining: 19.4s\n",
      "600:\tlearn: 0.6611041\ttest: 0.7607745\tbest: 0.7606659 (593)\ttotal: 23.5s\tremaining: 15.6s\n",
      "700:\tlearn: 0.6429710\ttest: 0.7563270\tbest: 0.7563270 (700)\ttotal: 27.4s\tremaining: 11.7s\n",
      "800:\tlearn: 0.6261772\ttest: 0.7548931\tbest: 0.7548931 (800)\ttotal: 31.6s\tremaining: 7.84s\n",
      "900:\tlearn: 0.6108433\ttest: 0.7524105\tbest: 0.7524105 (900)\ttotal: 35.4s\tremaining: 3.89s\n",
      "999:\tlearn: 0.5964538\ttest: 0.7508016\tbest: 0.7506649 (967)\ttotal: 39.4s\tremaining: 0us\n",
      "\n",
      "bestTest = 0.7506648832\n",
      "bestIteration = 967\n",
      "\n",
      "Shrink model to first 968 iterations.\n"
     ]
    },
    {
     "data": {
      "text/plain": [
       "<catboost.core.CatBoostClassifier at 0x16f9ac1de20>"
      ]
     },
     "execution_count": 72,
     "metadata": {},
     "output_type": "execute_result"
    },
    {
     "name": "stdout",
     "output_type": "stream",
     "text": [
      "CV Log Loss Score: 0.750665\n",
      "\n",
      "----------------- Fold 3 -----------------\n",
      "\n",
      "Learning rate set to 0.114931\n",
      "0:\tlearn: 1.0343632\ttest: 1.0350264\tbest: 1.0350264 (0)\ttotal: 36.7ms\tremaining: 36.7s\n",
      "100:\tlearn: 0.7858575\ttest: 0.8056297\tbest: 0.8056039 (99)\ttotal: 3.66s\tremaining: 32.6s\n",
      "200:\tlearn: 0.7530668\ttest: 0.7923932\tbest: 0.7923932 (200)\ttotal: 7.58s\tremaining: 30.1s\n",
      "300:\tlearn: 0.7268897\ttest: 0.7840186\tbest: 0.7840186 (300)\ttotal: 11.4s\tremaining: 26.4s\n",
      "400:\tlearn: 0.7046676\ttest: 0.7788983\tbest: 0.7788983 (400)\ttotal: 15.2s\tremaining: 22.7s\n",
      "500:\tlearn: 0.6830745\ttest: 0.7735113\tbest: 0.7735113 (500)\ttotal: 19.1s\tremaining: 19s\n",
      "600:\tlearn: 0.6633399\ttest: 0.7690335\tbest: 0.7690335 (600)\ttotal: 23s\tremaining: 15.3s\n",
      "700:\tlearn: 0.6440085\ttest: 0.7649072\tbest: 0.7649072 (700)\ttotal: 27.6s\tremaining: 11.8s\n",
      "800:\tlearn: 0.6281079\ttest: 0.7634747\tbest: 0.7632094 (793)\ttotal: 32.1s\tremaining: 7.96s\n",
      "900:\tlearn: 0.6116813\ttest: 0.7620252\tbest: 0.7618728 (897)\ttotal: 36.5s\tremaining: 4s\n",
      "999:\tlearn: 0.5982374\ttest: 0.7604542\tbest: 0.7604542 (999)\ttotal: 40.8s\tremaining: 0us\n",
      "\n",
      "bestTest = 0.7604542497\n",
      "bestIteration = 999\n",
      "\n"
     ]
    },
    {
     "data": {
      "text/plain": [
       "<catboost.core.CatBoostClassifier at 0x16f9ac1dc70>"
      ]
     },
     "execution_count": 72,
     "metadata": {},
     "output_type": "execute_result"
    },
    {
     "name": "stdout",
     "output_type": "stream",
     "text": [
      "CV Log Loss Score: 0.760454\n",
      "\n",
      "----------------- Fold 4 -----------------\n",
      "\n",
      "Learning rate set to 0.114931\n",
      "0:\tlearn: 1.0343657\ttest: 1.0350477\tbest: 1.0350477 (0)\ttotal: 65ms\tremaining: 1m 4s\n",
      "100:\tlearn: 0.7875420\ttest: 0.8033870\tbest: 0.8033870 (100)\ttotal: 3.88s\tremaining: 34.5s\n",
      "200:\tlearn: 0.7541067\ttest: 0.7919797\tbest: 0.7919797 (200)\ttotal: 7.74s\tremaining: 30.8s\n",
      "300:\tlearn: 0.7287702\ttest: 0.7864391\tbest: 0.7863658 (291)\ttotal: 11.8s\tremaining: 27.5s\n",
      "400:\tlearn: 0.7053386\ttest: 0.7805330\tbest: 0.7805059 (399)\ttotal: 15.8s\tremaining: 23.6s\n",
      "500:\tlearn: 0.6842867\ttest: 0.7752364\tbest: 0.7752274 (499)\ttotal: 19.8s\tremaining: 19.8s\n",
      "600:\tlearn: 0.6656097\ttest: 0.7702114\tbest: 0.7702114 (600)\ttotal: 23.9s\tremaining: 15.8s\n",
      "700:\tlearn: 0.6465847\ttest: 0.7655063\tbest: 0.7655063 (700)\ttotal: 27.8s\tremaining: 11.9s\n",
      "800:\tlearn: 0.6296857\ttest: 0.7625892\tbest: 0.7625892 (800)\ttotal: 31.9s\tremaining: 7.93s\n",
      "900:\tlearn: 0.6131570\ttest: 0.7582599\tbest: 0.7581658 (897)\ttotal: 35.9s\tremaining: 3.95s\n",
      "999:\tlearn: 0.5985182\ttest: 0.7561828\tbest: 0.7560781 (988)\ttotal: 40s\tremaining: 0us\n",
      "\n",
      "bestTest = 0.7560780748\n",
      "bestIteration = 988\n",
      "\n",
      "Shrink model to first 989 iterations.\n"
     ]
    },
    {
     "data": {
      "text/plain": [
       "<catboost.core.CatBoostClassifier at 0x16f9b5a8070>"
      ]
     },
     "execution_count": 72,
     "metadata": {},
     "output_type": "execute_result"
    },
    {
     "name": "stdout",
     "output_type": "stream",
     "text": [
      "CV Log Loss Score: 0.756078\n",
      "\n",
      "----------------- Fold 5 -----------------\n",
      "\n",
      "Learning rate set to 0.114931\n",
      "0:\tlearn: 1.0342025\ttest: 1.0354570\tbest: 1.0354570 (0)\ttotal: 37ms\tremaining: 36.9s\n",
      "100:\tlearn: 0.7871297\ttest: 0.8065626\tbest: 0.8065626 (100)\ttotal: 3.5s\tremaining: 31.2s\n",
      "200:\tlearn: 0.7516911\ttest: 0.7949742\tbest: 0.7949742 (200)\ttotal: 7.6s\tremaining: 30.2s\n",
      "300:\tlearn: 0.7243437\ttest: 0.7866891\tbest: 0.7866891 (300)\ttotal: 12.6s\tremaining: 29.2s\n",
      "400:\tlearn: 0.7016426\ttest: 0.7823816\tbest: 0.7822447 (398)\ttotal: 17.7s\tremaining: 26.4s\n",
      "500:\tlearn: 0.6807025\ttest: 0.7765797\tbest: 0.7764928 (492)\ttotal: 23.6s\tremaining: 23.6s\n",
      "600:\tlearn: 0.6616505\ttest: 0.7730765\tbest: 0.7730765 (600)\ttotal: 29.8s\tremaining: 19.8s\n",
      "700:\tlearn: 0.6440421\ttest: 0.7694654\tbest: 0.7693677 (697)\ttotal: 35s\tremaining: 14.9s\n",
      "800:\tlearn: 0.6255424\ttest: 0.7662179\tbest: 0.7662179 (800)\ttotal: 39.5s\tremaining: 9.8s\n",
      "900:\tlearn: 0.6103168\ttest: 0.7653385\tbest: 0.7652564 (897)\ttotal: 43.7s\tremaining: 4.8s\n",
      "999:\tlearn: 0.5941804\ttest: 0.7625315\tbest: 0.7624809 (997)\ttotal: 48s\tremaining: 0us\n",
      "\n",
      "bestTest = 0.7624808858\n",
      "bestIteration = 997\n",
      "\n",
      "Shrink model to first 998 iterations.\n"
     ]
    },
    {
     "data": {
      "text/plain": [
       "<catboost.core.CatBoostClassifier at 0x16f9ac1d820>"
      ]
     },
     "execution_count": 72,
     "metadata": {},
     "output_type": "execute_result"
    },
    {
     "name": "stdout",
     "output_type": "stream",
     "text": [
      "CV Log Loss Score: 0.762481\n",
      "\n",
      "----------------- Fold 6 -----------------\n",
      "\n",
      "Learning rate set to 0.114931\n",
      "0:\tlearn: 1.0350502\ttest: 1.0338725\tbest: 1.0338725 (0)\ttotal: 36.8ms\tremaining: 36.8s\n",
      "100:\tlearn: 0.7880372\ttest: 0.7964744\tbest: 0.7964744 (100)\ttotal: 3.88s\tremaining: 34.6s\n",
      "200:\tlearn: 0.7551577\ttest: 0.7832732\tbest: 0.7832732 (200)\ttotal: 8.02s\tremaining: 31.9s\n",
      "300:\tlearn: 0.7295601\ttest: 0.7764884\tbest: 0.7764621 (299)\ttotal: 12.3s\tremaining: 28.6s\n",
      "400:\tlearn: 0.7057455\ttest: 0.7707095\tbest: 0.7707095 (400)\ttotal: 16.7s\tremaining: 24.9s\n",
      "500:\tlearn: 0.6853593\ttest: 0.7662313\tbest: 0.7662281 (493)\ttotal: 22s\tremaining: 21.9s\n",
      "600:\tlearn: 0.6650273\ttest: 0.7623658\tbest: 0.7622959 (595)\ttotal: 26.8s\tremaining: 17.8s\n",
      "700:\tlearn: 0.6445129\ttest: 0.7582366\tbest: 0.7582239 (699)\ttotal: 31.6s\tremaining: 13.5s\n",
      "800:\tlearn: 0.6272979\ttest: 0.7551500\tbest: 0.7551500 (800)\ttotal: 36.1s\tremaining: 8.97s\n",
      "900:\tlearn: 0.6109158\ttest: 0.7533118\tbest: 0.7531783 (889)\ttotal: 40.9s\tremaining: 4.49s\n",
      "999:\tlearn: 0.5958273\ttest: 0.7500886\tbest: 0.7500886 (999)\ttotal: 45.8s\tremaining: 0us\n",
      "\n",
      "bestTest = 0.7500886336\n",
      "bestIteration = 999\n",
      "\n"
     ]
    },
    {
     "data": {
      "text/plain": [
       "<catboost.core.CatBoostClassifier at 0x16f9b5abaf0>"
      ]
     },
     "execution_count": 72,
     "metadata": {},
     "output_type": "execute_result"
    },
    {
     "name": "stdout",
     "output_type": "stream",
     "text": [
      "CV Log Loss Score: 0.750089\n",
      "\tLog Loss: 0.755159\n"
     ]
    }
   ],
   "source": [
    "skfold = StratifiedKFold(n_splits=n_fold, shuffle=True, random_state=seed)\n",
    "folds=[]\n",
    "for train_idx, valid_idx in skfold.split(X, y):\n",
    "        folds.append((train_idx, valid_idx))\n",
    "\n",
    "cat_pred = np.zeros((X.shape[0], n_class))\n",
    "cat_pred_test = np.zeros((X_test.shape[0], n_class))\n",
    "cat_cols = ['income_type', 'edu_type', 'family_type', 'house_type', 'occyp_type']\n",
    "for fold in range(n_fold):\n",
    "  print(f'\\n----------------- Fold {fold} -----------------\\n')\n",
    "  train_idx, valid_idx = folds[fold]\n",
    "  X_train, X_valid, y_train, y_valid = X.iloc[train_idx], X.iloc[valid_idx], y.iloc[train_idx], y.iloc[valid_idx]\n",
    "  train_data = Pool(data=X_train, label=y_train, cat_features=cat_cols)\n",
    "  valid_data = Pool(data=X_valid, label=y_valid, cat_features=cat_cols)\n",
    "\n",
    "  model_cat = CatBoostClassifier()\n",
    "  model_cat.fit(train_data, eval_set=valid_data, use_best_model=True, early_stopping_rounds=100, verbose=100)\n",
    "  \n",
    "  cat_pred[valid_idx] = model_cat.predict_proba(X_valid)\n",
    "  cat_pred_test += model_cat.predict_proba(X_test) / n_fold\n",
    "  print(f'CV Log Loss Score: {log_loss(y_valid, cat_pred[valid_idx]):.6f}')\n",
    "    \n",
    "print(f'\\tLog Loss: {log_loss(y, cat_pred):.6f}')\n"
   ]
  },
  {
   "cell_type": "code",
   "execution_count": null,
   "metadata": {},
   "outputs": [],
   "source": [
    "0.7565"
   ]
  },
  {
   "cell_type": "code",
   "execution_count": 73,
   "metadata": {},
   "outputs": [
    {
     "data": {
      "text/html": [
       "<div>\n",
       "<style scoped>\n",
       "    .dataframe tbody tr th:only-of-type {\n",
       "        vertical-align: middle;\n",
       "    }\n",
       "\n",
       "    .dataframe tbody tr th {\n",
       "        vertical-align: top;\n",
       "    }\n",
       "\n",
       "    .dataframe thead th {\n",
       "        text-align: right;\n",
       "    }\n",
       "</style>\n",
       "<table border=\"1\" class=\"dataframe\">\n",
       "  <thead>\n",
       "    <tr style=\"text-align: right;\">\n",
       "      <th></th>\n",
       "      <th>index</th>\n",
       "      <th>0</th>\n",
       "      <th>1</th>\n",
       "      <th>2</th>\n",
       "    </tr>\n",
       "  </thead>\n",
       "  <tbody>\n",
       "    <tr>\n",
       "      <th>0</th>\n",
       "      <td>26457</td>\n",
       "      <td>0.053179</td>\n",
       "      <td>0.132032</td>\n",
       "      <td>0.814788</td>\n",
       "    </tr>\n",
       "    <tr>\n",
       "      <th>1</th>\n",
       "      <td>26458</td>\n",
       "      <td>0.160528</td>\n",
       "      <td>0.134102</td>\n",
       "      <td>0.705369</td>\n",
       "    </tr>\n",
       "    <tr>\n",
       "      <th>2</th>\n",
       "      <td>26459</td>\n",
       "      <td>0.137893</td>\n",
       "      <td>0.126778</td>\n",
       "      <td>0.735329</td>\n",
       "    </tr>\n",
       "    <tr>\n",
       "      <th>3</th>\n",
       "      <td>26460</td>\n",
       "      <td>0.134668</td>\n",
       "      <td>0.141739</td>\n",
       "      <td>0.723593</td>\n",
       "    </tr>\n",
       "    <tr>\n",
       "      <th>4</th>\n",
       "      <td>26461</td>\n",
       "      <td>0.110908</td>\n",
       "      <td>0.215314</td>\n",
       "      <td>0.673779</td>\n",
       "    </tr>\n",
       "    <tr>\n",
       "      <th>...</th>\n",
       "      <td>...</td>\n",
       "      <td>...</td>\n",
       "      <td>...</td>\n",
       "      <td>...</td>\n",
       "    </tr>\n",
       "    <tr>\n",
       "      <th>9995</th>\n",
       "      <td>36452</td>\n",
       "      <td>0.146270</td>\n",
       "      <td>0.208863</td>\n",
       "      <td>0.644868</td>\n",
       "    </tr>\n",
       "    <tr>\n",
       "      <th>9996</th>\n",
       "      <td>36453</td>\n",
       "      <td>0.102100</td>\n",
       "      <td>0.294614</td>\n",
       "      <td>0.603286</td>\n",
       "    </tr>\n",
       "    <tr>\n",
       "      <th>9997</th>\n",
       "      <td>36454</td>\n",
       "      <td>0.023556</td>\n",
       "      <td>0.082668</td>\n",
       "      <td>0.893776</td>\n",
       "    </tr>\n",
       "    <tr>\n",
       "      <th>9998</th>\n",
       "      <td>36455</td>\n",
       "      <td>0.090996</td>\n",
       "      <td>0.155822</td>\n",
       "      <td>0.753182</td>\n",
       "    </tr>\n",
       "    <tr>\n",
       "      <th>9999</th>\n",
       "      <td>36456</td>\n",
       "      <td>0.080366</td>\n",
       "      <td>0.187100</td>\n",
       "      <td>0.732534</td>\n",
       "    </tr>\n",
       "  </tbody>\n",
       "</table>\n",
       "<p>10000 rows × 4 columns</p>\n",
       "</div>"
      ],
      "text/plain": [
       "      index         0         1         2\n",
       "0     26457  0.053179  0.132032  0.814788\n",
       "1     26458  0.160528  0.134102  0.705369\n",
       "2     26459  0.137893  0.126778  0.735329\n",
       "3     26460  0.134668  0.141739  0.723593\n",
       "4     26461  0.110908  0.215314  0.673779\n",
       "...     ...       ...       ...       ...\n",
       "9995  36452  0.146270  0.208863  0.644868\n",
       "9996  36453  0.102100  0.294614  0.603286\n",
       "9997  36454  0.023556  0.082668  0.893776\n",
       "9998  36455  0.090996  0.155822  0.753182\n",
       "9999  36456  0.080366  0.187100  0.732534\n",
       "\n",
       "[10000 rows x 4 columns]"
      ]
     },
     "execution_count": 73,
     "metadata": {},
     "output_type": "execute_result"
    }
   ],
   "source": [
    "submission.iloc[:, 1:] = cat_pred_test\n",
    "submission"
   ]
  },
  {
   "cell_type": "code",
   "execution_count": 74,
   "metadata": {},
   "outputs": [],
   "source": [
    "submission.to_csv('sub_fin_2.csv', index=False)"
   ]
  },
  {
   "cell_type": "markdown",
   "metadata": {},
   "source": [
    "0.73"
   ]
  },
  {
   "cell_type": "markdown",
   "metadata": {},
   "source": [
    "스모트nc적용"
   ]
  },
  {
   "cell_type": "code",
   "execution_count": 75,
   "metadata": {},
   "outputs": [
    {
     "name": "stdout",
     "output_type": "stream",
     "text": [
      "<class 'pandas.core.frame.DataFrame'>\n",
      "Int64Index: 26452 entries, 0 to 26456\n",
      "Data columns (total 19 columns):\n",
      "gender          26452 non-null float64\n",
      "car             26452 non-null float64\n",
      "reality         26452 non-null float64\n",
      "child_num       26452 non-null float64\n",
      "income_total    26452 non-null float64\n",
      "income_type     26452 non-null int32\n",
      "edu_type        26452 non-null int32\n",
      "family_type     26452 non-null int32\n",
      "house_type      26452 non-null int32\n",
      "work_phone      26452 non-null float64\n",
      "phone           26452 non-null float64\n",
      "email           26452 non-null float64\n",
      "occyp_type      26452 non-null int32\n",
      "family_size     26452 non-null float64\n",
      "begin_month     26452 non-null float64\n",
      "EMPLOYED        26452 non-null float64\n",
      "age             26452 non-null float64\n",
      "cf_ratio        26452 non-null float64\n",
      "if_ratio        26452 non-null float64\n",
      "dtypes: float64(14), int32(5)\n",
      "memory usage: 3.5 MB\n"
     ]
    }
   ],
   "source": [
    "X.info()"
   ]
  },
  {
   "cell_type": "code",
   "execution_count": 79,
   "metadata": {},
   "outputs": [],
   "source": [
    "from collections import Counter\n",
    "from sklearn.datasets import make_classification\n",
    "from imblearn.over_sampling import ADASYN # doctest: +NORMALIZE_WHITESPACE\n",
    "from imblearn.over_sampling import SMOTENC"
   ]
  },
  {
   "cell_type": "code",
   "execution_count": 80,
   "metadata": {},
   "outputs": [
    {
     "name": "stdout",
     "output_type": "stream",
     "text": [
      "Original dataset shape Counter({2.0: 16963, 1.0: 6267, 0.0: 3222})\n",
      "Resampled dataset shape Counter({1.0: 16963, 2.0: 16963, 0.0: 16963})\n"
     ]
    }
   ],
   "source": [
    "print('Original dataset shape %s' % Counter(y))\n",
    "\n",
    "\n",
    "#Create the oversampler. For SMOTE-NC we need to pinpoint the column position where is the categorical features are. In this case, 'IsActiveMember' is positioned in the second column we input [1] as the parameter. If you have more than one categorical columns, just input all the columns position\n",
    "smote_nc = SMOTENC(categorical_features=[0,1,2,5,6,7,8,9,10,11,12], random_state=0)\n",
    "X_over, y_over = smote_nc.fit_resample(X, y)\n",
    "\n",
    "\n",
    "print('Resampled dataset shape %s' % Counter(y_over))"
   ]
  },
  {
   "cell_type": "code",
   "execution_count": 81,
   "metadata": {},
   "outputs": [
    {
     "name": "stdout",
     "output_type": "stream",
     "text": [
      "\n",
      "----------------- Fold 0 -----------------\n",
      "\n",
      "Learning rate set to 0.116445\n",
      "0:\tlearn: 1.0871698\ttest: 1.0871864\tbest: 1.0871864 (0)\ttotal: 55ms\tremaining: 54.9s\n",
      "100:\tlearn: 0.9157252\ttest: 0.9258042\tbest: 0.9258042 (100)\ttotal: 5.79s\tremaining: 51.6s\n",
      "200:\tlearn: 0.8240499\ttest: 0.8416635\tbest: 0.8416635 (200)\ttotal: 11.6s\tremaining: 46.3s\n",
      "300:\tlearn: 0.7643135\ttest: 0.7891895\tbest: 0.7891895 (300)\ttotal: 17.3s\tremaining: 40.3s\n",
      "400:\tlearn: 0.7215758\ttest: 0.7520216\tbest: 0.7520216 (400)\ttotal: 23.1s\tremaining: 34.4s\n",
      "500:\tlearn: 0.6847319\ttest: 0.7218169\tbest: 0.7218169 (500)\ttotal: 28.9s\tremaining: 28.8s\n",
      "600:\tlearn: 0.6520672\ttest: 0.6959609\tbest: 0.6959609 (600)\ttotal: 35.4s\tremaining: 23.5s\n",
      "700:\tlearn: 0.6257378\ttest: 0.6759504\tbest: 0.6759504 (700)\ttotal: 42.7s\tremaining: 18.2s\n",
      "800:\tlearn: 0.6044768\ttest: 0.6610817\tbest: 0.6610817 (800)\ttotal: 50s\tremaining: 12.4s\n",
      "900:\tlearn: 0.5861453\ttest: 0.6483492\tbest: 0.6483492 (900)\ttotal: 56.3s\tremaining: 6.19s\n",
      "999:\tlearn: 0.5682476\ttest: 0.6363751\tbest: 0.6363751 (999)\ttotal: 1m 2s\tremaining: 0us\n",
      "\n",
      "bestTest = 0.6363750957\n",
      "bestIteration = 999\n",
      "\n"
     ]
    },
    {
     "data": {
      "text/plain": [
       "<catboost.core.CatBoostClassifier at 0x16fa3d86130>"
      ]
     },
     "execution_count": 81,
     "metadata": {},
     "output_type": "execute_result"
    },
    {
     "name": "stdout",
     "output_type": "stream",
     "text": [
      "CV Log Loss Score: 0.636375\n",
      "\n",
      "----------------- Fold 1 -----------------\n",
      "\n",
      "Learning rate set to 0.116445\n",
      "0:\tlearn: 1.0869234\ttest: 1.0871222\tbest: 1.0871222 (0)\ttotal: 56.8ms\tremaining: 56.7s\n",
      "100:\tlearn: 0.9169797\ttest: 0.9243341\tbest: 0.9243341 (100)\ttotal: 6.12s\tremaining: 54.5s\n",
      "200:\tlearn: 0.8253595\ttest: 0.8429232\tbest: 0.8429232 (200)\ttotal: 12.5s\tremaining: 49.6s\n",
      "300:\tlearn: 0.7626831\ttest: 0.7866033\tbest: 0.7866033 (300)\ttotal: 18.8s\tremaining: 43.6s\n",
      "400:\tlearn: 0.7171629\ttest: 0.7479894\tbest: 0.7479894 (400)\ttotal: 25s\tremaining: 37.4s\n",
      "500:\tlearn: 0.6825438\ttest: 0.7208129\tbest: 0.7208129 (500)\ttotal: 31.3s\tremaining: 31.2s\n",
      "600:\tlearn: 0.6541393\ttest: 0.6989678\tbest: 0.6989678 (600)\ttotal: 37.5s\tremaining: 24.9s\n",
      "700:\tlearn: 0.6282010\ttest: 0.6795927\tbest: 0.6795927 (700)\ttotal: 43.9s\tremaining: 18.7s\n",
      "800:\tlearn: 0.6064102\ttest: 0.6629724\tbest: 0.6629724 (800)\ttotal: 50.4s\tremaining: 12.5s\n",
      "900:\tlearn: 0.5870750\ttest: 0.6494927\tbest: 0.6494927 (900)\ttotal: 56.9s\tremaining: 6.25s\n",
      "999:\tlearn: 0.5704406\ttest: 0.6381872\tbest: 0.6381869 (998)\ttotal: 1m 3s\tremaining: 0us\n",
      "\n",
      "bestTest = 0.6381868787\n",
      "bestIteration = 998\n",
      "\n",
      "Shrink model to first 999 iterations.\n"
     ]
    },
    {
     "data": {
      "text/plain": [
       "<catboost.core.CatBoostClassifier at 0x16f9a9b7fd0>"
      ]
     },
     "execution_count": 81,
     "metadata": {},
     "output_type": "execute_result"
    },
    {
     "name": "stdout",
     "output_type": "stream",
     "text": [
      "CV Log Loss Score: 0.638187\n",
      "\n",
      "----------------- Fold 2 -----------------\n",
      "\n",
      "Learning rate set to 0.116445\n",
      "0:\tlearn: 1.0874924\ttest: 1.0884841\tbest: 1.0884841 (0)\ttotal: 66.4ms\tremaining: 1m 6s\n",
      "100:\tlearn: 0.9145869\ttest: 0.9346982\tbest: 0.9346982 (100)\ttotal: 6.2s\tremaining: 55.2s\n",
      "200:\tlearn: 0.8210810\ttest: 0.8480166\tbest: 0.8480166 (200)\ttotal: 12.8s\tremaining: 50.8s\n",
      "300:\tlearn: 0.7608091\ttest: 0.7956892\tbest: 0.7956892 (300)\ttotal: 19.5s\tremaining: 45.2s\n",
      "400:\tlearn: 0.7127794\ttest: 0.7536255\tbest: 0.7536255 (400)\ttotal: 25.9s\tremaining: 38.7s\n",
      "500:\tlearn: 0.6765812\ttest: 0.7245170\tbest: 0.7245170 (500)\ttotal: 32.3s\tremaining: 32.2s\n",
      "600:\tlearn: 0.6475627\ttest: 0.7019087\tbest: 0.7019087 (600)\ttotal: 39s\tremaining: 25.9s\n",
      "700:\tlearn: 0.6241332\ttest: 0.6840920\tbest: 0.6840920 (700)\ttotal: 45.5s\tremaining: 19.4s\n",
      "800:\tlearn: 0.6022407\ttest: 0.6678655\tbest: 0.6678655 (800)\ttotal: 52.1s\tremaining: 12.9s\n",
      "900:\tlearn: 0.5817164\ttest: 0.6527398\tbest: 0.6527398 (900)\ttotal: 58.3s\tremaining: 6.4s\n",
      "999:\tlearn: 0.5653768\ttest: 0.6420726\tbest: 0.6420726 (999)\ttotal: 1m 4s\tremaining: 0us\n",
      "\n",
      "bestTest = 0.6420726312\n",
      "bestIteration = 999\n",
      "\n"
     ]
    },
    {
     "data": {
      "text/plain": [
       "<catboost.core.CatBoostClassifier at 0x16fa3d869d0>"
      ]
     },
     "execution_count": 81,
     "metadata": {},
     "output_type": "execute_result"
    },
    {
     "name": "stdout",
     "output_type": "stream",
     "text": [
      "CV Log Loss Score: 0.642073\n",
      "\n",
      "----------------- Fold 3 -----------------\n",
      "\n",
      "Learning rate set to 0.116445\n",
      "0:\tlearn: 1.0879097\ttest: 1.0879217\tbest: 1.0879217 (0)\ttotal: 56.5ms\tremaining: 56.4s\n",
      "100:\tlearn: 0.9136641\ttest: 0.9301501\tbest: 0.9301501 (100)\ttotal: 6.43s\tremaining: 57.2s\n",
      "200:\tlearn: 0.8241013\ttest: 0.8492282\tbest: 0.8492282 (200)\ttotal: 12.6s\tremaining: 50.1s\n",
      "300:\tlearn: 0.7627191\ttest: 0.7953735\tbest: 0.7953735 (300)\ttotal: 18.9s\tremaining: 43.9s\n",
      "400:\tlearn: 0.7157470\ttest: 0.7563485\tbest: 0.7563485 (400)\ttotal: 26.3s\tremaining: 39.3s\n",
      "500:\tlearn: 0.6798921\ttest: 0.7277950\tbest: 0.7277950 (500)\ttotal: 32.6s\tremaining: 32.5s\n",
      "600:\tlearn: 0.6510971\ttest: 0.7060494\tbest: 0.7060494 (600)\ttotal: 39.2s\tremaining: 26s\n",
      "700:\tlearn: 0.6258415\ttest: 0.6873545\tbest: 0.6873545 (700)\ttotal: 46s\tremaining: 19.6s\n",
      "800:\tlearn: 0.6044726\ttest: 0.6724532\tbest: 0.6724532 (800)\ttotal: 52.4s\tremaining: 13s\n",
      "900:\tlearn: 0.5850893\ttest: 0.6590996\tbest: 0.6590996 (900)\ttotal: 58.8s\tremaining: 6.46s\n",
      "999:\tlearn: 0.5676663\ttest: 0.6476569\tbest: 0.6476569 (999)\ttotal: 1m 5s\tremaining: 0us\n",
      "\n",
      "bestTest = 0.6476568816\n",
      "bestIteration = 999\n",
      "\n"
     ]
    },
    {
     "data": {
      "text/plain": [
       "<catboost.core.CatBoostClassifier at 0x16f9a9b7700>"
      ]
     },
     "execution_count": 81,
     "metadata": {},
     "output_type": "execute_result"
    },
    {
     "name": "stdout",
     "output_type": "stream",
     "text": [
      "CV Log Loss Score: 0.647657\n",
      "\n",
      "----------------- Fold 4 -----------------\n",
      "\n",
      "Learning rate set to 0.116445\n",
      "0:\tlearn: 1.0873933\ttest: 1.0868929\tbest: 1.0868929 (0)\ttotal: 82.2ms\tremaining: 1m 22s\n",
      "100:\tlearn: 0.9118622\ttest: 0.9234808\tbest: 0.9234808 (100)\ttotal: 6.44s\tremaining: 57.3s\n",
      "200:\tlearn: 0.8205960\ttest: 0.8417317\tbest: 0.8417317 (200)\ttotal: 13s\tremaining: 51.6s\n",
      "300:\tlearn: 0.7632095\ttest: 0.7920508\tbest: 0.7920508 (300)\ttotal: 19.3s\tremaining: 44.8s\n",
      "400:\tlearn: 0.7156174\ttest: 0.7525426\tbest: 0.7525426 (400)\ttotal: 25.5s\tremaining: 38.2s\n",
      "500:\tlearn: 0.6816740\ttest: 0.7260407\tbest: 0.7260407 (500)\ttotal: 31.9s\tremaining: 31.8s\n",
      "600:\tlearn: 0.6505611\ttest: 0.7025136\tbest: 0.7025136 (600)\ttotal: 38.2s\tremaining: 25.4s\n",
      "700:\tlearn: 0.6218247\ttest: 0.6801272\tbest: 0.6801272 (700)\ttotal: 44.7s\tremaining: 19.1s\n",
      "800:\tlearn: 0.5987157\ttest: 0.6640357\tbest: 0.6640357 (800)\ttotal: 51.1s\tremaining: 12.7s\n",
      "900:\tlearn: 0.5782646\ttest: 0.6502996\tbest: 0.6502996 (900)\ttotal: 57.6s\tremaining: 6.33s\n",
      "999:\tlearn: 0.5621302\ttest: 0.6405899\tbest: 0.6405899 (999)\ttotal: 1m 3s\tremaining: 0us\n",
      "\n",
      "bestTest = 0.6405899076\n",
      "bestIteration = 999\n",
      "\n"
     ]
    },
    {
     "data": {
      "text/plain": [
       "<catboost.core.CatBoostClassifier at 0x16f9ac1da30>"
      ]
     },
     "execution_count": 81,
     "metadata": {},
     "output_type": "execute_result"
    },
    {
     "name": "stdout",
     "output_type": "stream",
     "text": [
      "CV Log Loss Score: 0.640590\n",
      "\n",
      "----------------- Fold 5 -----------------\n",
      "\n",
      "Learning rate set to 0.116445\n",
      "0:\tlearn: 1.0879272\ttest: 1.0880712\tbest: 1.0880712 (0)\ttotal: 74.9ms\tremaining: 1m 14s\n",
      "100:\tlearn: 0.9181603\ttest: 0.9265148\tbest: 0.9265148 (100)\ttotal: 6.91s\tremaining: 1m 1s\n",
      "200:\tlearn: 0.8236334\ttest: 0.8385121\tbest: 0.8385121 (200)\ttotal: 13.6s\tremaining: 54s\n",
      "300:\tlearn: 0.7612258\ttest: 0.7808041\tbest: 0.7808041 (300)\ttotal: 20.1s\tremaining: 46.6s\n",
      "400:\tlearn: 0.7198573\ttest: 0.7459612\tbest: 0.7459612 (400)\ttotal: 26.2s\tremaining: 39.1s\n",
      "500:\tlearn: 0.6840828\ttest: 0.7156516\tbest: 0.7156516 (500)\ttotal: 32.4s\tremaining: 32.3s\n",
      "600:\tlearn: 0.6547458\ttest: 0.6932378\tbest: 0.6932378 (600)\ttotal: 39.1s\tremaining: 25.9s\n",
      "700:\tlearn: 0.6267616\ttest: 0.6712576\tbest: 0.6712576 (700)\ttotal: 46.1s\tremaining: 19.7s\n",
      "800:\tlearn: 0.6037625\ttest: 0.6541324\tbest: 0.6541324 (800)\ttotal: 53.5s\tremaining: 13.3s\n",
      "900:\tlearn: 0.5845562\ttest: 0.6412510\tbest: 0.6412510 (900)\ttotal: 1m\tremaining: 6.62s\n",
      "999:\tlearn: 0.5658326\ttest: 0.6278571\tbest: 0.6278571 (999)\ttotal: 1m 7s\tremaining: 0us\n",
      "\n",
      "bestTest = 0.6278570909\n",
      "bestIteration = 999\n",
      "\n"
     ]
    },
    {
     "data": {
      "text/plain": [
       "<catboost.core.CatBoostClassifier at 0x16f9ac1d940>"
      ]
     },
     "execution_count": 81,
     "metadata": {},
     "output_type": "execute_result"
    },
    {
     "name": "stdout",
     "output_type": "stream",
     "text": [
      "CV Log Loss Score: 0.627857\n",
      "\n",
      "----------------- Fold 6 -----------------\n",
      "\n",
      "Learning rate set to 0.116445\n",
      "0:\tlearn: 1.0868858\ttest: 1.0870575\tbest: 1.0870575 (0)\ttotal: 67.9ms\tremaining: 1m 7s\n",
      "100:\tlearn: 0.9216322\ttest: 0.9297417\tbest: 0.9297417 (100)\ttotal: 6.75s\tremaining: 1m\n",
      "200:\tlearn: 0.8276638\ttest: 0.8456957\tbest: 0.8456957 (200)\ttotal: 13.8s\tremaining: 54.9s\n",
      "300:\tlearn: 0.7654786\ttest: 0.7907657\tbest: 0.7907657 (300)\ttotal: 21.3s\tremaining: 49.6s\n",
      "400:\tlearn: 0.7163698\ttest: 0.7498562\tbest: 0.7498562 (400)\ttotal: 28.3s\tremaining: 42.2s\n",
      "500:\tlearn: 0.6815941\ttest: 0.7228575\tbest: 0.7228575 (500)\ttotal: 34.7s\tremaining: 34.6s\n",
      "600:\tlearn: 0.6526202\ttest: 0.7005529\tbest: 0.7005529 (600)\ttotal: 41.1s\tremaining: 27.3s\n",
      "700:\tlearn: 0.6271107\ttest: 0.6813612\tbest: 0.6813612 (700)\ttotal: 47.6s\tremaining: 20.3s\n",
      "800:\tlearn: 0.6046733\ttest: 0.6652772\tbest: 0.6652772 (800)\ttotal: 54.1s\tremaining: 13.4s\n",
      "900:\tlearn: 0.5843130\ttest: 0.6507618\tbest: 0.6507618 (900)\ttotal: 1m\tremaining: 6.66s\n",
      "999:\tlearn: 0.5661366\ttest: 0.6380296\tbest: 0.6380296 (999)\ttotal: 1m 7s\tremaining: 0us\n",
      "\n",
      "bestTest = 0.6380295717\n",
      "bestIteration = 999\n",
      "\n"
     ]
    },
    {
     "data": {
      "text/plain": [
       "<catboost.core.CatBoostClassifier at 0x16f9ac1d790>"
      ]
     },
     "execution_count": 81,
     "metadata": {},
     "output_type": "execute_result"
    },
    {
     "name": "stdout",
     "output_type": "stream",
     "text": [
      "CV Log Loss Score: 0.638030\n"
     ]
    },
    {
     "ename": "ValueError",
     "evalue": "Found input variables with inconsistent numbers of samples: [50889, 26452]",
     "output_type": "error",
     "traceback": [
      "\u001b[1;31m---------------------------------------------------------------------------\u001b[0m",
      "\u001b[1;31mValueError\u001b[0m                                Traceback (most recent call last)",
      "\u001b[1;32m<ipython-input-81-1b571b816c15>\u001b[0m in \u001b[0;36m<module>\u001b[1;34m\u001b[0m\n\u001b[0;32m     21\u001b[0m   \u001b[0mprint\u001b[0m\u001b[1;33m(\u001b[0m\u001b[1;34mf'CV Log Loss Score: {log_loss(y_valid, cat_pred[valid_idx]):.6f}'\u001b[0m\u001b[1;33m)\u001b[0m\u001b[1;33m\u001b[0m\u001b[1;33m\u001b[0m\u001b[0m\n\u001b[0;32m     22\u001b[0m \u001b[1;33m\u001b[0m\u001b[0m\n\u001b[1;32m---> 23\u001b[1;33m \u001b[0mprint\u001b[0m\u001b[1;33m(\u001b[0m\u001b[1;34mf'\\tLog Loss: {log_loss(y, cat_pred):.6f}'\u001b[0m\u001b[1;33m)\u001b[0m\u001b[1;33m\u001b[0m\u001b[1;33m\u001b[0m\u001b[0m\n\u001b[0m",
      "\u001b[1;32mC:\\rhxod\\anaconda3\\lib\\site-packages\\sklearn\\utils\\validation.py\u001b[0m in \u001b[0;36minner_f\u001b[1;34m(*args, **kwargs)\u001b[0m\n\u001b[0;32m     61\u001b[0m             \u001b[0mextra_args\u001b[0m \u001b[1;33m=\u001b[0m \u001b[0mlen\u001b[0m\u001b[1;33m(\u001b[0m\u001b[0margs\u001b[0m\u001b[1;33m)\u001b[0m \u001b[1;33m-\u001b[0m \u001b[0mlen\u001b[0m\u001b[1;33m(\u001b[0m\u001b[0mall_args\u001b[0m\u001b[1;33m)\u001b[0m\u001b[1;33m\u001b[0m\u001b[1;33m\u001b[0m\u001b[0m\n\u001b[0;32m     62\u001b[0m             \u001b[1;32mif\u001b[0m \u001b[0mextra_args\u001b[0m \u001b[1;33m<=\u001b[0m \u001b[1;36m0\u001b[0m\u001b[1;33m:\u001b[0m\u001b[1;33m\u001b[0m\u001b[1;33m\u001b[0m\u001b[0m\n\u001b[1;32m---> 63\u001b[1;33m                 \u001b[1;32mreturn\u001b[0m \u001b[0mf\u001b[0m\u001b[1;33m(\u001b[0m\u001b[1;33m*\u001b[0m\u001b[0margs\u001b[0m\u001b[1;33m,\u001b[0m \u001b[1;33m**\u001b[0m\u001b[0mkwargs\u001b[0m\u001b[1;33m)\u001b[0m\u001b[1;33m\u001b[0m\u001b[1;33m\u001b[0m\u001b[0m\n\u001b[0m\u001b[0;32m     64\u001b[0m \u001b[1;33m\u001b[0m\u001b[0m\n\u001b[0;32m     65\u001b[0m             \u001b[1;31m# extra_args > 0\u001b[0m\u001b[1;33m\u001b[0m\u001b[1;33m\u001b[0m\u001b[1;33m\u001b[0m\u001b[0m\n",
      "\u001b[1;32mC:\\rhxod\\anaconda3\\lib\\site-packages\\sklearn\\metrics\\_classification.py\u001b[0m in \u001b[0;36mlog_loss\u001b[1;34m(y_true, y_pred, eps, normalize, sample_weight, labels)\u001b[0m\n\u001b[0;32m   2228\u001b[0m     \"\"\"\n\u001b[0;32m   2229\u001b[0m     \u001b[0my_pred\u001b[0m \u001b[1;33m=\u001b[0m \u001b[0mcheck_array\u001b[0m\u001b[1;33m(\u001b[0m\u001b[0my_pred\u001b[0m\u001b[1;33m,\u001b[0m \u001b[0mensure_2d\u001b[0m\u001b[1;33m=\u001b[0m\u001b[1;32mFalse\u001b[0m\u001b[1;33m)\u001b[0m\u001b[1;33m\u001b[0m\u001b[1;33m\u001b[0m\u001b[0m\n\u001b[1;32m-> 2230\u001b[1;33m     \u001b[0mcheck_consistent_length\u001b[0m\u001b[1;33m(\u001b[0m\u001b[0my_pred\u001b[0m\u001b[1;33m,\u001b[0m \u001b[0my_true\u001b[0m\u001b[1;33m,\u001b[0m \u001b[0msample_weight\u001b[0m\u001b[1;33m)\u001b[0m\u001b[1;33m\u001b[0m\u001b[1;33m\u001b[0m\u001b[0m\n\u001b[0m\u001b[0;32m   2231\u001b[0m \u001b[1;33m\u001b[0m\u001b[0m\n\u001b[0;32m   2232\u001b[0m     \u001b[0mlb\u001b[0m \u001b[1;33m=\u001b[0m \u001b[0mLabelBinarizer\u001b[0m\u001b[1;33m(\u001b[0m\u001b[1;33m)\u001b[0m\u001b[1;33m\u001b[0m\u001b[1;33m\u001b[0m\u001b[0m\n",
      "\u001b[1;32mC:\\rhxod\\anaconda3\\lib\\site-packages\\sklearn\\utils\\validation.py\u001b[0m in \u001b[0;36mcheck_consistent_length\u001b[1;34m(*arrays)\u001b[0m\n\u001b[0;32m    317\u001b[0m     \u001b[0muniques\u001b[0m \u001b[1;33m=\u001b[0m \u001b[0mnp\u001b[0m\u001b[1;33m.\u001b[0m\u001b[0munique\u001b[0m\u001b[1;33m(\u001b[0m\u001b[0mlengths\u001b[0m\u001b[1;33m)\u001b[0m\u001b[1;33m\u001b[0m\u001b[1;33m\u001b[0m\u001b[0m\n\u001b[0;32m    318\u001b[0m     \u001b[1;32mif\u001b[0m \u001b[0mlen\u001b[0m\u001b[1;33m(\u001b[0m\u001b[0muniques\u001b[0m\u001b[1;33m)\u001b[0m \u001b[1;33m>\u001b[0m \u001b[1;36m1\u001b[0m\u001b[1;33m:\u001b[0m\u001b[1;33m\u001b[0m\u001b[1;33m\u001b[0m\u001b[0m\n\u001b[1;32m--> 319\u001b[1;33m         raise ValueError(\"Found input variables with inconsistent numbers of\"\n\u001b[0m\u001b[0;32m    320\u001b[0m                          \" samples: %r\" % [int(l) for l in lengths])\n\u001b[0;32m    321\u001b[0m \u001b[1;33m\u001b[0m\u001b[0m\n",
      "\u001b[1;31mValueError\u001b[0m: Found input variables with inconsistent numbers of samples: [50889, 26452]"
     ]
    }
   ],
   "source": [
    "skfold = StratifiedKFold(n_splits=n_fold, shuffle=True, random_state=seed)\n",
    "folds=[]\n",
    "for train_idx, valid_idx in skfold.split(X_over, y_over):\n",
    "        folds.append((train_idx, valid_idx))\n",
    "\n",
    "cat_pred = np.zeros((X_over.shape[0], n_class))\n",
    "cat_pred_test = np.zeros((X_test.shape[0], n_class))\n",
    "cat_cols = ['income_type', 'edu_type', 'family_type', 'house_type', 'occyp_type']\n",
    "for fold in range(n_fold):\n",
    "  print(f'\\n----------------- Fold {fold} -----------------\\n')\n",
    "  train_idx, valid_idx = folds[fold]\n",
    "  X_train, X_valid, y_train, y_valid = X_over.iloc[train_idx], X_over.iloc[valid_idx], y_over.iloc[train_idx], y_over.iloc[valid_idx]\n",
    "  train_data = Pool(data=X_train, label=y_train, cat_features=cat_cols)\n",
    "  valid_data = Pool(data=X_valid, label=y_valid, cat_features=cat_cols)\n",
    "\n",
    "  model_cat = CatBoostClassifier()\n",
    "  model_cat.fit(train_data, eval_set=valid_data, use_best_model=True, early_stopping_rounds=100, verbose=100)\n",
    "  \n",
    "  cat_pred[valid_idx] = model_cat.predict_proba(X_valid)\n",
    "  cat_pred_test += model_cat.predict_proba(X_test) / n_fold\n",
    "  print(f'CV Log Loss Score: {log_loss(y_valid, cat_pred[valid_idx]):.6f}')\n",
    "    \n",
    "print(f'\\tLog Loss: {log_loss(y, cat_pred):.6f}')\n"
   ]
  },
  {
   "cell_type": "code",
   "execution_count": 82,
   "metadata": {},
   "outputs": [
    {
     "data": {
      "text/html": [
       "<div>\n",
       "<style scoped>\n",
       "    .dataframe tbody tr th:only-of-type {\n",
       "        vertical-align: middle;\n",
       "    }\n",
       "\n",
       "    .dataframe tbody tr th {\n",
       "        vertical-align: top;\n",
       "    }\n",
       "\n",
       "    .dataframe thead th {\n",
       "        text-align: right;\n",
       "    }\n",
       "</style>\n",
       "<table border=\"1\" class=\"dataframe\">\n",
       "  <thead>\n",
       "    <tr style=\"text-align: right;\">\n",
       "      <th></th>\n",
       "      <th>index</th>\n",
       "      <th>0</th>\n",
       "      <th>1</th>\n",
       "      <th>2</th>\n",
       "    </tr>\n",
       "  </thead>\n",
       "  <tbody>\n",
       "    <tr>\n",
       "      <th>0</th>\n",
       "      <td>26457</td>\n",
       "      <td>0.042137</td>\n",
       "      <td>0.078919</td>\n",
       "      <td>0.878944</td>\n",
       "    </tr>\n",
       "    <tr>\n",
       "      <th>1</th>\n",
       "      <td>26458</td>\n",
       "      <td>0.242328</td>\n",
       "      <td>0.194570</td>\n",
       "      <td>0.563102</td>\n",
       "    </tr>\n",
       "    <tr>\n",
       "      <th>2</th>\n",
       "      <td>26459</td>\n",
       "      <td>0.289526</td>\n",
       "      <td>0.171335</td>\n",
       "      <td>0.539139</td>\n",
       "    </tr>\n",
       "    <tr>\n",
       "      <th>3</th>\n",
       "      <td>26460</td>\n",
       "      <td>0.179788</td>\n",
       "      <td>0.178418</td>\n",
       "      <td>0.641795</td>\n",
       "    </tr>\n",
       "    <tr>\n",
       "      <th>4</th>\n",
       "      <td>26461</td>\n",
       "      <td>0.127319</td>\n",
       "      <td>0.155446</td>\n",
       "      <td>0.717235</td>\n",
       "    </tr>\n",
       "    <tr>\n",
       "      <th>...</th>\n",
       "      <td>...</td>\n",
       "      <td>...</td>\n",
       "      <td>...</td>\n",
       "      <td>...</td>\n",
       "    </tr>\n",
       "    <tr>\n",
       "      <th>9995</th>\n",
       "      <td>36452</td>\n",
       "      <td>0.163822</td>\n",
       "      <td>0.210368</td>\n",
       "      <td>0.625810</td>\n",
       "    </tr>\n",
       "    <tr>\n",
       "      <th>9996</th>\n",
       "      <td>36453</td>\n",
       "      <td>0.159017</td>\n",
       "      <td>0.328554</td>\n",
       "      <td>0.512428</td>\n",
       "    </tr>\n",
       "    <tr>\n",
       "      <th>9997</th>\n",
       "      <td>36454</td>\n",
       "      <td>0.066337</td>\n",
       "      <td>0.129922</td>\n",
       "      <td>0.803740</td>\n",
       "    </tr>\n",
       "    <tr>\n",
       "      <th>9998</th>\n",
       "      <td>36455</td>\n",
       "      <td>0.187818</td>\n",
       "      <td>0.218333</td>\n",
       "      <td>0.593849</td>\n",
       "    </tr>\n",
       "    <tr>\n",
       "      <th>9999</th>\n",
       "      <td>36456</td>\n",
       "      <td>0.053698</td>\n",
       "      <td>0.267765</td>\n",
       "      <td>0.678537</td>\n",
       "    </tr>\n",
       "  </tbody>\n",
       "</table>\n",
       "<p>10000 rows × 4 columns</p>\n",
       "</div>"
      ],
      "text/plain": [
       "      index         0         1         2\n",
       "0     26457  0.042137  0.078919  0.878944\n",
       "1     26458  0.242328  0.194570  0.563102\n",
       "2     26459  0.289526  0.171335  0.539139\n",
       "3     26460  0.179788  0.178418  0.641795\n",
       "4     26461  0.127319  0.155446  0.717235\n",
       "...     ...       ...       ...       ...\n",
       "9995  36452  0.163822  0.210368  0.625810\n",
       "9996  36453  0.159017  0.328554  0.512428\n",
       "9997  36454  0.066337  0.129922  0.803740\n",
       "9998  36455  0.187818  0.218333  0.593849\n",
       "9999  36456  0.053698  0.267765  0.678537\n",
       "\n",
       "[10000 rows x 4 columns]"
      ]
     },
     "execution_count": 82,
     "metadata": {},
     "output_type": "execute_result"
    }
   ],
   "source": [
    "submission=pd.read_csv('sample_submission.csv')\n",
    "submission.iloc[:, 1:] = cat_pred_test\n",
    "submission"
   ]
  },
  {
   "cell_type": "code",
   "execution_count": 83,
   "metadata": {},
   "outputs": [],
   "source": [
    "submission.to_csv('sub_fin_3.csv', index=False)"
   ]
  },
  {
   "cell_type": "code",
   "execution_count": null,
   "metadata": {},
   "outputs": [],
   "source": []
  },
  {
   "cell_type": "code",
   "execution_count": null,
   "metadata": {},
   "outputs": [],
   "source": []
  },
  {
   "cell_type": "code",
   "execution_count": null,
   "metadata": {},
   "outputs": [],
   "source": []
  },
  {
   "cell_type": "code",
   "execution_count": null,
   "metadata": {},
   "outputs": [],
   "source": []
  },
  {
   "cell_type": "code",
   "execution_count": null,
   "metadata": {},
   "outputs": [],
   "source": []
  }
 ],
 "metadata": {
  "kernelspec": {
   "display_name": "Python 3",
   "language": "python",
   "name": "python3"
  },
  "language_info": {
   "codemirror_mode": {
    "name": "ipython",
    "version": 3
   },
   "file_extension": ".py",
   "mimetype": "text/x-python",
   "name": "python",
   "nbconvert_exporter": "python",
   "pygments_lexer": "ipython3",
   "version": "3.8.5"
  }
 },
 "nbformat": 4,
 "nbformat_minor": 4
}
